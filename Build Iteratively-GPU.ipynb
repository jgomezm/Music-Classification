{
 "cells": [
  {
   "cell_type": "code",
   "execution_count": 1,
   "metadata": {},
   "outputs": [],
   "source": [
    "import numpy as np\n",
    "import os\n",
    "from sklearn.preprocessing import OneHotEncoder\n",
    "from sklearn.metrics import confusion_matrix\n",
    "import plaidml.keras\n",
    "plaidml.keras.install_backend()\n",
    "os.environ[\"KERAS_BACKEND\"] = \"plaidml.keras.backend\"\n",
    "import keras\n",
    "from keras import Sequential\n",
    "from keras import regularizers\n",
    "from keras.layers import LSTM, Dense, LSTM, Flatten, BatchNormalization, Dropout, GRU\n",
    "from keras.utils import to_categorical\n",
    "#import tensorflow as tf\n",
    "import plaidmodule as module\n",
    "# Load the TensorBoard notebook extension\n",
    "#%load_ext tensorboard"
   ]
  },
  {
   "cell_type": "code",
   "execution_count": 2,
   "metadata": {},
   "outputs": [
    {
     "data": {
      "text/plain": [
       "OneHotEncoder(categories='auto', drop=None, dtype=<class 'numpy.float64'>,\n",
       "              handle_unknown='error', sparse=True)"
      ]
     },
     "execution_count": 2,
     "metadata": {},
     "output_type": "execute_result"
    }
   ],
   "source": [
    "countriesOfInterest = {\"HK\", \"JP\", 'ZA', 'TN', 'TR', 'GB', 'MX', 'US', 'CO', 'EC', 'AU', 'NZ'}\n",
    "countriesOfInterest = [\"ZA\", \"EG\", \"TW\", \"JP\", \"DK\", \"FI\", \"US\", \"CA\", \"AU\", \"NZ\", \"BR\", \"CO\"]\n",
    "#countriesOfInterest = list(countriesOfInterest & {\"ZA\", \"EG\", \"TW\", \"JP\", \"DK\", \"FI\", \"US\", \"CA\", \"AU\", \"NZ\", \"BR\", \"CO\"})\n",
    "\n",
    "enc = OneHotEncoder()\n",
    "enc.fit(np.array(countriesOfInterest).reshape(-1, 1))"
   ]
  },
  {
   "cell_type": "code",
   "execution_count": 3,
   "metadata": {},
   "outputs": [],
   "source": [
    "seconds = 5\n",
    "samplerate = 100\n",
    "train_x, train_labels, val_x, val_labels, class_weights = module.getSamples(20, 1, seconds, samplerate, countriesOfInterest,\n",
    "               enc, verbose = 0)"
   ]
  },
  {
   "cell_type": "markdown",
   "metadata": {},
   "source": [
    "### Fit model"
   ]
  },
  {
   "cell_type": "code",
   "execution_count": 4,
   "metadata": {},
   "outputs": [
    {
     "name": "stderr",
     "output_type": "stream",
     "text": [
      "INFO:plaidml:Opening device \"opencl_amd_gfx804.0\"\n"
     ]
    },
    {
     "name": "stdout",
     "output_type": "stream",
     "text": [
      "_________________________________________________________________\n",
      "Layer (type)                 Output Shape              Param #   \n",
      "=================================================================\n",
      "lstm_1 (LSTM)                (None, 500, 32)           7424      \n",
      "_________________________________________________________________\n",
      "batch_normalization_1 (Batch (None, 500, 32)           128       \n",
      "_________________________________________________________________\n",
      "lstm_2 (LSTM)                (None, 32)                8320      \n",
      "_________________________________________________________________\n",
      "batch_normalization_2 (Batch (None, 32)                128       \n",
      "_________________________________________________________________\n",
      "dense_1 (Dense)              (None, 16)                528       \n",
      "_________________________________________________________________\n",
      "batch_normalization_3 (Batch (None, 16)                64        \n",
      "_________________________________________________________________\n",
      "dense_2 (Dense)              (None, 12)                204       \n",
      "=================================================================\n",
      "Total params: 16,796\n",
      "Trainable params: 16,636\n",
      "Non-trainable params: 160\n",
      "_________________________________________________________________\n",
      "None\n"
     ]
    }
   ],
   "source": [
    "model = keras.Sequential()\n",
    "model.add(LSTM(32, \n",
    "               input_shape=(train_x.shape[1], train_x.shape[2]), \n",
    "               return_sequences = True,\n",
    "#               recurrent_dropout = .5,\n",
    "          #     kernel_regularizer=regularizers.l2(0.01),\n",
    "              ))\n",
    "model.add(BatchNormalization())\n",
    "model.add(LSTM(32, \n",
    "             #  input_shape=(train_x.shape[1], train_x.shape[2]), \n",
    "               return_sequences = False,\n",
    "#               recurrent_dropout = .5,\n",
    "               go_backwards = True\n",
    "          #     kernel_regularizer=regularizers.l2(0.01),\n",
    "              ))\n",
    "model.add(BatchNormalization())\n",
    "#model.add(Dropout(.5))\n",
    "model.add(Dense(16, activation= \"relu\"))\n",
    "model.add(BatchNormalization())\n",
    "#model.add(Dropout(.5))\n",
    "model.add(Dense(len(enc.categories_[0]), activation= \"softmax\"))\n",
    "adam = keras.optimizers.Adam(lr=0.001)\n",
    "model.compile(loss = \"categorical_crossentropy\", optimizer= adam, metrics=[\"acc\"])\n",
    "print(model.summary())"
   ]
  },
  {
   "cell_type": "code",
   "execution_count": null,
   "metadata": {},
   "outputs": [
    {
     "name": "stdout",
     "output_type": "stream",
     "text": [
      "Train on 12824 samples, validate on 501 samples\n",
      "Epoch 1/2\n"
     ]
    },
    {
     "name": "stderr",
     "output_type": "stream",
     "text": [
      "INFO:plaidml:Analyzing Ops: 1649 of 96524 operations complete\n",
      "INFO:plaidml:Analyzing Ops: 2952 of 96524 operations complete\n",
      "INFO:plaidml:Analyzing Ops: 4345 of 96524 operations complete\n",
      "INFO:plaidml:Analyzing Ops: 5791 of 96524 operations complete\n",
      "INFO:plaidml:Analyzing Ops: 7284 of 96524 operations complete\n",
      "INFO:plaidml:Analyzing Ops: 8994 of 96524 operations complete\n",
      "INFO:plaidml:Analyzing Ops: 11132 of 96524 operations complete\n",
      "INFO:plaidml:Analyzing Ops: 13668 of 96524 operations complete\n",
      "INFO:plaidml:Analyzing Ops: 16820 of 96524 operations complete\n",
      "INFO:plaidml:Analyzing Ops: 20957 of 96524 operations complete\n",
      "INFO:plaidml:Analyzing Ops: 22870 of 96524 operations complete\n",
      "INFO:plaidml:Analyzing Ops: 24325 of 96524 operations complete\n",
      "INFO:plaidml:Analyzing Ops: 25883 of 96524 operations complete\n",
      "INFO:plaidml:Analyzing Ops: 27580 of 96524 operations complete\n",
      "INFO:plaidml:Analyzing Ops: 29389 of 96524 operations complete\n",
      "INFO:plaidml:Analyzing Ops: 31325 of 96524 operations complete\n",
      "INFO:plaidml:Analyzing Ops: 33622 of 96524 operations complete\n",
      "INFO:plaidml:Analyzing Ops: 36371 of 96524 operations complete\n",
      "INFO:plaidml:Analyzing Ops: 40093 of 96524 operations complete\n",
      "INFO:plaidml:Analyzing Ops: 46014 of 96524 operations complete\n",
      "INFO:plaidml:Analyzing Ops: 51811 of 96524 operations complete\n",
      "INFO:plaidml:Analyzing Ops: 58114 of 96524 operations complete\n",
      "INFO:plaidml:Analyzing Ops: 64169 of 96524 operations complete\n",
      "INFO:plaidml:Analyzing Ops: 71641 of 96524 operations complete\n",
      "INFO:plaidml:Analyzing Ops: 77230 of 96524 operations complete\n",
      "INFO:plaidml:Analyzing Ops: 80506 of 96524 operations complete\n",
      "INFO:plaidml:Analyzing Ops: 83672 of 96524 operations complete\n",
      "INFO:plaidml:Analyzing Ops: 88930 of 96524 operations complete\n",
      "INFO:plaidml:Analyzing Ops: 92156 of 96524 operations complete\n"
     ]
    }
   ],
   "source": [
    "i = 0\n",
    "\n",
    "#add recurrent dropout to add noise to duration\n",
    "desc = \"LSTM32_32_Dense16_Output_NoReg_NoDropout_2Step_100train_01LR_NH_5Sec\"\n",
    "log_dir = os.path.join(\n",
    "    \"logs\",\n",
    "    \"betterSampling\",\n",
    "    desc\n",
    ")\n",
    "model_dir = os.path.join(\n",
    "    \"pickle\",\n",
    "    \"save\"\n",
    ")\n",
    "\n",
    "train_n = 100\n",
    "val_n  = int(2*train_n/5)\n",
    "#tensorboard_callback = tf.keras.callbacks.TensorBoard(log_dir=log_dir, histogram_freq=1)\n",
    "epochs = 2\n",
    "iterations = 10\n",
    "learn_rate = 0.01\n",
    "\n",
    "model.fit(train_x, train_labels,\n",
    "                  epochs = i * epochs + epochs, \n",
    "                  initial_epoch = i * epochs,\n",
    "                  shuffle = True,\n",
    "                  validation_data = (val_x, val_labels),\n",
    "                  batch_size = 512,\n",
    "                  class_weight = class_weights,\n",
    "         #        callbacks=[tensorboard_callback],\n",
    "                 verbose = 1)"
   ]
  },
  {
   "cell_type": "code",
   "execution_count": null,
   "metadata": {},
   "outputs": [],
   "source": [
    "#add recurrent dropout to add noise to duration\n",
    "desc = \"LSTM32_32_Dense16_Output_NoReg_NoDropout_2Step_100train_01LR_NH_5Sec\"\n",
    "log_dir = os.path.join(\n",
    "    \"logs\",\n",
    "    \"betterSampling\",\n",
    "    desc\n",
    ")\n",
    "model_dir = os.path.join(\n",
    "    \"pickle\",\n",
    "    \"save\"\n",
    ")\n",
    "\n",
    "train_n = 100\n",
    "val_n  = int(2*train_n/5)\n",
    "epochs = 2\n",
    "iterations = 10\n",
    "learn_rate = 0.01\n",
    "batch_size = 2048\n",
    "module.train(iterations, learn_rate, train_n, val_n, seconds, samplerate,\n",
    "                countriesOfInterest, enc, epochs, model_dir,\n",
    "                model, batch_size)"
   ]
  },
  {
   "cell_type": "code",
   "execution_count": null,
   "metadata": {},
   "outputs": [],
   "source": []
  }
 ],
 "metadata": {
  "kernelspec": {
   "display_name": "Python 3",
   "language": "python",
   "name": "python3"
  },
  "language_info": {
   "codemirror_mode": {
    "name": "ipython",
    "version": 3
   },
   "file_extension": ".py",
   "mimetype": "text/x-python",
   "name": "python",
   "nbconvert_exporter": "python",
   "pygments_lexer": "ipython3",
   "version": "3.7.3"
  }
 },
 "nbformat": 4,
 "nbformat_minor": 4
}
