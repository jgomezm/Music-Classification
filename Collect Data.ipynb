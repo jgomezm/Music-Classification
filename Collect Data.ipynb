{
 "cells": [
  {
   "cell_type": "code",
   "execution_count": 1,
   "metadata": {},
   "outputs": [],
   "source": [
    "import spotipy\n",
    "from spotipy.oauth2 import SpotifyClientCredentials\n",
    "import pandas as pd\n",
    "\n",
    "client_credentials_manager = SpotifyClientCredentials(\n",
    "        \"26399552a8ce4d1285397254189cac50\",\n",
    "        \"fdacfffa2dd34dbeb127dedb459f7ea3\")\n",
    "sp = spotipy.Spotify(client_credentials_manager=client_credentials_manager)"
   ]
  },
  {
   "cell_type": "code",
   "execution_count": 2,
   "metadata": {},
   "outputs": [],
   "source": [
    "def getTrackFeatures(trackURI):\n",
    "    ger_data = pd.DataFrame()\n",
    "    for track in trackURI:\n",
    "        audio = sp.audio_analysis(track)\n",
    "        segments_data =  pd.DataFrame(audio[\"segments\"])\n",
    "        pitch = segments_data.pitches.apply(pd.Series)\n",
    "        pitch.columns = [\"p\" + str(i) for i in range(1,13)]\n",
    "        timbre = segments_data.timbre.apply(pd.Series)\n",
    "        timbre.columns = [\"t\" + str(i) for i in range(1,13)]\n",
    "        segments_data = segments_data.drop([\"pitches\", \"timbre\", \"loudness_end\"],\n",
    "                                           axis = 1)\n",
    "        segments_data = segments_data.join([pitch, timbre])\n",
    "        segments_data[\"track_id\"] = track\n",
    "        ger_data = ger_data.append(segments_data)\n",
    "    return ger_data"
   ]
  },
  {
   "cell_type": "code",
   "execution_count": null,
   "metadata": {},
   "outputs": [
    {
     "name": "stdout",
     "output_type": "stream",
     "text": [
      "MX has 11 playlists\n",
      "Getting track features for spotify:playlist:37i9dQZF1DWZjqjZMudx9T in MX\n",
      "Getting track features for spotify:playlist:37i9dQZF1DX3PsJxMtn1AP in MX\n",
      "Getting track features for spotify:playlist:37i9dQZF1DX9KJJbsGEwfj in MX\n",
      "Getting track features for spotify:playlist:37i9dQZF1DX05Q6G4VDGLq in MX\n",
      "Getting track features for spotify:playlist:37i9dQZF1DWUmxBdWX3Pp4 in MX\n",
      "Getting track features for spotify:playlist:37i9dQZF1DWY7LJpmTFjnp in MX\n",
      "Getting track features for spotify:playlist:37i9dQZF1DWSXAHZTiX76o in MX\n",
      "Getting track features for spotify:playlist:37i9dQZF1DXcWcRIYY41Ix in MX\n",
      "Getting track features for spotify:playlist:37i9dQZF1DX01RK16gDPtA in MX\n",
      "Getting track features for spotify:playlist:37i9dQZF1DX3woOVffrpln in MX\n",
      "Getting track features for spotify:playlist:37i9dQZF1DX4YhSbTs17ha in MX\n",
      "TR has 10 playlists\n",
      "Getting track features for spotify:playlist:37i9dQZF1DX32iTMwjM5Xf in TR\n",
      "Getting track features for spotify:playlist:37i9dQZF1DWUplNWv18RoG in TR\n",
      "Getting track features for spotify:playlist:37i9dQZF1DWT98dlN29E2W in TR\n",
      "Getting track features for spotify:playlist:37i9dQZF1DWWISEYemjDXp in TR\n",
      "Getting track features for spotify:playlist:37i9dQZF1DWXoHqNlfcLJb in TR\n",
      "Getting track features for spotify:playlist:37i9dQZF1DWZ88lB6YFCc1 in TR\n",
      "Getting track features for spotify:playlist:37i9dQZF1DWZaiuILgorJB in TR\n",
      "Getting track features for spotify:playlist:37i9dQZF1DXa1qRoAAkUFs in TR\n",
      "Getting track features for spotify:playlist:37i9dQZF1DX3RfxtU3KC3j in TR\n",
      "Getting track features for spotify:playlist:37i9dQZF1DWYteTcNVQZNq in TR\n",
      "US has 10 playlists\n",
      "Getting track features for spotify:playlist:37i9dQZF1DWWBHeXOYZf74 in US\n",
      "Getting track features for spotify:playlist:37i9dQZF1DWT6MhXz0jw61 in US\n",
      "Getting track features for spotify:playlist:37i9dQZF1DX9RwfGbeGQwP in US\n",
      "Getting track features for spotify:playlist:37i9dQZF1DWWwaxRea1LWS in US\n",
      "Getting track features for spotify:playlist:37i9dQZF1DX0wMD4IoQ5aJ in US\n",
      "Getting track features for spotify:playlist:37i9dQZF1DX2zAr9vdmFlU in US\n"
     ]
    }
   ],
   "source": [
    "countriesOfInterest = [\"MX\", \"TR\", \"US\"]\n",
    "for year in range(2001,2020):\n",
    "    for month in range(1,13):\n",
    "        yrnmnth = str(year) + \"-\" + str(month)\n",
    "        tmstamp = yrnmnth + \"-15T12:00:00\"\n",
    "        for countryCode in countriesOfInterest:\n",
    "            country = sp.featured_playlists(country = countryCode, limit = 50)\n",
    "            plist = country[\"playlists\"][\"items\"]\n",
    "            print(countryCode, \"has\", len(plist), \"playlists\")\n",
    "            plist = pd.DataFrame.from_dict(plist)\n",
    "            plist.to_csv(\"Raw Playlist Data\\\\\" + countryCode + \"_\" + yrnmnth + \".csv\", index = False)\n",
    "            for uri in plist[\"uri\"]:\n",
    "                currplist = sp.playlist(uri)\n",
    "                trackURI = []\n",
    "                for track in currplist[\"tracks\"][\"items\"]:\n",
    "                    try:\n",
    "                        trackURI = trackURI + [track[\"track\"][\"uri\"]]\n",
    "                    except:\n",
    "                        continue\n",
    "                print(\"Getting track features for\", uri, \"in\", countryCode)\n",
    "                trackData = getTrackFeatures(trackURI)\n",
    "                trackData.to_csv(\"Raw Track Data\\\\\" + countryCode + \"_\" + yrnmnth + \"_\" + uri[17:] + \".csv\", index = False)"
   ]
  },
  {
   "cell_type": "code",
   "execution_count": 9,
   "metadata": {},
   "outputs": [
    {
     "data": {
      "text/plain": [
       "{'added_at': '2020-02-27T15:04:54Z',\n",
       " 'added_by': {'external_urls': {'spotify': 'https://open.spotify.com/user/'},\n",
       "  'href': 'https://api.spotify.com/v1/users/',\n",
       "  'id': '',\n",
       "  'type': 'user',\n",
       "  'uri': 'spotify:user:'},\n",
       " 'is_local': False,\n",
       " 'primary_color': None,\n",
       " 'track': None,\n",
       " 'video_thumbnail': None}"
      ]
     },
     "execution_count": 9,
     "metadata": {},
     "output_type": "execute_result"
    }
   ],
   "source": [
    "track"
   ]
  },
  {
   "cell_type": "code",
   "execution_count": null,
   "metadata": {},
   "outputs": [],
   "source": [
    "currplist"
   ]
  },
  {
   "cell_type": "code",
   "execution_count": null,
   "metadata": {},
   "outputs": [],
   "source": []
  },
  {
   "cell_type": "code",
   "execution_count": null,
   "metadata": {},
   "outputs": [],
   "source": []
  },
  {
   "cell_type": "code",
   "execution_count": null,
   "metadata": {},
   "outputs": [],
   "source": []
  },
  {
   "cell_type": "code",
   "execution_count": null,
   "metadata": {},
   "outputs": [],
   "source": []
  }
 ],
 "metadata": {
  "kernelspec": {
   "display_name": "Python 3",
   "language": "python",
   "name": "python3"
  },
  "language_info": {
   "codemirror_mode": {
    "name": "ipython",
    "version": 3
   },
   "file_extension": ".py",
   "mimetype": "text/x-python",
   "name": "python",
   "nbconvert_exporter": "python",
   "pygments_lexer": "ipython3",
   "version": "3.7.3"
  }
 },
 "nbformat": 4,
 "nbformat_minor": 2
}
