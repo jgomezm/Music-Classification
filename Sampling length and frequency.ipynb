{
 "cells": [
  {
   "cell_type": "code",
   "execution_count": null,
   "metadata": {},
   "outputs": [],
   "source": [
    "import numpy as np\n",
    "import os\n",
    "from sklearn.preprocessing import OneHotEncoder\n",
    "from sklearn.metrics import confusion_matrix\n",
    "import tensorflow.keras as keras\n",
    "from tensorflow.keras import Sequential\n",
    "from tensorflow.keras import regularizers\n",
    "from tensorflow.keras.layers import LSTM, Dense, Flatten, BatchNormalization, Dropout, GRU\n",
    "from tensorflow.keras.utils import to_categorical\n",
    "import tensorflow as tf\n",
    "import module\n",
    "import gc\n",
    "# Load the TensorBoard notebook extension\n",
    "%load_ext tensorboard"
   ]
  },
  {
   "cell_type": "code",
   "execution_count": null,
   "metadata": {},
   "outputs": [],
   "source": [
    "np.random.randint(10)"
   ]
  },
  {
   "cell_type": "code",
   "execution_count": null,
   "metadata": {},
   "outputs": [],
   "source": [
    "countriesOfInterest = {\"HK\", \"JP\", 'ZA', 'TN', 'TR', 'GB', 'MX', 'US', 'CO', 'EC', 'AU', 'NZ'}\n",
    "countriesOfInterest = [\"ZA\", \"EG\", \"TW\", \"JP\", \"DK\", \"FI\", \"US\", \"CA\", \"AU\", \"NZ\", \"BR\", \"CO\"]\n",
    "\n",
    "enc = OneHotEncoder()\n",
    "enc.fit(np.array(countriesOfInterest).reshape(-1, 1))"
   ]
  },
  {
   "cell_type": "code",
   "execution_count": null,
   "metadata": {},
   "outputs": [],
   "source": []
  },
  {
   "cell_type": "code",
   "execution_count": null,
   "metadata": {},
   "outputs": [],
   "source": [
    "seconds = 10\n",
    "samplerate = 10000\n",
    "train_n = 100\n",
    "sample_n = train_n * 20\n",
    "val_n  = int(2*train_n/5)\n",
    "valsample_n = val_n * 20\n",
    "val_n"
   ]
  },
  {
   "cell_type": "code",
   "execution_count": null,
   "metadata": {},
   "outputs": [],
   "source": [
    "seconds = 10\n",
    "samplerate = 10000\n",
    "train_n = 100\n",
    "sample_n = train_n * 20\n",
    "val_n  = int(train_n/5)\n",
    "valsample_n = val_n * 20\n",
    "train_x, train_labels, val_x, val_labels, class_weights = module.getSamples(train_n, \n",
    "                                                                            train_n * 20, \n",
    "                                                                            val_n, \n",
    "                                                                            valsample_n,\n",
    "                                                                            seconds,\n",
    "                                                                            samplerate, \n",
    "                                                                            countriesOfInterest,\n",
    "                                                                            enc, \n",
    "                                                                            verbose = 1)\n",
    "print(\"train\", np.sum(train_labels, axis = 0))"
   ]
  },
  {
   "cell_type": "markdown",
   "metadata": {},
   "source": [
    "### Fit model"
   ]
  },
  {
   "cell_type": "code",
   "execution_count": null,
   "metadata": {},
   "outputs": [],
   "source": [
    "train_n = 100\n",
    "sample_n = train_n * 20\n",
    "val_n  = int(train_n/5)\n",
    "valsample_n = val_n * 20\n",
    "for seconds in [1, 3, 5, 10]:\n",
    "    for samplerate in [10, 100, 1000, 10000]:\n",
    "        model = keras.Sequential()\n",
    "        model.add(BatchNormalization(input_shape=(train_x.shape[1], train_x.shape[2])))\n",
    "\n",
    "        model.add(LSTM(16, \n",
    "                       input_shape=(train_x.shape[1], train_x.shape[2]), \n",
    "                       return_sequences = True\n",
    "                      ))\n",
    "        model.add(BatchNormalization())\n",
    "        model.add(LSTM(32, \n",
    "                       return_sequences = False,\n",
    "                       go_backwards = True\n",
    "                      ))\n",
    "        model.add(BatchNormalization())\n",
    "        model.add(Dense(16, activation= \"relu\"))\n",
    "        model.add(BatchNormalization())\n",
    "        model.add(Dense(len(enc.categories_[0]), activation= \"softmax\"))\n",
    "        adam = keras.optimizers.Adam(lr=0.001, amsgrad = True)\n",
    "        model.compile(loss = \"categorical_crossentropy\", optimizer= adam, metrics=[\"acc\"])\n",
    "        del train_x, train_labels, val_x, val_labels, class_weights\n",
    "        gc.collect()\n",
    "        print(model.summary())\n",
    "        desc = str(seconds) + \"_seconds_\" + str(samplerate) + \"_samples\"\n",
    "        log_dir = os.path.join(\n",
    "            \"logs\",\n",
    "            \"Quality\",\n",
    "            desc\n",
    "        )\n",
    "        model_dir = os.path.join(\n",
    "            \"pickle\",\n",
    "            desc\n",
    "        )\n",
    "\n",
    "\n",
    "        tensorboard_callback = tf.keras.callbacks.TensorBoard(log_dir=log_dir, histogram_freq=1)\n",
    "        epochs = 1\n",
    "        iterations = 20\n",
    "        learn_rate = 0.001\n",
    "        batch_size = 4096\n",
    "        model = module.train(iterations, learn_rate, train_n, sample_n, val_n, valsample_n, seconds, samplerate,\n",
    "                        countriesOfInterest, enc, epochs, tensorboard_callback, model_dir,\n",
    "                        model, batch_size)"
   ]
  },
  {
   "cell_type": "code",
   "execution_count": null,
   "metadata": {
    "scrolled": true
   },
   "outputs": [],
   "source": [
    "desc = str(seconds) + \"_seconds_\" + str(samplerate) + \"_samples\"\n",
    "log_dir = os.path.join(\n",
    "    \"logs\",\n",
    "    \"Quality\",\n",
    "    desc\n",
    ")\n",
    "model_dir = os.path.join(\n",
    "    \"pickle\",\n",
    "    desc\n",
    ")\n",
    "\n",
    "\n",
    "tensorboard_callback = tf.keras.callbacks.TensorBoard(log_dir=log_dir, histogram_freq=1)\n",
    "epochs = 1\n",
    "iterations = 20\n",
    "learn_rate = 0.001\n",
    "batch_size = 4096\n",
    "model = module.train(iterations, learn_rate, train_n, sample_n, val_n, valsample_n, seconds, samplerate,\n",
    "                countriesOfInterest, enc, epochs, tensorboard_callback, model_dir,\n",
    "                model, batch_size)"
   ]
  },
  {
   "cell_type": "code",
   "execution_count": null,
   "metadata": {},
   "outputs": [],
   "source": []
  },
  {
   "cell_type": "code",
   "execution_count": null,
   "metadata": {},
   "outputs": [],
   "source": []
  },
  {
   "cell_type": "code",
   "execution_count": null,
   "metadata": {},
   "outputs": [],
   "source": []
  },
  {
   "cell_type": "code",
   "execution_count": null,
   "metadata": {},
   "outputs": [],
   "source": []
  },
  {
   "cell_type": "code",
   "execution_count": null,
   "metadata": {},
   "outputs": [],
   "source": []
  },
  {
   "cell_type": "code",
   "execution_count": null,
   "metadata": {},
   "outputs": [],
   "source": []
  },
  {
   "cell_type": "code",
   "execution_count": null,
   "metadata": {},
   "outputs": [],
   "source": []
  },
  {
   "cell_type": "code",
   "execution_count": null,
   "metadata": {},
   "outputs": [],
   "source": []
  },
  {
   "cell_type": "code",
   "execution_count": null,
   "metadata": {},
   "outputs": [],
   "source": []
  }
 ],
 "metadata": {
  "kernelspec": {
   "display_name": "Python 3",
   "language": "python",
   "name": "python3"
  },
  "language_info": {
   "codemirror_mode": {
    "name": "ipython",
    "version": 3
   },
   "file_extension": ".py",
   "mimetype": "text/x-python",
   "name": "python",
   "nbconvert_exporter": "python",
   "pygments_lexer": "ipython3",
   "version": "3.7.3"
  }
 },
 "nbformat": 4,
 "nbformat_minor": 4
}
