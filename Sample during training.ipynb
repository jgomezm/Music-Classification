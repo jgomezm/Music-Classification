{
 "cells": [
  {
   "cell_type": "code",
   "execution_count": 1,
   "metadata": {},
   "outputs": [
    {
     "name": "stderr",
     "output_type": "stream",
     "text": [
      "Using TensorFlow backend.\n"
     ]
    }
   ],
   "source": [
    "import pandas as pd\n",
    "import numpy as np\n",
    "import glob\n",
    "import os\n",
    "import random\n",
    "import pickle\n",
    "from sklearn.preprocessing import OneHotEncoder\n",
    "from sklearn.utils import class_weight\n",
    "from sklearn.metrics import confusion_matrix\n",
    "import matplotlib.pyplot as plt\n",
    "import datetime\n",
    "import tensorflow.keras as keras\n",
    "from tensorflow.keras import Sequential\n",
    "from tensorflow.keras.layers import LSTM, Dense, LSTM, Flatten, BatchNormalization, Dropout\n",
    "from keras.utils import to_categorical\n",
    "import tensorflow as tf\n",
    "# Load the TensorBoard notebook extension\n",
    "%load_ext tensorboard"
   ]
  },
  {
   "cell_type": "code",
   "execution_count": 2,
   "metadata": {},
   "outputs": [
    {
     "data": {
      "text/plain": [
       "OneHotEncoder(categories='auto', drop=None, dtype=<class 'numpy.float64'>,\n",
       "              handle_unknown='error', sparse=True)"
      ]
     },
     "execution_count": 2,
     "metadata": {},
     "output_type": "execute_result"
    }
   ],
   "source": [
    "countriesOfInterest = [\"HK\", \"JP\", 'ZA', 'TN', 'TR', 'GB', 'MX', 'US', 'CO', 'EC', 'AU', 'NZ']\n",
    "#countriesOfInterest = [\"HK\", 'TR', 'GB', 'MX', 'US', 'CO', 'NZ']\n",
    "train_n = 100\n",
    "val_n = 20\n",
    "Category = \"Country\"\n",
    "w_length = 1000\n",
    "enc = OneHotEncoder()\n",
    "enc.fit(np.array(countriesOfInterest).reshape(-1, 1))"
   ]
  },
  {
   "cell_type": "code",
   "execution_count": 3,
   "metadata": {},
   "outputs": [],
   "source": [
    "def split(X, cat):\n",
    "    X = X.reset_index()\n",
    "    new_pos = list(X.track_id.index[X.track_id.shift(1) != X.track_id]) # indices where the song changes\n",
    "    new_pos.append(max(X.track_id.index) + 1) # add a new index to know where the last song ends\n",
    "    split_pos = []\n",
    "    for i in range(len(new_pos)-1):\n",
    "        split_pos = split_pos + list(range(new_pos[i], new_pos[i+1], w_length))\n",
    "    split_pos = split_pos[1:]\n",
    "    us_train = np.split(X.iloc[:,:24].to_numpy(), split_pos)\n",
    "    labs = np.split(X[Category].to_numpy(), split_pos)\n",
    "    # drop the short sequences\n",
    "    short_seqs = []\n",
    "    temp = [] \n",
    "    labels = []\n",
    "    for i, value in enumerate(us_train):\n",
    "        if value.shape[0] == w_length:\n",
    "            temp.append(value)\n",
    "            labels.append(labs[i][0])\n",
    "    us_train = temp\n",
    "    return np.stack(us_train), labels"
   ]
  },
  {
   "cell_type": "code",
   "execution_count": 4,
   "metadata": {},
   "outputs": [],
   "source": [
    "def splitSeconds(n, country, t):\n",
    "    data = pickle.load( open( \"Raw Track Data\\\\\" + country + \"_\" + t + \".p\", \"rb\" ) )\n",
    "    tracks = data.track_id.unique()\n",
    "    tracks = np.random.choice(tracks, size=n, replace=True)\n",
    "    samples = []\n",
    "    for track in tracks:\n",
    "        try:\n",
    "            trackFeats = data[data.track_id == track]\n",
    "            FeatsLen =  trackFeats.shape[0]\n",
    "            #ind = np.random.choice(trackFeats.index[:-5], size=1, replace=True)\n",
    "            ind = random.randrange(1, FeatsLen - 10)\n",
    "            example = np.empty((0,24))\n",
    "            while len(example) < w_length:\n",
    "                feats = np.array(trackFeats.iloc[ind].loc[\"p1\":\"t12\"])\n",
    "                reps = int(trackFeats.iloc[ind].loc[\"duration\"] * 100)\n",
    "                if reps > 0:\n",
    "                    hold = np.tile(feats, reps).reshape(reps, -1)\n",
    "                    example = np.append(example, hold, axis = 0)\n",
    "                ind = ind + 1\n",
    "              #  example = np.array(example)\n",
    "                example = example[-w_length:]\n",
    "            samples = samples + [example]\n",
    "        except:\n",
    "            continue\n",
    "    samples = np.array(samples)\n",
    "    return samples, np.repeat(np.array([country]), samples.shape[0])"
   ]
  },
  {
   "cell_type": "code",
   "execution_count": 5,
   "metadata": {},
   "outputs": [],
   "source": [
    "def getSamples():\n",
    "    train = pd.DataFrame()\n",
    "    train_labels = pd.DataFrame()\n",
    "    val = pd.DataFrame()\n",
    "    val_labels = pd.DataFrame()\n",
    "    train_x = []\n",
    "    train_labels = []\n",
    "    val_x = []\n",
    "    val_labels = []\n",
    "    for country in countriesOfInterest:\n",
    "        x1, y1 = splitSeconds(train_n, country, \"train\")\n",
    "        x2, y2 = splitSeconds(val_n, country, \"val\")\n",
    "        train_x = train_x + x1.tolist()\n",
    "        train_labels = train_labels + y1.tolist()\n",
    "        val_x = val_x + x2.tolist()\n",
    "        val_labels = val_labels + y2.tolist()\n",
    "    train_x = np.array(train_x)\n",
    "    train_labels = np.array(train_labels)\n",
    "    val_x = np.array(val_x)\n",
    "    val_labels = np.array(val_labels)\n",
    "    class_weights = class_weight.compute_class_weight('balanced',\n",
    "                                                     np.unique(train_labels),\n",
    "                                                     list(train_labels))\n",
    "    train_labels = enc.transform(np.array(train_labels).reshape(-1,1)).toarray()\n",
    "    val_labels = enc.transform(np.array(val_labels).reshape(-1,1)).toarray()\n",
    "    return train_x, train_labels, val_x, val_labels, class_weights"
   ]
  },
  {
   "cell_type": "code",
   "execution_count": 6,
   "metadata": {},
   "outputs": [],
   "source": [
    "train_x, train_labels, val_x, val_labels, class_weights = getSamples()"
   ]
  },
  {
   "cell_type": "code",
   "execution_count": 7,
   "metadata": {},
   "outputs": [
    {
     "data": {
      "text/plain": [
       "array([[0., 0., 0., ..., 0., 0., 0.],\n",
       "       [0., 0., 0., ..., 0., 0., 0.],\n",
       "       [0., 0., 0., ..., 0., 0., 0.],\n",
       "       ...,\n",
       "       [0., 0., 0., ..., 0., 0., 0.],\n",
       "       [0., 0., 0., ..., 0., 0., 0.],\n",
       "       [0., 0., 0., ..., 0., 0., 0.]])"
      ]
     },
     "execution_count": 7,
     "metadata": {},
     "output_type": "execute_result"
    }
   ],
   "source": [
    "train_labels"
   ]
  },
  {
   "cell_type": "code",
   "execution_count": 8,
   "metadata": {},
   "outputs": [
    {
     "data": {
      "text/plain": [
       "0.0847457627118644"
      ]
     },
     "execution_count": 8,
     "metadata": {},
     "output_type": "execute_result"
    }
   ],
   "source": [
    "max(np.sum(val_labels, axis = 0))/sum(np.sum(val_labels, axis = 0))"
   ]
  },
  {
   "cell_type": "code",
   "execution_count": 9,
   "metadata": {},
   "outputs": [
    {
     "data": {
      "text/plain": [
       "0.08411214953271028"
      ]
     },
     "execution_count": 9,
     "metadata": {},
     "output_type": "execute_result"
    }
   ],
   "source": [
    "max(np.sum(train_labels, axis = 0))/sum(np.sum(train_labels, axis = 0))"
   ]
  },
  {
   "cell_type": "raw",
   "metadata": {},
   "source": [
    "Fit model"
   ]
  },
  {
   "cell_type": "code",
   "execution_count": 10,
   "metadata": {},
   "outputs": [
    {
     "name": "stdout",
     "output_type": "stream",
     "text": [
      "Model: \"sequential\"\n",
      "_________________________________________________________________\n",
      "Layer (type)                 Output Shape              Param #   \n",
      "=================================================================\n",
      "lstm (LSTM)                  (None, 1000, 20)          3600      \n",
      "_________________________________________________________________\n",
      "lstm_1 (LSTM)                (None, 20)                3280      \n",
      "_________________________________________________________________\n",
      "batch_normalization (BatchNo (None, 20)                80        \n",
      "_________________________________________________________________\n",
      "dense (Dense)                (None, 50)                1050      \n",
      "_________________________________________________________________\n",
      "batch_normalization_1 (Batch (None, 50)                200       \n",
      "_________________________________________________________________\n",
      "dropout (Dropout)            (None, 50)                0         \n",
      "_________________________________________________________________\n",
      "dense_1 (Dense)              (None, 12)                612       \n",
      "=================================================================\n",
      "Total params: 8,822\n",
      "Trainable params: 8,682\n",
      "Non-trainable params: 140\n",
      "_________________________________________________________________\n",
      "None\n"
     ]
    }
   ],
   "source": [
    "model = keras.Sequential()\n",
    "model.add(LSTM(20, \n",
    "               input_shape=(train_x.shape[1], train_x.shape[2]), \n",
    "               return_sequences = True,\n",
    "              recurrent_dropout = .25))\n",
    "model.add(LSTM(20, \n",
    "               input_shape=(train_x.shape[1], train_x.shape[2]), \n",
    "               return_sequences = False,\n",
    "             recurrent_dropout = .25))\n",
    "#model.add(LSTM(80, \n",
    "#               input_shape=(train_x.shape[1], train_x.shape[2]), \n",
    "#               return_sequences = False,\n",
    "#              recurrent_dropout = .25))\n",
    "model.add(BatchNormalization())\n",
    "model.add(Dense(50, activation= \"relu\"))\n",
    "model.add(BatchNormalization())\n",
    "model.add(Dropout(.25))\n",
    "#model.add(Dense(50, activation= \"relu\"))\n",
    "model.add(Dense(len(enc.categories_[0]), activation= \"softmax\"))\n",
    "adam = keras.optimizers.Adam(lr=0.0001)\n",
    "model.compile(loss = \"categorical_crossentropy\", optimizer= adam, metrics=[\"acc\"])\n",
    "print(model.summary())"
   ]
  },
  {
   "cell_type": "code",
   "execution_count": null,
   "metadata": {},
   "outputs": [],
   "source": [
    "log_dir = os.path.join(\n",
    "    \"logs\",\n",
    "    \"fit\",\n",
    "    datetime.datetime.now().strftime(\"%Y%m%d-%H%M%S\"),\n",
    ")\n",
    "tensorboard_callback = tf.keras.callbacks.TensorBoard(log_dir=log_dir, histogram_freq=1)\n",
    "epochs = 100\n",
    "iterations = 1000\n",
    "for i in range(iterations):\n",
    "    train_x, train_labels, val_x, val_labels, class_weights = getSamples()\n",
    "    model.fit(train_x, train_labels,\n",
    "              epochs = i * epochs + epochs, \n",
    "              initial_epoch = i * epochs,\n",
    "              shuffle = True,\n",
    "              validation_data = (val_x, val_labels),\n",
    "              batch_size = 64,\n",
    "              class_weight = class_weights,\n",
    "             callbacks=[tensorboard_callback],\n",
    "             verbose = 0)\n",
    "    if i % 10 == 0:\n",
    "        preds = model.predict(val_x, batch_size = 256, verbose = 1)\n",
    "        print(np.sum(train_labels, axis = 0))\n",
    "        plt.imshow(\n",
    "            confusion_matrix(\n",
    "                enc.inverse_transform(preds), \n",
    "                enc.inverse_transform(val_labels), \n",
    "               # normalize = \"all\"\n",
    "            )\n",
    "        )\n",
    "        plt.pause(.5)\n",
    "        plt.show()"
   ]
  },
  {
   "cell_type": "code",
   "execution_count": null,
   "metadata": {},
   "outputs": [],
   "source": [
    "preds = model.predict(val_x, batch_size = 256, verbose = 1)\n",
    "print(np.sum(preds, axis = 0))\n",
    "print(np.sum(val_labels, axis = 0))\n",
    "plt.imshow(\n",
    "    confusion_matrix(\n",
    "        enc.inverse_transform(preds), \n",
    "        enc.inverse_transform(val_labels), \n",
    "     #   normalize = \"true\"\n",
    "    )\n",
    ")"
   ]
  },
  {
   "cell_type": "code",
   "execution_count": null,
   "metadata": {},
   "outputs": [],
   "source": [
    "preds = model.predict(train_x, batch_size = 256, verbose = 1)\n",
    "print(np.sum(preds, axis = 0))\n",
    "print(np.sum(train_labels, axis = 0))\n",
    "plt.imshow(\n",
    "    confusion_matrix(\n",
    "        enc.inverse_transform(preds), \n",
    "        enc.inverse_transform(train_labels), \n",
    "    #    normalize = \"true\"\n",
    "    )\n",
    ")"
   ]
  },
  {
   "cell_type": "code",
   "execution_count": null,
   "metadata": {},
   "outputs": [],
   "source": []
  },
  {
   "cell_type": "code",
   "execution_count": null,
   "metadata": {},
   "outputs": [],
   "source": [
    "adam = keras.optimizers.Adam(lr=0.0001)\n",
    "model.compile(loss = \"categorical_crossentropy\", optimizer= adam, metrics=[\"acc\"])\n",
    "print(model.summary())"
   ]
  },
  {
   "cell_type": "code",
   "execution_count": null,
   "metadata": {},
   "outputs": [],
   "source": [
    "log_dir = os.path.join(\n",
    "    \"logs\",\n",
    "    \"fit\",\n",
    "    datetime.datetime.now().strftime(\"%Y%m%d-%H%M%S\"),\n",
    ")\n",
    "tensorboard_callback = tf.keras.callbacks.TensorBoard(log_dir=log_dir, histogram_freq=1)\n",
    "epochs = 10\n",
    "iterations = 1000\n",
    "for i in range(iterations):\n",
    "    train_x, train_labels, val_x, val_labels, class_weights = getSamples()\n",
    "    model.fit(train_x, train_labels,\n",
    "              epochs = i * epochs + epochs, \n",
    "              initial_epoch = i * epochs,\n",
    "              shuffle = True,\n",
    "              validation_data = (val_x, val_labels),\n",
    "              batch_size = 64,\n",
    "              class_weight = class_weights,\n",
    "             callbacks=[tensorboard_callback],\n",
    "             verbose = 0)\n",
    "    if i %10 == 0:\n",
    "        preds = model.predict(val_x, batch_size = 256, verbose = 1)\n",
    "        print(np.sum(train_labels, axis = 0))\n",
    "        plt.imshow(\n",
    "            confusion_matrix(\n",
    "                enc.inverse_transform(preds), \n",
    "                enc.inverse_transform(val_labels), \n",
    "             #   normalize = \"all\"\n",
    "            )\n",
    "        )\n",
    "        plt.pause(.5)\n",
    "        plt.show()"
   ]
  },
  {
   "cell_type": "code",
   "execution_count": null,
   "metadata": {},
   "outputs": [],
   "source": [
    "preds = model.predict(val_x, batch_size = 256, verbose = 1)\n",
    "print(np.sum(preds, axis = 0))\n",
    "print(np.sum(val_labels, axis = 0))\n",
    "plt.imshow(\n",
    "    confusion_matrix(\n",
    "        enc.inverse_transform(preds), \n",
    "        enc.inverse_transform(val_labels), \n",
    "      #  normalize = \"true\"\n",
    "    )\n",
    ")"
   ]
  },
  {
   "cell_type": "code",
   "execution_count": null,
   "metadata": {},
   "outputs": [],
   "source": [
    "preds = model.predict(train_x, batch_size = 256, verbose = 1)\n",
    "print(np.sum(preds, axis = 0))\n",
    "print(np.sum(train_labels, axis = 0))\n",
    "plt.imshow(\n",
    "    confusion_matrix(\n",
    "        enc.inverse_transform(preds), \n",
    "        enc.inverse_transform(train_labels), \n",
    "     #   normalize = \"true\"\n",
    "    )\n",
    ")"
   ]
  },
  {
   "cell_type": "code",
   "execution_count": null,
   "metadata": {},
   "outputs": [],
   "source": []
  }
 ],
 "metadata": {
  "kernelspec": {
   "display_name": "Python 3",
   "language": "python",
   "name": "python3"
  },
  "language_info": {
   "codemirror_mode": {
    "name": "ipython",
    "version": 3
   },
   "file_extension": ".py",
   "mimetype": "text/x-python",
   "name": "python",
   "nbconvert_exporter": "python",
   "pygments_lexer": "ipython3",
   "version": "3.7.3"
  }
 },
 "nbformat": 4,
 "nbformat_minor": 2
}
