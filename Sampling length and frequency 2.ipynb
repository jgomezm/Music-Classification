{
 "cells": [
  {
   "cell_type": "code",
   "execution_count": 1,
   "metadata": {},
   "outputs": [],
   "source": [
    "import numpy as np\n",
    "import os\n",
    "from sklearn.preprocessing import OneHotEncoder\n",
    "from sklearn.metrics import confusion_matrix\n",
    "import tensorflow.keras as keras\n",
    "from tensorflow.keras import Sequential\n",
    "from tensorflow.keras import regularizers\n",
    "from tensorflow.keras.layers import LSTM, Dense, Flatten, BatchNormalization, Dropout, GRU\n",
    "from tensorflow.keras.utils import to_categorical\n",
    "import tensorflow as tf\n",
    "import module\n",
    "import gc\n",
    "# Load the TensorBoard notebook extension\n",
    "%load_ext tensorboard"
   ]
  },
  {
   "cell_type": "code",
   "execution_count": 2,
   "metadata": {},
   "outputs": [
    {
     "data": {
      "text/plain": [
       "OneHotEncoder(categories='auto', drop=None, dtype=<class 'numpy.float64'>,\n",
       "              handle_unknown='error', sparse=True)"
      ]
     },
     "execution_count": 2,
     "metadata": {},
     "output_type": "execute_result"
    }
   ],
   "source": [
    "countriesOfInterest = {\"HK\", \"JP\", 'ZA', 'TN', 'TR', 'GB', 'MX', 'US', 'CO', 'EC', 'AU', 'NZ'}\n",
    "countriesOfInterest = [\"ZA\", \"EG\", \"TW\", \"JP\", \"DK\", \"FI\", \"US\", \"CA\", \"AU\", \"NZ\", \"BR\", \"CO\"]\n",
    "\n",
    "enc = OneHotEncoder()\n",
    "enc.fit(np.array(countriesOfInterest).reshape(-1, 1))"
   ]
  },
  {
   "cell_type": "markdown",
   "metadata": {},
   "source": [
    "### Test Sampling"
   ]
  },
  {
   "cell_type": "code",
   "execution_count": null,
   "metadata": {
    "scrolled": true
   },
   "outputs": [
    {
     "name": "stdout",
     "output_type": "stream",
     "text": [
      "(12, 30, 25)\n",
      "Model: \"sequential\"\n",
      "_________________________________________________________________\n",
      "Layer (type)                 Output Shape              Param #   \n",
      "=================================================================\n",
      "batch_normalization (BatchNo (None, 30, 25)            100       \n",
      "_________________________________________________________________\n",
      "lstm (LSTM)                  (None, 30, 16)            2688      \n",
      "_________________________________________________________________\n",
      "batch_normalization_1 (Batch (None, 30, 16)            64        \n",
      "_________________________________________________________________\n",
      "lstm_1 (LSTM)                (None, 32)                6272      \n",
      "_________________________________________________________________\n",
      "batch_normalization_2 (Batch (None, 32)                128       \n",
      "_________________________________________________________________\n",
      "dense (Dense)                (None, 16)                528       \n",
      "_________________________________________________________________\n",
      "batch_normalization_3 (Batch (None, 16)                64        \n",
      "_________________________________________________________________\n",
      "dense_1 (Dense)              (None, 12)                204       \n",
      "=================================================================\n",
      "Total params: 10,048\n",
      "Trainable params: 9,870\n",
      "Non-trainable params: 178\n",
      "_________________________________________________________________\n",
      "None\n",
      "3_seconds_10_samples iteration 5\n",
      "4800/4800 [==============================] - 1s 117us/sample\n"
     ]
    },
    {
     "data": {
      "image/png": "[encoded data removed]",
      "text/plain": [
       "<Figure size 432x288 with 1 Axes>"
      ]
     },
     "metadata": {
      "needs_background": "light"
     },
     "output_type": "display_data"
    },
    {
     "name": "stdout",
     "output_type": "stream",
     "text": [
      "24000/24000 [==============================] - 1s 27us/sample\n"
     ]
    },
    {
     "data": {
      "image/png": "[encoded data removed]",
      "text/plain": [
       "<Figure size 432x288 with 1 Axes>"
      ]
     },
     "metadata": {
      "needs_background": "light"
     },
     "output_type": "display_data"
    },
    {
     "name": "stdout",
     "output_type": "stream",
     "text": [
      "3_seconds_10_samples iteration 10\n",
      "4800/4800 [==============================] - 1s 116us/sample\n"
     ]
    },
    {
     "data": {
      "image/png": "[encoded data removed]",
      "text/plain": [
       "<Figure size 432x288 with 1 Axes>"
      ]
     },
     "metadata": {
      "needs_background": "light"
     },
     "output_type": "display_data"
    },
    {
     "name": "stdout",
     "output_type": "stream",
     "text": [
      "24000/24000 [==============================] - 1s 27us/sample\n"
     ]
    },
    {
     "data": {
      "image/png": "[encoded data removed]",
      "text/plain": [
       "<Figure size 432x288 with 1 Axes>"
      ]
     },
     "metadata": {
      "needs_background": "light"
     },
     "output_type": "display_data"
    },
    {
     "name": "stdout",
     "output_type": "stream",
     "text": [
      "3_seconds_10_samples iteration 15\n",
      "4800/4800 [==============================] - 1s 117us/sample\n"
     ]
    },
    {
     "data": {
      "image/png": "[encoded data removed]",
      "text/plain": [
       "<Figure size 432x288 with 1 Axes>"
      ]
     },
     "metadata": {
      "needs_background": "light"
     },
     "output_type": "display_data"
    },
    {
     "name": "stdout",
     "output_type": "stream",
     "text": [
      "24000/24000 [==============================] - 1s 30us/sample\n"
     ]
    },
    {
     "data": {
      "image/png": "[encoded data removed]",
      "text/plain": [
       "<Figure size 432x288 with 1 Axes>"
      ]
     },
     "metadata": {
      "needs_background": "light"
     },
     "output_type": "display_data"
    }
   ],
   "source": [
    "train_n = 100\n",
    "sample_n = train_n * 20\n",
    "val_n  = int(train_n/5)\n",
    "valsample_n = val_n * 20\n",
    "for seconds in [3, 5, 10]:\n",
    "    for samplerate in [10, 100]:\n",
    "        train_x, train_labels, val_x, val_labels, class_weights = module.getSamples(1, 1, 1, 1, \n",
    "                                                                                    seconds, \n",
    "                                                                                    samplerate, \n",
    "                                                                                    countriesOfInterest, \n",
    "                                                                                    enc, \n",
    "                                                                                    verbose = 0)\n",
    "        print(train_x.shape)\n",
    "        model = keras.Sequential()\n",
    "        model.add(BatchNormalization(input_shape=(train_x.shape[1], train_x.shape[2])))\n",
    "\n",
    "        model.add(LSTM(16, \n",
    "                       input_shape=(train_x.shape[1], train_x.shape[2]), \n",
    "                       return_sequences = True\n",
    "                      ))\n",
    "        model.add(BatchNormalization())\n",
    "        model.add(LSTM(32, \n",
    "                       return_sequences = False,\n",
    "                       go_backwards = True\n",
    "                      ))\n",
    "        model.add(BatchNormalization())\n",
    "        model.add(Dense(16, activation= \"relu\"))\n",
    "        model.add(BatchNormalization())\n",
    "        model.add(Dense(len(enc.categories_[0]), activation= \"softmax\"))\n",
    "        adam = keras.optimizers.Adam(lr=0.001, amsgrad = True)\n",
    "        model.compile(loss = \"categorical_crossentropy\", optimizer= adam, metrics=[\"acc\"])\n",
    "        del train_x, train_labels, val_x, val_labels, class_weights\n",
    "        gc.collect()\n",
    "        print(model.summary())\n",
    "        desc = str(seconds) + \"_seconds_\" + str(samplerate) + \"_samples\"\n",
    "        log_dir = os.path.join(\n",
    "            \"logs\",\n",
    "            \"Quality\",\n",
    "            desc\n",
    "        )\n",
    "        model_dir = os.path.join(\n",
    "            \"pickle\",\n",
    "            desc\n",
    "        )\n",
    "\n",
    "\n",
    "        tensorboard_callback = tf.keras.callbacks.TensorBoard(log_dir=log_dir, histogram_freq=1)\n",
    "        epochs = 2\n",
    "        iterations = 50\n",
    "        learn_rate = 0.001\n",
    "        batch_size = 4096\n",
    "        model = module.train(iterations, learn_rate, train_n, sample_n, val_n, valsample_n, seconds, samplerate,\n",
    "                        countriesOfInterest, enc, epochs, tensorboard_callback, model_dir,\n",
    "                        model, batch_size)\n",
    "        del model, model_dir, log_dir, desc, adam\n",
    "        gc.collect()"
   ]
  },
  {
   "cell_type": "code",
   "execution_count": null,
   "metadata": {},
   "outputs": [],
   "source": []
  }
 ],
 "metadata": {
  "kernelspec": {
   "display_name": "Python 3",
   "language": "python",
   "name": "python3"
  },
  "language_info": {
   "codemirror_mode": {
    "name": "ipython",
    "version": 3
   },
   "file_extension": ".py",
   "mimetype": "text/x-python",
   "name": "python",
   "nbconvert_exporter": "python",
   "pygments_lexer": "ipython3",
   "version": "3.7.3"
  }
 },
 "nbformat": 4,
 "nbformat_minor": 4
}
