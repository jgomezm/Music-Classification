{
 "cells": [
  {
   "cell_type": "code",
   "execution_count": 1,
   "metadata": {},
   "outputs": [],
   "source": [
    "import numpy as np\n",
    "import os\n",
    "from sklearn.preprocessing import OneHotEncoder\n",
    "from sklearn.metrics import confusion_matrix\n",
    "import tensorflow.keras as keras\n",
    "from tensorflow.keras import Sequential\n",
    "from tensorflow.keras import regularizers\n",
    "from tensorflow.keras.layers import LSTM, Dense, Flatten, BatchNormalization, Dropout, GRU\n",
    "from tensorflow.keras.utils import to_categorical\n",
    "import tensorflow as tf\n",
    "import module\n",
    "import gc\n",
    "# Load the TensorBoard notebook extension\n",
    "%load_ext tensorboard"
   ]
  },
  {
   "cell_type": "code",
   "execution_count": 2,
   "metadata": {},
   "outputs": [
    {
     "data": {
      "text/plain": [
       "OneHotEncoder(categories='auto', drop=None, dtype=<class 'numpy.float64'>,\n",
       "              handle_unknown='error', sparse=True)"
      ]
     },
     "execution_count": 2,
     "metadata": {},
     "output_type": "execute_result"
    }
   ],
   "source": [
    "countriesOfInterest = {\"HK\", \"JP\", 'ZA', 'TN', 'TR', 'GB', 'MX', 'US', 'CO', 'EC', 'AU', 'NZ'}\n",
    "countriesOfInterest = [\"ZA\", \"EG\", \"TW\", \"JP\", \"DK\", \"FI\", \"US\", \"CA\", \"AU\", \"NZ\", \"BR\", \"CO\"]\n",
    "#countriesOfInterest = list(countriesOfInterest & {\"ZA\", \"EG\", \"TW\", \"JP\", \"DK\", \"FI\", \"US\", \"CA\", \"AU\", \"NZ\", \"BR\", \"CO\"})\n",
    "\n",
    "enc = OneHotEncoder()\n",
    "enc.fit(np.array(countriesOfInterest).reshape(-1, 1))"
   ]
  },
  {
   "cell_type": "code",
   "execution_count": 3,
   "metadata": {},
   "outputs": [
    {
     "name": "stdout",
     "output_type": "stream",
     "text": [
      "train [3563. 3691. 3212. 4339. 3233. 3994. 3365. 4942. 3755. 4453. 3145. 4716.]\n"
     ]
    }
   ],
   "source": [
    "seconds = 10\n",
    "samplerate = 10\n",
    "train_x, train_labels, val_x, val_labels, class_weights = module.getSamples(100, None, 1, 1, seconds, samplerate, countriesOfInterest,\n",
    "               enc, verbose = 0)\n",
    "input_shape=(train_x.shape[1], train_x.shape[2])\n",
    "print(\"train\", np.sum(train_labels, axis = 0))"
   ]
  },
  {
   "cell_type": "markdown",
   "metadata": {},
   "source": [
    "### Fit model"
   ]
  },
  {
   "cell_type": "code",
   "execution_count": 4,
   "metadata": {},
   "outputs": [
    {
     "name": "stdout",
     "output_type": "stream",
     "text": [
      "Model: \"sequential\"\n",
      "_________________________________________________________________\n",
      "Layer (type)                 Output Shape              Param #   \n",
      "=================================================================\n",
      "gaussian_noise (GaussianNois (None, 100, 25)           0         \n",
      "_________________________________________________________________\n",
      "batch_normalization (BatchNo (None, 100, 25)           100       \n",
      "_________________________________________________________________\n",
      "lstm (LSTM)                  (None, 100, 128)          78848     \n",
      "_________________________________________________________________\n",
      "batch_normalization_1 (Batch (None, 100, 128)          512       \n",
      "_________________________________________________________________\n",
      "lstm_1 (LSTM)                (None, 64)                49408     \n",
      "_________________________________________________________________\n",
      "batch_normalization_2 (Batch (None, 64)                256       \n",
      "_________________________________________________________________\n",
      "dense (Dense)                (None, 32)                2080      \n",
      "_________________________________________________________________\n",
      "batch_normalization_3 (Batch (None, 32)                128       \n",
      "_________________________________________________________________\n",
      "dense_1 (Dense)              (None, 12)                396       \n",
      "=================================================================\n",
      "Total params: 131,728\n",
      "Trainable params: 131,230\n",
      "Non-trainable params: 498\n",
      "_________________________________________________________________\n",
      "None\n"
     ]
    }
   ],
   "source": [
    "model = keras.Sequential()\n",
    "model.add(keras.layers.GaussianNoise(input_shape = input_shape,\n",
    "                                     stddev = .1))\n",
    "model.add(BatchNormalization(input_shape = input_shape))\n",
    "\n",
    "model.add(LSTM(128, \n",
    "               input_shape=input_shape, \n",
    "               return_sequences = True\n",
    "              ))\n",
    "model.add(BatchNormalization())\n",
    "model.add(LSTM(64, \n",
    "               return_sequences = False,\n",
    "               go_backwards = True\n",
    "              ))\n",
    "model.add(BatchNormalization())\n",
    "model.add(Dense(32, activation= \"relu\"))\n",
    "model.add(BatchNormalization())\n",
    "#model.add(Dense(16, activation= \"relu\"))\n",
    "#model.add(BatchNormalization())\n",
    "model.add(Dense(len(enc.categories_[0]), activation= \"softmax\"))\n",
    "adam = keras.optimizers.Adam(lr=0.001, amsgrad = True)\n",
    "model.compile(loss = \"categorical_crossentropy\", optimizer= adam, metrics=[\"acc\"])\n",
    "#del train_x, train_labels, val_x, val_labels, class_weights\n",
    "gc.collect()\n",
    "print(model.summary())"
   ]
  },
  {
   "cell_type": "code",
   "execution_count": 5,
   "metadata": {
    "scrolled": true
   },
   "outputs": [
    {
     "name": "stdout",
     "output_type": "stream",
     "text": [
      "Train on 54000 samples, validate on 10800 samples\n",
      "Epoch 1/2\n",
      "54000/54000 [==============================] - 122s 2ms/sample - loss: 2.9002 - acc: 0.0912 - val_loss: 2.4937 - val_acc: 0.0788\n",
      "Epoch 2/2\n",
      "54000/54000 [==============================] - 80s 1ms/sample - loss: 2.6442 - acc: 0.1135 - val_loss: 2.4903 - val_acc: 0.0732\n",
      "Train on 54000 samples, validate on 10800 samples\n",
      "Epoch 3/4\n",
      "54000/54000 [==============================] - 94s 2ms/sample - loss: 2.5941 - acc: 0.1136 - val_loss: 2.4808 - val_acc: 0.0962\n",
      "Epoch 4/4\n",
      "54000/54000 [==============================] - 78s 1ms/sample - loss: 2.4990 - acc: 0.1363 - val_loss: 2.4770 - val_acc: 0.0993\n",
      "Train on 54000 samples, validate on 10800 samples\n",
      "Epoch 5/6\n",
      "54000/54000 [==============================] - 83s 2ms/sample - loss: 2.5174 - acc: 0.1280 - val_loss: 2.4802 - val_acc: 0.1006\n",
      "Epoch 6/6\n",
      "54000/54000 [==============================] - 77s 1ms/sample - loss: 2.4565 - acc: 0.1468 - val_loss: 2.4798 - val_acc: 0.0989\n",
      "Train on 54000 samples, validate on 10800 samples\n",
      "Epoch 7/8\n",
      "54000/54000 [==============================] - 85s 2ms/sample - loss: 2.4834 - acc: 0.1337 - val_loss: 2.4746 - val_acc: 0.0994\n",
      "Epoch 8/8\n",
      "54000/54000 [==============================] - 81s 2ms/sample - loss: 2.4299 - acc: 0.1524 - val_loss: 2.4743 - val_acc: 0.0898\n",
      "Train on 54000 samples, validate on 10800 samples\n",
      "Epoch 9/10\n",
      "54000/54000 [==============================] - 82s 2ms/sample - loss: 2.4482 - acc: 0.1485 - val_loss: 2.4753 - val_acc: 0.0950\n",
      "Epoch 10/10\n",
      "54000/54000 [==============================] - 77s 1ms/sample - loss: 2.4009 - acc: 0.1676 - val_loss: 2.4736 - val_acc: 0.0975\n",
      "10_seconds_10_samples iteration 5\n",
      "10800/10800 [==============================] - 5s 478us/sample\n"
     ]
    },
    {
     "data": {
      "image/png": "[encoded data removed]",
      "text/plain": [
       "<Figure size 432x288 with 1 Axes>"
      ]
     },
     "metadata": {
      "needs_background": "light"
     },
     "output_type": "display_data"
    },
    {
     "name": "stdout",
     "output_type": "stream",
     "text": [
      "54000/54000 [==============================] - 21s 382us/sample\n"
     ]
    },
    {
     "data": {
      "image/png": "[encoded data removed]",
      "text/plain": [
       "<Figure size 432x288 with 1 Axes>"
      ]
     },
     "metadata": {
      "needs_background": "light"
     },
     "output_type": "display_data"
    },
    {
     "name": "stdout",
     "output_type": "stream",
     "text": [
      "Train on 54000 samples, validate on 10800 samples\n",
      "Epoch 11/12\n",
      "54000/54000 [==============================] - 85s 2ms/sample - loss: 2.4289 - acc: 0.1566 - val_loss: 2.4694 - val_acc: 0.1088\n",
      "Epoch 12/12\n",
      "54000/54000 [==============================] - 192s 4ms/sample - loss: 2.3890 - acc: 0.1726 - val_loss: 2.4695 - val_acc: 0.1116\n",
      "Train on 54000 samples, validate on 10800 samples\n",
      "Epoch 13/14\n",
      "54000/54000 [==============================] - 202s 4ms/sample - loss: 2.4327 - acc: 0.1544 - val_loss: 2.4745 - val_acc: 0.0977\n",
      "Epoch 14/14\n",
      "54000/54000 [==============================] - 183s 3ms/sample - loss: 2.3954 - acc: 0.1702 - val_loss: 2.4788 - val_acc: 0.0936\n",
      "Train on 54000 samples, validate on 10800 samples\n",
      "Epoch 15/16\n",
      "54000/54000 [==============================] - 210s 4ms/sample - loss: 2.4174 - acc: 0.1573 - val_loss: 2.4793 - val_acc: 0.1029\n",
      "Epoch 16/16\n",
      "54000/54000 [==============================] - 184s 3ms/sample - loss: 2.3793 - acc: 0.1736 - val_loss: 2.4850 - val_acc: 0.1010\n",
      "Train on 54000 samples, validate on 10800 samples\n",
      "Epoch 17/18\n",
      "54000/54000 [==============================] - 256s 5ms/sample - loss: 2.4210 - acc: 0.1600 - val_loss: 2.4726 - val_acc: 0.1026\n",
      "Epoch 18/18\n",
      "54000/54000 [==============================] - 133s 2ms/sample - loss: 2.3811 - acc: 0.1763 - val_loss: 2.4747 - val_acc: 0.0986\n",
      "Train on 54000 samples, validate on 10800 samples\n",
      "Epoch 19/20\n",
      "54000/54000 [==============================] - 288s 5ms/sample - loss: 2.4086 - acc: 0.1642 - val_loss: 2.4905 - val_acc: 0.1032\n",
      "Epoch 20/20\n",
      "54000/54000 [==============================] - 154s 3ms/sample - loss: 2.3683 - acc: 0.1795 - val_loss: 2.4925 - val_acc: 0.1033\n",
      "10_seconds_10_samples iteration 10\n",
      "10800/10800 [==============================] - 5s 471us/sample\n"
     ]
    },
    {
     "data": {
      "image/png": "[encoded data removed]",
      "text/plain": [
       "<Figure size 432x288 with 1 Axes>"
      ]
     },
     "metadata": {
      "needs_background": "light"
     },
     "output_type": "display_data"
    },
    {
     "name": "stdout",
     "output_type": "stream",
     "text": [
      "54000/54000 [==============================] - 20s 375us/sample\n"
     ]
    },
    {
     "data": {
      "image/png": "[encoded data removed]",
      "text/plain": [
       "<Figure size 432x288 with 1 Axes>"
      ]
     },
     "metadata": {
      "needs_background": "light"
     },
     "output_type": "display_data"
    },
    {
     "name": "stdout",
     "output_type": "stream",
     "text": [
      "Train on 54000 samples, validate on 10800 samples\n",
      "Epoch 21/22\n",
      "54000/54000 [==============================] - 149s 3ms/sample - loss: 2.4042 - acc: 0.1645 - val_loss: 2.4830 - val_acc: 0.0965\n",
      "Epoch 22/22\n",
      "54000/54000 [==============================] - 155s 3ms/sample - loss: 2.3673 - acc: 0.1824 - val_loss: 2.4860 - val_acc: 0.1008\n",
      "Train on 54000 samples, validate on 10800 samples\n",
      "Epoch 23/24\n",
      "54000/54000 [==============================] - 283s 5ms/sample - loss: 2.3908 - acc: 0.1736 - val_loss: 2.4872 - val_acc: 0.0910\n",
      "Epoch 24/24\n",
      "54000/54000 [==============================] - 137s 3ms/sample - loss: 2.3556 - acc: 0.1866 - val_loss: 2.4846 - val_acc: 0.0982\n",
      "Train on 54000 samples, validate on 10800 samples\n",
      "Epoch 25/26\n",
      "54000/54000 [==============================] - 309s 6ms/sample - loss: 2.3935 - acc: 0.1672 - val_loss: 2.4651 - val_acc: 0.1091\n",
      "Epoch 26/26\n",
      "54000/54000 [==============================] - 173s 3ms/sample - loss: 2.3596 - acc: 0.1818 - val_loss: 2.4626 - val_acc: 0.1157\n",
      "Train on 54000 samples, validate on 10800 samples\n",
      "Epoch 27/28\n",
      "54000/54000 [==============================] - 297s 5ms/sample - loss: 2.3750 - acc: 0.1775 - val_loss: 2.4457 - val_acc: 0.1423\n",
      "Epoch 28/28\n",
      "54000/54000 [==============================] - 126s 2ms/sample - loss: 2.3425 - acc: 0.1915 - val_loss: 2.4359 - val_acc: 0.1491\n",
      "Train on 54000 samples, validate on 10800 samples\n",
      "Epoch 29/30\n",
      "54000/54000 [==============================] - 267s 5ms/sample - loss: 2.3796 - acc: 0.1763 - val_loss: 2.4274 - val_acc: 0.1406\n",
      "Epoch 30/30\n",
      "54000/54000 [==============================] - 99s 2ms/sample - loss: 2.3475 - acc: 0.1892 - val_loss: 2.4422 - val_acc: 0.1270\n",
      "10_seconds_10_samples iteration 15\n",
      "10800/10800 [==============================] - 5s 477us/sample\n"
     ]
    },
    {
     "data": {
      "image/png": "[encoded data removed]",
      "text/plain": [
       "<Figure size 432x288 with 1 Axes>"
      ]
     },
     "metadata": {
      "needs_background": "light"
     },
     "output_type": "display_data"
    },
    {
     "name": "stdout",
     "output_type": "stream",
     "text": [
      "54000/54000 [==============================] - 20s 375us/sample\n"
     ]
    },
    {
     "data": {
      "image/png": "[encoded data removed]",
      "text/plain": [
       "<Figure size 432x288 with 1 Axes>"
      ]
     },
     "metadata": {
      "needs_background": "light"
     },
     "output_type": "display_data"
    },
    {
     "name": "stdout",
     "output_type": "stream",
     "text": [
      "Train on 54000 samples, validate on 10800 samples\n",
      "Epoch 31/32\n",
      "54000/54000 [==============================] - 226s 4ms/sample - loss: 2.3650 - acc: 0.1823 - val_loss: 2.4473 - val_acc: 0.1307\n",
      "Epoch 32/32\n",
      "54000/54000 [==============================] - 164s 3ms/sample - loss: 2.3326 - acc: 0.1956 - val_loss: 2.4342 - val_acc: 0.1436\n",
      "Train on 54000 samples, validate on 10800 samples\n",
      "Epoch 33/34\n",
      "54000/54000 [==============================] - 89s 2ms/sample - loss: 2.3770 - acc: 0.1787 - val_loss: 2.4493 - val_acc: 0.1365\n",
      "Epoch 34/34\n",
      "54000/54000 [==============================] - 78s 1ms/sample - loss: 2.3392 - acc: 0.1936 - val_loss: 2.4732 - val_acc: 0.1244\n",
      "Train on 54000 samples, validate on 10800 samples\n",
      "Epoch 35/36\n",
      "54000/54000 [==============================] - 83s 2ms/sample - loss: 2.3474 - acc: 0.1888 - val_loss: 2.4393 - val_acc: 0.1534\n",
      "Epoch 36/36\n",
      "54000/54000 [==============================] - 81s 1ms/sample - loss: 2.3069 - acc: 0.2081 - val_loss: 2.4028 - val_acc: 0.1644\n",
      "Train on 54000 samples, validate on 10800 samples\n",
      "Epoch 37/38\n",
      "54000/54000 [==============================] - 97s 2ms/sample - loss: 2.3593 - acc: 0.1885 - val_loss: 2.4157 - val_acc: 0.1498\n",
      "Epoch 38/38\n",
      "54000/54000 [==============================] - 77s 1ms/sample - loss: 2.3216 - acc: 0.2036 - val_loss: 2.4337 - val_acc: 0.1336\n",
      "Train on 54000 samples, validate on 10800 samples\n",
      "Epoch 39/40\n",
      "54000/54000 [==============================] - 83s 2ms/sample - loss: 2.3479 - acc: 0.1929 - val_loss: 2.4589 - val_acc: 0.1253\n",
      "Epoch 40/40\n",
      "54000/54000 [==============================] - 81s 1ms/sample - loss: 2.3132 - acc: 0.2074 - val_loss: 2.4162 - val_acc: 0.1552\n",
      "10_seconds_10_samples iteration 20\n",
      "10800/10800 [==============================] - 5s 478us/sample\n"
     ]
    },
    {
     "data": {
      "image/png": "[encoded data removed]",
      "text/plain": [
       "<Figure size 432x288 with 1 Axes>"
      ]
     },
     "metadata": {
      "needs_background": "light"
     },
     "output_type": "display_data"
    },
    {
     "name": "stdout",
     "output_type": "stream",
     "text": [
      "54000/54000 [==============================] - 20s 377us/sample\n"
     ]
    },
    {
     "data": {
      "image/png": "[encoded data removed]",
      "text/plain": [
       "<Figure size 432x288 with 1 Axes>"
      ]
     },
     "metadata": {
      "needs_background": "light"
     },
     "output_type": "display_data"
    },
    {
     "name": "stdout",
     "output_type": "stream",
     "text": [
      "Train on 54000 samples, validate on 10800 samples\n",
      "Epoch 41/42\n",
      "54000/54000 [==============================] - 91s 2ms/sample - loss: 2.3538 - acc: 0.1896 - val_loss: 2.4278 - val_acc: 0.1502\n",
      "Epoch 42/42\n",
      "54000/54000 [==============================] - 77s 1ms/sample - loss: 2.3125 - acc: 0.2048 - val_loss: 2.4416 - val_acc: 0.1485\n",
      "Train on 54000 samples, validate on 10800 samples\n",
      "Epoch 43/44\n",
      "54000/54000 [==============================] - 87s 2ms/sample - loss: 2.3445 - acc: 0.1883 - val_loss: 2.4343 - val_acc: 0.1391\n",
      "Epoch 44/44\n",
      "54000/54000 [==============================] - 78s 1ms/sample - loss: 2.3036 - acc: 0.2093 - val_loss: 2.4275 - val_acc: 0.1345\n",
      "Train on 54000 samples, validate on 10800 samples\n",
      "Epoch 45/46\n",
      "54000/54000 [==============================] - 87s 2ms/sample - loss: 2.3450 - acc: 0.1927 - val_loss: 2.3958 - val_acc: 0.1556\n",
      "Epoch 46/46\n",
      "54000/54000 [==============================] - 78s 1ms/sample - loss: 2.3044 - acc: 0.2103 - val_loss: 2.4163 - val_acc: 0.1480\n",
      "Train on 54000 samples, validate on 10800 samples\n",
      "Epoch 47/48\n",
      "54000/54000 [==============================] - 88s 2ms/sample - loss: 2.3465 - acc: 0.1929 - val_loss: 2.4001 - val_acc: 0.1623\n",
      "Epoch 48/48\n",
      "54000/54000 [==============================] - 78s 1ms/sample - loss: 2.3076 - acc: 0.2091 - val_loss: 2.3990 - val_acc: 0.1644\n",
      "Train on 54000 samples, validate on 10800 samples\n",
      "Epoch 49/50\n",
      "54000/54000 [==============================] - 94s 2ms/sample - loss: 2.3560 - acc: 0.1862 - val_loss: 2.3994 - val_acc: 0.1649\n",
      "Epoch 50/50\n",
      "54000/54000 [==============================] - 79s 1ms/sample - loss: 2.3190 - acc: 0.2009 - val_loss: 2.3850 - val_acc: 0.1764\n",
      "10_seconds_10_samples iteration 25\n",
      "10800/10800 [==============================] - 5s 486us/sample\n"
     ]
    },
    {
     "data": {
      "image/png": "[encoded data removed]",
      "text/plain": [
       "<Figure size 432x288 with 1 Axes>"
      ]
     },
     "metadata": {
      "needs_background": "light"
     },
     "output_type": "display_data"
    },
    {
     "name": "stdout",
     "output_type": "stream",
     "text": [
      "54000/54000 [==============================] - 21s 383us/sample\n"
     ]
    },
    {
     "data": {
      "image/png": "[encoded data removed]",
      "text/plain": [
       "<Figure size 432x288 with 1 Axes>"
      ]
     },
     "metadata": {
      "needs_background": "light"
     },
     "output_type": "display_data"
    },
    {
     "name": "stdout",
     "output_type": "stream",
     "text": [
      "Train on 54000 samples, validate on 10800 samples\n",
      "Epoch 51/52\n",
      "54000/54000 [==============================] - 92s 2ms/sample - loss: 2.3325 - acc: 0.1959 - val_loss: 2.3680 - val_acc: 0.1786\n",
      "Epoch 52/52\n",
      "54000/54000 [==============================] - 80s 1ms/sample - loss: 2.2965 - acc: 0.2114 - val_loss: 2.3398 - val_acc: 0.1956\n",
      "Train on 54000 samples, validate on 10800 samples\n",
      "Epoch 53/54\n",
      "54000/54000 [==============================] - 83s 2ms/sample - loss: 2.3349 - acc: 0.1964 - val_loss: 2.4011 - val_acc: 0.1725\n",
      "Epoch 54/54\n",
      "54000/54000 [==============================] - 79s 1ms/sample - loss: 2.2950 - acc: 0.2125 - val_loss: 2.4000 - val_acc: 0.1743\n",
      "Train on 54000 samples, validate on 10800 samples\n",
      "Epoch 55/56\n",
      "54000/54000 [==============================] - 94s 2ms/sample - loss: 2.3256 - acc: 0.1992 - val_loss: 2.3700 - val_acc: 0.1706\n",
      "Epoch 56/56\n",
      "54000/54000 [==============================] - 78s 1ms/sample - loss: 2.2890 - acc: 0.2122 - val_loss: 2.3692 - val_acc: 0.1681\n",
      "Train on 54000 samples, validate on 10800 samples\n",
      "Epoch 57/58\n",
      "54000/54000 [==============================] - 86s 2ms/sample - loss: 2.3198 - acc: 0.2025 - val_loss: 2.3822 - val_acc: 0.1744\n",
      "Epoch 58/58\n",
      "54000/54000 [==============================] - 82s 2ms/sample - loss: 2.2837 - acc: 0.2150 - val_loss: 2.3813 - val_acc: 0.1663\n",
      "Train on 54000 samples, validate on 10800 samples\n",
      "Epoch 59/60\n",
      "54000/54000 [==============================] - 84s 2ms/sample - loss: 2.3236 - acc: 0.2014 - val_loss: 2.3740 - val_acc: 0.1846\n",
      "Epoch 60/60\n",
      "54000/54000 [==============================] - 77s 1ms/sample - loss: 2.2838 - acc: 0.2208 - val_loss: 2.3629 - val_acc: 0.1947\n",
      "10_seconds_10_samples iteration 30\n",
      "10800/10800 [==============================] - 5s 485us/sample\n"
     ]
    },
    {
     "data": {
      "image/png": "[encoded data removed]",
      "text/plain": [
       "<Figure size 432x288 with 1 Axes>"
      ]
     },
     "metadata": {
      "needs_background": "light"
     },
     "output_type": "display_data"
    },
    {
     "name": "stdout",
     "output_type": "stream",
     "text": [
      "54000/54000 [==============================] - 20s 379us/sample\n"
     ]
    },
    {
     "data": {
      "image/png": "[encoded data removed]",
      "text/plain": [
       "<Figure size 432x288 with 1 Axes>"
      ]
     },
     "metadata": {
      "needs_background": "light"
     },
     "output_type": "display_data"
    },
    {
     "name": "stdout",
     "output_type": "stream",
     "text": [
      "Train on 54000 samples, validate on 10800 samples\n",
      "Epoch 61/62\n",
      "54000/54000 [==============================] - 86s 2ms/sample - loss: 2.3054 - acc: 0.2051 - val_loss: 2.3681 - val_acc: 0.1764\n",
      "Epoch 62/62\n",
      "54000/54000 [==============================] - 77s 1ms/sample - loss: 2.2624 - acc: 0.2260 - val_loss: 2.3694 - val_acc: 0.1720\n",
      "Train on 54000 samples, validate on 10800 samples\n",
      "Epoch 63/64\n",
      "54000/54000 [==============================] - 86s 2ms/sample - loss: 2.3116 - acc: 0.2064 - val_loss: 2.3549 - val_acc: 0.1945\n",
      "Epoch 64/64\n",
      "54000/54000 [==============================] - 80s 1ms/sample - loss: 2.2706 - acc: 0.2256 - val_loss: 2.3463 - val_acc: 0.1881\n",
      "Train on 54000 samples, validate on 10800 samples\n",
      "Epoch 65/66\n",
      "54000/54000 [==============================] - 89s 2ms/sample - loss: 2.3207 - acc: 0.2013 - val_loss: 2.3351 - val_acc: 0.1994\n",
      "Epoch 66/66\n",
      "54000/54000 [==============================] - 78s 1ms/sample - loss: 2.2804 - acc: 0.2218 - val_loss: 2.3381 - val_acc: 0.2017\n",
      "Train on 54000 samples, validate on 10800 samples\n",
      "Epoch 67/68\n",
      "54000/54000 [==============================] - 90s 2ms/sample - loss: 2.3123 - acc: 0.2065 - val_loss: 2.3442 - val_acc: 0.1969\n",
      "Epoch 68/68\n",
      "54000/54000 [==============================] - 76s 1ms/sample - loss: 2.2687 - acc: 0.2242 - val_loss: 2.3579 - val_acc: 0.1791\n",
      "Train on 54000 samples, validate on 10800 samples\n",
      "Epoch 69/70\n",
      "54000/54000 [==============================] - 85s 2ms/sample - loss: 2.3163 - acc: 0.2046 - val_loss: 2.3694 - val_acc: 0.1851\n",
      "Epoch 70/70\n",
      "54000/54000 [==============================] - 78s 1ms/sample - loss: 2.2760 - acc: 0.2240 - val_loss: 2.3626 - val_acc: 0.1874\n",
      "10_seconds_10_samples iteration 35\n",
      "10800/10800 [==============================] - 6s 511us/sample\n"
     ]
    },
    {
     "data": {
      "image/png": "[encoded data removed]",
      "text/plain": [
       "<Figure size 432x288 with 1 Axes>"
      ]
     },
     "metadata": {
      "needs_background": "light"
     },
     "output_type": "display_data"
    },
    {
     "name": "stdout",
     "output_type": "stream",
     "text": [
      "54000/54000 [==============================] - 21s 384us/sample\n"
     ]
    },
    {
     "data": {
      "image/png": "[encoded data removed]",
      "text/plain": [
       "<Figure size 432x288 with 1 Axes>"
      ]
     },
     "metadata": {
      "needs_background": "light"
     },
     "output_type": "display_data"
    },
    {
     "name": "stdout",
     "output_type": "stream",
     "text": [
      "Train on 54000 samples, validate on 10800 samples\n",
      "Epoch 71/72\n",
      "54000/54000 [==============================] - 82s 2ms/sample - loss: 2.2749 - acc: 0.2214 - val_loss: 2.3699 - val_acc: 0.1726\n",
      "Epoch 72/72\n",
      "54000/54000 [==============================] - 78s 1ms/sample - loss: 2.2313 - acc: 0.2388 - val_loss: 2.3761 - val_acc: 0.1724\n",
      "Train on 54000 samples, validate on 10800 samples\n",
      "Epoch 73/74\n",
      "54000/54000 [==============================] - 83s 2ms/sample - loss: 2.2934 - acc: 0.2106 - val_loss: 2.3758 - val_acc: 0.1756\n",
      "Epoch 74/74\n",
      "54000/54000 [==============================] - 80s 1ms/sample - loss: 2.2561 - acc: 0.2261 - val_loss: 2.3852 - val_acc: 0.1740\n",
      "Train on 54000 samples, validate on 10800 samples\n",
      "Epoch 75/76\n",
      "54000/54000 [==============================] - 85s 2ms/sample - loss: 2.2968 - acc: 0.2151 - val_loss: 2.3214 - val_acc: 0.1959\n",
      "Epoch 76/76\n",
      "54000/54000 [==============================] - 78s 1ms/sample - loss: 2.2556 - acc: 0.2304 - val_loss: 2.3353 - val_acc: 0.1937\n",
      "Train on 54000 samples, validate on 10800 samples\n",
      "Epoch 77/78\n",
      "54000/54000 [==============================] - 83s 2ms/sample - loss: 2.3072 - acc: 0.2115 - val_loss: 2.3102 - val_acc: 0.2111\n",
      "Epoch 78/78\n",
      "54000/54000 [==============================] - 79s 1ms/sample - loss: 2.2657 - acc: 0.2286 - val_loss: 2.3253 - val_acc: 0.2025\n",
      "Train on 54000 samples, validate on 10800 samples\n",
      "Epoch 79/80\n",
      "54000/54000 [==============================] - 95s 2ms/sample - loss: 2.2930 - acc: 0.2121 - val_loss: 2.3567 - val_acc: 0.2022\n",
      "Epoch 80/80\n",
      "54000/54000 [==============================] - 74s 1ms/sample - loss: 2.2450 - acc: 0.2336 - val_loss: 2.3432 - val_acc: 0.2090\n",
      "10_seconds_10_samples iteration 40\n",
      "10800/10800 [==============================] - 6s 519us/sample\n"
     ]
    },
    {
     "data": {
      "image/png": "[encoded data removed]",
      "text/plain": [
       "<Figure size 432x288 with 1 Axes>"
      ]
     },
     "metadata": {
      "needs_background": "light"
     },
     "output_type": "display_data"
    },
    {
     "name": "stdout",
     "output_type": "stream",
     "text": [
      "54000/54000 [==============================] - 21s 390us/sample\n"
     ]
    },
    {
     "data": {
      "image/png": "[encoded data removed]",
      "text/plain": [
       "<Figure size 432x288 with 1 Axes>"
      ]
     },
     "metadata": {
      "needs_background": "light"
     },
     "output_type": "display_data"
    },
    {
     "name": "stdout",
     "output_type": "stream",
     "text": [
      "Train on 54000 samples, validate on 10800 samples\n",
      "Epoch 81/82\n",
      "54000/54000 [==============================] - 86s 2ms/sample - loss: 2.2758 - acc: 0.2229 - val_loss: 2.3130 - val_acc: 0.2150\n",
      "Epoch 82/82\n",
      "54000/54000 [==============================] - 81s 2ms/sample - loss: 2.2316 - acc: 0.2371 - val_loss: 2.3134 - val_acc: 0.2005\n",
      "Train on 54000 samples, validate on 10800 samples\n",
      "Epoch 83/84\n",
      "54000/54000 [==============================] - 86s 2ms/sample - loss: 2.3008 - acc: 0.2136 - val_loss: 2.3757 - val_acc: 0.1674\n",
      "Epoch 84/84\n",
      "54000/54000 [==============================] - 82s 2ms/sample - loss: 2.2548 - acc: 0.2322 - val_loss: 2.3566 - val_acc: 0.1791\n",
      "Train on 54000 samples, validate on 10800 samples\n",
      "Epoch 85/86\n",
      "54000/54000 [==============================] - 90s 2ms/sample - loss: 2.2764 - acc: 0.2202 - val_loss: 2.2943 - val_acc: 0.2061\n",
      "Epoch 86/86\n",
      "54000/54000 [==============================] - 83s 2ms/sample - loss: 2.2336 - acc: 0.2385 - val_loss: 2.2981 - val_acc: 0.2139\n",
      "Train on 54000 samples, validate on 10800 samples\n",
      "Epoch 87/88\n",
      "54000/54000 [==============================] - 93s 2ms/sample - loss: 2.2856 - acc: 0.2164 - val_loss: 2.3469 - val_acc: 0.1995\n",
      "Epoch 88/88\n",
      "54000/54000 [==============================] - 78s 1ms/sample - loss: 2.2412 - acc: 0.2343 - val_loss: 2.3722 - val_acc: 0.1869\n",
      "Train on 54000 samples, validate on 10800 samples\n",
      "Epoch 89/90\n",
      "54000/54000 [==============================] - 82s 2ms/sample - loss: 2.2951 - acc: 0.2126 - val_loss: 2.3258 - val_acc: 0.1957\n",
      "Epoch 90/90\n",
      "54000/54000 [==============================] - 78s 1ms/sample - loss: 2.2501 - acc: 0.2326 - val_loss: 2.3041 - val_acc: 0.1960\n",
      "10_seconds_10_samples iteration 45\n",
      "10800/10800 [==============================] - 5s 431us/sample\n"
     ]
    },
    {
     "data": {
      "image/png": "[encoded data removed]",
      "text/plain": [
       "<Figure size 432x288 with 1 Axes>"
      ]
     },
     "metadata": {
      "needs_background": "light"
     },
     "output_type": "display_data"
    },
    {
     "name": "stdout",
     "output_type": "stream",
     "text": [
      "54000/54000 [==============================] - 20s 378us/sample\n"
     ]
    },
    {
     "data": {
      "image/png": "[encoded data removed]",
      "text/plain": [
       "<Figure size 432x288 with 1 Axes>"
      ]
     },
     "metadata": {
      "needs_background": "light"
     },
     "output_type": "display_data"
    },
    {
     "name": "stdout",
     "output_type": "stream",
     "text": [
      "Train on 54000 samples, validate on 10800 samples\n",
      "Epoch 91/92\n",
      "54000/54000 [==============================] - 90s 2ms/sample - loss: 2.2911 - acc: 0.2178 - val_loss: 2.3431 - val_acc: 0.1769\n",
      "Epoch 92/92\n",
      "54000/54000 [==============================] - 101s 2ms/sample - loss: 2.2451 - acc: 0.2349 - val_loss: 2.3465 - val_acc: 0.1750\n",
      "Train on 54000 samples, validate on 10800 samples\n",
      "Epoch 93/94\n",
      "54000/54000 [==============================] - 200s 4ms/sample - loss: 2.2883 - acc: 0.2151 - val_loss: 2.3685 - val_acc: 0.1833\n",
      "Epoch 94/94\n",
      "54000/54000 [==============================] - 78s 1ms/sample - loss: 2.2455 - acc: 0.2308 - val_loss: 2.3639 - val_acc: 0.1867\n",
      "Train on 54000 samples, validate on 10800 samples\n",
      "Epoch 95/96\n",
      "54000/54000 [==============================] - 87s 2ms/sample - loss: 2.2732 - acc: 0.2215 - val_loss: 2.3767 - val_acc: 0.1748\n",
      "Epoch 96/96\n",
      "54000/54000 [==============================] - 78s 1ms/sample - loss: 2.2243 - acc: 0.2426 - val_loss: 2.3788 - val_acc: 0.1781\n",
      "Train on 54000 samples, validate on 10800 samples\n",
      "Epoch 97/98\n",
      "54000/54000 [==============================] - 163s 3ms/sample - loss: 2.2676 - acc: 0.2264 - val_loss: 2.2802 - val_acc: 0.2091\n",
      "Epoch 98/98\n",
      "54000/54000 [==============================] - 179s 3ms/sample - loss: 2.2229 - acc: 0.2468 - val_loss: 2.2704 - val_acc: 0.2231\n",
      "Train on 54000 samples, validate on 10800 samples\n",
      "Epoch 99/100\n",
      "54000/54000 [==============================] - 222s 4ms/sample - loss: 2.2855 - acc: 0.2189 - val_loss: 2.3283 - val_acc: 0.2015\n",
      "Epoch 100/100\n",
      "54000/54000 [==============================] - 187s 3ms/sample - loss: 2.2408 - acc: 0.2354 - val_loss: 2.3466 - val_acc: 0.1903\n",
      "10_seconds_10_samples iteration 50\n",
      "10800/10800 [==============================] - 5s 437us/sample\n"
     ]
    },
    {
     "data": {
      "image/png": "[encoded data removed]",
      "text/plain": [
       "<Figure size 432x288 with 1 Axes>"
      ]
     },
     "metadata": {
      "needs_background": "light"
     },
     "output_type": "display_data"
    },
    {
     "name": "stdout",
     "output_type": "stream",
     "text": [
      "54000/54000 [==============================] - 20s 376us/sample\n"
     ]
    },
    {
     "data": {
      "image/png": "[encoded data removed]",
      "text/plain": [
       "<Figure size 432x288 with 1 Axes>"
      ]
     },
     "metadata": {
      "needs_background": "light"
     },
     "output_type": "display_data"
    }
   ],
   "source": [
    "#add recurrent dropout to add noise to duration\n",
    "desc = \"128_64_32_16_try2\"\n",
    "log_dir = os.path.join(\n",
    "    \"logs\",\n",
    "    \"Overfit\",\n",
    "    desc\n",
    ")\n",
    "model_dir = os.path.join(\n",
    "    \"pickle\",\n",
    "    \"save\"\n",
    ")\n",
    "\n",
    "train_n = 150\n",
    "sample_n = train_n*30\n",
    "val_n = 30\n",
    "valsample_n = val_n *30\n",
    "iterations = 50\n",
    "epochs = 2\n",
    "learn_rate = 0.001\n",
    "batch_size = 4096 * 4\n",
    "tensorboard_callback = tf.keras.callbacks.TensorBoard(log_dir=log_dir, histogram_freq=1)\n",
    "model = module.train(iterations, learn_rate, train_n, sample_n, val_n, valsample_n, seconds, samplerate,\n",
    "                countriesOfInterest, enc, epochs, tensorboard_callback, model_dir,\n",
    "                model, batch_size)"
   ]
  },
  {
   "cell_type": "code",
   "execution_count": null,
   "metadata": {},
   "outputs": [],
   "source": []
  },
  {
   "cell_type": "markdown",
   "metadata": {},
   "source": [
    "Implement weighted voting tests"
   ]
  },
  {
   "cell_type": "code",
   "execution_count": 59,
   "metadata": {},
   "outputs": [
    {
     "name": "stdout",
     "output_type": "stream",
     "text": [
      "(315662, 34)\n"
     ]
    }
   ],
   "source": [
    "import pickle\n",
    "import pandas as pd\n",
    "t = \"val\"\n",
    "length = seconds * samplerate"
   ]
  },
  {
   "cell_type": "code",
   "execution_count": 75,
   "metadata": {},
   "outputs": [
    {
     "name": "stdout",
     "output_type": "stream",
     "text": [
      "AU\n",
      "0.005780346820809248\n",
      "BR\n",
      "0.027624309392265192\n",
      "CA\n",
      "0.01984126984126984\n",
      "CO\n",
      "0.0707070707070707\n",
      "DK\n",
      "0.01592920353982301\n",
      "EG\n",
      "0.007751937984496124\n",
      "FI\n",
      "0.011904761904761904\n",
      "JP\n",
      "0.05912596401028278\n",
      "NZ\n",
      "0.009259259259259259\n",
      "TW\n",
      "0.0378619153674833\n",
      "US\n",
      "0.05699481865284974\n",
      "ZA\n",
      "0.037142857142857144\n"
     ]
    }
   ],
   "source": [
    "for country in enc.categories_[0]:\n",
    "    data = pickle.load( open( \"Raw Track Data\\\\\" + country + \"_\" + t + \".p\", \"rb\" ) )\n",
    "    tracks = data.track_id.unique()\n",
    "    results = []\n",
    "    for track in tracks:\n",
    "        trackFeats = data[data.track_id == track]\n",
    "        dur = trackFeats.iloc[:,1]\n",
    "        long = trackFeats.loc[trackFeats.index.repeat(dur * samplerate)].reset_index(drop = True)\n",
    "        long = long.sort_values(by = [\"start\"])\n",
    "        long = long.iloc[:, 5:30]\n",
    "\n",
    "        indices = np.arange(0, long.shape[0], length)\n",
    "        partition = np.split(np.array(long), indices)\n",
    "        samples = []\n",
    "        for i in partition:\n",
    "            if i.shape[0] == length:\n",
    "                samples = samples + [i]\n",
    "        samples = np.stack(samples)\n",
    "        results = results + [enc.inverse_transform(np.sum(model.predict(samples), axis = 0).reshape(1,-1))[0][0]]\n",
    "    print(country)\n",
    "    print(sum(pd.Series(results) == \"US\") / len(results))"
   ]
  }
 ],
 "metadata": {
  "kernelspec": {
   "display_name": "Python 3",
   "language": "python",
   "name": "python3"
  },
  "language_info": {
   "codemirror_mode": {
    "name": "ipython",
    "version": 3
   },
   "file_extension": ".py",
   "mimetype": "text/x-python",
   "name": "python",
   "nbconvert_exporter": "python",
   "pygments_lexer": "ipython3",
   "version": "3.7.3"
  }
 },
 "nbformat": 4,
 "nbformat_minor": 4
}
