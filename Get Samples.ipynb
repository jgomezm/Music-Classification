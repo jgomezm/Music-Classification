{
 "cells": [
  {
   "cell_type": "code",
   "execution_count": 2,
   "metadata": {},
   "outputs": [],
   "source": [
    "import pandas as pd\n",
    "import pickle\n",
    "import numpy as np\n",
    "from sklearn.utils import class_weight\n",
    "from sklearn.preprocessing import OneHotEncoder\n",
    "import random\n",
    "import datetime"
   ]
  },
  {
   "cell_type": "code",
   "execution_count": 3,
   "metadata": {},
   "outputs": [],
   "source": [
    "w_length = 300"
   ]
  },
  {
   "cell_type": "code",
   "execution_count": 1,
   "metadata": {
    "scrolled": true
   },
   "outputs": [],
   "source": [
    "def splitSeconds(n, country, t, seconds, samplerate):\n",
    "    length = seconds * samplerate\n",
    "    data = pickle.load( open( \"Raw Track Data\\\\\" + country + \"_\" + t + \".p\", \"rb\" ) )\n",
    "    tracks = data.track_id.unique()\n",
    "    tracks = np.random.choice(tracks, size=n, replace=False)\n",
    "    trackFeats = data[data.track_id.isin(tracks)]\n",
    "    del data\n",
    "    dur = trackFeats.iloc[:,1]\n",
    "    long = trackFeats.loc[trackFeats.index.repeat(dur * samplerate)].reset_index(drop = True)\n",
    "    del trackFeats\n",
    "    long = long.sort_values(by = [\"track_id\", \"start\"])\n",
    "    long['change'] = long.track_id.eq(long.track_id.shift())\n",
    "    change = long[long.change == False].index\n",
    "    long = long.iloc[:, 5:30]\n",
    "    indices = np.concatenate((np.arange(0, long.shape[0], length), change))\n",
    "    indices = np.sort(indices)\n",
    "    indices = np.unique(indices)\n",
    "    partition = np.split(np.array(long), indices)\n",
    "    del long\n",
    "    samples = []\n",
    "    for i in partition:\n",
    "        if i.shape[0] == length:\n",
    "            samples = samples + [i]\n",
    "    samples = np.stack(samples)\n",
    "    return samples, np.repeat(np.array([country]), samples.shape[0])"
   ]
  },
  {
   "cell_type": "code",
   "execution_count": 4,
   "metadata": {},
   "outputs": [],
   "source": [
    "def getSamples(train_n, val_n, seconds, samplerate, countriesOfInterest,\n",
    "               enc, verbose = 0):\n",
    "    train_labels = pd.DataFrame()\n",
    "    val_labels = pd.DataFrame()\n",
    "    train_x = []\n",
    "    train_labels = []\n",
    "    val_x = []\n",
    "    val_labels = []\n",
    "    for country in countriesOfInterest:\n",
    "        if verbose > 0:\n",
    "            print(\"getting\",country)\n",
    "        x1, y1 = splitSeconds(train_n, country, \"train\", seconds, samplerate)\n",
    "        x2, y2 = splitSeconds(val_n, country, \"val\", seconds, samplerate)\n",
    "        train_x = train_x + x1.tolist()\n",
    "        train_labels = train_labels + y1.tolist()\n",
    "        del x1, y1\n",
    "        val_x = val_x + x2.tolist()\n",
    "        val_labels = val_labels + y2.tolist()\n",
    "        del x2, y2\n",
    "    #train_x = np.array(train_x)\n",
    "    y = np.dstack(train_x)\n",
    "    del train_x\n",
    "    train_x = np.rollaxis(y,-1)\n",
    "    del y\n",
    "    train_labels = np.array(train_labels)\n",
    "    #val_x = np.array(val_x)\n",
    "    y = np.dstack(val_x)\n",
    "    del val_x\n",
    "    val_x = np.rollaxis(y,-1)\n",
    "    del y\n",
    "    val_labels = np.array(val_labels)\n",
    "    class_weights = class_weight.compute_class_weight('balanced',\n",
    "                                                     countriesOfInterest,\n",
    "                                                     list(train_labels))\n",
    "    train_labels = enc.transform(np.array(train_labels).reshape(-1,1)).toarray()\n",
    "    val_labels = enc.transform(np.array(val_labels).reshape(-1,1)).toarray()\n",
    "    return train_x, train_labels, val_x, val_labels, class_weights"
   ]
  },
  {
   "cell_type": "code",
   "execution_count": 11,
   "metadata": {
    "scrolled": true
   },
   "outputs": [],
   "source": [
    "countriesOfInterest = [\"ZA\", \"EG\", \"TW\", \"JP\", \"DK\", \"FI\", \"US\", \"CA\", \"AU\", \"NZ\", \"BR\", \"CO\"]\n",
    "train_n = 10\n",
    "seconds = 10\n",
    "samplerate = 10 \n",
    "train_labels = pd.DataFrame()\n",
    "val_labels = pd.DataFrame()\n",
    "train_x = []\n",
    "train_labels = []\n",
    "val_x = []\n",
    "val_labels = []\n",
    "for country in countriesOfInterest:\n",
    "    x1, y1 = splitSeconds(train_n, country, \"train\", seconds, samplerate)\n",
    "    train_x = train_x + x1.tolist()\n",
    "    train_labels = train_labels + y1.tolist()"
   ]
  },
  {
   "cell_type": "code",
   "execution_count": 21,
   "metadata": {},
   "outputs": [
    {
     "data": {
      "text/plain": [
       "(201, 100, 25)"
      ]
     },
     "execution_count": 21,
     "metadata": {},
     "output_type": "execute_result"
    }
   ],
   "source": [
    "x1.shape"
   ]
  },
  {
   "cell_type": "code",
   "execution_count": 23,
   "metadata": {},
   "outputs": [
    {
     "data": {
      "text/plain": [
       "array([[[-6.0000e+01,  1.0000e+00,  2.2400e-01, ...,  9.7300e-01,\n",
       "         -1.0640e+01, -7.2280e+00],\n",
       "        [-6.0000e+01,  1.0000e+00,  2.2400e-01, ...,  9.7300e-01,\n",
       "         -1.0640e+01, -7.2280e+00],\n",
       "        [-3.4087e+01,  2.4400e-01,  1.0000e+00, ...,  1.6004e+01,\n",
       "          1.1418e+01, -6.5190e+00],\n",
       "        ...,\n",
       "        [-7.6450e+00,  3.2000e-02,  1.1000e-02, ..., -5.2380e+00,\n",
       "         -4.5440e+01,  4.2320e+00],\n",
       "        [-7.6450e+00,  3.2000e-02,  1.1000e-02, ..., -5.2380e+00,\n",
       "         -4.5440e+01,  4.2320e+00],\n",
       "        [-2.4297e+01,  2.6300e-01,  6.8600e-01, ..., -1.4858e+01,\n",
       "         -8.1790e+00,  1.0888e+01]],\n",
       "\n",
       "       [[-2.5327e+01,  1.0000e+00,  4.6900e-01, ...,  3.9760e+00,\n",
       "         -1.1933e+01,  1.7507e+01],\n",
       "        [-2.5327e+01,  1.0000e+00,  4.6900e-01, ...,  3.9760e+00,\n",
       "         -1.1933e+01,  1.7507e+01],\n",
       "        [-2.6054e+01,  1.0000e+00,  8.2300e-01, ..., -8.8070e+00,\n",
       "         -1.0291e+01,  1.1350e+01],\n",
       "        ...,\n",
       "        [-1.9238e+01,  1.0000e+00,  6.1500e-01, ..., -6.4180e+00,\n",
       "          7.2050e+00,  2.9830e+00],\n",
       "        [-2.2187e+01,  1.0000e+00,  4.5500e-01, ..., -6.1450e+00,\n",
       "         -9.4030e+00, -3.0390e+00],\n",
       "        [-2.2187e+01,  1.0000e+00,  4.5500e-01, ..., -6.1450e+00,\n",
       "         -9.4030e+00, -3.0390e+00]],\n",
       "\n",
       "       [[-2.1055e+01,  1.0000e+00,  1.8600e-01, ..., -4.3509e+01,\n",
       "         -1.4063e+01,  5.4490e+00],\n",
       "        [-2.1055e+01,  1.0000e+00,  1.8600e-01, ..., -4.3509e+01,\n",
       "         -1.4063e+01,  5.4490e+00],\n",
       "        [-5.4500e+00,  1.0000e+00,  4.5200e-01, ...,  1.0508e+01,\n",
       "          1.4081e+01, -3.6027e+01],\n",
       "        ...,\n",
       "        [-6.9920e+00,  1.0000e+00,  6.0200e-01, ...,  3.5670e+00,\n",
       "         -2.6790e+00, -9.8690e+00],\n",
       "        [-5.7000e+00,  1.3700e-01,  1.9900e-01, ...,  2.5370e+00,\n",
       "         -2.5995e+01, -1.4199e+01],\n",
       "        [-7.6170e+00,  9.2700e-01,  1.0000e+00, ..., -9.6530e+00,\n",
       "         -3.5566e+01,  1.2443e+01]],\n",
       "\n",
       "       ...,\n",
       "\n",
       "       [[-1.8751e+01,  1.0000e+00,  1.6400e-01, ..., -3.3900e-01,\n",
       "          1.6010e+01, -2.0966e+01],\n",
       "        [-1.7705e+01,  1.0000e+00,  1.5100e-01, ..., -1.8562e+01,\n",
       "         -2.7529e+01, -5.2820e+00],\n",
       "        [-1.7705e+01,  1.0000e+00,  1.5100e-01, ..., -1.8562e+01,\n",
       "         -2.7529e+01, -5.2820e+00],\n",
       "        ...,\n",
       "        [-1.9383e+01,  1.0000e+00,  2.7900e-01, ...,  6.3640e+00,\n",
       "         -4.4754e+01, -8.9580e+00],\n",
       "        [-1.9383e+01,  1.0000e+00,  2.7900e-01, ...,  6.3640e+00,\n",
       "         -4.4754e+01, -8.9580e+00],\n",
       "        [-1.9383e+01,  1.0000e+00,  2.7900e-01, ...,  6.3640e+00,\n",
       "         -4.4754e+01, -8.9580e+00]],\n",
       "\n",
       "       [[-2.9758e+01,  1.0000e+00,  1.9400e-01, ...,  1.4628e+01,\n",
       "         -7.4850e+00,  4.2920e+00],\n",
       "        [-2.9758e+01,  1.0000e+00,  1.9400e-01, ...,  1.4628e+01,\n",
       "         -7.4850e+00,  4.2920e+00],\n",
       "        [-2.9758e+01,  1.0000e+00,  1.9400e-01, ...,  1.4628e+01,\n",
       "         -7.4850e+00,  4.2920e+00],\n",
       "        ...,\n",
       "        [-3.4014e+01,  1.7800e-01,  2.0500e-01, ..., -2.4986e+01,\n",
       "         -1.5634e+01, -7.4100e-01],\n",
       "        [-3.7169e+01,  1.0000e+00,  1.9600e-01, ...,  1.2849e+01,\n",
       "          2.5530e+00, -2.5040e+00],\n",
       "        [-3.7169e+01,  1.0000e+00,  1.9600e-01, ...,  1.2849e+01,\n",
       "          2.5530e+00, -2.5040e+00]],\n",
       "\n",
       "       [[-3.7169e+01,  1.0000e+00,  1.9600e-01, ...,  1.2849e+01,\n",
       "          2.5530e+00, -2.5040e+00],\n",
       "        [-3.7169e+01,  1.0000e+00,  1.9600e-01, ...,  1.2849e+01,\n",
       "          2.5530e+00, -2.5040e+00],\n",
       "        [-3.7169e+01,  1.0000e+00,  1.9600e-01, ...,  1.2849e+01,\n",
       "          2.5530e+00, -2.5040e+00],\n",
       "        ...,\n",
       "        [-4.3851e+01,  1.0000e+00,  5.4100e-01, ..., -2.0638e+01,\n",
       "         -1.0798e+01, -1.7391e+01],\n",
       "        [-4.3851e+01,  1.0000e+00,  5.4100e-01, ..., -2.0638e+01,\n",
       "         -1.0798e+01, -1.7391e+01],\n",
       "        [-4.3851e+01,  1.0000e+00,  5.4100e-01, ..., -2.0638e+01,\n",
       "         -1.0798e+01, -1.7391e+01]]])"
      ]
     },
     "execution_count": 23,
     "metadata": {},
     "output_type": "execute_result"
    }
   ],
   "source": [
    "np.array(train_x)"
   ]
  },
  {
   "cell_type": "code",
   "execution_count": 8,
   "metadata": {},
   "outputs": [
    {
     "data": {
      "text/plain": [
       "(163, 100, 25)"
      ]
     },
     "execution_count": 8,
     "metadata": {},
     "output_type": "execute_result"
    }
   ],
   "source": [
    "sample[0].shape"
   ]
  },
  {
   "cell_type": "code",
   "execution_count": 87,
   "metadata": {},
   "outputs": [
    {
     "name": "stdout",
     "output_type": "stream",
     "text": [
      "getting file\n"
     ]
    }
   ],
   "source": [
    "country = \"ZA\"\n",
    "t = \"train\"\n",
    "n = 50\n",
    "print(\"getting file\")\n",
    "data = pickle.load( open( \"Raw Track Data\\\\\" + country + \"_\" + t + \".p\", \"rb\" ) )\n",
    "tracks = data.track_id.unique()\n",
    "tracks = np.random.choice(tracks, size=n, replace=False)\n",
    "samples = []"
   ]
  },
  {
   "cell_type": "code",
   "execution_count": 91,
   "metadata": {},
   "outputs": [],
   "source": [
    "def splitSeconds(n, country, t, seconds, samplerate):\n",
    "    length = seconds * samplerate\n",
    "    data = pickle.load( open( \"Raw Track Data\\\\\" + country + \"_\" + t + \".p\", \"rb\" ) )\n",
    "    tracks = data.track_id.unique()\n",
    "    tracks = np.random.choice(tracks, size=n, replace=False)\n",
    "    trackFeats = data[data.track_id.isin(tracks)]\n",
    "    dur = trackFeats.iloc[:,1]\n",
    "    long = trackFeats.loc[trackFeats.index.repeat(dur * samplerate)].reset_index(drop = True)\n",
    "    long['change'] = long.track_id.eq(long.track_id.shift())\n",
    "    change = long[long.change == False].index\n",
    "    long = long.iloc[:, 5:30]\n",
    "    indices = np.concatenate((np.arange(0, long.shape[0], length), change))\n",
    "    indices = np.sort(indices)\n",
    "    indices = np.unique(indices)\n",
    "    partition = np.split(np.array(long), indices)\n",
    "    samples = []\n",
    "    for i in partition:\n",
    "        if i.shape[0] == length:\n",
    "            samples = samples + [i]\n",
    "    samples = np.stack(samples)\n",
    "    return samples, np.repeat(np.array([country]), samples.shape[0])"
   ]
  },
  {
   "cell_type": "code",
   "execution_count": 90,
   "metadata": {},
   "outputs": [
    {
     "data": {
      "text/plain": [
       "array(['ZA', 'ZA', 'ZA', ..., 'ZA', 'ZA', 'ZA'], dtype='<U2')"
      ]
     },
     "execution_count": 90,
     "metadata": {},
     "output_type": "execute_result"
    }
   ],
   "source": [
    "get"
   ]
  },
  {
   "cell_type": "code",
   "execution_count": 98,
   "metadata": {},
   "outputs": [
    {
     "name": "stdout",
     "output_type": "stream",
     "text": [
      "ZA\n",
      "getting file\n",
      "repeating\n",
      "partitioning\n",
      "checking\n",
      "getting file\n",
      "repeating\n",
      "partitioning\n",
      "checking\n",
      "collected\n",
      "EG\n",
      "getting file\n",
      "repeating\n"
     ]
    },
    {
     "ename": "KeyboardInterrupt",
     "evalue": "",
     "output_type": "error",
     "traceback": [
      "\u001b[1;31m---------------------------------------------------------------------------\u001b[0m",
      "\u001b[1;31mKeyboardInterrupt\u001b[0m                         Traceback (most recent call last)",
      "\u001b[1;32m<ipython-input-98-0329f728ea18>\u001b[0m in \u001b[0;36m<module>\u001b[1;34m\u001b[0m\n\u001b[0;32m      1\u001b[0m \u001b[0mcountriesOfInterest\u001b[0m \u001b[1;33m=\u001b[0m \u001b[1;33m[\u001b[0m\u001b[1;34m\"ZA\"\u001b[0m\u001b[1;33m,\u001b[0m \u001b[1;34m\"EG\"\u001b[0m\u001b[1;33m,\u001b[0m \u001b[1;34m\"TW\"\u001b[0m\u001b[1;33m,\u001b[0m \u001b[1;34m\"JP\"\u001b[0m\u001b[1;33m,\u001b[0m \u001b[1;34m\"DK\"\u001b[0m\u001b[1;33m,\u001b[0m \u001b[1;34m\"FI\"\u001b[0m\u001b[1;33m,\u001b[0m \u001b[1;34m\"US\"\u001b[0m\u001b[1;33m,\u001b[0m \u001b[1;34m\"CA\"\u001b[0m\u001b[1;33m,\u001b[0m \u001b[1;34m\"AU\"\u001b[0m\u001b[1;33m,\u001b[0m \u001b[1;34m\"NZ\"\u001b[0m\u001b[1;33m,\u001b[0m \u001b[1;34m\"BR\"\u001b[0m\u001b[1;33m,\u001b[0m \u001b[1;34m\"CO\"\u001b[0m\u001b[1;33m]\u001b[0m\u001b[1;33m\u001b[0m\u001b[1;33m\u001b[0m\u001b[0m\n\u001b[0;32m      2\u001b[0m \u001b[1;33m\u001b[0m\u001b[0m\n\u001b[1;32m----> 3\u001b[1;33m \u001b[0mtrain_x\u001b[0m\u001b[1;33m,\u001b[0m \u001b[0mtrain_labels\u001b[0m\u001b[1;33m,\u001b[0m \u001b[0mval_x\u001b[0m\u001b[1;33m,\u001b[0m \u001b[0mval_labels\u001b[0m\u001b[1;33m,\u001b[0m \u001b[0mclass_weights\u001b[0m \u001b[1;33m=\u001b[0m \u001b[0mgetSamples\u001b[0m\u001b[1;33m(\u001b[0m\u001b[1;36m200\u001b[0m\u001b[1;33m,\u001b[0m \u001b[1;36m50\u001b[0m\u001b[1;33m)\u001b[0m\u001b[1;33m\u001b[0m\u001b[1;33m\u001b[0m\u001b[0m\n\u001b[0m",
      "\u001b[1;32m<ipython-input-97-15f30a0d4e02>\u001b[0m in \u001b[0;36mgetSamples\u001b[1;34m(train_n, val_n)\u001b[0m\n\u001b[0;32m     10\u001b[0m     \u001b[1;32mfor\u001b[0m \u001b[0mcountry\u001b[0m \u001b[1;32min\u001b[0m \u001b[0mcountriesOfInterest\u001b[0m\u001b[1;33m:\u001b[0m\u001b[1;33m\u001b[0m\u001b[1;33m\u001b[0m\u001b[0m\n\u001b[0;32m     11\u001b[0m         \u001b[0mprint\u001b[0m\u001b[1;33m(\u001b[0m\u001b[0mcountry\u001b[0m\u001b[1;33m)\u001b[0m\u001b[1;33m\u001b[0m\u001b[1;33m\u001b[0m\u001b[0m\n\u001b[1;32m---> 12\u001b[1;33m         \u001b[0mx1\u001b[0m\u001b[1;33m,\u001b[0m \u001b[0my1\u001b[0m \u001b[1;33m=\u001b[0m \u001b[0msplitSeconds\u001b[0m\u001b[1;33m(\u001b[0m\u001b[0mtrain_n\u001b[0m\u001b[1;33m,\u001b[0m \u001b[0mcountry\u001b[0m\u001b[1;33m,\u001b[0m \u001b[1;34m\"train\"\u001b[0m\u001b[1;33m)\u001b[0m\u001b[1;33m\u001b[0m\u001b[1;33m\u001b[0m\u001b[0m\n\u001b[0m\u001b[0;32m     13\u001b[0m         \u001b[0mx2\u001b[0m\u001b[1;33m,\u001b[0m \u001b[0my2\u001b[0m \u001b[1;33m=\u001b[0m \u001b[0msplitSeconds\u001b[0m\u001b[1;33m(\u001b[0m\u001b[0mval_n\u001b[0m\u001b[1;33m,\u001b[0m \u001b[0mcountry\u001b[0m\u001b[1;33m,\u001b[0m \u001b[1;34m\"val\"\u001b[0m\u001b[1;33m)\u001b[0m\u001b[1;33m\u001b[0m\u001b[1;33m\u001b[0m\u001b[0m\n\u001b[0;32m     14\u001b[0m         \u001b[0mprint\u001b[0m\u001b[1;33m(\u001b[0m\u001b[1;34m\"collected\"\u001b[0m\u001b[1;33m)\u001b[0m\u001b[1;33m\u001b[0m\u001b[1;33m\u001b[0m\u001b[0m\n",
      "\u001b[1;32m<ipython-input-91-35b197fd0afd>\u001b[0m in \u001b[0;36msplitSeconds\u001b[1;34m(n, country, t)\u001b[0m\n\u001b[0;32m      7\u001b[0m     \u001b[0mdur\u001b[0m \u001b[1;33m=\u001b[0m \u001b[0mtrackFeats\u001b[0m\u001b[1;33m.\u001b[0m\u001b[0miloc\u001b[0m\u001b[1;33m[\u001b[0m\u001b[1;33m:\u001b[0m\u001b[1;33m,\u001b[0m\u001b[1;36m1\u001b[0m\u001b[1;33m]\u001b[0m\u001b[1;33m\u001b[0m\u001b[1;33m\u001b[0m\u001b[0m\n\u001b[0;32m      8\u001b[0m     \u001b[0mprint\u001b[0m\u001b[1;33m(\u001b[0m\u001b[1;34m\"repeating\"\u001b[0m\u001b[1;33m)\u001b[0m\u001b[1;33m\u001b[0m\u001b[1;33m\u001b[0m\u001b[0m\n\u001b[1;32m----> 9\u001b[1;33m     \u001b[0mlong\u001b[0m \u001b[1;33m=\u001b[0m \u001b[0mtrackFeats\u001b[0m\u001b[1;33m.\u001b[0m\u001b[0mloc\u001b[0m\u001b[1;33m[\u001b[0m\u001b[0mtrackFeats\u001b[0m\u001b[1;33m.\u001b[0m\u001b[0mindex\u001b[0m\u001b[1;33m.\u001b[0m\u001b[0mrepeat\u001b[0m\u001b[1;33m(\u001b[0m\u001b[0mdur\u001b[0m \u001b[1;33m*\u001b[0m \u001b[1;36m100\u001b[0m\u001b[1;33m)\u001b[0m\u001b[1;33m]\u001b[0m\u001b[1;33m.\u001b[0m\u001b[0mreset_index\u001b[0m\u001b[1;33m(\u001b[0m\u001b[0mdrop\u001b[0m \u001b[1;33m=\u001b[0m \u001b[1;32mTrue\u001b[0m\u001b[1;33m)\u001b[0m\u001b[1;33m\u001b[0m\u001b[1;33m\u001b[0m\u001b[0m\n\u001b[0m\u001b[0;32m     10\u001b[0m     \u001b[0mlong\u001b[0m\u001b[1;33m[\u001b[0m\u001b[1;34m'change'\u001b[0m\u001b[1;33m]\u001b[0m \u001b[1;33m=\u001b[0m \u001b[0mlong\u001b[0m\u001b[1;33m.\u001b[0m\u001b[0mtrack_id\u001b[0m\u001b[1;33m.\u001b[0m\u001b[0meq\u001b[0m\u001b[1;33m(\u001b[0m\u001b[0mlong\u001b[0m\u001b[1;33m.\u001b[0m\u001b[0mtrack_id\u001b[0m\u001b[1;33m.\u001b[0m\u001b[0mshift\u001b[0m\u001b[1;33m(\u001b[0m\u001b[1;33m)\u001b[0m\u001b[1;33m)\u001b[0m\u001b[1;33m\u001b[0m\u001b[1;33m\u001b[0m\u001b[0m\n\u001b[0;32m     11\u001b[0m     \u001b[0mchange\u001b[0m \u001b[1;33m=\u001b[0m \u001b[0mlong\u001b[0m\u001b[1;33m[\u001b[0m\u001b[0mlong\u001b[0m\u001b[1;33m.\u001b[0m\u001b[0mchange\u001b[0m \u001b[1;33m==\u001b[0m \u001b[1;32mFalse\u001b[0m\u001b[1;33m]\u001b[0m\u001b[1;33m.\u001b[0m\u001b[0mindex\u001b[0m\u001b[1;33m\u001b[0m\u001b[1;33m\u001b[0m\u001b[0m\n",
      "\u001b[1;32m~\\AppData\\Local\\Continuum\\anaconda3\\lib\\site-packages\\pandas\\core\\indexing.py\u001b[0m in \u001b[0;36m__getitem__\u001b[1;34m(self, key)\u001b[0m\n\u001b[0;32m   1422\u001b[0m \u001b[1;33m\u001b[0m\u001b[0m\n\u001b[0;32m   1423\u001b[0m             \u001b[0mmaybe_callable\u001b[0m \u001b[1;33m=\u001b[0m \u001b[0mcom\u001b[0m\u001b[1;33m.\u001b[0m\u001b[0mapply_if_callable\u001b[0m\u001b[1;33m(\u001b[0m\u001b[0mkey\u001b[0m\u001b[1;33m,\u001b[0m \u001b[0mself\u001b[0m\u001b[1;33m.\u001b[0m\u001b[0mobj\u001b[0m\u001b[1;33m)\u001b[0m\u001b[1;33m\u001b[0m\u001b[1;33m\u001b[0m\u001b[0m\n\u001b[1;32m-> 1424\u001b[1;33m             \u001b[1;32mreturn\u001b[0m \u001b[0mself\u001b[0m\u001b[1;33m.\u001b[0m\u001b[0m_getitem_axis\u001b[0m\u001b[1;33m(\u001b[0m\u001b[0mmaybe_callable\u001b[0m\u001b[1;33m,\u001b[0m \u001b[0maxis\u001b[0m\u001b[1;33m=\u001b[0m\u001b[0maxis\u001b[0m\u001b[1;33m)\u001b[0m\u001b[1;33m\u001b[0m\u001b[1;33m\u001b[0m\u001b[0m\n\u001b[0m\u001b[0;32m   1425\u001b[0m \u001b[1;33m\u001b[0m\u001b[0m\n\u001b[0;32m   1426\u001b[0m     \u001b[1;32mdef\u001b[0m \u001b[0m_is_scalar_access\u001b[0m\u001b[1;33m(\u001b[0m\u001b[0mself\u001b[0m\u001b[1;33m,\u001b[0m \u001b[0mkey\u001b[0m\u001b[1;33m:\u001b[0m \u001b[0mTuple\u001b[0m\u001b[1;33m)\u001b[0m\u001b[1;33m:\u001b[0m\u001b[1;33m\u001b[0m\u001b[1;33m\u001b[0m\u001b[0m\n",
      "\u001b[1;32m~\\AppData\\Local\\Continuum\\anaconda3\\lib\\site-packages\\pandas\\core\\indexing.py\u001b[0m in \u001b[0;36m_getitem_axis\u001b[1;34m(self, key, axis)\u001b[0m\n\u001b[0;32m   1837\u001b[0m                     \u001b[1;32mraise\u001b[0m \u001b[0mValueError\u001b[0m\u001b[1;33m(\u001b[0m\u001b[1;34m\"Cannot index with multidimensional key\"\u001b[0m\u001b[1;33m)\u001b[0m\u001b[1;33m\u001b[0m\u001b[1;33m\u001b[0m\u001b[0m\n\u001b[0;32m   1838\u001b[0m \u001b[1;33m\u001b[0m\u001b[0m\n\u001b[1;32m-> 1839\u001b[1;33m                 \u001b[1;32mreturn\u001b[0m \u001b[0mself\u001b[0m\u001b[1;33m.\u001b[0m\u001b[0m_getitem_iterable\u001b[0m\u001b[1;33m(\u001b[0m\u001b[0mkey\u001b[0m\u001b[1;33m,\u001b[0m \u001b[0maxis\u001b[0m\u001b[1;33m=\u001b[0m\u001b[0maxis\u001b[0m\u001b[1;33m)\u001b[0m\u001b[1;33m\u001b[0m\u001b[1;33m\u001b[0m\u001b[0m\n\u001b[0m\u001b[0;32m   1840\u001b[0m \u001b[1;33m\u001b[0m\u001b[0m\n\u001b[0;32m   1841\u001b[0m             \u001b[1;31m# nested tuple slicing\u001b[0m\u001b[1;33m\u001b[0m\u001b[1;33m\u001b[0m\u001b[1;33m\u001b[0m\u001b[0m\n",
      "\u001b[1;32m~\\AppData\\Local\\Continuum\\anaconda3\\lib\\site-packages\\pandas\\core\\indexing.py\u001b[0m in \u001b[0;36m_getitem_iterable\u001b[1;34m(self, key, axis)\u001b[0m\n\u001b[0;32m   1131\u001b[0m         \u001b[1;32melse\u001b[0m\u001b[1;33m:\u001b[0m\u001b[1;33m\u001b[0m\u001b[1;33m\u001b[0m\u001b[0m\n\u001b[0;32m   1132\u001b[0m             \u001b[1;31m# A collection of keys\u001b[0m\u001b[1;33m\u001b[0m\u001b[1;33m\u001b[0m\u001b[1;33m\u001b[0m\u001b[0m\n\u001b[1;32m-> 1133\u001b[1;33m             \u001b[0mkeyarr\u001b[0m\u001b[1;33m,\u001b[0m \u001b[0mindexer\u001b[0m \u001b[1;33m=\u001b[0m \u001b[0mself\u001b[0m\u001b[1;33m.\u001b[0m\u001b[0m_get_listlike_indexer\u001b[0m\u001b[1;33m(\u001b[0m\u001b[0mkey\u001b[0m\u001b[1;33m,\u001b[0m \u001b[0maxis\u001b[0m\u001b[1;33m,\u001b[0m \u001b[0mraise_missing\u001b[0m\u001b[1;33m=\u001b[0m\u001b[1;32mFalse\u001b[0m\u001b[1;33m)\u001b[0m\u001b[1;33m\u001b[0m\u001b[1;33m\u001b[0m\u001b[0m\n\u001b[0m\u001b[0;32m   1134\u001b[0m             return self.obj._reindex_with_indexers(\n\u001b[0;32m   1135\u001b[0m                 \u001b[1;33m{\u001b[0m\u001b[0maxis\u001b[0m\u001b[1;33m:\u001b[0m \u001b[1;33m[\u001b[0m\u001b[0mkeyarr\u001b[0m\u001b[1;33m,\u001b[0m \u001b[0mindexer\u001b[0m\u001b[1;33m]\u001b[0m\u001b[1;33m}\u001b[0m\u001b[1;33m,\u001b[0m \u001b[0mcopy\u001b[0m\u001b[1;33m=\u001b[0m\u001b[1;32mTrue\u001b[0m\u001b[1;33m,\u001b[0m \u001b[0mallow_dups\u001b[0m\u001b[1;33m=\u001b[0m\u001b[1;32mTrue\u001b[0m\u001b[1;33m\u001b[0m\u001b[1;33m\u001b[0m\u001b[0m\n",
      "\u001b[1;32m~\\AppData\\Local\\Continuum\\anaconda3\\lib\\site-packages\\pandas\\core\\indexing.py\u001b[0m in \u001b[0;36m_get_listlike_indexer\u001b[1;34m(self, key, axis, raise_missing)\u001b[0m\n\u001b[0;32m   1087\u001b[0m             \u001b[0mkeyarr\u001b[0m \u001b[1;33m=\u001b[0m \u001b[0max\u001b[0m\u001b[1;33m.\u001b[0m\u001b[0mreindex\u001b[0m\u001b[1;33m(\u001b[0m\u001b[0mkeyarr\u001b[0m\u001b[1;33m)\u001b[0m\u001b[1;33m[\u001b[0m\u001b[1;36m0\u001b[0m\u001b[1;33m]\u001b[0m\u001b[1;33m\u001b[0m\u001b[1;33m\u001b[0m\u001b[0m\n\u001b[0;32m   1088\u001b[0m         \u001b[1;32melse\u001b[0m\u001b[1;33m:\u001b[0m\u001b[1;33m\u001b[0m\u001b[1;33m\u001b[0m\u001b[0m\n\u001b[1;32m-> 1089\u001b[1;33m             \u001b[0mkeyarr\u001b[0m\u001b[1;33m,\u001b[0m \u001b[0mindexer\u001b[0m\u001b[1;33m,\u001b[0m \u001b[0mnew_indexer\u001b[0m \u001b[1;33m=\u001b[0m \u001b[0max\u001b[0m\u001b[1;33m.\u001b[0m\u001b[0m_reindex_non_unique\u001b[0m\u001b[1;33m(\u001b[0m\u001b[0mkeyarr\u001b[0m\u001b[1;33m)\u001b[0m\u001b[1;33m\u001b[0m\u001b[1;33m\u001b[0m\u001b[0m\n\u001b[0m\u001b[0;32m   1090\u001b[0m \u001b[1;33m\u001b[0m\u001b[0m\n\u001b[0;32m   1091\u001b[0m         self._validate_read_indexer(\n",
      "\u001b[1;32m~\\AppData\\Local\\Continuum\\anaconda3\\lib\\site-packages\\pandas\\core\\indexes\\base.py\u001b[0m in \u001b[0;36m_reindex_non_unique\u001b[1;34m(self, target)\u001b[0m\n\u001b[0;32m   3441\u001b[0m \u001b[1;33m\u001b[0m\u001b[0m\n\u001b[0;32m   3442\u001b[0m         \u001b[0mtarget\u001b[0m \u001b[1;33m=\u001b[0m \u001b[0mensure_index\u001b[0m\u001b[1;33m(\u001b[0m\u001b[0mtarget\u001b[0m\u001b[1;33m)\u001b[0m\u001b[1;33m\u001b[0m\u001b[1;33m\u001b[0m\u001b[0m\n\u001b[1;32m-> 3443\u001b[1;33m         \u001b[0mindexer\u001b[0m\u001b[1;33m,\u001b[0m \u001b[0mmissing\u001b[0m \u001b[1;33m=\u001b[0m \u001b[0mself\u001b[0m\u001b[1;33m.\u001b[0m\u001b[0mget_indexer_non_unique\u001b[0m\u001b[1;33m(\u001b[0m\u001b[0mtarget\u001b[0m\u001b[1;33m)\u001b[0m\u001b[1;33m\u001b[0m\u001b[1;33m\u001b[0m\u001b[0m\n\u001b[0m\u001b[0;32m   3444\u001b[0m         \u001b[0mcheck\u001b[0m \u001b[1;33m=\u001b[0m \u001b[0mindexer\u001b[0m \u001b[1;33m!=\u001b[0m \u001b[1;33m-\u001b[0m\u001b[1;36m1\u001b[0m\u001b[1;33m\u001b[0m\u001b[1;33m\u001b[0m\u001b[0m\n\u001b[0;32m   3445\u001b[0m         \u001b[0mnew_labels\u001b[0m \u001b[1;33m=\u001b[0m \u001b[0mself\u001b[0m\u001b[1;33m.\u001b[0m\u001b[0mtake\u001b[0m\u001b[1;33m(\u001b[0m\u001b[0mindexer\u001b[0m\u001b[1;33m[\u001b[0m\u001b[0mcheck\u001b[0m\u001b[1;33m]\u001b[0m\u001b[1;33m)\u001b[0m\u001b[1;33m\u001b[0m\u001b[1;33m\u001b[0m\u001b[0m\n",
      "\u001b[1;32m~\\AppData\\Local\\Continuum\\anaconda3\\lib\\site-packages\\pandas\\core\\indexes\\base.py\u001b[0m in \u001b[0;36mget_indexer_non_unique\u001b[1;34m(self, target)\u001b[0m\n\u001b[0;32m   4799\u001b[0m             \u001b[0mtgt_values\u001b[0m \u001b[1;33m=\u001b[0m \u001b[0mtarget\u001b[0m\u001b[1;33m.\u001b[0m\u001b[0m_ndarray_values\u001b[0m\u001b[1;33m\u001b[0m\u001b[1;33m\u001b[0m\u001b[0m\n\u001b[0;32m   4800\u001b[0m \u001b[1;33m\u001b[0m\u001b[0m\n\u001b[1;32m-> 4801\u001b[1;33m         \u001b[0mindexer\u001b[0m\u001b[1;33m,\u001b[0m \u001b[0mmissing\u001b[0m \u001b[1;33m=\u001b[0m \u001b[0mself\u001b[0m\u001b[1;33m.\u001b[0m\u001b[0m_engine\u001b[0m\u001b[1;33m.\u001b[0m\u001b[0mget_indexer_non_unique\u001b[0m\u001b[1;33m(\u001b[0m\u001b[0mtgt_values\u001b[0m\u001b[1;33m)\u001b[0m\u001b[1;33m\u001b[0m\u001b[1;33m\u001b[0m\u001b[0m\n\u001b[0m\u001b[0;32m   4802\u001b[0m         \u001b[1;32mreturn\u001b[0m \u001b[0mensure_platform_int\u001b[0m\u001b[1;33m(\u001b[0m\u001b[0mindexer\u001b[0m\u001b[1;33m)\u001b[0m\u001b[1;33m,\u001b[0m \u001b[0mmissing\u001b[0m\u001b[1;33m\u001b[0m\u001b[1;33m\u001b[0m\u001b[0m\n\u001b[0;32m   4803\u001b[0m \u001b[1;33m\u001b[0m\u001b[0m\n",
      "\u001b[1;32mpandas/_libs/index.pyx\u001b[0m in \u001b[0;36mpandas._libs.index.IndexEngine.get_indexer_non_unique\u001b[1;34m()\u001b[0m\n",
      "\u001b[1;32m<__array_function__ internals>\u001b[0m in \u001b[0;36mresize\u001b[1;34m(*args, **kwargs)\u001b[0m\n",
      "\u001b[1;32m~\\AppData\\Local\\Continuum\\anaconda3\\lib\\site-packages\\numpy\\core\\fromnumeric.py\u001b[0m in \u001b[0;36mresize\u001b[1;34m(a, new_shape)\u001b[0m\n\u001b[0;32m   1368\u001b[0m         \u001b[0mextra\u001b[0m \u001b[1;33m=\u001b[0m \u001b[0mNa\u001b[0m \u001b[1;33m-\u001b[0m \u001b[0mextra\u001b[0m\u001b[1;33m\u001b[0m\u001b[1;33m\u001b[0m\u001b[0m\n\u001b[0;32m   1369\u001b[0m \u001b[1;33m\u001b[0m\u001b[0m\n\u001b[1;32m-> 1370\u001b[1;33m     \u001b[0ma\u001b[0m \u001b[1;33m=\u001b[0m \u001b[0mconcatenate\u001b[0m\u001b[1;33m(\u001b[0m\u001b[1;33m(\u001b[0m\u001b[0ma\u001b[0m\u001b[1;33m,\u001b[0m\u001b[1;33m)\u001b[0m \u001b[1;33m*\u001b[0m \u001b[0mn_copies\u001b[0m\u001b[1;33m)\u001b[0m\u001b[1;33m\u001b[0m\u001b[1;33m\u001b[0m\u001b[0m\n\u001b[0m\u001b[0;32m   1371\u001b[0m     \u001b[1;32mif\u001b[0m \u001b[0mextra\u001b[0m \u001b[1;33m>\u001b[0m \u001b[1;36m0\u001b[0m\u001b[1;33m:\u001b[0m\u001b[1;33m\u001b[0m\u001b[1;33m\u001b[0m\u001b[0m\n\u001b[0;32m   1372\u001b[0m         \u001b[0ma\u001b[0m \u001b[1;33m=\u001b[0m \u001b[0ma\u001b[0m\u001b[1;33m[\u001b[0m\u001b[1;33m:\u001b[0m\u001b[1;33m-\u001b[0m\u001b[0mextra\u001b[0m\u001b[1;33m]\u001b[0m\u001b[1;33m\u001b[0m\u001b[1;33m\u001b[0m\u001b[0m\n",
      "\u001b[1;32m<__array_function__ internals>\u001b[0m in \u001b[0;36mconcatenate\u001b[1;34m(*args, **kwargs)\u001b[0m\n",
      "\u001b[1;31mKeyboardInterrupt\u001b[0m: "
     ]
    }
   ],
   "source": [
    "countriesOfInterest = [\"ZA\", \"EG\", \"TW\", \"JP\", \"DK\", \"FI\", \"US\", \"CA\", \"AU\", \"NZ\", \"BR\", \"CO\"]\n",
    "\n",
    "train_x, train_labels, val_x, val_labels, class_weights = getSamples(200, 50)"
   ]
  },
  {
   "cell_type": "code",
   "execution_count": 96,
   "metadata": {},
   "outputs": [
    {
     "data": {
      "text/plain": [
       "array([1.11811061, 1.11369618, 0.96462303, 1.06331897, 0.85851449,\n",
       "       0.95114804, 0.8683304 , 1.22721152, 1.29650908, 0.73816199,\n",
       "       1.1909429 , 0.92399782])"
      ]
     },
     "execution_count": 96,
     "metadata": {},
     "output_type": "execute_result"
    }
   ],
   "source": [
    "class_weights"
   ]
  }
 ],
 "metadata": {
  "kernelspec": {
   "display_name": "Python 3",
   "language": "python",
   "name": "python3"
  },
  "language_info": {
   "codemirror_mode": {
    "name": "ipython",
    "version": 3
   },
   "file_extension": ".py",
   "mimetype": "text/x-python",
   "name": "python",
   "nbconvert_exporter": "python",
   "pygments_lexer": "ipython3",
   "version": "3.7.3"
  }
 },
 "nbformat": 4,
 "nbformat_minor": 2
}
