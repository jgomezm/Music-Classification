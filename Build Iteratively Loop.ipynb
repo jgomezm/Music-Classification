{
 "cells": [
  {
   "cell_type": "code",
   "execution_count": 1,
   "metadata": {},
   "outputs": [],
   "source": [
    "import numpy as np\n",
    "import os\n",
    "from sklearn.preprocessing import OneHotEncoder\n",
    "from sklearn.metrics import confusion_matrix\n",
    "import tensorflow.keras as keras\n",
    "from tensorflow.keras import Sequential\n",
    "from tensorflow.keras import regularizers\n",
    "from tensorflow.keras.layers import LSTM, Dense, Flatten, BatchNormalization, Dropout, GRU\n",
    "from tensorflow.keras.utils import to_categorical\n",
    "import tensorflow as tf\n",
    "import module\n",
    "import gc\n",
    "# Load the TensorBoard notebook extension\n",
    "%load_ext tensorboard"
   ]
  },
  {
   "cell_type": "code",
   "execution_count": 2,
   "metadata": {},
   "outputs": [
    {
     "data": {
      "text/plain": [
       "9"
      ]
     },
     "execution_count": 2,
     "metadata": {},
     "output_type": "execute_result"
    }
   ],
   "source": [
    "np.random.randint(10)"
   ]
  },
  {
   "cell_type": "code",
   "execution_count": 3,
   "metadata": {},
   "outputs": [
    {
     "data": {
      "text/plain": [
       "OneHotEncoder(categories='auto', drop=None, dtype=<class 'numpy.float64'>,\n",
       "              handle_unknown='error', sparse=True)"
      ]
     },
     "execution_count": 3,
     "metadata": {},
     "output_type": "execute_result"
    }
   ],
   "source": [
    "countriesOfInterest = {\"HK\", \"JP\", 'ZA', 'TN', 'TR', 'GB', 'MX', 'US', 'CO', 'EC', 'AU', 'NZ'}\n",
    "countriesOfInterest = [\"ZA\", \"EG\", \"TW\", \"JP\", \"DK\", \"FI\", \"US\", \"CA\", \"AU\", \"NZ\", \"BR\", \"CO\"]\n",
    "#countriesOfInterest = list(countriesOfInterest & {\"ZA\", \"EG\", \"TW\", \"JP\", \"DK\", \"FI\", \"US\", \"CA\", \"AU\", \"NZ\", \"BR\", \"CO\"})\n",
    "\n",
    "enc = OneHotEncoder()\n",
    "enc.fit(np.array(countriesOfInterest).reshape(-1, 1))"
   ]
  },
  {
   "cell_type": "code",
   "execution_count": 4,
   "metadata": {},
   "outputs": [
    {
     "name": "stdout",
     "output_type": "stream",
     "text": [
      "train [1. 1. 1. 1. 1. 1. 1. 1. 1. 1. 1. 1.]\n"
     ]
    }
   ],
   "source": [
    "seconds = 10\n",
    "samplerate = 10\n",
    "train_x, train_labels, val_x, val_labels, class_weights = module.getSamples(1, 1, 1, 1, seconds, samplerate, countriesOfInterest,\n",
    "               enc, verbose = 0)\n",
    "print(\"train\", np.sum(train_labels, axis = 0))"
   ]
  },
  {
   "cell_type": "markdown",
   "metadata": {},
   "source": [
    "### Fit model"
   ]
  },
  {
   "cell_type": "code",
   "execution_count": 5,
   "metadata": {},
   "outputs": [
    {
     "data": {
      "text/plain": [
       "(100, 25)"
      ]
     },
     "execution_count": 5,
     "metadata": {},
     "output_type": "execute_result"
    }
   ],
   "source": [
    "input_shape=(train_x.shape[1], train_x.shape[2])\n",
    "input_shape"
   ]
  },
  {
   "cell_type": "code",
   "execution_count": null,
   "metadata": {},
   "outputs": [
    {
     "name": "stdout",
     "output_type": "stream",
     "text": [
      "Model: \"sequential\"\n",
      "_________________________________________________________________\n",
      "Layer (type)                 Output Shape              Param #   \n",
      "=================================================================\n",
      "batch_normalization (BatchNo (None, 100, 25)           100       \n",
      "_________________________________________________________________\n",
      "lstm (LSTM)                  (None, 100, 8)            1088      \n",
      "_________________________________________________________________\n",
      "batch_normalization_1 (Batch (None, 100, 8)            32        \n",
      "_________________________________________________________________\n",
      "lstm_1 (LSTM)                (None, 8)                 544       \n",
      "_________________________________________________________________\n",
      "batch_normalization_2 (Batch (None, 8)                 32        \n",
      "_________________________________________________________________\n",
      "dense (Dense)                (None, 64)                576       \n",
      "_________________________________________________________________\n",
      "batch_normalization_3 (Batch (None, 64)                256       \n",
      "_________________________________________________________________\n",
      "dense_1 (Dense)              (None, 12)                780       \n",
      "=================================================================\n",
      "Total params: 3,408\n",
      "Trainable params: 3,198\n",
      "Non-trainable params: 210\n",
      "_________________________________________________________________\n",
      "None\n",
      "Train on 24000 samples, validate on 4800 samples\n",
      "Epoch 1/2\n",
      "24000/24000 [==============================] - 6s 239us/sample - loss: 3.1110 - acc: 0.0855 - val_loss: 2.4891 - val_acc: 0.0819\n",
      "Epoch 2/2\n",
      "24000/24000 [==============================] - 3s 139us/sample - loss: 2.9005 - acc: 0.0882 - val_loss: 2.4888 - val_acc: 0.0819\n",
      "Train on 24000 samples, validate on 4800 samples\n",
      "Epoch 3/4\n",
      "24000/24000 [==============================] - 6s 236us/sample - loss: 2.7951 - acc: 0.0861 - val_loss: 2.4891 - val_acc: 0.0871\n",
      "Epoch 4/4\n",
      "24000/24000 [==============================] - 3s 143us/sample - loss: 2.6853 - acc: 0.0865 - val_loss: 2.4886 - val_acc: 0.0808\n",
      "Train on 24000 samples, validate on 4800 samples\n",
      "Epoch 5/6\n",
      "24000/24000 [==============================] - 6s 243us/sample - loss: 2.6127 - acc: 0.0908 - val_loss: 2.4858 - val_acc: 0.0790\n",
      "Epoch 6/6\n",
      "24000/24000 [==============================] - 4s 146us/sample - loss: 2.5656 - acc: 0.0957 - val_loss: 2.4855 - val_acc: 0.0852\n",
      "Train on 24000 samples, validate on 4800 samples\n",
      "Epoch 7/8\n",
      "24000/24000 [==============================] - 6s 248us/sample - loss: 2.5487 - acc: 0.0945 - val_loss: 2.4855 - val_acc: 0.0958\n",
      "Epoch 8/8\n",
      "24000/24000 [==============================] - 4s 150us/sample - loss: 2.5210 - acc: 0.1010 - val_loss: 2.4851 - val_acc: 0.0973\n",
      "Train on 24000 samples, validate on 4800 samples\n",
      "Epoch 9/10\n",
      "24000/24000 [==============================] - 6s 248us/sample - loss: 2.5255 - acc: 0.0954 - val_loss: 2.4847 - val_acc: 0.0856\n",
      "Epoch 10/10\n",
      "24000/24000 [==============================] - 4s 157us/sample - loss: 2.5055 - acc: 0.1016 - val_loss: 2.4853 - val_acc: 0.0842\n",
      "10_seconds_10_samples iteration 5\n",
      "4800/4800 [==============================] - 1s 148us/sample\n"
     ]
    },
    {
     "data": {
      "image/png": "[encoded data removed]",
      "text/plain": [
       "<Figure size 432x288 with 1 Axes>"
      ]
     },
     "metadata": {
      "needs_background": "light"
     },
     "output_type": "display_data"
    },
    {
     "name": "stdout",
     "output_type": "stream",
     "text": [
      "24000/24000 [==============================] - 1s 44us/sample\n"
     ]
    },
    {
     "data": {
      "image/png": "[encoded data removed]",
      "text/plain": [
       "<Figure size 432x288 with 1 Axes>"
      ]
     },
     "metadata": {
      "needs_background": "light"
     },
     "output_type": "display_data"
    },
    {
     "name": "stdout",
     "output_type": "stream",
     "text": [
      "Train on 24000 samples, validate on 4800 samples\n",
      "Epoch 11/12\n",
      "24000/24000 [==============================] - 6s 263us/sample - loss: 2.5005 - acc: 0.1025 - val_loss: 2.4853 - val_acc: 0.0860\n",
      "Epoch 12/12\n",
      "24000/24000 [==============================] - 4s 169us/sample - loss: 2.4845 - acc: 0.1135 - val_loss: 2.4858 - val_acc: 0.0890\n",
      "Train on 24000 samples, validate on 4800 samples\n",
      "Epoch 13/14\n",
      "24000/24000 [==============================] - 6s 260us/sample - loss: 2.4910 - acc: 0.1138 - val_loss: 2.4847 - val_acc: 0.0865\n",
      "Epoch 14/14\n",
      "24000/24000 [==============================] - 4s 163us/sample - loss: 2.4772 - acc: 0.1167 - val_loss: 2.4850 - val_acc: 0.0833\n",
      "Train on 24000 samples, validate on 4800 samples\n",
      "Epoch 15/16\n",
      "24000/24000 [==============================] - 6s 270us/sample - loss: 2.4906 - acc: 0.1050 - val_loss: 2.4821 - val_acc: 0.0840\n",
      "Epoch 16/16\n",
      "24000/24000 [==============================] - 4s 172us/sample - loss: 2.4790 - acc: 0.1098 - val_loss: 2.4815 - val_acc: 0.0900\n",
      "Train on 24000 samples, validate on 4800 samples\n",
      "Epoch 17/18\n",
      "16384/24000 [===================>..........] - ETA: 2s - loss: 2.4830 - acc: 0.1078"
     ]
    }
   ],
   "source": [
    "train_n = 100\n",
    "sample_n = train_n * 20\n",
    "val_n  = int(train_n/5)\n",
    "valsample_n = val_n * 20\n",
    "iterations = 50\n",
    "epochs = 2\n",
    "learn_rate = 0.001\n",
    "batch_size = 4096\n",
    "for D in [64]:\n",
    "    for LSTM2 in [8, 16, 32, 64]:\n",
    "        for LSTM1 in [8, 16, 32, 64]:\n",
    "            model = keras.Sequential()\n",
    "            model.add(BatchNormalization(input_shape=input_shape))\n",
    "\n",
    "            model.add(LSTM(LSTM1, \n",
    "                           input_shape=input_shape, \n",
    "                           return_sequences = True\n",
    "                          ))\n",
    "            model.add(BatchNormalization())\n",
    "            model.add(LSTM(LSTM2, \n",
    "                           return_sequences = False,\n",
    "                           go_backwards = True\n",
    "                          ))\n",
    "            model.add(BatchNormalization())\n",
    "            model.add(Dense(D, activation= \"relu\"))\n",
    "            model.add(BatchNormalization())\n",
    "            model.add(Dense(len(enc.categories_[0]), activation= \"softmax\"))\n",
    "            adam = keras.optimizers.Adam(lr=0.001, amsgrad = True)\n",
    "            model.compile(loss = \"categorical_crossentropy\", optimizer= adam, metrics=[\"acc\"])\n",
    "            gc.collect()\n",
    "            print(model.summary())\n",
    "            desc = str(LSTM1) + \"_\" + str(LSTM2) + \"_\" + str(D)\n",
    "            log_dir = os.path.join(\n",
    "                \"logs\",\n",
    "                \"10sec_10sample\",\n",
    "                desc\n",
    "            )\n",
    "            model_dir = os.path.join(\n",
    "                \"pickle\",\n",
    "                desc\n",
    "            )\n",
    "\n",
    "\n",
    "            tensorboard_callback = tf.keras.callbacks.TensorBoard(log_dir=log_dir, histogram_freq=1)\n",
    "            model = module.train(iterations, learn_rate, train_n, sample_n, val_n, valsample_n, seconds, samplerate,\n",
    "                            countriesOfInterest, enc, epochs, tensorboard_callback, model_dir,\n",
    "                            model, batch_size)\n",
    "            del model, model_dir, log_dir, desc, adam\n",
    "            gc.collect()"
   ]
  },
  {
   "cell_type": "code",
   "execution_count": null,
   "metadata": {},
   "outputs": [],
   "source": []
  },
  {
   "cell_type": "code",
   "execution_count": null,
   "metadata": {},
   "outputs": [],
   "source": []
  },
  {
   "cell_type": "code",
   "execution_count": null,
   "metadata": {},
   "outputs": [],
   "source": []
  },
  {
   "cell_type": "code",
   "execution_count": null,
   "metadata": {},
   "outputs": [],
   "source": [
    "model = keras.Sequential()\n",
    "model.add(BatchNormalization(input_shape=(train_x.shape[1], train_x.shape[2])))\n",
    "\n",
    "model.add(LSTM(16, \n",
    "               input_shape=(train_x.shape[1], train_x.shape[2]), \n",
    "               return_sequences = True,\n",
    "          #     recurrent_dropout = .5,\n",
    "          #     kernel_regularizer=regularizers.l2(0.01),\n",
    "              ))\n",
    "model.add(BatchNormalization())\n",
    "model.add(LSTM(32, \n",
    "             #  input_shape=(train_x.shape[1], train_x.shape[2]), \n",
    "               return_sequences = False,\n",
    "  #             recurrent_dropout = .5,\n",
    "               go_backwards = True\n",
    "          #     kernel_regularizer=regularizers.l2(0.01),\n",
    "              ))\n",
    "model.add(BatchNormalization())\n",
    "#model.add(Dropout(.5))\n",
    "model.add(Dense(16, activation= \"relu\"))\n",
    "model.add(BatchNormalization())\n",
    "#model.add(Dropout(.5))\n",
    "model.add(Dense(len(enc.categories_[0]), activation= \"softmax\"))\n",
    "adam = keras.optimizers.Adam(lr=0.001, amsgrad = True)\n",
    "model.compile(loss = \"categorical_crossentropy\", optimizer= adam, metrics=[\"acc\"])\n",
    "del train_x, train_labels, val_x, val_labels, class_weights\n",
    "gc.collect()\n",
    "print(model.summary())"
   ]
  },
  {
   "cell_type": "code",
   "execution_count": null,
   "metadata": {
    "scrolled": true
   },
   "outputs": [],
   "source": [
    "#add recurrent dropout to add noise to duration\n",
    "desc = \"normin_LSTM16_32_Out_1Step_001LR_amsgrad\"\n",
    "log_dir = os.path.join(\n",
    "    \"logs\",\n",
    "    \"Overfit\",\n",
    "    desc\n",
    ")\n",
    "model_dir = os.path.join(\n",
    "    \"pickle\",\n",
    "    \"save\"\n",
    ")\n",
    "\n",
    "train_n = 100\n",
    "sample_n = 8000\n",
    "val_n  = int(2*train_n/5)\n",
    "valsample_n = 1000\n",
    "tensorboard_callback = tf.keras.callbacks.TensorBoard(log_dir=log_dir, histogram_freq=1)\n",
    "epochs = 1\n",
    "iterations = 40\n",
    "learn_rate = 0.001\n",
    "batch_size = 4096\n",
    "model = module.train(iterations, learn_rate, train_n, sample_n, val_n, valsample_n, seconds, samplerate,\n",
    "                countriesOfInterest, enc, epochs, tensorboard_callback, model_dir,\n",
    "                model, batch_size)"
   ]
  },
  {
   "cell_type": "code",
   "execution_count": null,
   "metadata": {},
   "outputs": [],
   "source": []
  },
  {
   "cell_type": "code",
   "execution_count": null,
   "metadata": {},
   "outputs": [],
   "source": []
  },
  {
   "cell_type": "code",
   "execution_count": null,
   "metadata": {},
   "outputs": [],
   "source": []
  },
  {
   "cell_type": "code",
   "execution_count": null,
   "metadata": {},
   "outputs": [],
   "source": []
  },
  {
   "cell_type": "code",
   "execution_count": null,
   "metadata": {},
   "outputs": [],
   "source": []
  },
  {
   "cell_type": "code",
   "execution_count": null,
   "metadata": {},
   "outputs": [],
   "source": []
  },
  {
   "cell_type": "code",
   "execution_count": null,
   "metadata": {},
   "outputs": [],
   "source": []
  },
  {
   "cell_type": "code",
   "execution_count": null,
   "metadata": {},
   "outputs": [],
   "source": []
  },
  {
   "cell_type": "code",
   "execution_count": null,
   "metadata": {},
   "outputs": [],
   "source": []
  }
 ],
 "metadata": {
  "kernelspec": {
   "display_name": "Python 3",
   "language": "python",
   "name": "python3"
  },
  "language_info": {
   "codemirror_mode": {
    "name": "ipython",
    "version": 3
   },
   "file_extension": ".py",
   "mimetype": "text/x-python",
   "name": "python",
   "nbconvert_exporter": "python",
   "pygments_lexer": "ipython3",
   "version": "3.7.3"
  }
 },
 "nbformat": 4,
 "nbformat_minor": 4
}
