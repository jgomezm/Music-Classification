{
 "cells": [
  {
   "cell_type": "code",
   "execution_count": 1,
   "metadata": {},
   "outputs": [],
   "source": [
    "import pandas as pd\n",
    "import pickle\n",
    "import datetime\n",
    "import numpy as np\n",
    "\n",
    "countriesOfInterest = [\"HK\", \"JP\", 'ZA', 'TN', 'TR', 'GB', 'MX', 'US', 'CO',\n",
    "                       'EC', 'AU', 'NZ']\n",
    "countriesOfInterest = [\"ZA\", \"EG\", \"TW\", \"JP\", \"DK\", \"FI\", \"US\", \"CA\", \"AU\", \"NZ\", \"BR\", \"CO\"]\n"
   ]
  },
  {
   "cell_type": "code",
   "execution_count": 2,
   "metadata": {},
   "outputs": [],
   "source": [
    "stats = pd.DataFrame()\n",
    "comb_data= pd.DataFrame()\n",
    "for country in countriesOfInterest:\n",
    "    data = pickle.load(open( \"Raw Track Data\\\\\" + country + \"_train.p\", \"rb\" ))\n",
    "    data = data.append(\n",
    "        pickle.load(open( \"Raw Track Data\\\\\" + country + \"_val.p\", \"rb\" )))\n",
    "    data = data.append(\n",
    "        pickle.load(open( \"Raw Track Data\\\\\" + country + \"_test.p\", \"rb\" )))\n",
    "    stats.loc[country,\"n_tracks\"] = data.track_id.nunique()\n",
    "    stats.loc[country,\"n_playlists\"] = data.Playlist.nunique()\n",
    "    stats.loc[country,\"mean_n_segments\"] = data.groupby(\"track_id\").size().mean()\n",
    "    duration = data.groupby(\"track_id\").duration.sum()\n",
    "    stats.loc[country,\"mean_duration\"] = str(datetime.timedelta(seconds=duration.mean()))\n",
    "    comb_data = comb_data.append(data)\n",
    "\n",
    "stats.loc[\"aggregate\",\"n_tracks\"] = comb_data.track_id.nunique()\n",
    "stats.loc[\"aggregate\",\"n_playlists\"] = comb_data.Playlist.nunique()\n",
    "stats.loc[\"aggregate\",\"mean_n_segments\"] = comb_data.groupby(\"track_id\").size().mean()\n",
    "duration = comb_data.groupby(\"track_id\").duration.sum()\n",
    "stats.loc[\"aggregate\",\"mean_duration\"] = str(datetime.timedelta(seconds=duration.mean()))"
   ]
  },
  {
   "cell_type": "code",
   "execution_count": 3,
   "metadata": {},
   "outputs": [
    {
     "data": {
      "text/html": [
       "<div>\n",
       "<style scoped>\n",
       "    .dataframe tbody tr th:only-of-type {\n",
       "        vertical-align: middle;\n",
       "    }\n",
       "\n",
       "    .dataframe tbody tr th {\n",
       "        vertical-align: top;\n",
       "    }\n",
       "\n",
       "    .dataframe thead th {\n",
       "        text-align: right;\n",
       "    }\n",
       "</style>\n",
       "<table border=\"1\" class=\"dataframe\">\n",
       "  <thead>\n",
       "    <tr style=\"text-align: right;\">\n",
       "      <th></th>\n",
       "      <th>n_tracks</th>\n",
       "      <th>n_playlists</th>\n",
       "      <th>mean_n_segments</th>\n",
       "      <th>mean_duration</th>\n",
       "    </tr>\n",
       "  </thead>\n",
       "  <tbody>\n",
       "    <tr>\n",
       "      <th>ZA</th>\n",
       "      <td>2192.0</td>\n",
       "      <td>69.0</td>\n",
       "      <td>1043.009124</td>\n",
       "      <td>0:04:26.854877</td>\n",
       "    </tr>\n",
       "    <tr>\n",
       "      <th>EG</th>\n",
       "      <td>810.0</td>\n",
       "      <td>27.0</td>\n",
       "      <td>888.991358</td>\n",
       "      <td>0:03:55.153939</td>\n",
       "    </tr>\n",
       "    <tr>\n",
       "      <th>TW</th>\n",
       "      <td>2808.0</td>\n",
       "      <td>65.0</td>\n",
       "      <td>794.329416</td>\n",
       "      <td>0:03:57.401490</td>\n",
       "    </tr>\n",
       "    <tr>\n",
       "      <th>JP</th>\n",
       "      <td>1859.0</td>\n",
       "      <td>41.0</td>\n",
       "      <td>831.656267</td>\n",
       "      <td>0:03:57.755744</td>\n",
       "    </tr>\n",
       "    <tr>\n",
       "      <th>DK</th>\n",
       "      <td>3532.0</td>\n",
       "      <td>82.0</td>\n",
       "      <td>814.484711</td>\n",
       "      <td>0:03:36.507981</td>\n",
       "    </tr>\n",
       "    <tr>\n",
       "      <th>FI</th>\n",
       "      <td>2624.0</td>\n",
       "      <td>58.0</td>\n",
       "      <td>803.325457</td>\n",
       "      <td>0:03:39.158394</td>\n",
       "    </tr>\n",
       "    <tr>\n",
       "      <th>US</th>\n",
       "      <td>2416.0</td>\n",
       "      <td>69.0</td>\n",
       "      <td>812.242964</td>\n",
       "      <td>0:03:46.832476</td>\n",
       "    </tr>\n",
       "    <tr>\n",
       "      <th>CA</th>\n",
       "      <td>1577.0</td>\n",
       "      <td>31.0</td>\n",
       "      <td>756.230818</td>\n",
       "      <td>0:03:29.189874</td>\n",
       "    </tr>\n",
       "    <tr>\n",
       "      <th>AU</th>\n",
       "      <td>994.0</td>\n",
       "      <td>31.0</td>\n",
       "      <td>751.960765</td>\n",
       "      <td>0:03:32.821756</td>\n",
       "    </tr>\n",
       "    <tr>\n",
       "      <th>NZ</th>\n",
       "      <td>677.0</td>\n",
       "      <td>42.0</td>\n",
       "      <td>816.867061</td>\n",
       "      <td>0:03:39.736208</td>\n",
       "    </tr>\n",
       "    <tr>\n",
       "      <th>BR</th>\n",
       "      <td>3393.0</td>\n",
       "      <td>84.0</td>\n",
       "      <td>817.445034</td>\n",
       "      <td>0:03:30.442930</td>\n",
       "    </tr>\n",
       "    <tr>\n",
       "      <th>CO</th>\n",
       "      <td>1256.0</td>\n",
       "      <td>39.0</td>\n",
       "      <td>920.994427</td>\n",
       "      <td>0:03:53.523069</td>\n",
       "    </tr>\n",
       "    <tr>\n",
       "      <th>aggregate</th>\n",
       "      <td>24104.0</td>\n",
       "      <td>618.0</td>\n",
       "      <td>836.099983</td>\n",
       "      <td>0:03:46.907296</td>\n",
       "    </tr>\n",
       "  </tbody>\n",
       "</table>\n",
       "</div>"
      ],
      "text/plain": [
       "           n_tracks  n_playlists  mean_n_segments   mean_duration\n",
       "ZA           2192.0         69.0      1043.009124  0:04:26.854877\n",
       "EG            810.0         27.0       888.991358  0:03:55.153939\n",
       "TW           2808.0         65.0       794.329416  0:03:57.401490\n",
       "JP           1859.0         41.0       831.656267  0:03:57.755744\n",
       "DK           3532.0         82.0       814.484711  0:03:36.507981\n",
       "FI           2624.0         58.0       803.325457  0:03:39.158394\n",
       "US           2416.0         69.0       812.242964  0:03:46.832476\n",
       "CA           1577.0         31.0       756.230818  0:03:29.189874\n",
       "AU            994.0         31.0       751.960765  0:03:32.821756\n",
       "NZ            677.0         42.0       816.867061  0:03:39.736208\n",
       "BR           3393.0         84.0       817.445034  0:03:30.442930\n",
       "CO           1256.0         39.0       920.994427  0:03:53.523069\n",
       "aggregate   24104.0        618.0       836.099983  0:03:46.907296"
      ]
     },
     "execution_count": 3,
     "metadata": {},
     "output_type": "execute_result"
    }
   ],
   "source": [
    "stats\n",
    "# Number of tracks\n",
    "# Number of playlists\n",
    "# Mean number of segments over tracks\n",
    "# Mean duration over tracks\n",
    "# Within each country and across all"
   ]
  },
  {
   "cell_type": "code",
   "execution_count": 4,
   "metadata": {},
   "outputs": [
    {
     "data": {
      "text/plain": [
       "Index(['start', 'duration', 'confidence', 'loudness_start',\n",
       "       'loudness_max_time', 'loudness_max', 'p1', 'p2', 'p3', 'p4', 'p5', 'p6',\n",
       "       'p7', 'p8', 'p9', 'p10', 'p11', 'p12', 't1', 't2', 't3', 't4', 't5',\n",
       "       't6', 't7', 't8', 't9', 't10', 't11', 't12', 'track_id', 'Country',\n",
       "       'Year', 'Playlist', 'change'],\n",
       "      dtype='object')"
      ]
     },
     "execution_count": 4,
     "metadata": {},
     "output_type": "execute_result"
    }
   ],
   "source": [
    "comb_data.columns"
   ]
  },
  {
   "cell_type": "code",
   "execution_count": 15,
   "metadata": {},
   "outputs": [
    {
     "data": {
      "text/plain": [
       "array([[<matplotlib.axes._subplots.AxesSubplot object at 0x0000028B123ACE88>]],\n",
       "      dtype=object)"
      ]
     },
     "execution_count": 15,
     "metadata": {},
     "output_type": "execute_result"
    },
    {
     "data": {
      "image/png": "[encoded data removed]",
      "text/plain": [
       "<Figure size 432x288 with 1 Axes>"
      ]
     },
     "metadata": {
      "needs_background": "light"
     },
     "output_type": "display_data"
    }
   ],
   "source": [
    "comb_data.hist(column = \"duration\", bins = np.arange(0, 1.5, 0.01))"
   ]
  },
  {
   "cell_type": "code",
   "execution_count": 14,
   "metadata": {},
   "outputs": [
    {
     "data": {
      "text/plain": [
       "array([[<matplotlib.axes._subplots.AxesSubplot object at 0x0000028B122C11C8>]],\n",
       "      dtype=object)"
      ]
     },
     "execution_count": 14,
     "metadata": {},
     "output_type": "execute_result"
    },
    {
     "data": {
      "image/png": "[encoded data removed]",
      "text/plain": [
       "<Figure size 432x288 with 1 Axes>"
      ]
     },
     "metadata": {
      "needs_background": "light"
     },
     "output_type": "display_data"
    }
   ],
   "source": [
    "comb_data.hist(column = \"duration\", bins = np.arange(0, 0.4, 0.01))"
   ]
  },
  {
   "cell_type": "code",
   "execution_count": 23,
   "metadata": {},
   "outputs": [
    {
     "data": {
      "text/plain": [
       "[1, 2, 2]"
      ]
     },
     "execution_count": 23,
     "metadata": {},
     "output_type": "execute_result"
    }
   ],
   "source": [
    "qwe = comb_data[:3]\n",
    "list(qwe.index.repeat([0.9, 1.3, 2.5]))"
   ]
  },
  {
   "cell_type": "code",
   "execution_count": 17,
   "metadata": {},
   "outputs": [
    {
     "data": {
      "text/html": [
       "<div>\n",
       "<style scoped>\n",
       "    .dataframe tbody tr th:only-of-type {\n",
       "        vertical-align: middle;\n",
       "    }\n",
       "\n",
       "    .dataframe tbody tr th {\n",
       "        vertical-align: top;\n",
       "    }\n",
       "\n",
       "    .dataframe thead th {\n",
       "        text-align: right;\n",
       "    }\n",
       "</style>\n",
       "<table border=\"1\" class=\"dataframe\">\n",
       "  <thead>\n",
       "    <tr style=\"text-align: right;\">\n",
       "      <th></th>\n",
       "      <th>start</th>\n",
       "      <th>duration</th>\n",
       "      <th>confidence</th>\n",
       "      <th>loudness_start</th>\n",
       "      <th>loudness_max_time</th>\n",
       "      <th>loudness_max</th>\n",
       "      <th>p1</th>\n",
       "      <th>p2</th>\n",
       "      <th>p3</th>\n",
       "      <th>p4</th>\n",
       "      <th>...</th>\n",
       "      <th>t8</th>\n",
       "      <th>t9</th>\n",
       "      <th>t10</th>\n",
       "      <th>t11</th>\n",
       "      <th>t12</th>\n",
       "      <th>track_id</th>\n",
       "      <th>Country</th>\n",
       "      <th>Year</th>\n",
       "      <th>Playlist</th>\n",
       "      <th>change</th>\n",
       "    </tr>\n",
       "  </thead>\n",
       "  <tbody>\n",
       "    <tr>\n",
       "      <th>0</th>\n",
       "      <td>0.00000</td>\n",
       "      <td>0.23519</td>\n",
       "      <td>1.000</td>\n",
       "      <td>-60.000</td>\n",
       "      <td>0.05514</td>\n",
       "      <td>-18.965</td>\n",
       "      <td>0.371</td>\n",
       "      <td>0.233</td>\n",
       "      <td>0.268</td>\n",
       "      <td>0.030</td>\n",
       "      <td>...</td>\n",
       "      <td>-0.570</td>\n",
       "      <td>-16.943</td>\n",
       "      <td>104.535</td>\n",
       "      <td>-1.579</td>\n",
       "      <td>-1.120</td>\n",
       "      <td>spotify:track:5u91yhBCFvQZIbGE1WcpOv</td>\n",
       "      <td>ZA</td>\n",
       "      <td>2013</td>\n",
       "      <td>37i9dQZF1DWWxuZGEYY4h1</td>\n",
       "      <td>NaN</td>\n",
       "    </tr>\n",
       "    <tr>\n",
       "      <th>1</th>\n",
       "      <td>0.23519</td>\n",
       "      <td>0.19578</td>\n",
       "      <td>0.839</td>\n",
       "      <td>-26.162</td>\n",
       "      <td>0.05685</td>\n",
       "      <td>-14.071</td>\n",
       "      <td>0.658</td>\n",
       "      <td>0.696</td>\n",
       "      <td>0.743</td>\n",
       "      <td>0.582</td>\n",
       "      <td>...</td>\n",
       "      <td>5.385</td>\n",
       "      <td>16.475</td>\n",
       "      <td>-25.425</td>\n",
       "      <td>-53.694</td>\n",
       "      <td>0.512</td>\n",
       "      <td>spotify:track:5u91yhBCFvQZIbGE1WcpOv</td>\n",
       "      <td>ZA</td>\n",
       "      <td>2013</td>\n",
       "      <td>37i9dQZF1DWWxuZGEYY4h1</td>\n",
       "      <td>NaN</td>\n",
       "    </tr>\n",
       "    <tr>\n",
       "      <th>2</th>\n",
       "      <td>0.43098</td>\n",
       "      <td>0.14939</td>\n",
       "      <td>0.660</td>\n",
       "      <td>-26.702</td>\n",
       "      <td>0.01846</td>\n",
       "      <td>-20.000</td>\n",
       "      <td>0.043</td>\n",
       "      <td>0.063</td>\n",
       "      <td>0.418</td>\n",
       "      <td>0.076</td>\n",
       "      <td>...</td>\n",
       "      <td>6.604</td>\n",
       "      <td>22.104</td>\n",
       "      <td>-23.651</td>\n",
       "      <td>-13.663</td>\n",
       "      <td>3.256</td>\n",
       "      <td>spotify:track:5u91yhBCFvQZIbGE1WcpOv</td>\n",
       "      <td>ZA</td>\n",
       "      <td>2013</td>\n",
       "      <td>37i9dQZF1DWWxuZGEYY4h1</td>\n",
       "      <td>NaN</td>\n",
       "    </tr>\n",
       "  </tbody>\n",
       "</table>\n",
       "<p>3 rows × 35 columns</p>\n",
       "</div>"
      ],
      "text/plain": [
       "     start  duration  confidence  loudness_start  loudness_max_time  \\\n",
       "0  0.00000   0.23519       1.000         -60.000            0.05514   \n",
       "1  0.23519   0.19578       0.839         -26.162            0.05685   \n",
       "2  0.43098   0.14939       0.660         -26.702            0.01846   \n",
       "\n",
       "   loudness_max     p1     p2     p3     p4  ...     t8      t9      t10  \\\n",
       "0       -18.965  0.371  0.233  0.268  0.030  ... -0.570 -16.943  104.535   \n",
       "1       -14.071  0.658  0.696  0.743  0.582  ...  5.385  16.475  -25.425   \n",
       "2       -20.000  0.043  0.063  0.418  0.076  ...  6.604  22.104  -23.651   \n",
       "\n",
       "      t11    t12                              track_id  Country  Year  \\\n",
       "0  -1.579 -1.120  spotify:track:5u91yhBCFvQZIbGE1WcpOv       ZA  2013   \n",
       "1 -53.694  0.512  spotify:track:5u91yhBCFvQZIbGE1WcpOv       ZA  2013   \n",
       "2 -13.663  3.256  spotify:track:5u91yhBCFvQZIbGE1WcpOv       ZA  2013   \n",
       "\n",
       "                 Playlist  change  \n",
       "0  37i9dQZF1DWWxuZGEYY4h1     NaN  \n",
       "1  37i9dQZF1DWWxuZGEYY4h1     NaN  \n",
       "2  37i9dQZF1DWWxuZGEYY4h1     NaN  \n",
       "\n",
       "[3 rows x 35 columns]"
      ]
     },
     "execution_count": 17,
     "metadata": {},
     "output_type": "execute_result"
    }
   ],
   "source": [
    "qwe"
   ]
  },
  {
   "cell_type": "code",
   "execution_count": null,
   "metadata": {},
   "outputs": [],
   "source": []
  }
 ],
 "metadata": {
  "kernelspec": {
   "display_name": "Python 3",
   "language": "python",
   "name": "python3"
  },
  "language_info": {
   "codemirror_mode": {
    "name": "ipython",
    "version": 3
   },
   "file_extension": ".py",
   "mimetype": "text/x-python",
   "name": "python",
   "nbconvert_exporter": "python",
   "pygments_lexer": "ipython3",
   "version": "3.7.6"
  }
 },
 "nbformat": 4,
 "nbformat_minor": 4
}
