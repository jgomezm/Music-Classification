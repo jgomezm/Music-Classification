{
 "cells": [
  {
   "cell_type": "code",
   "execution_count": 1,
   "metadata": {},
   "outputs": [],
   "source": [
    "import pandas as pd\n",
    "import numpy as np\n",
    "import glob\n",
    "import os\n",
    "import random\n",
    "import pickle\n",
    "from sklearn.preprocessing import OneHotEncoder\n",
    "from sklearn.utils import class_weight\n",
    "from sklearn.metrics import confusion_matrix\n",
    "import matplotlib.pyplot as plt"
   ]
  },
  {
   "cell_type": "code",
   "execution_count": 2,
   "metadata": {},
   "outputs": [
    {
     "name": "stderr",
     "output_type": "stream",
     "text": [
      "Using TensorFlow backend.\n"
     ]
    }
   ],
   "source": [
    "import tensorflow.keras as keras\n",
    "from tensorflow.keras import Sequential\n",
    "from tensorflow.keras.layers import LSTM, Dense, LSTM, Flatten, BatchNormalization\n",
    "from keras.utils import to_categorical\n"
   ]
  },
  {
   "cell_type": "code",
   "execution_count": 3,
   "metadata": {},
   "outputs": [],
   "source": [
    "#os.environ[\"KERAS_BACKEND\"] = \"plaidml.keras.backend\"\n",
    "#import keras as keras\n",
    "#from keras import Sequential\n",
    "#from keras.layers import LSTM, Dense, LSTM, Flatten\n",
    "#from keras.utils import to_categorical\n",
    "\n",
    "#os.environ[\"KERAS_BACKEND\"] = \"plaidml.keras.backend\""
   ]
  },
  {
   "cell_type": "markdown",
   "metadata": {},
   "source": [
    "import tensorflow"
   ]
  },
  {
   "cell_type": "markdown",
   "metadata": {},
   "source": [
    "import tensorflow.keras as keras\n",
    "from tensorflow.keras import Sequential\n",
    "from tensorflow.keras.layers import LSTM, Dense\n",
    "from tensorflow.keras.utils import to_categorical\n",
    "from tensorflow.keras import backend"
   ]
  },
  {
   "cell_type": "code",
   "execution_count": 4,
   "metadata": {},
   "outputs": [
    {
     "name": "stderr",
     "output_type": "stream",
     "text": [
      "C:\\Users\\jgomezm\\AppData\\Local\\Continuum\\anaconda3\\lib\\site-packages\\sklearn\\base.py:318: UserWarning: Trying to unpickle estimator OneHotEncoder from version 0.21.3 when using version 0.22.2.post1. This might lead to breaking code or invalid results. Use at your own risk.\n",
      "  UserWarning)\n"
     ]
    }
   ],
   "source": [
    "enc = pickle.load( open( \"pickle\\\\enc.p\", \"rb\" ) )"
   ]
  },
  {
   "cell_type": "code",
   "execution_count": 5,
   "metadata": {},
   "outputs": [
    {
     "data": {
      "text/plain": [
       "array([1.92811562, 0.99980535, 1.81855196, 1.10213496, 1.15103641,\n",
       "       1.05299303, 1.92378277, 2.5068326 , 0.5429417 , 1.10963491,\n",
       "       0.92002508, 0.4070288 ])"
      ]
     },
     "execution_count": 5,
     "metadata": {},
     "output_type": "execute_result"
    }
   ],
   "source": [
    "val_x = pickle.load( open( \"pickle\\\\val_x.p\", \"rb\" ) )\n",
    "train_x = pickle.load( open( \"pickle\\\\train_x.p\", \"rb\" ) )\n",
    "val_labels = pickle.load( open( \"pickle\\\\val_labels.p\", \"rb\" ) )\n",
    "train_labels = pickle.load( open( \"pickle\\\\train_labels.p\", \"rb\" ) )\n",
    "class_weights = pickle.load( open( \"pickle\\\\class_weights.p\", \"rb\" ) )\n",
    "class_weights"
   ]
  },
  {
   "cell_type": "code",
   "execution_count": 6,
   "metadata": {},
   "outputs": [
    {
     "name": "stdout",
     "output_type": "stream",
     "text": [
      "(41092, 200, 27)\n",
      "41092\n"
     ]
    }
   ],
   "source": [
    "print(train_x.shape)\n",
    "print(len(train_labels))"
   ]
  },
  {
   "cell_type": "code",
   "execution_count": null,
   "metadata": {},
   "outputs": [],
   "source": []
  },
  {
   "cell_type": "markdown",
   "metadata": {},
   "source": [
    "### Define Model"
   ]
  },
  {
   "cell_type": "code",
   "execution_count": 7,
   "metadata": {},
   "outputs": [
    {
     "data": {
      "text/plain": [
       "(41092, 200, 27)"
      ]
     },
     "execution_count": 7,
     "metadata": {},
     "output_type": "execute_result"
    }
   ],
   "source": [
    "train_x.shape"
   ]
  },
  {
   "cell_type": "code",
   "execution_count": 8,
   "metadata": {},
   "outputs": [
    {
     "data": {
      "text/plain": [
       "(41092, 12)"
      ]
     },
     "execution_count": 8,
     "metadata": {},
     "output_type": "execute_result"
    }
   ],
   "source": [
    "train_labels.shape"
   ]
  },
  {
   "cell_type": "code",
   "execution_count": 9,
   "metadata": {},
   "outputs": [
    {
     "data": {
      "text/plain": [
       "array([1776., 3425., 1883., 3107., 2975., 3252., 1780., 1366., 6307.,\n",
       "       3086., 3722., 8413.])"
      ]
     },
     "execution_count": 9,
     "metadata": {},
     "output_type": "execute_result"
    }
   ],
   "source": [
    "np.sum(train_labels, axis = 0)"
   ]
  },
  {
   "cell_type": "code",
   "execution_count": 10,
   "metadata": {},
   "outputs": [
    {
     "data": {
      "text/plain": [
       "array([ 436.,  781.,  469.,  833.,  671.,  862.,  454.,  316., 1849.,\n",
       "        785.,  936., 2103.])"
      ]
     },
     "execution_count": 10,
     "metadata": {},
     "output_type": "execute_result"
    }
   ],
   "source": [
    "np.sum(val_labels, axis = 0)"
   ]
  },
  {
   "cell_type": "code",
   "execution_count": 11,
   "metadata": {},
   "outputs": [
    {
     "data": {
      "text/plain": [
       "0.2047357149810182"
      ]
     },
     "execution_count": 11,
     "metadata": {},
     "output_type": "execute_result"
    }
   ],
   "source": [
    "max(np.sum(train_labels, axis = 0))/sum(np.sum(train_labels, axis = 0))"
   ]
  },
  {
   "cell_type": "code",
   "execution_count": 12,
   "metadata": {},
   "outputs": [
    {
     "data": {
      "text/plain": [
       "0.200381133873273"
      ]
     },
     "execution_count": 12,
     "metadata": {},
     "output_type": "execute_result"
    }
   ],
   "source": [
    "max(np.sum(val_labels, axis = 0))/sum(np.sum(val_labels, axis = 0))"
   ]
  },
  {
   "cell_type": "code",
   "execution_count": 13,
   "metadata": {},
   "outputs": [
    {
     "data": {
      "text/plain": [
       "array(['AU', 'CO', 'EC', 'GB', 'HK', 'JP', 'MX', 'NZ', 'TN', 'TR', 'US',\n",
       "       'ZA'], dtype=object)"
      ]
     },
     "execution_count": 13,
     "metadata": {},
     "output_type": "execute_result"
    }
   ],
   "source": [
    "enc.categories_[0]"
   ]
  },
  {
   "cell_type": "markdown",
   "metadata": {},
   "source": [
    "### 3 LSTM model"
   ]
  },
  {
   "cell_type": "code",
   "execution_count": 14,
   "metadata": {
    "scrolled": true
   },
   "outputs": [],
   "source": [
    "out_index = 2\n",
    "model = keras.Sequential()\n",
    "model.add(LSTM(64, \n",
    "               input_shape=(train_x.shape[1], train_x.shape[2]), \n",
    "               return_sequences = True))\n",
    "model.add(LSTM(128, \n",
    "               input_shape=(train_x.shape[1], train_x.shape[2]), \n",
    "               return_sequences = True,\n",
    "              dropout = .25))\n",
    "model.add(BatchNormalization())\n",
    "model.add(LSTM(256, \n",
    "               input_shape=(train_x.shape[1], train_x.shape[2]), \n",
    "               return_sequences = False,\n",
    "              dropout = .25))\n",
    "model.add(BatchNormalization())\n",
    "model.add(Dense(len(enc.categories_[0]), activation= \"softmax\"))"
   ]
  },
  {
   "cell_type": "code",
   "execution_count": 15,
   "metadata": {
    "scrolled": true
   },
   "outputs": [
    {
     "name": "stdout",
     "output_type": "stream",
     "text": [
      "Model: \"sequential\"\n",
      "_________________________________________________________________\n",
      "Layer (type)                 Output Shape              Param #   \n",
      "=================================================================\n",
      "lstm (LSTM)                  (None, 200, 64)           23552     \n",
      "_________________________________________________________________\n",
      "lstm_1 (LSTM)                (None, 200, 128)          98816     \n",
      "_________________________________________________________________\n",
      "batch_normalization (BatchNo (None, 200, 128)          512       \n",
      "_________________________________________________________________\n",
      "lstm_2 (LSTM)                (None, 256)               394240    \n",
      "_________________________________________________________________\n",
      "batch_normalization_1 (Batch (None, 256)               1024      \n",
      "_________________________________________________________________\n",
      "dense (Dense)                (None, 12)                3084      \n",
      "=================================================================\n",
      "Total params: 521,228\n",
      "Trainable params: 520,460\n",
      "Non-trainable params: 768\n",
      "_________________________________________________________________\n",
      "None\n"
     ]
    }
   ],
   "source": [
    "adam = keras.optimizers.Adam(lr=0.001)\n",
    "model.compile(loss = \"categorical_crossentropy\", optimizer= adam, metrics=[\"acc\"])\n",
    "print(model.summary())"
   ]
  },
  {
   "cell_type": "code",
   "execution_count": 17,
   "metadata": {},
   "outputs": [
    {
     "name": "stdout",
     "output_type": "stream",
     "text": [
      "Train on 41092 samples, validate on 10495 samples\n",
      "Epoch 1/10\n",
      "41092/41092 [==============================] - 466s 11ms/sample - loss: 2.5369 - acc: 0.1396 - val_loss: 2.3471 - val_acc: 0.2004\n",
      "Epoch 2/10\n",
      "41092/41092 [==============================] - 488s 12ms/sample - loss: 2.4058 - acc: 0.1843 - val_loss: 2.3532 - val_acc: 0.2006\n",
      "Epoch 3/10\n",
      "41092/41092 [==============================] - 506s 12ms/sample - loss: 2.3910 - acc: 0.1918 - val_loss: 2.4008 - val_acc: 0.2005\n",
      "Epoch 4/10\n",
      "41092/41092 [==============================] - 502s 12ms/sample - loss: 2.3609 - acc: 0.2037 - val_loss: 2.3990 - val_acc: 0.2004\n",
      "Epoch 5/10\n",
      "41092/41092 [==============================] - 511s 12ms/sample - loss: 2.3514 - acc: 0.2033 - val_loss: 2.4408 - val_acc: 0.1762\n",
      "Epoch 6/10\n",
      "41092/41092 [==============================] - 520s 13ms/sample - loss: 2.3530 - acc: 0.2039 - val_loss: 2.3587 - val_acc: 0.1974\n",
      "Epoch 7/10\n",
      "41092/41092 [==============================] - 529s 13ms/sample - loss: 2.3498 - acc: 0.2046 - val_loss: 2.3659 - val_acc: 0.1958\n",
      "Epoch 8/10\n",
      "41092/41092 [==============================] - 533s 13ms/sample - loss: 2.3514 - acc: 0.2045 - val_loss: 2.3378 - val_acc: 0.2037\n",
      "Epoch 9/10\n",
      "41092/41092 [==============================] - 546s 13ms/sample - loss: 2.3488 - acc: 0.2043 - val_loss: 2.3521 - val_acc: 0.2002\n",
      "Epoch 10/10\n",
      "41092/41092 [==============================] - 547s 13ms/sample - loss: 2.3471 - acc: 0.2055 - val_loss: 2.3371 - val_acc: 0.2052\n"
     ]
    },
    {
     "data": {
      "text/plain": [
       "<tensorflow.python.keras.callbacks.History at 0x2041b357b70>"
      ]
     },
     "execution_count": 17,
     "metadata": {},
     "output_type": "execute_result"
    }
   ],
   "source": [
    "model.fit(train_x, train_labels,\n",
    "          epochs = 10, \n",
    "          shuffle = True,\n",
    "          validation_data = (val_x, val_labels),\n",
    "          batch_size = 512,\n",
    "         class_weight = class_weights)"
   ]
  },
  {
   "cell_type": "code",
   "execution_count": 18,
   "metadata": {},
   "outputs": [
    {
     "name": "stdout",
     "output_type": "stream",
     "text": [
      "10495/10495 [==============================] - 24s 2ms/sample\n",
      "[ 431.29147  876.13544  509.49615  745.4965   716.6173   857.84607\n",
      "  452.00354  333.7499  1639.9332   737.72296  893.89404 2300.556  ]\n",
      "[ 436.  781.  469.  833.  671.  862.  454.  316. 1849.  785.  936. 2103.]\n"
     ]
    }
   ],
   "source": [
    "preds = model.predict(val_x, batch_size = 256, verbose = 1)\n",
    "print(np.sum(preds, axis = 0))\n",
    "print(np.sum(val_labels, axis = 0))"
   ]
  },
  {
   "cell_type": "code",
   "execution_count": 19,
   "metadata": {},
   "outputs": [
    {
     "data": {
      "text/plain": [
       "<matplotlib.image.AxesImage at 0x2041ce5c048>"
      ]
     },
     "execution_count": 19,
     "metadata": {},
     "output_type": "execute_result"
    },
    {
     "data": {
      "image/png": "[encoded data removed]",
      "text/plain": [
       "<Figure size 432x288 with 1 Axes>"
      ]
     },
     "metadata": {
      "needs_background": "light"
     },
     "output_type": "display_data"
    }
   ],
   "source": [
    "plt.imshow(\n",
    "    confusion_matrix(\n",
    "        enc.inverse_transform(preds), \n",
    "        enc.inverse_transform(val_labels), \n",
    "        normalize = \"true\"\n",
    "    )\n",
    ")"
   ]
  },
  {
   "cell_type": "code",
   "execution_count": 20,
   "metadata": {},
   "outputs": [
    {
     "name": "stdout",
     "output_type": "stream",
     "text": [
      "Model: \"sequential\"\n",
      "_________________________________________________________________\n",
      "Layer (type)                 Output Shape              Param #   \n",
      "=================================================================\n",
      "lstm (LSTM)                  (None, 200, 64)           23552     \n",
      "_________________________________________________________________\n",
      "lstm_1 (LSTM)                (None, 200, 128)          98816     \n",
      "_________________________________________________________________\n",
      "batch_normalization (BatchNo (None, 200, 128)          512       \n",
      "_________________________________________________________________\n",
      "lstm_2 (LSTM)                (None, 256)               394240    \n",
      "_________________________________________________________________\n",
      "batch_normalization_1 (Batch (None, 256)               1024      \n",
      "_________________________________________________________________\n",
      "dense (Dense)                (None, 12)                3084      \n",
      "=================================================================\n",
      "Total params: 521,228\n",
      "Trainable params: 520,460\n",
      "Non-trainable params: 768\n",
      "_________________________________________________________________\n",
      "None\n"
     ]
    }
   ],
   "source": [
    "adam = keras.optimizers.Adam(lr=0.0001)\n",
    "model.compile(loss = \"categorical_crossentropy\", optimizer= adam, metrics=[\"acc\"])\n",
    "print(model.summary())"
   ]
  },
  {
   "cell_type": "code",
   "execution_count": 21,
   "metadata": {
    "scrolled": true
   },
   "outputs": [
    {
     "name": "stdout",
     "output_type": "stream",
     "text": [
      "Train on 41092 samples, validate on 10495 samples\n",
      "Epoch 1/45\n",
      "41092/41092 [==============================] - 517s 13ms/sample - loss: 2.3401 - acc: 0.2062 - val_loss: 2.3309 - val_acc: 0.2035\n",
      "Epoch 2/45\n",
      "41092/41092 [==============================] - 510s 12ms/sample - loss: 2.3387 - acc: 0.2061 - val_loss: 2.3300 - val_acc: 0.2047\n",
      "Epoch 3/45\n",
      "41092/41092 [==============================] - 515s 13ms/sample - loss: 2.3377 - acc: 0.2073 - val_loss: 2.3309 - val_acc: 0.2016\n",
      "Epoch 4/45\n",
      "41092/41092 [==============================] - 523s 13ms/sample - loss: 2.3368 - acc: 0.2076 - val_loss: 2.3303 - val_acc: 0.2034\n",
      "Epoch 5/45\n",
      "41092/41092 [==============================] - 543s 13ms/sample - loss: 2.3369 - acc: 0.2075 - val_loss: 2.3313 - val_acc: 0.2044\n",
      "Epoch 6/45\n",
      "41092/41092 [==============================] - 532s 13ms/sample - loss: 2.3372 - acc: 0.2072 - val_loss: 2.3321 - val_acc: 0.2043\n",
      "Epoch 7/45\n",
      "41092/41092 [==============================] - 552s 13ms/sample - loss: 2.3364 - acc: 0.2075 - val_loss: 2.3328 - val_acc: 0.2024\n",
      "Epoch 8/45\n",
      "41092/41092 [==============================] - 555s 14ms/sample - loss: 2.3360 - acc: 0.2078 - val_loss: 2.3297 - val_acc: 0.2051\n",
      "Epoch 9/45\n",
      "41092/41092 [==============================] - 555s 14ms/sample - loss: 2.3347 - acc: 0.2080 - val_loss: 2.3301 - val_acc: 0.2047\n",
      "Epoch 10/45\n",
      "41092/41092 [==============================] - 552s 13ms/sample - loss: 2.3339 - acc: 0.2082 - val_loss: 2.3324 - val_acc: 0.2004\n",
      "Epoch 11/45\n",
      "41092/41092 [==============================] - 555s 13ms/sample - loss: 2.3348 - acc: 0.2084 - val_loss: 2.3329 - val_acc: 0.2038\n",
      "Epoch 12/45\n",
      "41092/41092 [==============================] - 559s 14ms/sample - loss: 2.3350 - acc: 0.2082 - val_loss: 2.3319 - val_acc: 0.2038\n",
      "Epoch 13/45\n",
      "41092/41092 [==============================] - 560s 14ms/sample - loss: 2.3335 - acc: 0.2087 - val_loss: 2.3309 - val_acc: 0.2016\n",
      "Epoch 14/45\n",
      "41092/41092 [==============================] - 562s 14ms/sample - loss: 2.3324 - acc: 0.2091 - val_loss: 2.3374 - val_acc: 0.2021\n",
      "Epoch 15/45\n",
      "41092/41092 [==============================] - 572s 14ms/sample - loss: 2.3327 - acc: 0.2090 - val_loss: 2.3408 - val_acc: 0.2003\n",
      "Epoch 16/45\n",
      "41092/41092 [==============================] - 573s 14ms/sample - loss: 2.3310 - acc: 0.2083 - val_loss: 2.5434 - val_acc: 0.1743\n",
      "Epoch 17/45\n",
      "41092/41092 [==============================] - 571s 14ms/sample - loss: 2.3333 - acc: 0.2064 - val_loss: 2.4013 - val_acc: 0.1978\n",
      "Epoch 18/45\n",
      "41092/41092 [==============================] - 575s 14ms/sample - loss: 2.3244 - acc: 0.2105 - val_loss: 2.3167 - val_acc: 0.2162\n",
      "Epoch 19/45\n",
      "41092/41092 [==============================] - 576s 14ms/sample - loss: 2.3276 - acc: 0.2134 - val_loss: 2.3382 - val_acc: 0.2094\n",
      "Epoch 20/45\n",
      "41092/41092 [==============================] - 584s 14ms/sample - loss: 2.3311 - acc: 0.2114 - val_loss: 2.3235 - val_acc: 0.2134\n",
      "Epoch 21/45\n",
      "41092/41092 [==============================] - 591s 14ms/sample - loss: 2.3259 - acc: 0.2138 - val_loss: 2.3141 - val_acc: 0.2196\n",
      "Epoch 22/45\n",
      "41092/41092 [==============================] - 589s 14ms/sample - loss: 2.3164 - acc: 0.2140 - val_loss: 2.3106 - val_acc: 0.2327\n",
      "Epoch 23/45\n",
      "41092/41092 [==============================] - 585s 14ms/sample - loss: 2.3291 - acc: 0.2098 - val_loss: 2.4560 - val_acc: 0.1753\n",
      "Epoch 24/45\n",
      "41092/41092 [==============================] - 578s 14ms/sample - loss: 2.3338 - acc: 0.2094 - val_loss: 2.3799 - val_acc: 0.2328\n",
      "Epoch 25/45\n",
      "41092/41092 [==============================] - 578s 14ms/sample - loss: 2.3153 - acc: 0.2163 - val_loss: 2.3440 - val_acc: 0.2311\n",
      "Epoch 26/45\n",
      "41092/41092 [==============================] - 577s 14ms/sample - loss: 2.3074 - acc: 0.2162 - val_loss: 2.3211 - val_acc: 0.2280\n",
      "Epoch 27/45\n",
      "41092/41092 [==============================] - 569s 14ms/sample - loss: 2.3019 - acc: 0.2177 - val_loss: 2.3129 - val_acc: 0.2340\n",
      "Epoch 28/45\n",
      "41092/41092 [==============================] - 565s 14ms/sample - loss: 2.3000 - acc: 0.2193 - val_loss: 2.2935 - val_acc: 0.2311\n",
      "Epoch 29/45\n",
      "41092/41092 [==============================] - 573s 14ms/sample - loss: 2.2926 - acc: 0.2189 - val_loss: 2.2923 - val_acc: 0.2333\n",
      "Epoch 30/45\n",
      "41092/41092 [==============================] - 570s 14ms/sample - loss: 2.2894 - acc: 0.2193 - val_loss: 2.3158 - val_acc: 0.2354\n",
      "Epoch 31/45\n",
      "41092/41092 [==============================] - 576s 14ms/sample - loss: 2.2863 - acc: 0.2217 - val_loss: 2.3144 - val_acc: 0.2217\n",
      "Epoch 32/45\n",
      "41092/41092 [==============================] - 579s 14ms/sample - loss: 2.2815 - acc: 0.2215 - val_loss: 2.2929 - val_acc: 0.2282\n",
      "Epoch 33/45\n",
      "41092/41092 [==============================] - 585s 14ms/sample - loss: 2.2808 - acc: 0.2220 - val_loss: 2.3248 - val_acc: 0.1953\n",
      "Epoch 34/45\n",
      "41092/41092 [==============================] - 580s 14ms/sample - loss: 2.2807 - acc: 0.2223 - val_loss: 2.2764 - val_acc: 0.2356\n",
      "Epoch 35/45\n",
      "41092/41092 [==============================] - 591s 14ms/sample - loss: 2.2798 - acc: 0.2240 - val_loss: 2.2831 - val_acc: 0.2239\n",
      "Epoch 36/45\n",
      "41092/41092 [==============================] - 592s 14ms/sample - loss: 2.2758 - acc: 0.2234 - val_loss: 2.2938 - val_acc: 0.2236\n",
      "Epoch 37/45\n",
      "41092/41092 [==============================] - 582s 14ms/sample - loss: 2.2743 - acc: 0.2255 - val_loss: 2.3449 - val_acc: 0.1970\n",
      "Epoch 38/45\n",
      "41092/41092 [==============================] - 584s 14ms/sample - loss: 2.2740 - acc: 0.2235 - val_loss: 2.2863 - val_acc: 0.2204\n",
      "Epoch 39/45\n",
      "41092/41092 [==============================] - 587s 14ms/sample - loss: 2.2718 - acc: 0.2238 - val_loss: 2.3255 - val_acc: 0.2026\n",
      "Epoch 40/45\n",
      "41092/41092 [==============================] - 585s 14ms/sample - loss: 2.2684 - acc: 0.2277 - val_loss: 2.3723 - val_acc: 0.1986\n",
      "Epoch 41/45\n",
      "41092/41092 [==============================] - 589s 14ms/sample - loss: 2.2677 - acc: 0.2275 - val_loss: 2.3526 - val_acc: 0.1988\n",
      "Epoch 42/45\n",
      "41092/41092 [==============================] - 587s 14ms/sample - loss: 2.2648 - acc: 0.2281 - val_loss: 2.3388 - val_acc: 0.2014\n",
      "Epoch 43/45\n",
      "41092/41092 [==============================] - 589s 14ms/sample - loss: 2.2620 - acc: 0.2302 - val_loss: 2.3326 - val_acc: 0.2068\n",
      "Epoch 44/45\n",
      "41092/41092 [==============================] - 584s 14ms/sample - loss: 2.2591 - acc: 0.2329 - val_loss: 2.3659 - val_acc: 0.1955\n",
      "Epoch 45/45\n",
      "41092/41092 [==============================] - 586s 14ms/sample - loss: 2.2564 - acc: 0.2303 - val_loss: 2.3618 - val_acc: 0.1925\n"
     ]
    },
    {
     "data": {
      "text/plain": [
       "<tensorflow.python.keras.callbacks.History at 0x2041ca81588>"
      ]
     },
     "execution_count": 21,
     "metadata": {},
     "output_type": "execute_result"
    }
   ],
   "source": [
    "model.fit(train_x, train_labels,\n",
    "          epochs = 45, \n",
    "          shuffle = True,\n",
    "          validation_data = (val_x, val_labels),\n",
    "          batch_size = 512,\n",
    "         class_weight = class_weights)"
   ]
  },
  {
   "cell_type": "code",
   "execution_count": 22,
   "metadata": {},
   "outputs": [
    {
     "name": "stdout",
     "output_type": "stream",
     "text": [
      "10495/10495 [==============================] - 26s 2ms/sample\n",
      "[ 522.39453  545.68335  929.2534   663.6676  1108.7777   920.9102\n",
      "  650.31744  327.13504  842.5124   711.87006 1431.1395  1841.338  ]\n",
      "[ 436.  781.  469.  833.  671.  862.  454.  316. 1849.  785.  936. 2103.]\n"
     ]
    }
   ],
   "source": [
    "preds = model.predict(val_x, batch_size = 256, verbose = 1)\n",
    "print(np.sum(preds, axis = 0))\n",
    "print(np.sum(val_labels, axis = 0))"
   ]
  },
  {
   "cell_type": "code",
   "execution_count": 23,
   "metadata": {},
   "outputs": [
    {
     "data": {
      "text/plain": [
       "<matplotlib.image.AxesImage at 0x2041edf54e0>"
      ]
     },
     "execution_count": 23,
     "metadata": {},
     "output_type": "execute_result"
    },
    {
     "data": {
      "image/png": "[encoded data removed]",
      "text/plain": [
       "<Figure size 432x288 with 1 Axes>"
      ]
     },
     "metadata": {
      "needs_background": "light"
     },
     "output_type": "display_data"
    }
   ],
   "source": [
    "plt.imshow(\n",
    "    confusion_matrix(\n",
    "        enc.inverse_transform(preds), \n",
    "        enc.inverse_transform(val_labels), \n",
    "        normalize = \"true\"\n",
    "    )\n",
    ")"
   ]
  },
  {
   "cell_type": "markdown",
   "metadata": {},
   "source": [
    "### 3 LSTM w/ Dense"
   ]
  },
  {
   "cell_type": "code",
   "execution_count": 24,
   "metadata": {},
   "outputs": [
    {
     "name": "stdout",
     "output_type": "stream",
     "text": [
      "Model: \"sequential\"\n",
      "_________________________________________________________________\n",
      "Layer (type)                 Output Shape              Param #   \n",
      "=================================================================\n",
      "lstm (LSTM)                  (None, 200, 64)           23552     \n",
      "_________________________________________________________________\n",
      "lstm_1 (LSTM)                (None, 200, 128)          98816     \n",
      "_________________________________________________________________\n",
      "batch_normalization (BatchNo (None, 200, 128)          512       \n",
      "_________________________________________________________________\n",
      "lstm_2 (LSTM)                (None, 256)               394240    \n",
      "_________________________________________________________________\n",
      "batch_normalization_1 (Batch (None, 256)               1024      \n",
      "_________________________________________________________________\n",
      "dense_1 (Dense)              (None, 100)               25700     \n",
      "_________________________________________________________________\n",
      "batch_normalization_2 (Batch (None, 100)               400       \n",
      "_________________________________________________________________\n",
      "dense_2 (Dense)              (None, 12)                1212      \n",
      "=================================================================\n",
      "Total params: 545,456\n",
      "Trainable params: 421,864\n",
      "Non-trainable params: 123,592\n",
      "_________________________________________________________________\n",
      "None\n"
     ]
    }
   ],
   "source": [
    "model.pop()\n",
    "for layer in model.layers:\n",
    "    layer.trainable = False\n",
    "model.layers[-1].trainable = True\n",
    "model.layers[-2].trainable = True\n",
    "model.add(Dense(100, activation = 'relu'))\n",
    "model.add(BatchNormalization())\n",
    "model.add(Dense(len(enc.categories_[0]), activation= \"softmax\"))\n",
    "model.compile(loss = \"categorical_crossentropy\", optimizer= adam, metrics=[\"acc\"])\n",
    "print(model.summary())"
   ]
  },
  {
   "cell_type": "code",
   "execution_count": 25,
   "metadata": {
    "scrolled": true
   },
   "outputs": [
    {
     "name": "stdout",
     "output_type": "stream",
     "text": [
      "Train on 41092 samples, validate on 10495 samples\n",
      "Epoch 1/20\n",
      "41092/41092 [==============================] - 616s 15ms/sample - loss: 2.5235 - acc: 0.1585 - val_loss: 2.6709 - val_acc: 0.1044\n",
      "Epoch 2/20\n",
      "41092/41092 [==============================] - 612s 15ms/sample - loss: 2.3659 - acc: 0.1975 - val_loss: 2.5080 - val_acc: 0.1633\n",
      "Epoch 3/20\n",
      "41092/41092 [==============================] - 614s 15ms/sample - loss: 2.3175 - acc: 0.2163 - val_loss: 2.4841 - val_acc: 0.1700\n",
      "Epoch 4/20\n",
      "41092/41092 [==============================] - 620s 15ms/sample - loss: 2.2970 - acc: 0.2225 - val_loss: 2.3788 - val_acc: 0.1875\n",
      "Epoch 5/20\n",
      "41092/41092 [==============================] - 618s 15ms/sample - loss: 2.2835 - acc: 0.2296 - val_loss: 2.3709 - val_acc: 0.1840\n",
      "Epoch 6/20\n",
      "41092/41092 [==============================] - 623s 15ms/sample - loss: 2.2756 - acc: 0.2297 - val_loss: 2.3424 - val_acc: 0.2000\n",
      "Epoch 7/20\n",
      "41092/41092 [==============================] - 621s 15ms/sample - loss: 2.2691 - acc: 0.2328 - val_loss: 2.3357 - val_acc: 0.1970\n",
      "Epoch 8/20\n",
      "41092/41092 [==============================] - 622s 15ms/sample - loss: 2.2624 - acc: 0.2315 - val_loss: 2.3331 - val_acc: 0.1936\n",
      "Epoch 9/20\n",
      "41092/41092 [==============================] - 622s 15ms/sample - loss: 2.2619 - acc: 0.2339 - val_loss: 2.3350 - val_acc: 0.1987\n",
      "Epoch 10/20\n",
      "41092/41092 [==============================] - 624s 15ms/sample - loss: 2.3226 - acc: 0.2160 - val_loss: 3.7274 - val_acc: 0.0862\n",
      "Epoch 11/20\n",
      "41092/41092 [==============================] - 624s 15ms/sample - loss: 2.3375 - acc: 0.2141 - val_loss: 3.9540 - val_acc: 0.0467\n",
      "Epoch 12/20\n",
      "41092/41092 [==============================] - 621s 15ms/sample - loss: 2.3013 - acc: 0.2224 - val_loss: 3.5658 - val_acc: 0.0843\n",
      "Epoch 13/20\n",
      "41092/41092 [==============================] - 627s 15ms/sample - loss: 2.2869 - acc: 0.2292 - val_loss: 3.0320 - val_acc: 0.0827\n",
      "Epoch 14/20\n",
      "41092/41092 [==============================] - 624s 15ms/sample - loss: 2.2817 - acc: 0.2293 - val_loss: 2.7315 - val_acc: 0.0930\n",
      "Epoch 15/20\n",
      "41092/41092 [==============================] - 627s 15ms/sample - loss: 2.2742 - acc: 0.2316 - val_loss: 2.4466 - val_acc: 0.1323\n",
      "Epoch 16/20\n",
      "41092/41092 [==============================] - 629s 15ms/sample - loss: 2.2710 - acc: 0.2313 - val_loss: 2.6391 - val_acc: 0.1052\n",
      "Epoch 17/20\n",
      "41092/41092 [==============================] - 623s 15ms/sample - loss: 2.2692 - acc: 0.2318 - val_loss: 2.2569 - val_acc: 0.2475\n",
      "Epoch 18/20\n",
      "41092/41092 [==============================] - 622s 15ms/sample - loss: 2.2683 - acc: 0.2324 - val_loss: 2.4348 - val_acc: 0.1430\n",
      "Epoch 19/20\n",
      "41092/41092 [==============================] - 626s 15ms/sample - loss: 2.2678 - acc: 0.2317 - val_loss: 2.3628 - val_acc: 0.1747\n",
      "Epoch 20/20\n",
      "41092/41092 [==============================] - 623s 15ms/sample - loss: 2.2675 - acc: 0.2302 - val_loss: 2.3501 - val_acc: 0.1753\n"
     ]
    },
    {
     "data": {
      "text/plain": [
       "<tensorflow.python.keras.callbacks.History at 0x2041ec81f98>"
      ]
     },
     "execution_count": 25,
     "metadata": {},
     "output_type": "execute_result"
    }
   ],
   "source": [
    "model.fit(train_x, train_labels,\n",
    "          epochs = 20, \n",
    "          shuffle = True,\n",
    "          validation_data = (val_x, val_labels),\n",
    "          batch_size = 512,\n",
    "          class_weight=class_weights)"
   ]
  },
  {
   "cell_type": "code",
   "execution_count": 26,
   "metadata": {},
   "outputs": [
    {
     "name": "stdout",
     "output_type": "stream",
     "text": [
      "10495/10495 [==============================] - 28s 3ms/sample\n",
      "[ 430.5861   539.4516   563.387    543.54236 1631.2274  1173.6455\n",
      "  457.7701   407.9927   855.2072   909.50336  979.48505 2003.1942 ]\n",
      "[ 436.  781.  469.  833.  671.  862.  454.  316. 1849.  785.  936. 2103.]\n"
     ]
    }
   ],
   "source": [
    "preds = model.predict(val_x, batch_size = 256, verbose = 1)\n",
    "print(np.sum(preds, axis = 0))\n",
    "print(np.sum(val_labels, axis = 0))"
   ]
  },
  {
   "cell_type": "code",
   "execution_count": 27,
   "metadata": {},
   "outputs": [
    {
     "data": {
      "text/plain": [
       "<matplotlib.image.AxesImage at 0x2041cfd8198>"
      ]
     },
     "execution_count": 27,
     "metadata": {},
     "output_type": "execute_result"
    },
    {
     "data": {
      "image/png": "[encoded data removed]",
      "text/plain": [
       "<Figure size 432x288 with 1 Axes>"
      ]
     },
     "metadata": {
      "needs_background": "light"
     },
     "output_type": "display_data"
    }
   ],
   "source": [
    "plt.imshow(\n",
    "    confusion_matrix(\n",
    "        enc.inverse_transform(preds), \n",
    "        enc.inverse_transform(val_labels), \n",
    "        normalize = \"true\"\n",
    "    )\n",
    ")"
   ]
  },
  {
   "cell_type": "code",
   "execution_count": 28,
   "metadata": {},
   "outputs": [
    {
     "name": "stdout",
     "output_type": "stream",
     "text": [
      "Model: \"sequential\"\n",
      "_________________________________________________________________\n",
      "Layer (type)                 Output Shape              Param #   \n",
      "=================================================================\n",
      "lstm (LSTM)                  (None, 200, 64)           23552     \n",
      "_________________________________________________________________\n",
      "lstm_1 (LSTM)                (None, 200, 128)          98816     \n",
      "_________________________________________________________________\n",
      "batch_normalization (BatchNo (None, 200, 128)          512       \n",
      "_________________________________________________________________\n",
      "lstm_2 (LSTM)                (None, 256)               394240    \n",
      "_________________________________________________________________\n",
      "batch_normalization_1 (Batch (None, 256)               1024      \n",
      "_________________________________________________________________\n",
      "dense_1 (Dense)              (None, 100)               25700     \n",
      "_________________________________________________________________\n",
      "batch_normalization_2 (Batch (None, 100)               400       \n",
      "_________________________________________________________________\n",
      "dropout (Dropout)            (None, 100)               0         \n",
      "_________________________________________________________________\n",
      "dense_3 (Dense)              (None, 100)               10100     \n",
      "_________________________________________________________________\n",
      "batch_normalization_3 (Batch (None, 100)               400       \n",
      "_________________________________________________________________\n",
      "dense_4 (Dense)              (None, 12)                1212      \n",
      "=================================================================\n",
      "Total params: 555,956\n",
      "Trainable params: 37,412\n",
      "Non-trainable params: 518,544\n",
      "_________________________________________________________________\n",
      "None\n"
     ]
    }
   ],
   "source": [
    "model.pop()\n",
    "\n",
    "for layer in model.layers:\n",
    "    layer.trainable = False\n",
    "model.layers[-1].trainable = True\n",
    "model.layers[-2].trainable = True\n",
    "model.add(keras.layers.Dropout(.25))\n",
    "model.add(Dense(100, activation = 'relu'))\n",
    "model.add(BatchNormalization())\n",
    "model.add(Dense(len(enc.categories_[0]), activation= \"softmax\"))\n",
    "model.compile(loss = \"categorical_crossentropy\", optimizer= adam, metrics=[\"acc\"])\n",
    "print(model.summary())"
   ]
  },
  {
   "cell_type": "code",
   "execution_count": 29,
   "metadata": {},
   "outputs": [
    {
     "name": "stdout",
     "output_type": "stream",
     "text": [
      "Train on 41092 samples, validate on 10495 samples\n",
      "Epoch 1/20\n",
      "41092/41092 [==============================] - 613s 15ms/sample - loss: 2.5956 - acc: 0.1523 - val_loss: 2.5309 - val_acc: 0.0953\n",
      "Epoch 2/20\n",
      "41092/41092 [==============================] - 586s 14ms/sample - loss: 2.4312 - acc: 0.1857 - val_loss: 2.4627 - val_acc: 0.1312\n",
      "Epoch 3/20\n",
      "41092/41092 [==============================] - 592s 14ms/sample - loss: 2.3810 - acc: 0.2032 - val_loss: 2.4072 - val_acc: 0.1689\n",
      "Epoch 4/20\n",
      "41092/41092 [==============================] - 589s 14ms/sample - loss: 2.3522 - acc: 0.2119 - val_loss: 2.3721 - val_acc: 0.1953\n",
      "Epoch 5/20\n",
      "41092/41092 [==============================] - 593s 14ms/sample - loss: 2.3329 - acc: 0.2179 - val_loss: 2.3826 - val_acc: 0.1893\n",
      "Epoch 6/20\n",
      "41092/41092 [==============================] - 591s 14ms/sample - loss: 2.3220 - acc: 0.2191 - val_loss: 2.3712 - val_acc: 0.1917\n",
      "Epoch 7/20\n",
      "41092/41092 [==============================] - 589s 14ms/sample - loss: 2.3120 - acc: 0.2225 - val_loss: 2.3579 - val_acc: 0.1987\n",
      "Epoch 8/20\n",
      "41092/41092 [==============================] - 590s 14ms/sample - loss: 2.3043 - acc: 0.2251 - val_loss: 2.3537 - val_acc: 0.1930\n",
      "Epoch 9/20\n",
      "41092/41092 [==============================] - 594s 14ms/sample - loss: 2.2970 - acc: 0.2236 - val_loss: 2.3394 - val_acc: 0.1963\n",
      "Epoch 10/20\n",
      "41092/41092 [==============================] - 595s 14ms/sample - loss: 2.2957 - acc: 0.2254 - val_loss: 2.3316 - val_acc: 0.1969\n",
      "Epoch 11/20\n",
      "41092/41092 [==============================] - 590s 14ms/sample - loss: 2.2911 - acc: 0.2265 - val_loss: 2.3299 - val_acc: 0.1988\n",
      "Epoch 12/20\n",
      "41092/41092 [==============================] - 592s 14ms/sample - loss: 2.2891 - acc: 0.2259 - val_loss: 2.3317 - val_acc: 0.1938\n",
      "Epoch 13/20\n",
      "41092/41092 [==============================] - 591s 14ms/sample - loss: 2.2848 - acc: 0.2285 - val_loss: 2.3238 - val_acc: 0.1994\n",
      "Epoch 14/20\n",
      "41092/41092 [==============================] - 588s 14ms/sample - loss: 2.2830 - acc: 0.2259 - val_loss: 2.3241 - val_acc: 0.2010\n",
      "Epoch 15/20\n",
      "41092/41092 [==============================] - 594s 14ms/sample - loss: 2.2829 - acc: 0.2277 - val_loss: 2.3231 - val_acc: 0.1996\n",
      "Epoch 16/20\n",
      "41092/41092 [==============================] - 591s 14ms/sample - loss: 2.2805 - acc: 0.2277 - val_loss: 2.3207 - val_acc: 0.2006\n",
      "Epoch 17/20\n",
      "41092/41092 [==============================] - 593s 14ms/sample - loss: 2.2811 - acc: 0.2265 - val_loss: 2.3253 - val_acc: 0.1979\n",
      "Epoch 18/20\n",
      "41092/41092 [==============================] - 591s 14ms/sample - loss: 2.2796 - acc: 0.2270 - val_loss: 2.3158 - val_acc: 0.2024\n",
      "Epoch 19/20\n",
      "41092/41092 [==============================] - 589s 14ms/sample - loss: 2.2789 - acc: 0.2280 - val_loss: 2.3139 - val_acc: 0.2066\n",
      "Epoch 20/20\n",
      "41092/41092 [==============================] - 603s 15ms/sample - loss: 2.2773 - acc: 0.2281 - val_loss: 2.3159 - val_acc: 0.2108\n"
     ]
    },
    {
     "data": {
      "text/plain": [
       "<tensorflow.python.keras.callbacks.History at 0x2041d809c88>"
      ]
     },
     "execution_count": 29,
     "metadata": {},
     "output_type": "execute_result"
    }
   ],
   "source": [
    "model.fit(train_x, train_labels,\n",
    "          epochs = 20, \n",
    "          shuffle = True,\n",
    "          validation_data = (val_x, val_labels),\n",
    "          batch_size = 512,\n",
    "          class_weight=class_weights)"
   ]
  },
  {
   "cell_type": "code",
   "execution_count": 30,
   "metadata": {},
   "outputs": [
    {
     "name": "stdout",
     "output_type": "stream",
     "text": [
      "10495/10495 [==============================] - 29s 3ms/sample\n",
      "[ 471.5032   568.36395  672.9737   621.7615  1287.7083  1011.8565\n",
      "  536.42474  427.61597  965.54315  817.6733  1011.9694  2101.603  ]\n",
      "[ 436.  781.  469.  833.  671.  862.  454.  316. 1849.  785.  936. 2103.]\n"
     ]
    }
   ],
   "source": [
    "preds = model.predict(val_x, batch_size = 256, verbose = 1)\n",
    "print(np.sum(preds, axis = 0))\n",
    "print(np.sum(val_labels, axis = 0))"
   ]
  },
  {
   "cell_type": "code",
   "execution_count": 31,
   "metadata": {},
   "outputs": [
    {
     "data": {
      "text/plain": [
       "<matplotlib.image.AxesImage at 0x2041d079240>"
      ]
     },
     "execution_count": 31,
     "metadata": {},
     "output_type": "execute_result"
    },
    {
     "data": {
      "image/png": "[encoded data removed]",
      "text/plain": [
       "<Figure size 432x288 with 1 Axes>"
      ]
     },
     "metadata": {
      "needs_background": "light"
     },
     "output_type": "display_data"
    }
   ],
   "source": [
    "plt.imshow(\n",
    "    confusion_matrix(\n",
    "        enc.inverse_transform(preds), \n",
    "        enc.inverse_transform(val_labels), \n",
    "        normalize = \"true\"\n",
    "    )\n",
    ")"
   ]
  },
  {
   "cell_type": "markdown",
   "metadata": {},
   "source": [
    "### Tune full network"
   ]
  },
  {
   "cell_type": "code",
   "execution_count": 32,
   "metadata": {},
   "outputs": [
    {
     "name": "stdout",
     "output_type": "stream",
     "text": [
      "Model: \"sequential\"\n",
      "_________________________________________________________________\n",
      "Layer (type)                 Output Shape              Param #   \n",
      "=================================================================\n",
      "lstm (LSTM)                  (None, 200, 64)           23552     \n",
      "_________________________________________________________________\n",
      "lstm_1 (LSTM)                (None, 200, 128)          98816     \n",
      "_________________________________________________________________\n",
      "batch_normalization (BatchNo (None, 200, 128)          512       \n",
      "_________________________________________________________________\n",
      "lstm_2 (LSTM)                (None, 256)               394240    \n",
      "_________________________________________________________________\n",
      "batch_normalization_1 (Batch (None, 256)               1024      \n",
      "_________________________________________________________________\n",
      "dense_1 (Dense)              (None, 100)               25700     \n",
      "_________________________________________________________________\n",
      "batch_normalization_2 (Batch (None, 100)               400       \n",
      "_________________________________________________________________\n",
      "dropout (Dropout)            (None, 100)               0         \n",
      "_________________________________________________________________\n",
      "dense_3 (Dense)              (None, 100)               10100     \n",
      "_________________________________________________________________\n",
      "batch_normalization_3 (Batch (None, 100)               400       \n",
      "_________________________________________________________________\n",
      "dropout_1 (Dropout)          (None, 100)               0         \n",
      "_________________________________________________________________\n",
      "dense_5 (Dense)              (None, 12)                1212      \n",
      "=================================================================\n",
      "Total params: 555,956\n",
      "Trainable params: 554,788\n",
      "Non-trainable params: 1,168\n",
      "_________________________________________________________________\n",
      "None\n"
     ]
    }
   ],
   "source": [
    "for layer in model.layers:\n",
    "    layer.trainable = True\n",
    "model.pop()\n",
    "model.add(keras.layers.Dropout(.25))\n",
    "model.add(Dense(len(enc.categories_[0]), activation= \"softmax\"))\n",
    "model.compile(loss = \"categorical_crossentropy\", optimizer= adam, metrics=[\"acc\"])\n",
    "print(model.summary())"
   ]
  },
  {
   "cell_type": "code",
   "execution_count": 36,
   "metadata": {
    "scrolled": true
   },
   "outputs": [
    {
     "name": "stdout",
     "output_type": "stream",
     "text": [
      "Train on 41092 samples, validate on 10495 samples\n",
      "Epoch 1/20\n",
      "41092/41092 [==============================] - 879s 21ms/sample - loss: 2.6974 - acc: 0.1199 - val_loss: 2.8244 - val_acc: 0.1727\n",
      "Epoch 2/20\n",
      "41092/41092 [==============================] - 954s 23ms/sample - loss: 2.6399 - acc: 0.1471 - val_loss: 2.8609 - val_acc: 0.0367\n",
      "Epoch 3/20\n",
      "41092/41092 [==============================] - 939s 23ms/sample - loss: 2.5669 - acc: 0.1641 - val_loss: 2.5139 - val_acc: 0.1812\n",
      "Epoch 4/20\n",
      "41092/41092 [==============================] - 834s 20ms/sample - loss: 2.5072 - acc: 0.1797 - val_loss: 2.9350 - val_acc: 0.1774\n",
      "Epoch 5/20\n",
      "41092/41092 [==============================] - 1107s 27ms/sample - loss: 2.4994 - acc: 0.1826 - val_loss: 2.3936 - val_acc: 0.1725\n",
      "Epoch 6/20\n",
      "41092/41092 [==============================] - 689s 17ms/sample - loss: 2.4949 - acc: 0.1866 - val_loss: 2.2948 - val_acc: 0.2265\n",
      "Epoch 7/20\n",
      "41092/41092 [==============================] - 689s 17ms/sample - loss: 2.4727 - acc: 0.1918 - val_loss: 2.3488 - val_acc: 0.1955\n",
      "Epoch 8/20\n",
      "41092/41092 [==============================] - 701s 17ms/sample - loss: 2.4589 - acc: 0.1938 - val_loss: 2.3408 - val_acc: 0.2293\n",
      "Epoch 9/20\n",
      "41092/41092 [==============================] - 696s 17ms/sample - loss: 2.4456 - acc: 0.1998 - val_loss: 2.4085 - val_acc: 0.1623\n",
      "Epoch 10/20\n",
      "41092/41092 [==============================] - 700s 17ms/sample - loss: 2.4332 - acc: 0.2008 - val_loss: 2.5154 - val_acc: 0.2017\n",
      "Epoch 11/20\n",
      "41092/41092 [==============================] - 710s 17ms/sample - loss: 2.4208 - acc: 0.2048 - val_loss: 2.4739 - val_acc: 0.2010\n",
      "Epoch 12/20\n",
      "41092/41092 [==============================] - 703s 17ms/sample - loss: 2.4179 - acc: 0.2038 - val_loss: 2.5079 - val_acc: 0.2059\n",
      "Epoch 13/20\n",
      "41092/41092 [==============================] - 702s 17ms/sample - loss: 2.4081 - acc: 0.2055 - val_loss: 2.5212 - val_acc: 0.2018\n",
      "Epoch 14/20\n",
      "41092/41092 [==============================] - 686s 17ms/sample - loss: 2.4033 - acc: 0.2098 - val_loss: 2.4754 - val_acc: 0.2033\n",
      "Epoch 15/20\n",
      "41092/41092 [==============================] - 735s 18ms/sample - loss: 2.3988 - acc: 0.2088 - val_loss: 2.5031 - val_acc: 0.2039\n",
      "Epoch 16/20\n",
      "41092/41092 [==============================] - 679s 17ms/sample - loss: 2.3906 - acc: 0.2126 - val_loss: 2.5595 - val_acc: 0.2025\n",
      "Epoch 17/20\n",
      "41092/41092 [==============================] - 688s 17ms/sample - loss: 2.3841 - acc: 0.2106 - val_loss: 2.4750 - val_acc: 0.2027\n",
      "Epoch 18/20\n",
      "41092/41092 [==============================] - 694s 17ms/sample - loss: 2.3782 - acc: 0.2118 - val_loss: 2.5027 - val_acc: 0.2018\n",
      "Epoch 19/20\n",
      "41092/41092 [==============================] - 693s 17ms/sample - loss: 2.3704 - acc: 0.2149 - val_loss: 2.5098 - val_acc: 0.2043\n",
      "Epoch 20/20\n",
      "41092/41092 [==============================] - 697s 17ms/sample - loss: 2.3747 - acc: 0.2146 - val_loss: 2.4297 - val_acc: 0.2082\n"
     ]
    },
    {
     "data": {
      "text/plain": [
       "<tensorflow.python.keras.callbacks.History at 0x2041f92da90>"
      ]
     },
     "execution_count": 36,
     "metadata": {},
     "output_type": "execute_result"
    }
   ],
   "source": [
    "model.fit(train_x, train_labels,\n",
    "          epochs = 20, \n",
    "          shuffle = True,\n",
    "          validation_data = (val_x, val_labels),\n",
    "          batch_size = 256,\n",
    "          class_weight=class_weights)"
   ]
  },
  {
   "cell_type": "code",
   "execution_count": 37,
   "metadata": {},
   "outputs": [
    {
     "name": "stdout",
     "output_type": "stream",
     "text": [
      "10495/10495 [==============================] - 33s 3ms/sample\n",
      "[ 448.31744  603.92896  559.66296  715.8522   907.889   1199.777\n",
      "  707.77637  562.05164  867.64496  838.9823  1114.8691  1968.2549 ]\n",
      "[ 436.  781.  469.  833.  671.  862.  454.  316. 1849.  785.  936. 2103.]\n"
     ]
    }
   ],
   "source": [
    "preds = model.predict(val_x, batch_size = 256, verbose = 1)\n",
    "print(np.sum(preds, axis = 0))\n",
    "print(np.sum(val_labels, axis = 0))"
   ]
  },
  {
   "cell_type": "code",
   "execution_count": 38,
   "metadata": {},
   "outputs": [
    {
     "data": {
      "text/plain": [
       "<matplotlib.image.AxesImage at 0x2041f935ba8>"
      ]
     },
     "execution_count": 38,
     "metadata": {},
     "output_type": "execute_result"
    },
    {
     "data": {
      "image/png": "[encoded data removed]",
      "text/plain": [
       "<Figure size 432x288 with 1 Axes>"
      ]
     },
     "metadata": {
      "needs_background": "light"
     },
     "output_type": "display_data"
    }
   ],
   "source": [
    "plt.imshow(\n",
    "    confusion_matrix(\n",
    "        enc.inverse_transform(preds), \n",
    "        enc.inverse_transform(val_labels), \n",
    "        normalize = \"true\"\n",
    "    )\n",
    ")"
   ]
  },
  {
   "cell_type": "code",
   "execution_count": 39,
   "metadata": {
    "scrolled": true
   },
   "outputs": [
    {
     "name": "stdout",
     "output_type": "stream",
     "text": [
      "Train on 41092 samples, validate on 10495 samples\n",
      "Epoch 1/20\n",
      "41092/41092 [==============================] - 698s 17ms/sample - loss: 2.3716 - acc: 0.2120 - val_loss: 2.5011 - val_acc: 0.2100\n",
      "Epoch 2/20\n",
      "41092/41092 [==============================] - 694s 17ms/sample - loss: 2.3627 - acc: 0.2142 - val_loss: 2.4896 - val_acc: 0.2058\n",
      "Epoch 3/20\n",
      "41092/41092 [==============================] - 701s 17ms/sample - loss: 2.3690 - acc: 0.2181 - val_loss: 2.5045 - val_acc: 0.2033\n",
      "Epoch 4/20\n",
      "41092/41092 [==============================] - 694s 17ms/sample - loss: 2.3485 - acc: 0.2206 - val_loss: 2.5265 - val_acc: 0.2016\n",
      "Epoch 5/20\n",
      "41092/41092 [==============================] - 695s 17ms/sample - loss: 2.3604 - acc: 0.2142 - val_loss: 2.4537 - val_acc: 0.2063\n",
      "Epoch 6/20\n",
      "41092/41092 [==============================] - 696s 17ms/sample - loss: 2.3504 - acc: 0.2181 - val_loss: 2.4994 - val_acc: 0.2021\n",
      "Epoch 7/20\n",
      "41092/41092 [==============================] - 683s 17ms/sample - loss: 2.3473 - acc: 0.2193 - val_loss: 2.5034 - val_acc: 0.2017\n",
      "Epoch 8/20\n",
      "41092/41092 [==============================] - 664s 16ms/sample - loss: 2.3448 - acc: 0.2196 - val_loss: 2.4359 - val_acc: 0.2021\n",
      "Epoch 9/20\n",
      "41092/41092 [==============================] - 667s 16ms/sample - loss: 2.3387 - acc: 0.2223 - val_loss: 2.5881 - val_acc: 0.2012\n",
      "Epoch 10/20\n",
      "41092/41092 [==============================] - 667s 16ms/sample - loss: 2.3333 - acc: 0.2230 - val_loss: 2.5764 - val_acc: 0.2034\n",
      "Epoch 11/20\n",
      "41092/41092 [==============================] - 667s 16ms/sample - loss: 2.3364 - acc: 0.2221 - val_loss: 2.5335 - val_acc: 0.2019\n",
      "Epoch 12/20\n",
      "41092/41092 [==============================] - 665s 16ms/sample - loss: 2.3343 - acc: 0.2243 - val_loss: 2.6437 - val_acc: 0.2020\n",
      "Epoch 13/20\n",
      "41092/41092 [==============================] - 668s 16ms/sample - loss: 2.3294 - acc: 0.2243 - val_loss: 2.5982 - val_acc: 0.2025\n",
      "Epoch 14/20\n",
      "41092/41092 [==============================] - 669s 16ms/sample - loss: 2.3281 - acc: 0.2256 - val_loss: 2.5689 - val_acc: 0.2022\n",
      "Epoch 15/20\n",
      "41092/41092 [==============================] - 667s 16ms/sample - loss: 2.3212 - acc: 0.2270 - val_loss: 2.6263 - val_acc: 0.2023\n",
      "Epoch 16/20\n",
      "41092/41092 [==============================] - 670s 16ms/sample - loss: 2.3274 - acc: 0.2253 - val_loss: 2.4739 - val_acc: 0.2019\n",
      "Epoch 17/20\n",
      "41092/41092 [==============================] - 670s 16ms/sample - loss: 2.3219 - acc: 0.2274 - val_loss: 2.6734 - val_acc: 0.2010\n",
      "Epoch 18/20\n",
      "41092/41092 [==============================] - 668s 16ms/sample - loss: 2.3182 - acc: 0.2266 - val_loss: 2.6124 - val_acc: 0.2008\n",
      "Epoch 19/20\n",
      "41092/41092 [==============================] - 664s 16ms/sample - loss: 2.3183 - acc: 0.2274 - val_loss: 2.6761 - val_acc: 0.2008\n",
      "Epoch 20/20\n",
      "41092/41092 [==============================] - 667s 16ms/sample - loss: 2.3139 - acc: 0.2292 - val_loss: 2.5888 - val_acc: 0.2000\n"
     ]
    },
    {
     "data": {
      "text/plain": [
       "<tensorflow.python.keras.callbacks.History at 0x2041d693fd0>"
      ]
     },
     "execution_count": 39,
     "metadata": {},
     "output_type": "execute_result"
    }
   ],
   "source": [
    "model.fit(train_x, train_labels,\n",
    "          epochs = 20, \n",
    "          shuffle = True,\n",
    "          validation_data = (val_x, val_labels),\n",
    "          batch_size = 256,\n",
    "          class_weight=class_weights)"
   ]
  },
  {
   "cell_type": "code",
   "execution_count": 40,
   "metadata": {},
   "outputs": [
    {
     "name": "stdout",
     "output_type": "stream",
     "text": [
      "10495/10495 [==============================] - 30s 3ms/sample\n",
      "[ 482.19852  363.5813   825.4004   710.2299   714.12854  998.59595\n",
      " 1187.7253   641.0347   257.29715  587.1125  1278.1566  2449.5503 ]\n",
      "[ 436.  781.  469.  833.  671.  862.  454.  316. 1849.  785.  936. 2103.]\n"
     ]
    }
   ],
   "source": [
    "preds = model.predict(val_x, batch_size = 256, verbose = 1)\n",
    "print(np.sum(preds, axis = 0))\n",
    "print(np.sum(val_labels, axis = 0))"
   ]
  },
  {
   "cell_type": "code",
   "execution_count": 41,
   "metadata": {
    "scrolled": true
   },
   "outputs": [
    {
     "data": {
      "text/plain": [
       "<matplotlib.image.AxesImage at 0x2041d667080>"
      ]
     },
     "execution_count": 41,
     "metadata": {},
     "output_type": "execute_result"
    },
    {
     "data": {
      "image/png": "[encoded data removed]",
      "text/plain": [
       "<Figure size 432x288 with 1 Axes>"
      ]
     },
     "metadata": {
      "needs_background": "light"
     },
     "output_type": "display_data"
    }
   ],
   "source": [
    "plt.imshow(\n",
    "    confusion_matrix(\n",
    "        enc.inverse_transform(preds), \n",
    "        enc.inverse_transform(val_labels), \n",
    "        normalize = \"true\"\n",
    "    )\n",
    ")"
   ]
  },
  {
   "cell_type": "code",
   "execution_count": null,
   "metadata": {
    "scrolled": true
   },
   "outputs": [
    {
     "name": "stdout",
     "output_type": "stream",
     "text": [
      "Train on 41092 samples, validate on 10495 samples\n",
      "Epoch 1/100\n",
      "41092/41092 [==============================] - 672s 16ms/sample - loss: 2.3193 - acc: 0.2279 - val_loss: 2.5810 - val_acc: 0.2009\n",
      "Epoch 2/100\n",
      "41092/41092 [==============================] - 692s 17ms/sample - loss: 2.3130 - acc: 0.2281 - val_loss: 2.5652 - val_acc: 0.2017\n",
      "Epoch 3/100\n",
      "41092/41092 [==============================] - 678s 17ms/sample - loss: 2.3153 - acc: 0.2285 - val_loss: 2.5580 - val_acc: 0.2007\n",
      "Epoch 4/100\n",
      "19712/41092 [=============>................] - ETA: 5:32 - loss: 2.3052 - acc: 0.2304"
     ]
    }
   ],
   "source": [
    "model.fit(train_x, train_labels,\n",
    "          epochs = 100, \n",
    "          shuffle = True,\n",
    "          validation_data = (val_x, val_labels),\n",
    "          batch_size = 256,\n",
    "          class_weight=class_weights)"
   ]
  },
  {
   "cell_type": "code",
   "execution_count": 18,
   "metadata": {},
   "outputs": [
    {
     "name": "stdout",
     "output_type": "stream",
     "text": [
      "10495/10495 [==============================] - 21s 2ms/sample\n",
      "[ 664.3053   855.6902  1039.9154   905.8612  1064.8987   934.3494\n",
      "  772.3722   874.254    911.53186  862.91187  841.01105  768.07074]\n",
      "[ 436.  781.  469.  833.  671.  862.  454.  316. 1849.  785.  936. 2103.]\n"
     ]
    }
   ],
   "source": [
    "preds = model.predict(val_x, batch_size = 256, verbose = 1)\n",
    "print(np.sum(preds, axis = 0))\n",
    "print(np.sum(val_labels, axis = 0))"
   ]
  },
  {
   "cell_type": "code",
   "execution_count": 19,
   "metadata": {
    "scrolled": true
   },
   "outputs": [
    {
     "data": {
      "text/plain": [
       "<matplotlib.image.AxesImage at 0x23a0b4fcb00>"
      ]
     },
     "execution_count": 19,
     "metadata": {},
     "output_type": "execute_result"
    },
    {
     "data": {
      "image/png": "[encoded data removed]",
      "text/plain": [
       "<Figure size 432x288 with 1 Axes>"
      ]
     },
     "metadata": {
      "needs_background": "light"
     },
     "output_type": "display_data"
    }
   ],
   "source": [
    "plt.imshow(\n",
    "    confusion_matrix(\n",
    "        enc.inverse_transform(preds), \n",
    "        enc.inverse_transform(val_labels), \n",
    "        normalize = \"true\"\n",
    "    )\n",
    ")"
   ]
  },
  {
   "cell_type": "code",
   "execution_count": null,
   "metadata": {},
   "outputs": [],
   "source": []
  },
  {
   "cell_type": "code",
   "execution_count": null,
   "metadata": {},
   "outputs": [],
   "source": []
  },
  {
   "cell_type": "code",
   "execution_count": null,
   "metadata": {},
   "outputs": [],
   "source": []
  }
 ],
 "metadata": {
  "kernelspec": {
   "display_name": "Python 3",
   "language": "python",
   "name": "python3"
  },
  "language_info": {
   "codemirror_mode": {
    "name": "ipython",
    "version": 3
   },
   "file_extension": ".py",
   "mimetype": "text/x-python",
   "name": "python",
   "nbconvert_exporter": "python",
   "pygments_lexer": "ipython3",
   "version": "3.7.3"
  }
 },
 "nbformat": 4,
 "nbformat_minor": 2
}
