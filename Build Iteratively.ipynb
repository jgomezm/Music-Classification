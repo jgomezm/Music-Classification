{
 "cells": [
  {
   "cell_type": "code",
   "execution_count": 5,
   "metadata": {},
   "outputs": [
    {
     "name": "stdout",
     "output_type": "stream",
     "text": [
      "The tensorboard extension is already loaded. To reload it, use:\n",
      "  %reload_ext tensorboard\n"
     ]
    }
   ],
   "source": [
    "import numpy as np\n",
    "import os\n",
    "from sklearn.preprocessing import OneHotEncoder\n",
    "from sklearn.metrics import confusion_matrix\n",
    "import tensorflow.keras as keras\n",
    "from tensorflow.keras import Sequential\n",
    "from tensorflow.keras import regularizers\n",
    "from tensorflow.keras.layers import LSTM, Dense, LSTM, Flatten, BatchNormalization, Dropout\n",
    "from tensorflow.keras.utils import to_categorical\n",
    "import tensorflow as tf\n",
    "import module\n",
    "# Load the TensorBoard notebook extension\n",
    "%load_ext tensorboard"
   ]
  },
  {
   "cell_type": "code",
   "execution_count": 6,
   "metadata": {},
   "outputs": [
    {
     "data": {
      "text/plain": [
       "OneHotEncoder(categories='auto', drop=None, dtype=<class 'numpy.float64'>,\n",
       "              handle_unknown='error', sparse=True)"
      ]
     },
     "execution_count": 6,
     "metadata": {},
     "output_type": "execute_result"
    }
   ],
   "source": [
    "countriesOfInterest = {\"HK\", \"JP\", 'ZA', 'TN', 'TR', 'GB', 'MX', 'US', 'CO', 'EC', 'AU', 'NZ'}\n",
    "countriesOfInterest = [\"ZA\", \"EG\", \"TW\", \"JP\", \"DK\", \"FI\", \"US\", \"CA\", \"AU\", \"NZ\", \"BR\", \"CO\"]\n",
    "#countriesOfInterest = list(countriesOfInterest & {\"ZA\", \"EG\", \"TW\", \"JP\", \"DK\", \"FI\", \"US\", \"CA\", \"AU\", \"NZ\", \"BR\", \"CO\"})\n",
    "\n",
    "enc = OneHotEncoder()\n",
    "enc.fit(np.array(countriesOfInterest).reshape(-1, 1))"
   ]
  },
  {
   "cell_type": "code",
   "execution_count": 7,
   "metadata": {},
   "outputs": [],
   "source": [
    "seconds = 10\n",
    "samplerate = 100\n",
    "train_x, train_labels, val_x, val_labels, class_weights = module.getSamples(1, 1, seconds, samplerate, countriesOfInterest,\n",
    "               enc, verbose = 0)"
   ]
  },
  {
   "cell_type": "markdown",
   "metadata": {},
   "source": [
    "### Fit model"
   ]
  },
  {
   "cell_type": "code",
   "execution_count": 8,
   "metadata": {},
   "outputs": [
    {
     "name": "stdout",
     "output_type": "stream",
     "text": [
      "Model: \"sequential\"\n",
      "_________________________________________________________________\n",
      "Layer (type)                 Output Shape              Param #   \n",
      "=================================================================\n",
      "lstm (LSTM)                  (None, 16)                2688      \n",
      "_________________________________________________________________\n",
      "dropout (Dropout)            (None, 16)                0         \n",
      "_________________________________________________________________\n",
      "batch_normalization (BatchNo (None, 16)                64        \n",
      "_________________________________________________________________\n",
      "dense (Dense)                (None, 6)                 102       \n",
      "=================================================================\n",
      "Total params: 2,854\n",
      "Trainable params: 2,822\n",
      "Non-trainable params: 32\n",
      "_________________________________________________________________\n",
      "None\n"
     ]
    }
   ],
   "source": [
    "model = keras.Sequential()\n",
    "model.add(LSTM(16, \n",
    "               input_shape=(train_x.shape[1], train_x.shape[2]), \n",
    "               return_sequences = False,\n",
    "              # recurrent_dropout = .5,\n",
    "               kernel_regularizer=regularizers.l2(0.01),\n",
    "              ))\n",
    "model.add(Dropout(.5))\n",
    "model.add(BatchNormalization())\n",
    "model.add(Dense(len(enc.categories_[0]), activation= \"softmax\", kernel_regularizer=regularizers.l2(0.01)))\n",
    "adam = keras.optimizers.Adam(lr=0.001)\n",
    "model.compile(loss = \"categorical_crossentropy\", optimizer= adam, metrics=[\"acc\"])\n",
    "print(model.summary())"
   ]
  },
  {
   "cell_type": "code",
   "execution_count": 9,
   "metadata": {},
   "outputs": [
    {
     "name": "stdout",
     "output_type": "stream",
     "text": [
      "[200. 200. 200. 200. 200. 200.]\n",
      "Train on 1200 samples, validate on 300 samples\n",
      "Epoch 1/5\n",
      "1200/1200 [==============================] - 4s 3ms/sample - loss: 2.7474 - acc: 0.1550 - val_loss: 2.3661 - val_acc: 0.1800\n",
      "Epoch 2/5\n",
      "1200/1200 [==============================] - 3s 3ms/sample - loss: 2.7647 - acc: 0.1692 - val_loss: 2.3572 - val_acc: 0.1767\n",
      "Epoch 3/5\n",
      "1200/1200 [==============================] - 3s 2ms/sample - loss: 2.7334 - acc: 0.1567 - val_loss: 2.3546 - val_acc: 0.1933\n",
      "Epoch 4/5\n",
      "1200/1200 [==============================] - 3s 3ms/sample - loss: 2.7517 - acc: 0.1617 - val_loss: 2.3461 - val_acc: 0.1900\n",
      "Epoch 5/5\n",
      "1200/1200 [==============================] - 3s 3ms/sample - loss: 2.7110 - acc: 0.1742 - val_loss: 2.3372 - val_acc: 0.1967\n",
      "300/300 [==============================] - 0s 916us/sample\n"
     ]
    },
    {
     "data": {
      "image/png": "[encoded data removed]",
      "text/plain": [
       "<Figure size 432x288 with 1 Axes>"
      ]
     },
     "metadata": {
      "needs_background": "light"
     },
     "output_type": "display_data"
    },
    {
     "name": "stdout",
     "output_type": "stream",
     "text": [
      "1200/1200 [==============================] - 1s 472us/sample\n"
     ]
    },
    {
     "data": {
      "image/png": "[encoded data removed]",
      "text/plain": [
       "<Figure size 432x288 with 1 Axes>"
      ]
     },
     "metadata": {
      "needs_background": "light"
     },
     "output_type": "display_data"
    },
    {
     "name": "stdout",
     "output_type": "stream",
     "text": [
      "[200. 200. 200. 200. 200. 200.]\n",
      "Train on 1200 samples, validate on 300 samples\n",
      "Epoch 6/10\n",
      "1200/1200 [==============================] - 5s 4ms/sample - loss: 2.7526 - acc: 0.1733 - val_loss: 2.3415 - val_acc: 0.1400\n",
      "Epoch 7/10\n",
      "1200/1200 [==============================] - 4s 3ms/sample - loss: 2.7284 - acc: 0.1758 - val_loss: 2.3377 - val_acc: 0.1467\n",
      "Epoch 8/10\n",
      "1200/1200 [==============================] - 4s 3ms/sample - loss: 2.7035 - acc: 0.1783 - val_loss: 2.3340 - val_acc: 0.1467\n",
      "Epoch 9/10\n",
      "1200/1200 [==============================] - 4s 3ms/sample - loss: 2.7071 - acc: 0.1558 - val_loss: 2.3298 - val_acc: 0.1500\n",
      "Epoch 10/10\n",
      "1200/1200 [==============================] - 4s 4ms/sample - loss: 2.7002 - acc: 0.1533 - val_loss: 2.3254 - val_acc: 0.1500\n",
      "300/300 [==============================] - 0s 1ms/sample\n"
     ]
    },
    {
     "data": {
      "image/png": "[encoded data removed]",
      "text/plain": [
       "<Figure size 432x288 with 1 Axes>"
      ]
     },
     "metadata": {
      "needs_background": "light"
     },
     "output_type": "display_data"
    },
    {
     "name": "stdout",
     "output_type": "stream",
     "text": [
      "1200/1200 [==============================] - 1s 478us/sample\n"
     ]
    },
    {
     "data": {
      "image/png": "[encoded data removed]",
      "text/plain": [
       "<Figure size 432x288 with 1 Axes>"
      ]
     },
     "metadata": {
      "needs_background": "light"
     },
     "output_type": "display_data"
    },
    {
     "name": "stdout",
     "output_type": "stream",
     "text": [
      "[200. 200. 200. 200. 200. 200.]\n",
      "Train on 1200 samples, validate on 300 samples\n",
      "Epoch 11/15\n",
      "1200/1200 [==============================] - 5s 4ms/sample - loss: 2.7223 - acc: 0.1417 - val_loss: 2.3792 - val_acc: 0.1567\n",
      "Epoch 12/15\n",
      "1200/1200 [==============================] - 4s 3ms/sample - loss: 2.6763 - acc: 0.1567 - val_loss: 2.3770 - val_acc: 0.1567\n",
      "Epoch 13/15\n",
      "1200/1200 [==============================] - 4s 4ms/sample - loss: 2.6745 - acc: 0.1633 - val_loss: 2.3713 - val_acc: 0.1500\n",
      "Epoch 14/15\n",
      "1200/1200 [==============================] - 4s 4ms/sample - loss: 2.6626 - acc: 0.1667 - val_loss: 2.3669 - val_acc: 0.1467\n",
      "Epoch 15/15\n",
      "1200/1200 [==============================] - 5s 4ms/sample - loss: 2.6317 - acc: 0.1708 - val_loss: 2.3629 - val_acc: 0.1467\n",
      "300/300 [==============================] - 0s 1ms/sample\n"
     ]
    },
    {
     "data": {
      "image/png": "[encoded data removed]",
      "text/plain": [
       "<Figure size 432x288 with 1 Axes>"
      ]
     },
     "metadata": {
      "needs_background": "light"
     },
     "output_type": "display_data"
    },
    {
     "name": "stdout",
     "output_type": "stream",
     "text": [
      "1200/1200 [==============================] - 1s 491us/sample\n"
     ]
    },
    {
     "data": {
      "image/png": "[encoded data removed]",
      "text/plain": [
       "<Figure size 432x288 with 1 Axes>"
      ]
     },
     "metadata": {
      "needs_background": "light"
     },
     "output_type": "display_data"
    },
    {
     "name": "stdout",
     "output_type": "stream",
     "text": [
      "[200. 200. 200. 200. 200. 200.]\n",
      "Train on 1200 samples, validate on 300 samples\n",
      "Epoch 16/20\n",
      "1200/1200 [==============================] - 6s 5ms/sample - loss: 2.6158 - acc: 0.1850 - val_loss: 2.3666 - val_acc: 0.1200\n",
      "Epoch 17/20\n",
      "1200/1200 [==============================] - 5s 4ms/sample - loss: 2.6194 - acc: 0.1725 - val_loss: 2.3652 - val_acc: 0.1233\n",
      "Epoch 18/20\n",
      "1200/1200 [==============================] - 5s 4ms/sample - loss: 2.5926 - acc: 0.1642 - val_loss: 2.3645 - val_acc: 0.1167\n",
      "Epoch 19/20\n",
      "1200/1200 [==============================] - 5s 4ms/sample - loss: 2.5671 - acc: 0.1942 - val_loss: 2.3635 - val_acc: 0.1167\n",
      "Epoch 20/20\n",
      "1200/1200 [==============================] - 5s 4ms/sample - loss: 2.6172 - acc: 0.1517 - val_loss: 2.3623 - val_acc: 0.1167\n",
      "300/300 [==============================] - 0s 921us/sample\n"
     ]
    },
    {
     "data": {
      "image/png": "[encoded data removed]",
      "text/plain": [
       "<Figure size 432x288 with 1 Axes>"
      ]
     },
     "metadata": {
      "needs_background": "light"
     },
     "output_type": "display_data"
    },
    {
     "name": "stdout",
     "output_type": "stream",
     "text": [
      "1200/1200 [==============================] - 1s 558us/sample\n"
     ]
    },
    {
     "data": {
      "image/png": "[encoded data removed]",
      "text/plain": [
       "<Figure size 432x288 with 1 Axes>"
      ]
     },
     "metadata": {
      "needs_background": "light"
     },
     "output_type": "display_data"
    },
    {
     "name": "stdout",
     "output_type": "stream",
     "text": [
      "[200. 200. 200. 200. 200. 200.]\n",
      "Train on 1200 samples, validate on 300 samples\n",
      "Epoch 21/25\n",
      "1200/1200 [==============================] - 7s 5ms/sample - loss: 2.6355 - acc: 0.1550 - val_loss: 2.3384 - val_acc: 0.1600\n",
      "Epoch 22/25\n",
      "1200/1200 [==============================] - 5s 4ms/sample - loss: 2.6145 - acc: 0.1492 - val_loss: 2.3389 - val_acc: 0.1633\n",
      "Epoch 23/25\n",
      "1200/1200 [==============================] - 5s 5ms/sample - loss: 2.6134 - acc: 0.1667 - val_loss: 2.3387 - val_acc: 0.1600\n",
      "Epoch 24/25\n",
      "1200/1200 [==============================] - 6s 5ms/sample - loss: 2.5880 - acc: 0.1767 - val_loss: 2.3381 - val_acc: 0.1633\n",
      "Epoch 25/25\n",
      "1200/1200 [==============================] - 5s 4ms/sample - loss: 2.6070 - acc: 0.1725 - val_loss: 2.3370 - val_acc: 0.1600\n",
      "300/300 [==============================] - 0s 997us/sample\n"
     ]
    },
    {
     "data": {
      "image/png": "[encoded data removed]",
      "text/plain": [
       "<Figure size 432x288 with 1 Axes>"
      ]
     },
     "metadata": {
      "needs_background": "light"
     },
     "output_type": "display_data"
    },
    {
     "name": "stdout",
     "output_type": "stream",
     "text": [
      "1200/1200 [==============================] - 1s 540us/sample\n"
     ]
    },
    {
     "data": {
      "image/png": "[encoded data removed]",
      "text/plain": [
       "<Figure size 432x288 with 1 Axes>"
      ]
     },
     "metadata": {
      "needs_background": "light"
     },
     "output_type": "display_data"
    },
    {
     "name": "stdout",
     "output_type": "stream",
     "text": [
      "[200. 200. 200. 200. 200. 200.]\n",
      "Train on 1200 samples, validate on 300 samples\n",
      "Epoch 26/30\n",
      "1200/1200 [==============================] - 7s 6ms/sample - loss: 2.6029 - acc: 0.1608 - val_loss: 2.3533 - val_acc: 0.1467\n",
      "Epoch 27/30\n",
      "1200/1200 [==============================] - 6s 5ms/sample - loss: 2.6265 - acc: 0.1633 - val_loss: 2.3522 - val_acc: 0.1500\n",
      "Epoch 28/30\n",
      "1200/1200 [==============================] - 6s 5ms/sample - loss: 2.5961 - acc: 0.1700 - val_loss: 2.3512 - val_acc: 0.1500\n",
      "Epoch 29/30\n",
      "1200/1200 [==============================] - 6s 5ms/sample - loss: 2.6427 - acc: 0.1400 - val_loss: 2.3511 - val_acc: 0.1567\n",
      "Epoch 30/30\n",
      "1200/1200 [==============================] - 6s 5ms/sample - loss: 2.6112 - acc: 0.1583 - val_loss: 2.3507 - val_acc: 0.1567\n",
      "300/300 [==============================] - 0s 973us/sample\n"
     ]
    },
    {
     "data": {
      "image/png": "[encoded data removed]",
      "text/plain": [
       "<Figure size 432x288 with 1 Axes>"
      ]
     },
     "metadata": {
      "needs_background": "light"
     },
     "output_type": "display_data"
    },
    {
     "name": "stdout",
     "output_type": "stream",
     "text": [
      "1200/1200 [==============================] - 1s 571us/sample\n"
     ]
    },
    {
     "data": {
      "image/png": "[encoded data removed]",
      "text/plain": [
       "<Figure size 432x288 with 1 Axes>"
      ]
     },
     "metadata": {
      "needs_background": "light"
     },
     "output_type": "display_data"
    },
    {
     "name": "stdout",
     "output_type": "stream",
     "text": [
      "[200. 200. 200. 200. 200. 200.]\n",
      "Train on 1200 samples, validate on 300 samples\n",
      "Epoch 31/35\n",
      "1200/1200 [==============================] - 7s 6ms/sample - loss: 2.5939 - acc: 0.1767 - val_loss: 2.3429 - val_acc: 0.1667\n",
      "Epoch 32/35\n",
      "1200/1200 [==============================] - 6s 5ms/sample - loss: 2.6067 - acc: 0.1683 - val_loss: 2.3421 - val_acc: 0.1667\n",
      "Epoch 33/35\n",
      "1200/1200 [==============================] - 6s 5ms/sample - loss: 2.5996 - acc: 0.1592 - val_loss: 2.3416 - val_acc: 0.1667\n",
      "Epoch 34/35\n",
      "1200/1200 [==============================] - 6s 5ms/sample - loss: 2.5819 - acc: 0.1692 - val_loss: 2.3414 - val_acc: 0.1667\n",
      "Epoch 35/35\n",
      "1200/1200 [==============================] - 6s 5ms/sample - loss: 2.5443 - acc: 0.1783 - val_loss: 2.3413 - val_acc: 0.1633\n",
      "300/300 [==============================] - 0s 1ms/sample\n"
     ]
    },
    {
     "data": {
      "image/png": "[encoded data removed]",
      "text/plain": [
       "<Figure size 432x288 with 1 Axes>"
      ]
     },
     "metadata": {
      "needs_background": "light"
     },
     "output_type": "display_data"
    },
    {
     "name": "stdout",
     "output_type": "stream",
     "text": [
      "1200/1200 [==============================] - 1s 629us/sample\n"
     ]
    },
    {
     "data": {
      "image/png": "[encoded data removed]",
      "text/plain": [
       "<Figure size 432x288 with 1 Axes>"
      ]
     },
     "metadata": {
      "needs_background": "light"
     },
     "output_type": "display_data"
    },
    {
     "name": "stdout",
     "output_type": "stream",
     "text": [
      "[200. 200. 200. 200. 200. 200.]\n",
      "Train on 1200 samples, validate on 300 samples\n",
      "Epoch 36/40\n",
      "1200/1200 [==============================] - 8s 7ms/sample - loss: 2.6255 - acc: 0.1633 - val_loss: 2.2887 - val_acc: 0.2100\n",
      "Epoch 37/40\n",
      "1200/1200 [==============================] - 7s 6ms/sample - loss: 2.5664 - acc: 0.1700 - val_loss: 2.2885 - val_acc: 0.2100\n",
      "Epoch 38/40\n",
      "1200/1200 [==============================] - 7s 6ms/sample - loss: 2.6003 - acc: 0.1692 - val_loss: 2.2881 - val_acc: 0.2100\n",
      "Epoch 39/40\n",
      "1200/1200 [==============================] - 7s 6ms/sample - loss: 2.5688 - acc: 0.1867 - val_loss: 2.2878 - val_acc: 0.2100\n",
      "Epoch 40/40\n",
      "1200/1200 [==============================] - 7s 6ms/sample - loss: 2.5935 - acc: 0.1575 - val_loss: 2.2875 - val_acc: 0.2133\n",
      "300/300 [==============================] - 0s 1ms/sample\n"
     ]
    },
    {
     "data": {
      "image/png": "[encoded data removed]",
      "text/plain": [
       "<Figure size 432x288 with 1 Axes>"
      ]
     },
     "metadata": {
      "needs_background": "light"
     },
     "output_type": "display_data"
    },
    {
     "name": "stdout",
     "output_type": "stream",
     "text": [
      "1200/1200 [==============================] - 1s 612us/sample\n"
     ]
    },
    {
     "data": {
      "image/png": "[encoded data removed]",
      "text/plain": [
       "<Figure size 432x288 with 1 Axes>"
      ]
     },
     "metadata": {
      "needs_background": "light"
     },
     "output_type": "display_data"
    },
    {
     "name": "stdout",
     "output_type": "stream",
     "text": [
      "[200. 200. 200. 200. 200. 200.]\n",
      "Train on 1200 samples, validate on 300 samples\n",
      "Epoch 41/45\n",
      "1200/1200 [==============================] - 8s 7ms/sample - loss: 2.6416 - acc: 0.1533 - val_loss: 2.3651 - val_acc: 0.1467\n",
      "Epoch 42/45\n",
      "1200/1200 [==============================] - 7s 6ms/sample - loss: 2.6457 - acc: 0.1400 - val_loss: 2.3655 - val_acc: 0.1467\n",
      "Epoch 43/45\n",
      "1200/1200 [==============================] - 7s 6ms/sample - loss: 2.6116 - acc: 0.1625 - val_loss: 2.3658 - val_acc: 0.1467\n",
      "Epoch 44/45\n",
      "1200/1200 [==============================] - 7s 6ms/sample - loss: 2.5980 - acc: 0.1583 - val_loss: 2.3661 - val_acc: 0.1467\n",
      "Epoch 45/45\n",
      "1200/1200 [==============================] - 7s 6ms/sample - loss: 2.6212 - acc: 0.1642 - val_loss: 2.3665 - val_acc: 0.1467\n",
      "300/300 [==============================] - 0s 1ms/sample\n"
     ]
    },
    {
     "data": {
      "image/png": "[encoded data removed]",
      "text/plain": [
       "<Figure size 432x288 with 1 Axes>"
      ]
     },
     "metadata": {
      "needs_background": "light"
     },
     "output_type": "display_data"
    },
    {
     "name": "stdout",
     "output_type": "stream",
     "text": [
      "1200/1200 [==============================] - 1s 569us/sample\n"
     ]
    },
    {
     "data": {
      "image/png": "[encoded data removed]",
      "text/plain": [
       "<Figure size 432x288 with 1 Axes>"
      ]
     },
     "metadata": {
      "needs_background": "light"
     },
     "output_type": "display_data"
    },
    {
     "name": "stdout",
     "output_type": "stream",
     "text": [
      "[200. 200. 200. 200. 200. 200.]\n",
      "Train on 1200 samples, validate on 300 samples\n",
      "Epoch 46/50\n",
      "1200/1200 [==============================] - 9s 7ms/sample - loss: 2.5952 - acc: 0.1767 - val_loss: 2.2794 - val_acc: 0.1633\n",
      "Epoch 47/50\n",
      "1200/1200 [==============================] - 7s 6ms/sample - loss: 2.5421 - acc: 0.1758 - val_loss: 2.2796 - val_acc: 0.1633\n",
      "Epoch 48/50\n",
      "1200/1200 [==============================] - 7s 6ms/sample - loss: 2.6014 - acc: 0.1558 - val_loss: 2.2798 - val_acc: 0.1633\n",
      "Epoch 49/50\n",
      "1200/1200 [==============================] - 8s 6ms/sample - loss: 2.6111 - acc: 0.1525 - val_loss: 2.2801 - val_acc: 0.1633\n",
      "Epoch 50/50\n",
      "1200/1200 [==============================] - 7s 6ms/sample - loss: 2.6040 - acc: 0.1800 - val_loss: 2.2803 - val_acc: 0.1633\n",
      "300/300 [==============================] - 0s 1ms/sample\n"
     ]
    },
    {
     "data": {
      "image/png": "[encoded data removed]",
      "text/plain": [
       "<Figure size 432x288 with 1 Axes>"
      ]
     },
     "metadata": {
      "needs_background": "light"
     },
     "output_type": "display_data"
    },
    {
     "name": "stdout",
     "output_type": "stream",
     "text": [
      "1200/1200 [==============================] - 1s 637us/sample\n"
     ]
    },
    {
     "data": {
      "image/png": "[encoded data removed]",
      "text/plain": [
       "<Figure size 432x288 with 1 Axes>"
      ]
     },
     "metadata": {
      "needs_background": "light"
     },
     "output_type": "display_data"
    }
   ],
   "source": [
    "#add recurrent dropout to add noise to duration\n",
    "desc = \"trial\"\n",
    "log_dir = os.path.join(\n",
    "    \"logs\",\n",
    "    \"betterSampling\",\n",
    "    desc\n",
    ")\n",
    "model_dir = os.path.join(\n",
    "    \"pickle\",\n",
    "    \"save\"\n",
    ")\n",
    "\n",
    "train_n = 200\n",
    "val_n  = 50\n",
    "tensorboard_callback = tf.keras.callbacks.TensorBoard(log_dir=log_dir, histogram_freq=1)\n",
    "epochs = 5\n",
    "iterations = 10\n",
    "learn_rate = 0.001\n",
    "module.train(iterations, learn_rate, train_n, val_n, seconds, samplerate,\n",
    "                countriesOfInterest, enc, epochs, tensorboard_callback, model_dir,\n",
    "                model)"
   ]
  },
  {
   "cell_type": "code",
   "execution_count": null,
   "metadata": {},
   "outputs": [],
   "source": []
  }
 ],
 "metadata": {
  "kernelspec": {
   "display_name": "Python 3",
   "language": "python",
   "name": "python3"
  },
  "language_info": {
   "codemirror_mode": {
    "name": "ipython",
    "version": 3
   },
   "file_extension": ".py",
   "mimetype": "text/x-python",
   "name": "python",
   "nbconvert_exporter": "python",
   "pygments_lexer": "ipython3",
   "version": "3.7.6"
  }
 },
 "nbformat": 4,
 "nbformat_minor": 4
}
