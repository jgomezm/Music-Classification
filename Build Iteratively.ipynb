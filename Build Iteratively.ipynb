{
 "cells": [
  {
   "cell_type": "code",
   "execution_count": 1,
   "metadata": {},
   "outputs": [],
   "source": [
    "import numpy as np\n",
    "import os\n",
    "from sklearn.preprocessing import OneHotEncoder\n",
    "from sklearn.metrics import confusion_matrix\n",
    "import tensorflow.keras as keras\n",
    "from tensorflow.keras import Sequential\n",
    "from tensorflow.keras import regularizers\n",
    "from tensorflow.keras.layers import LSTM, Dense, LSTM, Flatten, BatchNormalization, Dropout\n",
    "from tensorflow.keras.utils import to_categorical\n",
    "import tensorflow as tf\n",
    "import module\n",
    "# Load the TensorBoard notebook extension\n",
    "%load_ext tensorboard"
   ]
  },
  {
   "cell_type": "code",
   "execution_count": 2,
   "metadata": {},
   "outputs": [
    {
     "data": {
      "text/plain": [
       "OneHotEncoder(categories='auto', drop=None, dtype=<class 'numpy.float64'>,\n",
       "              handle_unknown='error', sparse=True)"
      ]
     },
     "execution_count": 2,
     "metadata": {},
     "output_type": "execute_result"
    }
   ],
   "source": [
    "countriesOfInterest = {\"HK\", \"JP\", 'ZA', 'TN', 'TR', 'GB', 'MX', 'US', 'CO', 'EC', 'AU', 'NZ'}\n",
    "countriesOfInterest = [\"ZA\", \"EG\", \"TW\", \"JP\", \"DK\", \"FI\", \"US\", \"CA\", \"AU\", \"NZ\", \"BR\", \"CO\"]\n",
    "#countriesOfInterest = list(countriesOfInterest & {\"ZA\", \"EG\", \"TW\", \"JP\", \"DK\", \"FI\", \"US\", \"CA\", \"AU\", \"NZ\", \"BR\", \"CO\"})\n",
    "\n",
    "enc = OneHotEncoder()\n",
    "enc.fit(np.array(countriesOfInterest).reshape(-1, 1))"
   ]
  },
  {
   "cell_type": "code",
   "execution_count": 3,
   "metadata": {},
   "outputs": [],
   "source": [
    "seconds = 10\n",
    "samplerate = 100\n",
    "train_x, train_labels, val_x, val_labels, class_weights = module.getSamples(1, 1, seconds, samplerate, countriesOfInterest,\n",
    "               enc, verbose = 0)"
   ]
  },
  {
   "cell_type": "markdown",
   "metadata": {},
   "source": [
    "### Fit model"
   ]
  },
  {
   "cell_type": "code",
   "execution_count": 4,
   "metadata": {},
   "outputs": [
    {
     "name": "stdout",
     "output_type": "stream",
     "text": [
      "Model: \"sequential\"\n",
      "_________________________________________________________________\n",
      "Layer (type)                 Output Shape              Param #   \n",
      "=================================================================\n",
      "lstm (LSTM)                  (None, 1000, 2)           224       \n",
      "_________________________________________________________________\n",
      "batch_normalization (BatchNo (None, 1000, 2)           8         \n",
      "_________________________________________________________________\n",
      "lstm_1 (LSTM)                (None, 12)                720       \n",
      "=================================================================\n",
      "Total params: 952\n",
      "Trainable params: 948\n",
      "Non-trainable params: 4\n",
      "_________________________________________________________________\n",
      "None\n"
     ]
    }
   ],
   "source": [
    "model = keras.Sequential()\n",
    "model.add(LSTM(2, \n",
    "               input_shape=(train_x.shape[1], train_x.shape[2]), \n",
    "               return_sequences = True,\n",
    "               recurrent_dropout = .5,\n",
    "              # kernel_regularizer=regularizers.l2(0.01),\n",
    "              ))\n",
    "model.add(BatchNormalization())\n",
    "model.add(LSTM(len(enc.categories_[0]), \n",
    "               activation= \"softmax\",\n",
    "               #input_shape=(train_x.shape[1], train_x.shape[2]), \n",
    "               return_sequences = False,\n",
    "               recurrent_dropout = .5,\n",
    "              # kernel_regularizer=regularizers.l2(0.01),\n",
    "              ))\n",
    "adam = keras.optimizers.Adam(lr=0.001)\n",
    "model.compile(loss = \"categorical_crossentropy\", optimizer= adam, metrics=[\"acc\"])\n",
    "print(model.summary())"
   ]
  },
  {
   "cell_type": "code",
   "execution_count": null,
   "metadata": {},
   "outputs": [
    {
     "name": "stdout",
     "output_type": "stream",
     "text": [
      "[4644. 5093. 4208. 5442. 3931. 4528. 4323. 5677. 4847. 4649. 3791. 5372.]\n",
      "Train on 56505 samples, validate on 6373 samples\n",
      "Epoch 1/3\n",
      "10240/56505 [====>.........................] - ETA: 1:50 - loss: 2.4876 - acc: 0.0830"
     ]
    }
   ],
   "source": [
    "#add recurrent dropout to add noise to duration\n",
    "desc = \"2LSTM_2_Output_NoReg_3Step_50train_01LR_ChangeStack\"\n",
    "log_dir = os.path.join(\n",
    "    \"logs\",\n",
    "    \"betterSampling\",\n",
    "    desc\n",
    ")\n",
    "model_dir = os.path.join(\n",
    "    \"pickle\",\n",
    "    \"save\"\n",
    ")\n",
    "\n",
    "train_n = 100\n",
    "val_n  = int(train_n/5)\n",
    "tensorboard_callback = tf.keras.callbacks.TensorBoard(log_dir=log_dir, histogram_freq=1)\n",
    "epochs = 3\n",
    "iterations = 10\n",
    "learn_rate = 0.01\n",
    "module.train(iterations, learn_rate, train_n, val_n, seconds, samplerate,\n",
    "                countriesOfInterest, enc, epochs, tensorboard_callback, model_dir,\n",
    "                model)"
   ]
  },
  {
   "cell_type": "code",
   "execution_count": null,
   "metadata": {},
   "outputs": [],
   "source": []
  }
 ],
 "metadata": {
  "kernelspec": {
   "display_name": "Python 3",
   "language": "python",
   "name": "python3"
  },
  "language_info": {
   "codemirror_mode": {
    "name": "ipython",
    "version": 3
   },
   "file_extension": ".py",
   "mimetype": "text/x-python",
   "name": "python",
   "nbconvert_exporter": "python",
   "pygments_lexer": "ipython3",
   "version": "3.7.3"
  }
 },
 "nbformat": 4,
 "nbformat_minor": 4
}
