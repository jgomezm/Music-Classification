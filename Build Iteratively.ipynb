{
 "cells": [
  {
   "cell_type": "code",
   "execution_count": 1,
   "metadata": {},
   "outputs": [],
   "source": [
    "import numpy as np\n",
    "import os\n",
    "from sklearn.preprocessing import OneHotEncoder\n",
    "from sklearn.metrics import confusion_matrix\n",
    "import tensorflow.keras as keras\n",
    "from tensorflow.keras import Sequential\n",
    "from tensorflow.keras import regularizers\n",
    "from tensorflow.keras.layers import LSTM, Dense, Flatten, BatchNormalization, Dropout, GRU\n",
    "from tensorflow.keras.utils import to_categorical\n",
    "import tensorflow as tf\n",
    "import module\n",
    "# Load the TensorBoard notebook extension\n",
    "%load_ext tensorboard"
   ]
  },
  {
   "cell_type": "code",
   "execution_count": 2,
   "metadata": {},
   "outputs": [
    {
     "data": {
      "text/plain": [
       "OneHotEncoder(categories='auto', drop=None, dtype=<class 'numpy.float64'>,\n",
       "              handle_unknown='error', sparse=True)"
      ]
     },
     "execution_count": 2,
     "metadata": {},
     "output_type": "execute_result"
    }
   ],
   "source": [
    "countriesOfInterest = {\"HK\", \"JP\", 'ZA', 'TN', 'TR', 'GB', 'MX', 'US', 'CO', 'EC', 'AU', 'NZ'}\n",
    "countriesOfInterest = [\"ZA\", \"EG\", \"TW\", \"JP\", \"DK\", \"FI\", \"US\", \"CA\", \"AU\", \"NZ\", \"BR\", \"CO\"]\n",
    "#countriesOfInterest = list(countriesOfInterest & {\"ZA\", \"EG\", \"TW\", \"JP\", \"DK\", \"FI\", \"US\", \"CA\", \"AU\", \"NZ\", \"BR\", \"CO\"})\n",
    "\n",
    "enc = OneHotEncoder()\n",
    "enc.fit(np.array(countriesOfInterest).reshape(-1, 1))"
   ]
  },
  {
   "cell_type": "code",
   "execution_count": 3,
   "metadata": {},
   "outputs": [],
   "source": [
    "seconds = 5\n",
    "samplerate = 100\n",
    "train_x, train_labels, val_x, val_labels, class_weights = module.getSamples(1, 1, 1, seconds, samplerate, countriesOfInterest,\n",
    "               enc, verbose = 0)"
   ]
  },
  {
   "cell_type": "markdown",
   "metadata": {},
   "source": [
    "### Fit model"
   ]
  },
  {
   "cell_type": "code",
   "execution_count": 4,
   "metadata": {},
   "outputs": [
    {
     "name": "stdout",
     "output_type": "stream",
     "text": [
      "Model: \"sequential\"\n",
      "_________________________________________________________________\n",
      "Layer (type)                 Output Shape              Param #   \n",
      "=================================================================\n",
      "lstm (LSTM)                  (None, 500, 32)           7424      \n",
      "_________________________________________________________________\n",
      "batch_normalization (BatchNo (None, 500, 32)           128       \n",
      "_________________________________________________________________\n",
      "lstm_1 (LSTM)                (None, 32)                8320      \n",
      "_________________________________________________________________\n",
      "batch_normalization_1 (Batch (None, 32)                128       \n",
      "_________________________________________________________________\n",
      "dense (Dense)                (None, 32)                1056      \n",
      "_________________________________________________________________\n",
      "batch_normalization_2 (Batch (None, 32)                128       \n",
      "_________________________________________________________________\n",
      "dense_1 (Dense)              (None, 12)                396       \n",
      "=================================================================\n",
      "Total params: 17,580\n",
      "Trainable params: 17,388\n",
      "Non-trainable params: 192\n",
      "_________________________________________________________________\n",
      "None\n"
     ]
    }
   ],
   "source": [
    "model = keras.Sequential()\n",
    "model.add(LSTM(32, \n",
    "               input_shape=(train_x.shape[1], train_x.shape[2]), \n",
    "               return_sequences = True,\n",
    "          #     recurrent_dropout = .5,\n",
    "          #     kernel_regularizer=regularizers.l2(0.01),\n",
    "              ))\n",
    "model.add(BatchNormalization())\n",
    "model.add(LSTM(32, \n",
    "             #  input_shape=(train_x.shape[1], train_x.shape[2]), \n",
    "               return_sequences = False,\n",
    "           #    recurrent_dropout = .5,\n",
    "               go_backwards = True\n",
    "          #     kernel_regularizer=regularizers.l2(0.01),\n",
    "              ))\n",
    "model.add(BatchNormalization())\n",
    "#model.add(Dropout(.5))\n",
    "model.add(Dense(32, activation= \"relu\"))\n",
    "model.add(BatchNormalization())\n",
    "#model.add(Dropout(.5))\n",
    "model.add(Dense(len(enc.categories_[0]), activation= \"softmax\"))\n",
    "adam = keras.optimizers.Adam(lr=0.001)\n",
    "model.compile(loss = \"categorical_crossentropy\", optimizer= adam, metrics=[\"acc\"])\n",
    "print(model.summary())"
   ]
  },
  {
   "cell_type": "code",
   "execution_count": null,
   "metadata": {
    "scrolled": true
   },
   "outputs": [
    {
     "name": "stdout",
     "output_type": "stream",
     "text": [
      "train [8000. 8000. 8000. 8000. 8000. 8000. 8000. 8000. 8000. 8000. 8000. 8000.]\n",
      "val [2174. 2376. 2012. 2474. 2016. 2889. 2317. 2935. 2454. 2767. 2826. 3645.]\n",
      "Train on 96000 samples, validate on 30885 samples\n",
      "Epoch 1/5\n",
      "96000/96000 [==============================] - 468s 5ms/sample - loss: 2.5548 - acc: 0.1080 - val_loss: 2.4999 - val_acc: 0.0907\n",
      "Epoch 2/5\n",
      "96000/96000 [==============================] - 700s 7ms/sample - loss: 2.4521 - acc: 0.1284 - val_loss: 2.4847 - val_acc: 0.1076\n",
      "Epoch 3/5\n",
      "96000/96000 [==============================] - 649s 7ms/sample - loss: 2.4386 - acc: 0.1398 - val_loss: 2.4749 - val_acc: 0.1183\n",
      "Epoch 4/5\n",
      "96000/96000 [==============================] - 739s 8ms/sample - loss: 2.4286 - acc: 0.1458 - val_loss: 2.4657 - val_acc: 0.1163\n",
      "Epoch 5/5\n",
      "96000/96000 [==============================] - 861s 9ms/sample - loss: 2.4207 - acc: 0.1496 - val_loss: 2.4611 - val_acc: 0.1233\n",
      "30885/30885 [==============================] - 47s 2ms/sample\n"
     ]
    },
    {
     "data": {
      "image/png": "[encoded data removed]",
      "text/plain": [
       "<Figure size 432x288 with 1 Axes>"
      ]
     },
     "metadata": {
      "needs_background": "light"
     },
     "output_type": "display_data"
    },
    {
     "name": "stdout",
     "output_type": "stream",
     "text": [
      "96000/96000 [==============================] - 106s 1ms/sample\n"
     ]
    },
    {
     "data": {
      "image/png": "[encoded data removed]",
      "text/plain": [
       "<Figure size 432x288 with 1 Axes>"
      ]
     },
     "metadata": {
      "needs_background": "light"
     },
     "output_type": "display_data"
    },
    {
     "name": "stdout",
     "output_type": "stream",
     "text": [
      "train [8000. 8000. 8000. 8000. 8000. 8000. 8000. 8000. 8000. 8000. 8000. 8000.]\n",
      "val [2393. 2146. 1842. 2150. 2199. 2276. 2622. 2592. 2704. 3153. 2481. 3006.]\n",
      "Train on 96000 samples, validate on 29564 samples\n",
      "Epoch 6/10\n",
      "96000/96000 [==============================] - 972s 10ms/sample - loss: 2.4513 - acc: 0.1309 - val_loss: 2.4656 - val_acc: 0.1188\n",
      "Epoch 7/10\n",
      "96000/96000 [==============================] - 967s 10ms/sample - loss: 2.4330 - acc: 0.1419 - val_loss: 2.4670 - val_acc: 0.1215\n",
      "Epoch 8/10\n",
      "96000/96000 [==============================] - 789s 8ms/sample - loss: 2.4215 - acc: 0.1510 - val_loss: 2.4757 - val_acc: 0.1203\n",
      "Epoch 9/10\n",
      "96000/96000 [==============================] - 789s 8ms/sample - loss: 2.4145 - acc: 0.1531 - val_loss: 2.4647 - val_acc: 0.1306\n",
      "Epoch 10/10\n",
      "96000/96000 [==============================] - 779s 8ms/sample - loss: 2.4073 - acc: 0.1570 - val_loss: 2.4712 - val_acc: 0.1267\n",
      "29564/29564 [==============================] - 37s 1ms/sample\n"
     ]
    },
    {
     "data": {
      "image/png": "[encoded data removed]",
      "text/plain": [
       "<Figure size 432x288 with 1 Axes>"
      ]
     },
     "metadata": {
      "needs_background": "light"
     },
     "output_type": "display_data"
    },
    {
     "name": "stdout",
     "output_type": "stream",
     "text": [
      "96000/96000 [==============================] - 117s 1ms/sample\n"
     ]
    },
    {
     "data": {
      "image/png": "[encoded data removed]",
      "text/plain": [
       "<Figure size 432x288 with 1 Axes>"
      ]
     },
     "metadata": {
      "needs_background": "light"
     },
     "output_type": "display_data"
    },
    {
     "name": "stdout",
     "output_type": "stream",
     "text": [
      "train [8000. 8000. 8000. 8000. 8000. 8000. 8000. 8000. 8000. 8000. 8000. 8000.]\n",
      "val [2276. 1943. 2159. 2799. 2254. 2969. 2264. 2734. 2321. 2646. 2014. 2950.]\n",
      "Train on 96000 samples, validate on 29329 samples\n",
      "Epoch 11/15\n",
      "96000/96000 [==============================] - 845s 9ms/sample - loss: 2.4268 - acc: 0.1467 - val_loss: 2.4636 - val_acc: 0.1298\n",
      "Epoch 12/15\n",
      "91728/96000 [===========================>..] - ETA: 34s - loss: 2.4049 - acc: 0.1583 "
     ]
    }
   ],
   "source": [
    "#add recurrent dropout to add noise to duration\n",
    "desc = \"LSTM32_32_D32_Out_5Step_01LR_5H_forced\"\n",
    "log_dir = os.path.join(\n",
    "    \"logs\",\n",
    "    \"Overfit\",\n",
    "    desc\n",
    ")\n",
    "model_dir = os.path.join(\n",
    "    \"pickle\",\n",
    "    \"save\"\n",
    ")\n",
    "\n",
    "train_n = 100\n",
    "sample_n = 8000\n",
    "val_n  = int(2*train_n/5)\n",
    "tensorboard_callback = tf.keras.callbacks.TensorBoard(log_dir=log_dir, histogram_freq=1)\n",
    "epochs = 5\n",
    "iterations = 10\n",
    "learn_rate = 0.01\n",
    "batch_size = 5096\n",
    "module.train(iterations, learn_rate, train_n, sample_n, val_n, seconds, samplerate,\n",
    "                countriesOfInterest, enc, epochs, tensorboard_callback, model_dir,\n",
    "                model, batch_size)"
   ]
  },
  {
   "cell_type": "code",
   "execution_count": null,
   "metadata": {},
   "outputs": [],
   "source": []
  },
  {
   "cell_type": "code",
   "execution_count": null,
   "metadata": {},
   "outputs": [],
   "source": []
  },
  {
   "cell_type": "code",
   "execution_count": null,
   "metadata": {},
   "outputs": [],
   "source": []
  },
  {
   "cell_type": "code",
   "execution_count": null,
   "metadata": {},
   "outputs": [],
   "source": []
  },
  {
   "cell_type": "code",
   "execution_count": null,
   "metadata": {},
   "outputs": [],
   "source": []
  },
  {
   "cell_type": "code",
   "execution_count": null,
   "metadata": {},
   "outputs": [],
   "source": []
  },
  {
   "cell_type": "code",
   "execution_count": null,
   "metadata": {},
   "outputs": [],
   "source": []
  },
  {
   "cell_type": "code",
   "execution_count": null,
   "metadata": {},
   "outputs": [],
   "source": []
  },
  {
   "cell_type": "code",
   "execution_count": null,
   "metadata": {},
   "outputs": [],
   "source": []
  }
 ],
 "metadata": {
  "kernelspec": {
   "display_name": "Python 3",
   "language": "python",
   "name": "python3"
  },
  "language_info": {
   "codemirror_mode": {
    "name": "ipython",
    "version": 3
   },
   "file_extension": ".py",
   "mimetype": "text/x-python",
   "name": "python",
   "nbconvert_exporter": "python",
   "pygments_lexer": "ipython3",
   "version": "3.7.3"
  }
 },
 "nbformat": 4,
 "nbformat_minor": 4
}
