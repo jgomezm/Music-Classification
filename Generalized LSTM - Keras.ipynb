{
 "cells": [
  {
   "cell_type": "code",
   "execution_count": 1,
   "metadata": {},
   "outputs": [],
   "source": [
    "import pandas as pd\n",
    "import numpy as np\n",
    "import glob\n",
    "import os\n"
   ]
  },
  {
   "cell_type": "code",
   "execution_count": 3,
   "metadata": {},
   "outputs": [
    {
     "name": "stderr",
     "output_type": "stream",
     "text": [
      "Using plaidml.keras.backend backend.\n"
     ]
    }
   ],
   "source": [
    "os.environ[\"KERAS_BACKEND\"] = \"plaidml.keras.backend\"\n",
    "import keras as keras\n",
    "from keras import Sequential\n",
    "from keras.layers import LSTM, Dense\n",
    "from keras.utils import to_categorical\n",
    "\n",
    "os.environ[\"KERAS_BACKEND\"] = \"plaidml.keras.backend\""
   ]
  },
  {
   "cell_type": "code",
   "execution_count": 4,
   "metadata": {},
   "outputs": [
    {
     "data": {
      "text/plain": [
       "'plaidml.keras.backend'"
      ]
     },
     "execution_count": 4,
     "metadata": {},
     "output_type": "execute_result"
    }
   ],
   "source": [
    "os.environ[\"KERAS_BACKEND\"]"
   ]
  },
  {
   "cell_type": "code",
   "execution_count": 5,
   "metadata": {},
   "outputs": [],
   "source": [
    "np.random.seed(1234) ### DOES NOT WORK???\n",
    "w_length = 200\n",
    "n_countries = 2"
   ]
  },
  {
   "cell_type": "code",
   "execution_count": 6,
   "metadata": {},
   "outputs": [
    {
     "data": {
      "text/plain": [
       "1800"
      ]
     },
     "execution_count": 6,
     "metadata": {},
     "output_type": "execute_result"
    }
   ],
   "source": [
    "len(glob.glob(\"Raw Track Data\\\\*.csv\"))"
   ]
  },
  {
   "cell_type": "markdown",
   "metadata": {},
   "source": [
    "### Import Data"
   ]
  },
  {
   "cell_type": "code",
   "execution_count": 7,
   "metadata": {},
   "outputs": [
    {
     "name": "stdout",
     "output_type": "stream",
     "text": [
      "Unique tracks:\t 14229\n"
     ]
    }
   ],
   "source": [
    "import random\n",
    "allTracks = pd.DataFrame()\n",
    "for file in glob.glob(\"Raw Track Data\\\\*.csv\"):\n",
    "    if random.random() < .20:\n",
    "        new = pd.read_csv(file)\n",
    "        new[\"Country\"] = file[15:17]\n",
    "        new[\"Year\"] = file[18:22]\n",
    "        new[\"Playlist\"] = file[23:-4]\n",
    "        allTracks = allTracks.append(new)\n",
    "allTracks = allTracks.drop([\"confidence\", \"loudness_start\", \"loudness_max_time\"], axis = 1)\n",
    "print(\"Unique tracks:\\t\", len(pd.unique(allTracks.track_id)))"
   ]
  },
  {
   "cell_type": "markdown",
   "metadata": {},
   "source": [
    "### Define category"
   ]
  },
  {
   "cell_type": "code",
   "execution_count": 8,
   "metadata": {},
   "outputs": [],
   "source": [
    "Category = \"Country\""
   ]
  },
  {
   "cell_type": "code",
   "execution_count": 9,
   "metadata": {},
   "outputs": [
    {
     "name": "stdout",
     "output_type": "stream",
     "text": [
      "['AD' 'AE' 'AR' 'AT' 'AU' 'BE' 'BG' 'BH' 'BO' 'BR' 'CA' 'CH' 'CL' 'CO'\n",
      " 'CR' 'CY' 'CZ' 'DE' 'DK' 'DO' 'DZ' 'EC' 'EE' 'EG' 'ES' 'FI' 'FR' 'GB'\n",
      " 'GR' 'GT' 'HK' 'HN' 'HU' 'ID' 'IE' 'IL' 'IN' 'IS' 'IT' 'JO' 'JP' 'KW'\n",
      " 'LB' 'LI' 'LT' 'LU' 'LV' 'MA' 'MC' 'MT' 'MX' 'MY' 'NL' 'NO' 'NZ' 'OM'\n",
      " 'PA' 'PE' 'PH' 'PL' 'PS' 'PT' 'PY' 'QA' 'RO' 'SA' 'SE' 'SG' 'SK' 'SV'\n",
      " 'TH' 'TN' 'TR' 'TW' 'US' 'UY' 'VN' 'ZA']\n"
     ]
    }
   ],
   "source": [
    "cats = pd.unique(allTracks[Category])\n",
    "print(cats)"
   ]
  },
  {
   "cell_type": "markdown",
   "metadata": {},
   "source": [
    "### Drop within category duplicates"
   ]
  },
  {
   "cell_type": "code",
   "execution_count": 10,
   "metadata": {},
   "outputs": [
    {
     "name": "stdout",
     "output_type": "stream",
     "text": [
      "(20317978, 31)\n",
      "(19043994, 31)\n"
     ]
    }
   ],
   "source": [
    "print(allTracks.shape)\n",
    "allTracks = allTracks.drop_duplicates([\"track_id\", \"start\", Category])\n",
    "print(allTracks.shape)"
   ]
  },
  {
   "cell_type": "markdown",
   "metadata": {},
   "source": [
    "### Create train (60%), test (20%), and validation (20%) datasets at track level"
   ]
  },
  {
   "cell_type": "code",
   "execution_count": 11,
   "metadata": {},
   "outputs": [],
   "source": [
    "UniqueTracks = pd.unique(allTracks.track_id)\n",
    "testTracks = np.random.choice(UniqueTracks, int(len(UniqueTracks) * .1), replace = False)\n",
    "test = allTracks.loc[allTracks.track_id.isin(testTracks)]\n",
    "allTracks = allTracks.loc[~allTracks.track_id.isin(testTracks)]\n",
    "UniqueTracks = pd.unique(allTracks.track_id)\n",
    "testTracks = np.random.choice(UniqueTracks, int(len(UniqueTracks) * .2), replace = False)\n",
    "val = allTracks.loc[allTracks.track_id.isin(testTracks)]\n",
    "train = allTracks = allTracks.loc[~allTracks.track_id.isin(testTracks)]\n"
   ]
  },
  {
   "cell_type": "code",
   "execution_count": 12,
   "metadata": {},
   "outputs": [
    {
     "data": {
      "text/plain": [
       "0        AD\n",
       "1        AD\n",
       "2        AD\n",
       "3        AD\n",
       "4        AD\n",
       "         ..\n",
       "89612    ZA\n",
       "89613    ZA\n",
       "89614    ZA\n",
       "89615    ZA\n",
       "89616    ZA\n",
       "Name: Country, Length: 13728459, dtype: object"
      ]
     },
     "execution_count": 12,
     "metadata": {},
     "output_type": "execute_result"
    }
   ],
   "source": [
    "train[Category]"
   ]
  },
  {
   "cell_type": "code",
   "execution_count": 13,
   "metadata": {},
   "outputs": [],
   "source": [
    "\n",
    "#del(UniqueTracks, testTracks, allTracks)"
   ]
  },
  {
   "cell_type": "code",
   "execution_count": 14,
   "metadata": {},
   "outputs": [
    {
     "name": "stdout",
     "output_type": "stream",
     "text": [
      "(1909240, 31)\n",
      "(3406295, 31)\n",
      "(13728459, 31)\n"
     ]
    }
   ],
   "source": [
    "print(test.shape)\n",
    "print(val.shape)\n",
    "print(train.shape)"
   ]
  },
  {
   "cell_type": "markdown",
   "metadata": {},
   "source": [
    "### Split tracks into subsegments"
   ]
  },
  {
   "cell_type": "code",
   "execution_count": 15,
   "metadata": {},
   "outputs": [],
   "source": [
    "def split(X, cat):\n",
    "    X = X.reset_index()\n",
    "    new_pos = list(X.track_id.index[X.track_id.shift(1) != X.track_id]) # indices where the song changes\n",
    "    new_pos.append(max(X.track_id.index) + 1) # add a new index to know where the last song ends\n",
    "    split_pos = []\n",
    "    for i in range(len(new_pos)-1):\n",
    "        split_pos = split_pos + list(range(new_pos[i], new_pos[i+1], w_length))\n",
    "    split_pos = split_pos[1:]\n",
    "    us_train = np.split(X.iloc[:,:27].to_numpy(), split_pos)\n",
    "    labs = np.split(X[Category].to_numpy(), split_pos)\n",
    "    # drop the short sequences\n",
    "    short_seqs = []\n",
    "    temp = [] \n",
    "    labels = []\n",
    "    for i, value in enumerate(us_train):\n",
    "        if value.shape[0] == w_length:\n",
    "            temp.append(value)\n",
    "            labels.append(labs[i][0])\n",
    "    us_train = temp\n",
    "    return np.stack(us_train), labels"
   ]
  },
  {
   "cell_type": "code",
   "execution_count": null,
   "metadata": {},
   "outputs": [],
   "source": []
  },
  {
   "cell_type": "code",
   "execution_count": 47,
   "metadata": {},
   "outputs": [],
   "source": [
    "test_x, test_labels= split(test, Category)\n",
    "#del(test)\n",
    "val_x, val_labels = split(val, Category)\n",
    "#del val\n",
    "train_x, train_labels = split(train, Category)\n",
    "#del train"
   ]
  },
  {
   "cell_type": "code",
   "execution_count": 48,
   "metadata": {},
   "outputs": [
    {
     "name": "stdout",
     "output_type": "stream",
     "text": [
      "(8378, 200, 27)\n",
      "8378\n"
     ]
    }
   ],
   "source": [
    "print(test_x.shape)\n",
    "print(len(test_labels))"
   ]
  },
  {
   "cell_type": "markdown",
   "metadata": {},
   "source": [
    "### One-hot encode labels"
   ]
  },
  {
   "cell_type": "code",
   "execution_count": 49,
   "metadata": {},
   "outputs": [
    {
     "data": {
      "text/plain": [
       "OneHotEncoder(categorical_features=None, categories=None, drop=None,\n",
       "              dtype=<class 'numpy.float64'>, handle_unknown='error',\n",
       "              n_values=None, sparse=True)"
      ]
     },
     "execution_count": 49,
     "metadata": {},
     "output_type": "execute_result"
    }
   ],
   "source": [
    "from sklearn.preprocessing import OneHotEncoder\n",
    "enc = OneHotEncoder()\n",
    "enc.fit(cats.reshape(-1, 1))"
   ]
  },
  {
   "cell_type": "code",
   "execution_count": 50,
   "metadata": {},
   "outputs": [
    {
     "data": {
      "text/plain": [
       "array(['AD', 'AE', 'AR', 'AT', 'AU', 'BE', 'BG', 'BH', 'BO', 'BR', 'CA',\n",
       "       'CH', 'CL', 'CO', 'CR', 'CY', 'CZ', 'DE', 'DK', 'DO', 'DZ', 'EC',\n",
       "       'EE', 'EG', 'ES', 'FI', 'FR', 'GB', 'GR', 'GT', 'HK', 'HN', 'HU',\n",
       "       'ID', 'IE', 'IL', 'IN', 'IS', 'IT', 'JO', 'JP', 'KW', 'LB', 'LI',\n",
       "       'LT', 'LU', 'LV', 'MA', 'MC', 'MT', 'MX', 'MY', 'NL', 'NO', 'NZ',\n",
       "       'OM', 'PA', 'PE', 'PH', 'PL', 'PS', 'PT', 'PY', 'QA', 'RO', 'SA',\n",
       "       'SE', 'SG', 'SK', 'SV', 'TH', 'TN', 'TR', 'TW', 'US', 'UY', 'VN',\n",
       "       'ZA'], dtype=object)"
      ]
     },
     "execution_count": 50,
     "metadata": {},
     "output_type": "execute_result"
    }
   ],
   "source": [
    "cats"
   ]
  },
  {
   "cell_type": "code",
   "execution_count": 51,
   "metadata": {},
   "outputs": [
    {
     "data": {
      "text/plain": [
       "array(['AD', 'AE', 'AR', 'AT', 'AU', 'BE', 'BG', 'BH', 'BO', 'BR', 'CA',\n",
       "       'CH', 'CL', 'CO', 'CR', 'CY', 'CZ', 'DE', 'DK', 'DO', 'DZ', 'EC',\n",
       "       'EE', 'EG', 'ES', 'FI', 'FR', 'GB', 'GR', 'GT', 'HK', 'HN', 'HU',\n",
       "       'ID', 'IE', 'IL', 'IN', 'IS', 'IT', 'JO', 'JP', 'KW', 'LB', 'LI',\n",
       "       'LT', 'LU', 'LV', 'MA', 'MC', 'MT', 'MX', 'MY', 'NL', 'NO', 'NZ',\n",
       "       'OM', 'PA', 'PE', 'PH', 'PL', 'PS', 'PT', 'PY', 'QA', 'RO', 'SA',\n",
       "       'SE', 'SG', 'SK', 'SV', 'TH', 'TN', 'TR', 'TW', 'US', 'UY', 'VN',\n",
       "       'ZA'], dtype='<U2')"
      ]
     },
     "execution_count": 51,
     "metadata": {},
     "output_type": "execute_result"
    }
   ],
   "source": [
    "np.unique(train_labels)"
   ]
  },
  {
   "cell_type": "code",
   "execution_count": 59,
   "metadata": {},
   "outputs": [
    {
     "data": {
      "text/plain": [
       "array([0.92897867, 0.45788522, 1.15705128, 0.98964181, 1.21910135,\n",
       "       1.74078887, 0.97960742, 0.55605054, 1.92266233, 4.68430458,\n",
       "       0.92122796, 1.49788809, 1.46107799, 5.56050544, 4.20059922,\n",
       "       0.99345791, 2.08331606, 0.64248567, 1.69126971, 1.5335521 ,\n",
       "       1.47783988, 4.80068482, 1.51848773, 0.75701298, 1.01166264,\n",
       "       0.77757571, 1.39514487, 1.98182117, 0.61390807, 1.12341607,\n",
       "       0.48610708, 0.8319809 , 1.17463565, 0.70649932, 0.57295052,\n",
       "       1.20391006, 1.39514487, 2.37089036, 1.02507992, 0.42189424,\n",
       "       0.56499288, 1.88056023, 0.82224495, 1.4078511 , 2.08894664,\n",
       "       1.20017121, 1.08250736, 1.88514697, 1.71376997, 1.26086502,\n",
       "       5.60079896, 0.71765112, 4.15543149, 0.74246903, 0.79928672,\n",
       "       0.3988185 , 1.83154089, 0.9565721 , 4.60065629, 0.98711399,\n",
       "       1.03468575, 1.10415751, 2.59365858, 0.45599425, 1.66935261,\n",
       "       0.43107097, 2.6111833 , 0.54163298, 0.6994663 , 1.1890927 ,\n",
       "       0.77213812, 1.74866574, 2.18336231, 0.45252357, 1.83154089,\n",
       "       1.01698718, 0.83738923, 0.48276718])"
      ]
     },
     "execution_count": 59,
     "metadata": {},
     "output_type": "execute_result"
    }
   ],
   "source": [
    "from sklearn.utils import class_weight\n",
    "class_weights = class_weight.compute_class_weight('balanced',\n",
    "                                                 np.unique(train_labels),\n",
    "                                                 list(train_labels))\n",
    "class_weights"
   ]
  },
  {
   "cell_type": "code",
   "execution_count": 60,
   "metadata": {},
   "outputs": [],
   "source": [
    "test_labels = enc.transform(np.array(test_labels).reshape(-1, 1)).toarray()\n",
    "val_labels = enc.transform(np.array(val_labels).reshape(-1, 1)).toarray()\n",
    "train_labels = enc.transform(np.array(train_labels).reshape(-1, 1)).toarray()"
   ]
  },
  {
   "cell_type": "markdown",
   "metadata": {},
   "source": [
    "### Define Model"
   ]
  },
  {
   "cell_type": "code",
   "execution_count": 61,
   "metadata": {},
   "outputs": [],
   "source": [
    "from keras.models import Sequential\n",
    "from keras.layers import Dense, Activation, LSTM\n",
    "\n"
   ]
  },
  {
   "cell_type": "code",
   "execution_count": 62,
   "metadata": {},
   "outputs": [
    {
     "data": {
      "text/plain": [
       "27"
      ]
     },
     "execution_count": 62,
     "metadata": {},
     "output_type": "execute_result"
    }
   ],
   "source": [
    "train_x.shape[2]"
   ]
  },
  {
   "cell_type": "code",
   "execution_count": 63,
   "metadata": {
    "scrolled": true
   },
   "outputs": [
    {
     "name": "stdout",
     "output_type": "stream",
     "text": [
      "_________________________________________________________________\n",
      "Layer (type)                 Output Shape              Param #   \n",
      "=================================================================\n",
      "lstm_7 (LSTM)                (None, 200, 50)           15600     \n",
      "_________________________________________________________________\n",
      "lstm_8 (LSTM)                (None, 50)                20200     \n",
      "_________________________________________________________________\n",
      "dense_4 (Dense)              (None, 78)                3978      \n",
      "=================================================================\n",
      "Total params: 39,778\n",
      "Trainable params: 39,778\n",
      "Non-trainable params: 0\n",
      "_________________________________________________________________\n",
      "None\n"
     ]
    }
   ],
   "source": [
    "out_index = 2\n",
    "model = keras.Sequential()\n",
    "model.add(LSTM(50, input_shape=(w_length, train_x.shape[2]), return_sequences = True))\n",
    "model.add(LSTM(50, input_shape=(w_length, train_x.shape[2]), dropout=.5))\n",
    "#model.add(Dense(200, activation= \"relu\"))\n",
    "#model.add(keras.layers.Dropout(.25))\n",
    "model.add(Dense(len(enc.categories_[0]), activation= \"softmax\"))\n",
    "model.compile(loss = \"categorical_crossentropy\", optimizer= \"adam\", metrics=[\"acc\"])\n",
    "print(model.summary())"
   ]
  },
  {
   "cell_type": "code",
   "execution_count": 64,
   "metadata": {},
   "outputs": [
    {
     "data": {
      "text/plain": [
       "dtype('float64')"
      ]
     },
     "execution_count": 64,
     "metadata": {},
     "output_type": "execute_result"
    }
   ],
   "source": [
    "type(train_x)\n",
    "train_x.dtype"
   ]
  },
  {
   "cell_type": "code",
   "execution_count": 65,
   "metadata": {},
   "outputs": [
    {
     "data": {
      "text/plain": [
       "(60287, 78)"
      ]
     },
     "execution_count": 65,
     "metadata": {},
     "output_type": "execute_result"
    }
   ],
   "source": [
    "train_labels.shape"
   ]
  },
  {
   "cell_type": "code",
   "execution_count": 66,
   "metadata": {},
   "outputs": [
    {
     "data": {
      "text/plain": [
       "0.032146233848093286"
      ]
     },
     "execution_count": 66,
     "metadata": {},
     "output_type": "execute_result"
    }
   ],
   "source": [
    "max(np.sum(train_labels, axis = 0))/sum(np.sum(train_labels, axis = 0))"
   ]
  },
  {
   "cell_type": "code",
   "execution_count": 67,
   "metadata": {},
   "outputs": [
    {
     "data": {
      "text/plain": [
       "0.033540224397230846"
      ]
     },
     "execution_count": 67,
     "metadata": {},
     "output_type": "execute_result"
    }
   ],
   "source": [
    "max(np.sum(test_labels, axis = 0))/sum(np.sum(test_labels, axis = 0))"
   ]
  },
  {
   "cell_type": "code",
   "execution_count": 68,
   "metadata": {},
   "outputs": [
    {
     "data": {
      "text/plain": [
       "array(['AD', 'AE', 'AR', 'AT', 'AU', 'BE', 'BG', 'BH', 'BO', 'BR', 'CA',\n",
       "       'CH', 'CL', 'CO', 'CR', 'CY', 'CZ', 'DE', 'DK', 'DO', 'DZ', 'EC',\n",
       "       'EE', 'EG', 'ES', 'FI', 'FR', 'GB', 'GR', 'GT', 'HK', 'HN', 'HU',\n",
       "       'ID', 'IE', 'IL', 'IN', 'IS', 'IT', 'JO', 'JP', 'KW', 'LB', 'LI',\n",
       "       'LT', 'LU', 'LV', 'MA', 'MC', 'MT', 'MX', 'MY', 'NL', 'NO', 'NZ',\n",
       "       'OM', 'PA', 'PE', 'PH', 'PL', 'PS', 'PT', 'PY', 'QA', 'RO', 'SA',\n",
       "       'SE', 'SG', 'SK', 'SV', 'TH', 'TN', 'TR', 'TW', 'US', 'UY', 'VN',\n",
       "       'ZA'], dtype=object)"
      ]
     },
     "execution_count": 68,
     "metadata": {},
     "output_type": "execute_result"
    }
   ],
   "source": [
    "enc.categories_[0]"
   ]
  },
  {
   "cell_type": "code",
   "execution_count": null,
   "metadata": {
    "scrolled": false
   },
   "outputs": [
    {
     "name": "stdout",
     "output_type": "stream",
     "text": [
      "Train on 60287 samples, validate on 15011 samples\n",
      "Epoch 1/50\n",
      "24064/60287 [==========>...................] - ETA: 11:36 - loss: 4.2687 - acc: 0.0259"
     ]
    }
   ],
   "source": [
    "model.fit(train_x, train_labels,\n",
    "          epochs = 50, \n",
    "          shuffle = True,\n",
    "          validation_data = (val_x, val_labels),\n",
    "          batch_size = 512,\n",
    "          class_weight=class_weights)"
   ]
  },
  {
   "cell_type": "code",
   "execution_count": null,
   "metadata": {},
   "outputs": [],
   "source": [
    "model.get_layer(index = 0)"
   ]
  },
  {
   "cell_type": "code",
   "execution_count": null,
   "metadata": {},
   "outputs": [],
   "source": []
  }
 ],
 "metadata": {
  "kernelspec": {
   "display_name": "Python 3",
   "language": "python",
   "name": "python3"
  },
  "language_info": {
   "codemirror_mode": {
    "name": "ipython",
    "version": 3
   },
   "file_extension": ".py",
   "mimetype": "text/x-python",
   "name": "python",
   "nbconvert_exporter": "python",
   "pygments_lexer": "ipython3",
   "version": "3.7.3"
  }
 },
 "nbformat": 4,
 "nbformat_minor": 2
}
