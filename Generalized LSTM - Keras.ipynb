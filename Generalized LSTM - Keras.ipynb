{
 "cells": [
  {
   "cell_type": "code",
   "execution_count": 1,
   "metadata": {},
   "outputs": [],
   "source": [
    "import pandas as pd\n",
    "import numpy as np\n",
    "import glob\n",
    "import os\n",
    "import random\n",
    "import pickle\n",
    "from sklearn.preprocessing import OneHotEncoder\n",
    "from sklearn.utils import class_weight\n"
   ]
  },
  {
   "cell_type": "code",
   "execution_count": 2,
   "metadata": {},
   "outputs": [
    {
     "name": "stderr",
     "output_type": "stream",
     "text": [
      "Using plaidml.keras.backend backend.\n"
     ]
    }
   ],
   "source": [
    "os.environ[\"KERAS_BACKEND\"] = \"plaidml.keras.backend\"\n",
    "import keras as keras\n",
    "from keras import Sequential\n",
    "from keras.layers import LSTM, Dense\n",
    "from keras.utils import to_categorical\n",
    "\n",
    "os.environ[\"KERAS_BACKEND\"] = \"plaidml.keras.backend\""
   ]
  },
  {
   "cell_type": "code",
   "execution_count": 3,
   "metadata": {},
   "outputs": [],
   "source": [
    "enc = pickle.load( open( \"pickle\\\\enc.p\", \"rb\" ) )"
   ]
  },
  {
   "cell_type": "code",
   "execution_count": 4,
   "metadata": {},
   "outputs": [],
   "source": [
    "#test_x = pickle.load( open( \"pickle\\\\test_x.p\", \"rb\" ) )\n",
    "val_x = pickle.load( open( \"pickle\\\\val_x.p\", \"rb\" ) )\n",
    "train_x = pickle.load( open( \"pickle\\\\train_x.p\", \"rb\" ) )\n",
    "#test_labels = pickle.load( open( \"pickle\\\\test_labels.p\", \"rb\" ) )\n",
    "val_labels = pickle.load( open( \"pickle\\\\val_labels.p\", \"rb\" ) )\n",
    "train_labels = pickle.load( open( \"pickle\\\\train_labels.p\", \"rb\" ) )"
   ]
  },
  {
   "cell_type": "code",
   "execution_count": 5,
   "metadata": {},
   "outputs": [
    {
     "name": "stdout",
     "output_type": "stream",
     "text": [
      "(24445, 200, 27)\n",
      "24445\n"
     ]
    }
   ],
   "source": [
    "print(train_x.shape)\n",
    "print(len(train_labels))"
   ]
  },
  {
   "cell_type": "code",
   "execution_count": 6,
   "metadata": {},
   "outputs": [
    {
     "data": {
      "text/plain": [
       "array([0.88338393, 1.02727349, 1.37085016, 1.48692214, 0.51480499,\n",
       "       0.55160664, 3.36152365, 1.41072253, 0.72831009, 1.57547048,\n",
       "       3.00454769, 0.71930909])"
      ]
     },
     "execution_count": 6,
     "metadata": {},
     "output_type": "execute_result"
    }
   ],
   "source": [
    "class_weights = pickle.load( open( \"pickle\\\\class_weights.p\", \"rb\" ) )\n",
    "class_weights"
   ]
  },
  {
   "cell_type": "markdown",
   "metadata": {},
   "source": [
    "### Define Model"
   ]
  },
  {
   "cell_type": "code",
   "execution_count": 7,
   "metadata": {},
   "outputs": [],
   "source": [
    "from keras.models import Sequential\n",
    "from keras.layers import Dense, Activation, LSTM"
   ]
  },
  {
   "cell_type": "code",
   "execution_count": 8,
   "metadata": {},
   "outputs": [
    {
     "data": {
      "text/plain": [
       "27"
      ]
     },
     "execution_count": 8,
     "metadata": {},
     "output_type": "execute_result"
    }
   ],
   "source": [
    "train_x.shape[2]"
   ]
  },
  {
   "cell_type": "code",
   "execution_count": 9,
   "metadata": {},
   "outputs": [
    {
     "data": {
      "text/plain": [
       "(24445, 200, 27)"
      ]
     },
     "execution_count": 9,
     "metadata": {},
     "output_type": "execute_result"
    }
   ],
   "source": [
    "train_x.shape"
   ]
  },
  {
   "cell_type": "code",
   "execution_count": 10,
   "metadata": {
    "scrolled": true
   },
   "outputs": [
    {
     "name": "stderr",
     "output_type": "stream",
     "text": [
      "INFO:plaidml:Opening device \"opencl_amd_gfx804.0\"\n"
     ]
    },
    {
     "name": "stdout",
     "output_type": "stream",
     "text": [
      "_________________________________________________________________\n",
      "Layer (type)                 Output Shape              Param #   \n",
      "=================================================================\n",
      "lstm_1 (LSTM)                (None, 200, 100)          51200     \n",
      "_________________________________________________________________\n",
      "lstm_2 (LSTM)                (None, 50)                30200     \n",
      "_________________________________________________________________\n",
      "dense_1 (Dense)              (None, 20)                1020      \n",
      "_________________________________________________________________\n",
      "dense_2 (Dense)              (None, 12)                252       \n",
      "=================================================================\n",
      "Total params: 82,672\n",
      "Trainable params: 82,672\n",
      "Non-trainable params: 0\n",
      "_________________________________________________________________\n",
      "None\n"
     ]
    }
   ],
   "source": [
    "out_index = 2\n",
    "model = keras.Sequential()\n",
    "model.add(LSTM(100, \n",
    "               input_shape=(train_x.shape[1], train_x.shape[2]), \n",
    "               return_sequences = True,\n",
    "              recurrent_dropout = .25))\n",
    "model.add(LSTM(50, \n",
    "               input_shape=(train_x.shape[1], train_x.shape[2]),\n",
    "              recurrent_dropout = .25))\n",
    "model.add(Dense(20, activation= \"relu\"))\n",
    "#model.add(keras.layers.Dropout(.25))\n",
    "model.add(Dense(len(enc.categories_[0]), activation= \"softmax\"))\n",
    "model.compile(loss = \"categorical_crossentropy\", optimizer= \"adam\", metrics=[\"acc\"])\n",
    "print(model.summary())"
   ]
  },
  {
   "cell_type": "code",
   "execution_count": 11,
   "metadata": {},
   "outputs": [
    {
     "data": {
      "text/plain": [
       "dtype('float64')"
      ]
     },
     "execution_count": 11,
     "metadata": {},
     "output_type": "execute_result"
    }
   ],
   "source": [
    "type(train_x)\n",
    "train_x.dtype"
   ]
  },
  {
   "cell_type": "code",
   "execution_count": 12,
   "metadata": {},
   "outputs": [
    {
     "data": {
      "text/plain": [
       "(24445, 12)"
      ]
     },
     "execution_count": 12,
     "metadata": {},
     "output_type": "execute_result"
    }
   ],
   "source": [
    "train_labels.shape"
   ]
  },
  {
   "cell_type": "code",
   "execution_count": 13,
   "metadata": {},
   "outputs": [
    {
     "data": {
      "text/plain": [
       "0.1618735937819595"
      ]
     },
     "execution_count": 13,
     "metadata": {},
     "output_type": "execute_result"
    }
   ],
   "source": [
    "max(np.sum(train_labels, axis = 0))/sum(np.sum(train_labels, axis = 0))"
   ]
  },
  {
   "cell_type": "code",
   "execution_count": 14,
   "metadata": {},
   "outputs": [
    {
     "data": {
      "text/plain": [
       "0.1635617303441743"
      ]
     },
     "execution_count": 14,
     "metadata": {},
     "output_type": "execute_result"
    }
   ],
   "source": [
    "max(np.sum(val_labels, axis = 0))/sum(np.sum(val_labels, axis = 0))"
   ]
  },
  {
   "cell_type": "code",
   "execution_count": 15,
   "metadata": {},
   "outputs": [
    {
     "data": {
      "text/plain": [
       "array(['AU', 'CO', 'EC', 'GB', 'HK', 'JP', 'MX', 'NZ', 'TN', 'TR', 'US',\n",
       "       'ZA'], dtype=object)"
      ]
     },
     "execution_count": 15,
     "metadata": {},
     "output_type": "execute_result"
    }
   ],
   "source": [
    "enc.categories_[0]"
   ]
  },
  {
   "cell_type": "code",
   "execution_count": null,
   "metadata": {
    "scrolled": false
   },
   "outputs": [
    {
     "name": "stdout",
     "output_type": "stream",
     "text": [
      "Train on 24445 samples, validate on 6334 samples\n",
      "Epoch 1/50\n"
     ]
    },
    {
     "name": "stderr",
     "output_type": "stream",
     "text": [
      "INFO:plaidml:Analyzing Ops: 1551 of 41898 operations complete\n",
      "INFO:plaidml:Analyzing Ops: 3245 of 41898 operations complete\n",
      "INFO:plaidml:Analyzing Ops: 5345 of 41898 operations complete\n",
      "INFO:plaidml:Analyzing Ops: 8621 of 41898 operations complete\n",
      "INFO:plaidml:Analyzing Ops: 10716 of 41898 operations complete\n",
      "INFO:plaidml:Analyzing Ops: 12793 of 41898 operations complete\n",
      "INFO:plaidml:Analyzing Ops: 15532 of 41898 operations complete\n",
      "INFO:plaidml:Analyzing Ops: 19895 of 41898 operations complete\n",
      "INFO:plaidml:Analyzing Ops: 24728 of 41898 operations complete\n",
      "INFO:plaidml:Analyzing Ops: 29791 of 41898 operations complete\n",
      "INFO:plaidml:Analyzing Ops: 34559 of 41898 operations complete\n",
      "INFO:plaidml:Analyzing Ops: 38198 of 41898 operations complete\n"
     ]
    },
    {
     "name": "stdout",
     "output_type": "stream",
     "text": [
      "24320/24445 [============================>.] - ETA: 3s - loss: 2.3759 - acc: 0.1547 "
     ]
    },
    {
     "name": "stderr",
     "output_type": "stream",
     "text": [
      "INFO:plaidml:Analyzing Ops: 1229 of 41898 operations complete\n",
      "INFO:plaidml:Analyzing Ops: 2993 of 41898 operations complete\n",
      "INFO:plaidml:Analyzing Ops: 5208 of 41898 operations complete\n",
      "INFO:plaidml:Analyzing Ops: 8652 of 41898 operations complete\n",
      "INFO:plaidml:Analyzing Ops: 10831 of 41898 operations complete\n",
      "INFO:plaidml:Analyzing Ops: 12900 of 41898 operations complete\n",
      "INFO:plaidml:Analyzing Ops: 15493 of 41898 operations complete\n",
      "INFO:plaidml:Analyzing Ops: 19523 of 41898 operations complete\n",
      "INFO:plaidml:Analyzing Ops: 24343 of 41898 operations complete\n",
      "INFO:plaidml:Analyzing Ops: 29209 of 41898 operations complete\n",
      "INFO:plaidml:Analyzing Ops: 34226 of 41898 operations complete\n",
      "INFO:plaidml:Analyzing Ops: 37796 of 41898 operations complete\n",
      "INFO:plaidml:Analyzing Ops: 40783 of 41898 operations complete\n",
      "INFO:plaidml:Analyzing Ops: 3798 of 17103 operations complete\n",
      "INFO:plaidml:Analyzing Ops: 8786 of 17103 operations complete\n",
      "INFO:plaidml:Analyzing Ops: 13427 of 17103 operations complete\n",
      "INFO:plaidml:Analyzing Ops: 4230 of 17103 operations complete\n",
      "INFO:plaidml:Analyzing Ops: 8879 of 17103 operations complete\n",
      "INFO:plaidml:Analyzing Ops: 13544 of 17103 operations complete\n"
     ]
    },
    {
     "name": "stdout",
     "output_type": "stream",
     "text": [
      "24445/24445 [==============================] - 1033s 42ms/step - loss: 2.3754 - acc: 0.1552 - val_loss: 2.3251 - val_acc: 0.1749\n",
      "Epoch 2/50\n",
      "24445/24445 [==============================] - 576s 24ms/step - loss: 2.3312 - acc: 0.1799 - val_loss: 2.2804 - val_acc: 0.2081\n",
      "Epoch 3/50\n",
      "24445/24445 [==============================] - 590s 24ms/step - loss: 2.3097 - acc: 0.1953 - val_loss: 2.2632 - val_acc: 0.2120\n",
      "Epoch 4/50\n",
      "24445/24445 [==============================] - 601s 25ms/step - loss: 2.2875 - acc: 0.2004 - val_loss: 2.2932 - val_acc: 0.2120\n",
      "Epoch 5/50\n",
      "24445/24445 [==============================] - 610s 25ms/step - loss: 2.2665 - acc: 0.2082 - val_loss: 2.2390 - val_acc: 0.2212\n",
      "Epoch 6/50\n",
      "24445/24445 [==============================] - 614s 25ms/step - loss: 2.2638 - acc: 0.2088 - val_loss: 2.2739 - val_acc: 0.2067\n",
      "Epoch 7/50\n",
      "24445/24445 [==============================] - 679s 28ms/step - loss: 2.2716 - acc: 0.2045 - val_loss: 2.2340 - val_acc: 0.2193\n",
      "Epoch 8/50\n",
      "24445/24445 [==============================] - 644s 26ms/step - loss: 2.2569 - acc: 0.2084 - val_loss: 2.2380 - val_acc: 0.2316\n",
      "Epoch 9/50\n",
      "22784/24445 [==========================>...] - ETA: 51s - loss: 2.2516 - acc: 0.2098"
     ]
    }
   ],
   "source": [
    "model.fit(train_x, train_labels,\n",
    "          epochs = 50, \n",
    "          shuffle = True,\n",
    "          validation_data = (val_x, val_labels),\n",
    "          batch_size = 256,\n",
    "          class_weight=class_weights)"
   ]
  },
  {
   "cell_type": "code",
   "execution_count": null,
   "metadata": {},
   "outputs": [],
   "source": [
    "model.get_layer(index = 0)"
   ]
  },
  {
   "cell_type": "code",
   "execution_count": null,
   "metadata": {},
   "outputs": [],
   "source": []
  }
 ],
 "metadata": {
  "kernelspec": {
   "display_name": "Python 3",
   "language": "python",
   "name": "python3"
  },
  "language_info": {
   "codemirror_mode": {
    "name": "ipython",
    "version": 3
   },
   "file_extension": ".py",
   "mimetype": "text/x-python",
   "name": "python",
   "nbconvert_exporter": "python",
   "pygments_lexer": "ipython3",
   "version": "3.7.3"
  }
 },
 "nbformat": 4,
 "nbformat_minor": 2
}
