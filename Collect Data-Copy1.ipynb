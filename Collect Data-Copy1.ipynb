{
 "cells": [
  {
   "cell_type": "code",
   "execution_count": 1,
   "metadata": {},
   "outputs": [],
   "source": [
    "import spotipy\n",
    "from spotipy.oauth2 import SpotifyClientCredentials\n",
    "import pandas as pd\n",
    "import glob\n",
    "\n",
    "client_credentials_manager = SpotifyClientCredentials(\n",
    "        \"ad3894b037f74b7390ab5bf093b438dc\",\n",
    "        \"ccb7583fe8bd420886680798962e7ab2\")\n",
    "sp = spotipy.Spotify(client_credentials_manager=client_credentials_manager)"
   ]
  },
  {
   "cell_type": "code",
   "execution_count": 2,
   "metadata": {},
   "outputs": [],
   "source": [
    "def getTrackFeatures(trackURI):\n",
    "    ger_data = pd.DataFrame()\n",
    "    for track in trackURI:\n",
    "        audio = sp.audio_analysis(track)\n",
    "        segments_data =  pd.DataFrame(audio[\"segments\"])\n",
    "        pitch = segments_data.pitches.apply(pd.Series)\n",
    "        pitch.columns = [\"p\" + str(i) for i in range(1,13)]\n",
    "        timbre = segments_data.timbre.apply(pd.Series)\n",
    "        timbre.columns = [\"t\" + str(i) for i in range(1,13)]\n",
    "        segments_data = segments_data.drop([\"pitches\", \"timbre\", \"loudness_end\"],\n",
    "                                           axis = 1)\n",
    "        segments_data = segments_data.join([pitch, timbre])\n",
    "        segments_data[\"track_id\"] = track\n",
    "        ger_data = ger_data.append(segments_data)\n",
    "    return ger_data"
   ]
  },
  {
   "cell_type": "code",
   "execution_count": null,
   "metadata": {
    "scrolled": true
   },
   "outputs": [
    {
     "name": "stdout",
     "output_type": "stream",
     "text": [
      "43\n",
      "CH has 11 playlists in  2016\n",
      "Getting track features for spotify:playlist:37i9dQZF1DX3crNbt46mRU in CH\n",
      "Getting track features for spotify:playlist:37i9dQZF1DWXDvpUgU6QYl in CH\n",
      "Getting track features for spotify:playlist:37i9dQZF1DWWmZlZqe008w in CH\n",
      "Getting track features for spotify:playlist:37i9dQZF1DX8FmtpZigIQk in CH\n",
      "Getting track features for spotify:playlist:37i9dQZF1DX05xCBTd43pw in CH\n",
      "Getting track features for spotify:playlist:37i9dQZF1DXdPec7aLTmlC in CH\n"
     ]
    }
   ],
   "source": [
    "Africa = ['DZ', 'EG', 'MA', 'ZA', 'TN']\n",
    "Asia = ['BH', 'HK', 'IN', 'ID', 'IL', 'JP', 'JO', 'KW', \n",
    "        'LB', 'MY', 'OM', 'PS', 'PH', 'QA', 'SA', 'SG', \n",
    "        'TW', 'TH', 'AE', 'VN']\n",
    "Europe = ['AD', 'AT', 'BE', 'BG', 'CY', 'CZ', 'DK', 'EE', \n",
    "          'FI', 'FR', 'DE', 'GR', 'HU', 'IS', 'IE', 'IT', \n",
    "          'LV', 'LI', 'LT', 'LU', 'MT', 'MC', 'NL', 'NO', \n",
    "          'PL', 'PT', 'RO', 'SK', 'ES', 'SE', 'CH', 'TR', 'GB']\n",
    "NorthAmerica = ['CA', 'CR', 'DO', 'SV', 'GT', 'HN', 'MX', 'NI', 'PA', 'US']\n",
    "SouthAmerica = ['AR', 'BO', 'BR', 'CL', 'CO', 'EC', 'PY', 'PE', 'UY']\n",
    "Oceania = ['AU', 'NZ']\n",
    "\n",
    "countriesOfInterest = Europe + NorthAmerica\n",
    "#countriesOfInterest = [\"HK\", \"JP\", 'ZA', 'TN', 'TR', 'GB', 'MX', 'US', 'CO', 'EC', 'AU', 'NZ']\n",
    "\n",
    "print(len(countriesOfInterest))\n",
    "for year in range(2019,2000, -1):\n",
    "    tmstamp = str(year) + \"-06-15T12:00:00\"\n",
    "    for countryCode in countriesOfInterest:\n",
    "        if len(glob.glob(\"Raw Playlist Data\\\\\" + countryCode + \"_\" + str(year) + \".csv\")) == 0:\n",
    "            country = sp.featured_playlists(country = countryCode, limit = 50)\n",
    "            plist = country[\"playlists\"][\"items\"]\n",
    "\n",
    "            plist = pd.DataFrame.from_dict(plist)\n",
    "        \n",
    "            print(countryCode, \"has\", len(plist), \"playlists in \", str(year))\n",
    "            plist.to_csv(\"Raw Playlist Data\\\\\" + countryCode + \"_\" + str(year) + \".csv\", index = False)\n",
    "            for uri in plist[\"uri\"]:\n",
    "                currplist = sp.playlist(uri)\n",
    "                trackURI = []\n",
    "                for track in currplist[\"tracks\"][\"items\"]:\n",
    "                    try:\n",
    "                        trackURI = trackURI + [track[\"track\"][\"uri\"]]\n",
    "                    except:\n",
    "                        continue\n",
    "                print(\"Getting track features for\", uri, \"in\", countryCode)\n",
    "                try:\n",
    "                    trackData = getTrackFeatures(trackURI)\n",
    "                    trackData.to_csv(\"Raw Track Data\\\\\" + countryCode + \"_\" + str(year) + \"_\" + uri[17:] + \".csv\", index = False)\n",
    "                except:\n",
    "                    continue\n",
    "            "
   ]
  },
  {
   "cell_type": "code",
   "execution_count": null,
   "metadata": {},
   "outputs": [],
   "source": []
  },
  {
   "cell_type": "code",
   "execution_count": null,
   "metadata": {},
   "outputs": [],
   "source": []
  },
  {
   "cell_type": "code",
   "execution_count": null,
   "metadata": {},
   "outputs": [],
   "source": []
  },
  {
   "cell_type": "code",
   "execution_count": null,
   "metadata": {},
   "outputs": [],
   "source": []
  }
 ],
 "metadata": {
  "kernelspec": {
   "display_name": "Python 3",
   "language": "python",
   "name": "python3"
  },
  "language_info": {
   "codemirror_mode": {
    "name": "ipython",
    "version": 3
   },
   "file_extension": ".py",
   "mimetype": "text/x-python",
   "name": "python",
   "nbconvert_exporter": "python",
   "pygments_lexer": "ipython3",
   "version": "3.7.3"
  }
 },
 "nbformat": 4,
 "nbformat_minor": 2
}
