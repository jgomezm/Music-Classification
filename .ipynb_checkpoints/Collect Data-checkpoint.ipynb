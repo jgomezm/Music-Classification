{
 "cells": [
  {
   "cell_type": "code",
   "execution_count": 1,
   "metadata": {},
   "outputs": [],
   "source": [
    "import spotipy\n",
    "from spotipy.oauth2 import SpotifyClientCredentials\n",
    "import pandas as pd\n",
    "\n",
    "client_credentials_manager = SpotifyClientCredentials(\n",
    "        \"26399552a8ce4d1285397254189cac50\",\n",
    "        \"fdacfffa2dd34dbeb127dedb459f7ea3\")\n",
    "sp = spotipy.Spotify(client_credentials_manager=client_credentials_manager)"
   ]
  },
  {
   "cell_type": "code",
   "execution_count": 2,
   "metadata": {},
   "outputs": [],
   "source": [
    "def getTrackFeatures(trackURI):\n",
    "    ger_data = pd.DataFrame()\n",
    "    for track in trackURI:\n",
    "        audio = sp.audio_analysis(track)\n",
    "        segments_data =  pd.DataFrame(audio[\"segments\"])\n",
    "        pitch = segments_data.pitches.apply(pd.Series)\n",
    "        pitch.columns = [\"p\" + str(i) for i in range(1,13)]\n",
    "        timbre = segments_data.timbre.apply(pd.Series)\n",
    "        timbre.columns = [\"t\" + str(i) for i in range(1,13)]\n",
    "        segments_data = segments_data.drop([\"pitches\", \"timbre\", \"loudness_end\"],\n",
    "                                           axis = 1)\n",
    "        segments_data = segments_data.join([pitch, timbre])\n",
    "        segments_data[\"track_id\"] = track\n",
    "        ger_data = ger_data.append(segments_data)\n",
    "    return ger_data"
   ]
  },
  {
   "cell_type": "code",
   "execution_count": null,
   "metadata": {},
   "outputs": [
    {
     "name": "stdout",
     "output_type": "stream",
     "text": [
      "MX has 10 playlists\n",
      "Getting track features for spotify:playlist:37i9dQZF1DX5BAPG29mHS8 in MX\n"
     ]
    }
   ],
   "source": [
    "countriesOfInterest = [\"MX\", \"TR\", \"US\", \"CN\"]\n",
    "for year in range(2000,2020):\n",
    "    for month in range(1,13):\n",
    "        yrnmnth = str(year) + \"-\" + str(month)\n",
    "        tmstamp = yrnmnth + \"-15T12:00:00\"\n",
    "        for countryCode in countriesOfInterest:\n",
    "            country = sp.featured_playlists(country = countryCode, limit = 50)\n",
    "            plist = country[\"playlists\"][\"items\"]\n",
    "            print(countryCode, \"has\", len(plist), \"playlists\")\n",
    "            plist = pd.DataFrame.from_dict(plist)\n",
    "            plist.to_csv(\"Raw Playlist Data\\\\\" + countryCode + \"_\" + yrnmnth + \".csv\", index = False)\n",
    "            for uri in plist[\"uri\"]:\n",
    "                currplist = sp.playlist(uri)\n",
    "                trackURI = []\n",
    "                for track in currplist[\"tracks\"][\"items\"]:\n",
    "                    trackURI = trackURI + [track[\"track\"][\"uri\"]]\n",
    "                print(\"Getting track features for\", uri, \"in\", countryCode)\n",
    "                trackData = getTrackFeatures(trackURI)\n",
    "                trackData.to_csv(\"Raw Track Data\\\\\" + countryCode + \"_\" + yrnmnth + \"_\" + uri[17:] + \".csv\", index = False)"
   ]
  },
  {
   "cell_type": "code",
   "execution_count": null,
   "metadata": {},
   "outputs": [],
   "source": [
    "currplist"
   ]
  },
  {
   "cell_type": "code",
   "execution_count": null,
   "metadata": {},
   "outputs": [],
   "source": []
  },
  {
   "cell_type": "code",
   "execution_count": null,
   "metadata": {},
   "outputs": [],
   "source": []
  },
  {
   "cell_type": "code",
   "execution_count": null,
   "metadata": {},
   "outputs": [],
   "source": []
  },
  {
   "cell_type": "code",
   "execution_count": null,
   "metadata": {},
   "outputs": [],
   "source": []
  }
 ],
 "metadata": {
  "kernelspec": {
   "display_name": "Python 3",
   "language": "python",
   "name": "python3"
  },
  "language_info": {
   "codemirror_mode": {
    "name": "ipython",
    "version": 3
   },
   "file_extension": ".py",
   "mimetype": "text/x-python",
   "name": "python",
   "nbconvert_exporter": "python",
   "pygments_lexer": "ipython3",
   "version": "3.7.3"
  }
 },
 "nbformat": 4,
 "nbformat_minor": 2
}
