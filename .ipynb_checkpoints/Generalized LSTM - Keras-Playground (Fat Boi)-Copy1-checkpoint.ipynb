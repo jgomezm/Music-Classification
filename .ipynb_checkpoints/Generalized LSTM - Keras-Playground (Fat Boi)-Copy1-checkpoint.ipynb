{
 "cells": [
  {
   "cell_type": "code",
   "execution_count": 1,
   "metadata": {},
   "outputs": [],
   "source": [
    "import pandas as pd\n",
    "import numpy as np\n",
    "import glob\n",
    "import os\n",
    "import random\n",
    "import pickle\n",
    "from sklearn.preprocessing import OneHotEncoder\n",
    "from sklearn.utils import class_weight\n",
    "from sklearn.metrics import confusion_matrix\n",
    "import matplotlib.pyplot as plt\n",
    "import datetime"
   ]
  },
  {
   "cell_type": "code",
   "execution_count": 2,
   "metadata": {},
   "outputs": [
    {
     "name": "stderr",
     "output_type": "stream",
     "text": [
      "Using TensorFlow backend.\n"
     ]
    }
   ],
   "source": [
    "import tensorflow.keras as keras\n",
    "from tensorflow.keras import Sequential\n",
    "from tensorflow.keras.layers import LSTM, Dense, LSTM, Flatten, BatchNormalization, Dropout\n",
    "from keras.utils import to_categorical\n",
    "import tensorflow as tf\n",
    "# Load the TensorBoard notebook extension\n",
    "%load_ext tensorboard"
   ]
  },
  {
   "cell_type": "code",
   "execution_count": 3,
   "metadata": {},
   "outputs": [],
   "source": [
    "#os.environ[\"KERAS_BACKEND\"] = \"plaidml.keras.backend\"\n",
    "#import keras as keras\n",
    "#from keras import Sequential\n",
    "#from keras.layers import LSTM, Dense, LSTM, Flatten\n",
    "#from keras.utils import to_categorical\n",
    "\n",
    "#os.environ[\"KERAS_BACKEND\"] = \"plaidml.keras.backend\""
   ]
  },
  {
   "cell_type": "markdown",
   "metadata": {},
   "source": [
    "import tensorflow"
   ]
  },
  {
   "cell_type": "markdown",
   "metadata": {},
   "source": [
    "import tensorflow.keras as keras\n",
    "from tensorflow.keras import Sequential\n",
    "from tensorflow.keras.layers import LSTM, Dense\n",
    "from tensorflow.keras.utils import to_categorical\n",
    "from tensorflow.keras import backend"
   ]
  },
  {
   "cell_type": "code",
   "execution_count": 4,
   "metadata": {},
   "outputs": [
    {
     "name": "stderr",
     "output_type": "stream",
     "text": [
      "C:\\Users\\jgomezm\\AppData\\Local\\Continuum\\anaconda3\\lib\\site-packages\\sklearn\\base.py:318: UserWarning: Trying to unpickle estimator OneHotEncoder from version 0.21.3 when using version 0.22.2.post1. This might lead to breaking code or invalid results. Use at your own risk.\n",
      "  UserWarning)\n"
     ]
    }
   ],
   "source": [
    "enc = pickle.load( open( \"pickle\\\\enc.p\", \"rb\" ) )"
   ]
  },
  {
   "cell_type": "code",
   "execution_count": 5,
   "metadata": {},
   "outputs": [
    {
     "data": {
      "text/plain": [
       "array([1.92811562, 0.99980535, 1.81855196, 1.10213496, 1.15103641,\n",
       "       1.05299303, 1.92378277, 2.5068326 , 0.5429417 , 1.10963491,\n",
       "       0.92002508, 0.4070288 ])"
      ]
     },
     "execution_count": 5,
     "metadata": {},
     "output_type": "execute_result"
    }
   ],
   "source": [
    "val_x = pickle.load( open( \"pickle\\\\val_x.p\", \"rb\" ) )\n",
    "train_x = pickle.load( open( \"pickle\\\\train_x.p\", \"rb\" ) )\n",
    "val_labels = pickle.load( open( \"pickle\\\\val_labels.p\", \"rb\" ) )\n",
    "train_labels = pickle.load( open( \"pickle\\\\train_labels.p\", \"rb\" ) )\n",
    "class_weights = pickle.load( open( \"pickle\\\\class_weights.p\", \"rb\" ) )\n",
    "class_weights"
   ]
  },
  {
   "cell_type": "code",
   "execution_count": 6,
   "metadata": {},
   "outputs": [
    {
     "name": "stdout",
     "output_type": "stream",
     "text": [
      "(41092, 200, 27)\n",
      "41092\n"
     ]
    }
   ],
   "source": [
    "print(train_x.shape)\n",
    "print(len(train_labels))"
   ]
  },
  {
   "cell_type": "code",
   "execution_count": 7,
   "metadata": {},
   "outputs": [],
   "source": [
    "log_dir = os.path.join(\n",
    "    \"logs\",\n",
    "    \"fit\",\n",
    "    datetime.datetime.now().strftime(\"%Y%m%d-%H%M%S\"),\n",
    ")\n",
    "tensorboard_callback = tf.keras.callbacks.TensorBoard(log_dir=log_dir, histogram_freq=1)"
   ]
  },
  {
   "cell_type": "markdown",
   "metadata": {},
   "source": [
    "### Define Model"
   ]
  },
  {
   "cell_type": "code",
   "execution_count": 8,
   "metadata": {},
   "outputs": [
    {
     "data": {
      "text/plain": [
       "(41092, 200, 27)"
      ]
     },
     "execution_count": 8,
     "metadata": {},
     "output_type": "execute_result"
    }
   ],
   "source": [
    "train_x.shape"
   ]
  },
  {
   "cell_type": "code",
   "execution_count": 9,
   "metadata": {},
   "outputs": [
    {
     "data": {
      "text/plain": [
       "(41092, 12)"
      ]
     },
     "execution_count": 9,
     "metadata": {},
     "output_type": "execute_result"
    }
   ],
   "source": [
    "train_labels.shape"
   ]
  },
  {
   "cell_type": "code",
   "execution_count": 10,
   "metadata": {},
   "outputs": [
    {
     "data": {
      "text/plain": [
       "array([1776., 3425., 1883., 3107., 2975., 3252., 1780., 1366., 6307.,\n",
       "       3086., 3722., 8413.])"
      ]
     },
     "execution_count": 10,
     "metadata": {},
     "output_type": "execute_result"
    }
   ],
   "source": [
    "np.sum(train_labels, axis = 0)"
   ]
  },
  {
   "cell_type": "code",
   "execution_count": 11,
   "metadata": {},
   "outputs": [
    {
     "data": {
      "text/plain": [
       "array([ 436.,  781.,  469.,  833.,  671.,  862.,  454.,  316., 1849.,\n",
       "        785.,  936., 2103.])"
      ]
     },
     "execution_count": 11,
     "metadata": {},
     "output_type": "execute_result"
    }
   ],
   "source": [
    "np.sum(val_labels, axis = 0)"
   ]
  },
  {
   "cell_type": "code",
   "execution_count": 12,
   "metadata": {},
   "outputs": [
    {
     "data": {
      "text/plain": [
       "0.2047357149810182"
      ]
     },
     "execution_count": 12,
     "metadata": {},
     "output_type": "execute_result"
    }
   ],
   "source": [
    "max(np.sum(train_labels, axis = 0))/sum(np.sum(train_labels, axis = 0))"
   ]
  },
  {
   "cell_type": "code",
   "execution_count": 13,
   "metadata": {},
   "outputs": [
    {
     "data": {
      "text/plain": [
       "0.200381133873273"
      ]
     },
     "execution_count": 13,
     "metadata": {},
     "output_type": "execute_result"
    }
   ],
   "source": [
    "max(np.sum(val_labels, axis = 0))/sum(np.sum(val_labels, axis = 0))"
   ]
  },
  {
   "cell_type": "code",
   "execution_count": 14,
   "metadata": {},
   "outputs": [
    {
     "data": {
      "text/plain": [
       "array(['AU', 'CO', 'EC', 'GB', 'HK', 'JP', 'MX', 'NZ', 'TN', 'TR', 'US',\n",
       "       'ZA'], dtype=object)"
      ]
     },
     "execution_count": 14,
     "metadata": {},
     "output_type": "execute_result"
    }
   ],
   "source": [
    "enc.categories_[0]"
   ]
  },
  {
   "cell_type": "markdown",
   "metadata": {},
   "source": [
    "### 3 LSTM model"
   ]
  },
  {
   "cell_type": "code",
   "execution_count": 15,
   "metadata": {},
   "outputs": [
    {
     "name": "stdout",
     "output_type": "stream",
     "text": [
      "Model: \"sequential\"\n",
      "_________________________________________________________________\n",
      "Layer (type)                 Output Shape              Param #   \n",
      "=================================================================\n",
      "lstm (LSTM)                  (None, 200, 16)           2816      \n",
      "_________________________________________________________________\n",
      "batch_normalization (BatchNo (None, 200, 16)           64        \n",
      "_________________________________________________________________\n",
      "lstm_1 (LSTM)                (None, 32)                6272      \n",
      "_________________________________________________________________\n",
      "batch_normalization_1 (Batch (None, 32)                128       \n",
      "_________________________________________________________________\n",
      "dense (Dense)                (None, 12)                396       \n",
      "=================================================================\n",
      "Total params: 9,676\n",
      "Trainable params: 9,580\n",
      "Non-trainable params: 96\n",
      "_________________________________________________________________\n",
      "None\n"
     ]
    }
   ],
   "source": [
    "out_index = 2\n",
    "model = keras.Sequential()\n",
    "model.add(LSTM(16, \n",
    "               input_shape=(train_x.shape[1], train_x.shape[2]), \n",
    "               return_sequences = True))\n",
    "model.add(BatchNormalization())\n",
    "model.add(LSTM(32, \n",
    "               input_shape=(train_x.shape[1], train_x.shape[2]), \n",
    "               return_sequences = False))\n",
    "model.add(BatchNormalization())\n",
    "model.add(Dense(len(enc.categories_[0]), activation= \"softmax\"))\n",
    "adam = keras.optimizers.Adam(lr=0.0001)\n",
    "model.compile(loss = \"categorical_crossentropy\", optimizer= adam, metrics=[\"acc\"])\n",
    "print(model.summary())"
   ]
  },
  {
   "cell_type": "code",
   "execution_count": 16,
   "metadata": {
    "scrolled": true
   },
   "outputs": [
    {
     "name": "stdout",
     "output_type": "stream",
     "text": [
      "Train on 41092 samples, validate on 10495 samples\n",
      "Epoch 1/100\n",
      "41092/41092 [==============================] - 34s 816us/sample - loss: 2.6612 - acc: 0.0525 - val_loss: 2.4791 - val_acc: 0.0818\n",
      "Epoch 2/100\n",
      "41092/41092 [==============================] - 33s 812us/sample - loss: 2.5866 - acc: 0.0528 - val_loss: 2.4736 - val_acc: 0.0819\n",
      "Epoch 3/100\n",
      "41092/41092 [==============================] - 35s 855us/sample - loss: 2.5491 - acc: 0.0576 - val_loss: 2.4691 - val_acc: 0.0818\n",
      "Epoch 4/100\n",
      "41092/41092 [==============================] - 36s 884us/sample - loss: 2.5222 - acc: 0.1604 - val_loss: 2.4662 - val_acc: 0.0823\n",
      "Epoch 5/100\n",
      "41092/41092 [==============================] - 38s 915us/sample - loss: 2.5046 - acc: 0.1991 - val_loss: 2.4632 - val_acc: 0.0811\n",
      "Epoch 6/100\n",
      "41092/41092 [==============================] - 40s 967us/sample - loss: 2.4931 - acc: 0.1987 - val_loss: 2.4628 - val_acc: 0.0804\n",
      "Epoch 7/100\n",
      "41092/41092 [==============================] - 43s 1ms/sample - loss: 2.4842 - acc: 0.1995 - val_loss: 2.4615 - val_acc: 0.0806\n",
      "Epoch 8/100\n",
      "41092/41092 [==============================] - 47s 1ms/sample - loss: 2.4754 - acc: 0.1993 - val_loss: 2.4598 - val_acc: 0.1629\n",
      "Epoch 9/100\n",
      "41092/41092 [==============================] - 51s 1ms/sample - loss: 2.4689 - acc: 0.2001 - val_loss: 2.4585 - val_acc: 0.1897\n",
      "Epoch 10/100\n",
      "41092/41092 [==============================] - 55s 1ms/sample - loss: 2.4615 - acc: 0.2005 - val_loss: 2.4572 - val_acc: 0.1901\n",
      "Epoch 11/100\n",
      "41092/41092 [==============================] - 59s 1ms/sample - loss: 2.4561 - acc: 0.2005 - val_loss: 2.4561 - val_acc: 0.1904\n",
      "Epoch 12/100\n",
      "41092/41092 [==============================] - 67s 2ms/sample - loss: 2.4500 - acc: 0.2008 - val_loss: 2.4529 - val_acc: 0.1924\n",
      "Epoch 13/100\n",
      "41092/41092 [==============================] - 73s 2ms/sample - loss: 2.4448 - acc: 0.2011 - val_loss: 2.4512 - val_acc: 0.1927\n",
      "Epoch 14/100\n",
      "41092/41092 [==============================] - 73s 2ms/sample - loss: 2.4396 - acc: 0.2023 - val_loss: 2.4463 - val_acc: 0.1929\n",
      "Epoch 15/100\n",
      "41092/41092 [==============================] - 77s 2ms/sample - loss: 2.4353 - acc: 0.2019 - val_loss: 2.4409 - val_acc: 0.1932\n",
      "Epoch 16/100\n",
      "41092/41092 [==============================] - 81s 2ms/sample - loss: 2.4294 - acc: 0.2026 - val_loss: 2.4355 - val_acc: 0.1930\n",
      "Epoch 17/100\n",
      "41092/41092 [==============================] - 79s 2ms/sample - loss: 2.4249 - acc: 0.2014 - val_loss: 2.4342 - val_acc: 0.1931\n",
      "Epoch 18/100\n",
      "41092/41092 [==============================] - 76s 2ms/sample - loss: 2.4201 - acc: 0.2023 - val_loss: 2.4275 - val_acc: 0.1929\n",
      "Epoch 19/100\n",
      "41092/41092 [==============================] - 86s 2ms/sample - loss: 2.4159 - acc: 0.2022 - val_loss: 2.4285 - val_acc: 0.1925\n",
      "Epoch 20/100\n",
      "41092/41092 [==============================] - 86s 2ms/sample - loss: 2.4112 - acc: 0.2025 - val_loss: 2.4229 - val_acc: 0.1922\n",
      "Epoch 21/100\n",
      "41092/41092 [==============================] - 85s 2ms/sample - loss: 2.4074 - acc: 0.2034 - val_loss: 2.4203 - val_acc: 0.1970\n",
      "Epoch 22/100\n",
      "41092/41092 [==============================] - 86s 2ms/sample - loss: 2.4039 - acc: 0.2030 - val_loss: 2.4162 - val_acc: 0.1995\n",
      "Epoch 23/100\n",
      "41092/41092 [==============================] - 82s 2ms/sample - loss: 2.3987 - acc: 0.2034 - val_loss: 2.4129 - val_acc: 0.1969\n",
      "Epoch 24/100\n",
      "41092/41092 [==============================] - 86s 2ms/sample - loss: 2.3958 - acc: 0.2046 - val_loss: 2.4089 - val_acc: 0.1987\n",
      "Epoch 25/100\n",
      "41092/41092 [==============================] - 86s 2ms/sample - loss: 2.3925 - acc: 0.2035 - val_loss: 2.4052 - val_acc: 0.1991\n",
      "Epoch 26/100\n",
      "41092/41092 [==============================] - 84s 2ms/sample - loss: 2.3891 - acc: 0.2041 - val_loss: 2.4013 - val_acc: 0.1985\n",
      "Epoch 27/100\n",
      "41092/41092 [==============================] - 85s 2ms/sample - loss: 2.3846 - acc: 0.2055 - val_loss: 2.3982 - val_acc: 0.1982\n",
      "Epoch 28/100\n",
      "41092/41092 [==============================] - 86s 2ms/sample - loss: 2.3821 - acc: 0.2048 - val_loss: 2.3942 - val_acc: 0.2008\n",
      "Epoch 29/100\n",
      "41092/41092 [==============================] - 86s 2ms/sample - loss: 2.3793 - acc: 0.2051 - val_loss: 2.3916 - val_acc: 0.1991\n",
      "Epoch 30/100\n",
      "41092/41092 [==============================] - 81s 2ms/sample - loss: 2.3762 - acc: 0.2049 - val_loss: 2.3857 - val_acc: 0.2012\n",
      "Epoch 31/100\n",
      "41092/41092 [==============================] - 83s 2ms/sample - loss: 2.3733 - acc: 0.2054 - val_loss: 2.3832 - val_acc: 0.2003\n",
      "Epoch 32/100\n",
      "41092/41092 [==============================] - 81s 2ms/sample - loss: 2.3708 - acc: 0.2054 - val_loss: 2.3803 - val_acc: 0.2003\n",
      "Epoch 33/100\n",
      "41092/41092 [==============================] - 84s 2ms/sample - loss: 2.3680 - acc: 0.2062 - val_loss: 2.3770 - val_acc: 0.2007\n",
      "Epoch 34/100\n",
      "41092/41092 [==============================] - 80s 2ms/sample - loss: 2.3655 - acc: 0.2055 - val_loss: 2.3749 - val_acc: 0.2000\n",
      "Epoch 35/100\n",
      "41092/41092 [==============================] - 84s 2ms/sample - loss: 2.3637 - acc: 0.2060 - val_loss: 2.3728 - val_acc: 0.1998\n",
      "Epoch 36/100\n",
      "41092/41092 [==============================] - 83s 2ms/sample - loss: 2.3616 - acc: 0.2057 - val_loss: 2.3692 - val_acc: 0.2006\n",
      "Epoch 37/100\n",
      "41092/41092 [==============================] - 82s 2ms/sample - loss: 2.3598 - acc: 0.2065 - val_loss: 2.3668 - val_acc: 0.2007\n",
      "Epoch 38/100\n",
      "41092/41092 [==============================] - 81s 2ms/sample - loss: 2.3577 - acc: 0.2062 - val_loss: 2.3657 - val_acc: 0.2009\n",
      "Epoch 39/100\n",
      "41092/41092 [==============================] - 83s 2ms/sample - loss: 2.3566 - acc: 0.2060 - val_loss: 2.3631 - val_acc: 0.2010\n",
      "Epoch 40/100\n",
      "41092/41092 [==============================] - 79s 2ms/sample - loss: 2.3546 - acc: 0.2065 - val_loss: 2.3618 - val_acc: 0.2010\n",
      "Epoch 41/100\n",
      "41092/41092 [==============================] - 81s 2ms/sample - loss: 2.3531 - acc: 0.2061 - val_loss: 2.3603 - val_acc: 0.2013\n",
      "Epoch 42/100\n",
      "41092/41092 [==============================] - 84s 2ms/sample - loss: 2.3516 - acc: 0.2065 - val_loss: 2.3591 - val_acc: 0.2003\n",
      "Epoch 43/100\n",
      "41092/41092 [==============================] - 84s 2ms/sample - loss: 2.3504 - acc: 0.2070 - val_loss: 2.3572 - val_acc: 0.2007\n",
      "Epoch 44/100\n",
      "41092/41092 [==============================] - 83s 2ms/sample - loss: 2.3494 - acc: 0.2065 - val_loss: 2.3549 - val_acc: 0.2013\n",
      "Epoch 45/100\n",
      "41092/41092 [==============================] - 82s 2ms/sample - loss: 2.3489 - acc: 0.2063 - val_loss: 2.3535 - val_acc: 0.2007\n",
      "Epoch 46/100\n",
      "41092/41092 [==============================] - 83s 2ms/sample - loss: 2.3480 - acc: 0.2063 - val_loss: 2.3522 - val_acc: 0.2006\n",
      "Epoch 47/100\n",
      "41092/41092 [==============================] - 84s 2ms/sample - loss: 2.3464 - acc: 0.2067 - val_loss: 2.3509 - val_acc: 0.2014\n",
      "Epoch 48/100\n",
      "41092/41092 [==============================] - 83s 2ms/sample - loss: 2.3459 - acc: 0.2066 - val_loss: 2.3496 - val_acc: 0.2006\n",
      "Epoch 49/100\n",
      "41092/41092 [==============================] - 81s 2ms/sample - loss: 2.3447 - acc: 0.2068 - val_loss: 2.3490 - val_acc: 0.2006\n",
      "Epoch 50/100\n",
      "41092/41092 [==============================] - 84s 2ms/sample - loss: 2.3441 - acc: 0.2059 - val_loss: 2.3471 - val_acc: 0.2008\n",
      "Epoch 51/100\n",
      "41092/41092 [==============================] - 84s 2ms/sample - loss: 2.3432 - acc: 0.2070 - val_loss: 2.3466 - val_acc: 0.2017\n",
      "Epoch 52/100\n",
      "41092/41092 [==============================] - 83s 2ms/sample - loss: 2.3426 - acc: 0.2058 - val_loss: 2.3453 - val_acc: 0.2004\n",
      "Epoch 53/100\n",
      "41092/41092 [==============================] - 81s 2ms/sample - loss: 2.3419 - acc: 0.2064 - val_loss: 2.3440 - val_acc: 0.2010\n",
      "Epoch 54/100\n",
      "41092/41092 [==============================] - 80s 2ms/sample - loss: 2.3410 - acc: 0.2072 - val_loss: 2.3432 - val_acc: 0.2005\n",
      "Epoch 55/100\n",
      "41092/41092 [==============================] - 81s 2ms/sample - loss: 2.3402 - acc: 0.2075 - val_loss: 2.3427 - val_acc: 0.2007\n",
      "Epoch 56/100\n",
      "41092/41092 [==============================] - 81s 2ms/sample - loss: 2.3399 - acc: 0.2072 - val_loss: 2.3423 - val_acc: 0.2012\n",
      "Epoch 57/100\n",
      "41092/41092 [==============================] - 80s 2ms/sample - loss: 2.3394 - acc: 0.2078 - val_loss: 2.3416 - val_acc: 0.2007\n",
      "Epoch 58/100\n",
      "41092/41092 [==============================] - 79s 2ms/sample - loss: 2.3393 - acc: 0.2074 - val_loss: 2.3410 - val_acc: 0.2021\n"
     ]
    },
    {
     "name": "stdout",
     "output_type": "stream",
     "text": [
      "Epoch 59/100\n",
      "41092/41092 [==============================] - 80s 2ms/sample - loss: 2.3386 - acc: 0.2075 - val_loss: 2.3401 - val_acc: 0.2010\n",
      "Epoch 60/100\n",
      "41092/41092 [==============================] - 84s 2ms/sample - loss: 2.3385 - acc: 0.2072 - val_loss: 2.3400 - val_acc: 0.2013\n",
      "Epoch 61/100\n",
      "41092/41092 [==============================] - 80s 2ms/sample - loss: 2.3380 - acc: 0.2078 - val_loss: 2.3395 - val_acc: 0.2009\n",
      "Epoch 62/100\n",
      "41092/41092 [==============================] - 80s 2ms/sample - loss: 2.3380 - acc: 0.2074 - val_loss: 2.3389 - val_acc: 0.2031\n",
      "Epoch 63/100\n",
      "41092/41092 [==============================] - 81s 2ms/sample - loss: 2.3376 - acc: 0.2074 - val_loss: 2.3384 - val_acc: 0.2015\n",
      "Epoch 64/100\n",
      "41092/41092 [==============================] - 78s 2ms/sample - loss: 2.3370 - acc: 0.2078 - val_loss: 2.3383 - val_acc: 0.2010\n",
      "Epoch 65/100\n",
      "41092/41092 [==============================] - 80s 2ms/sample - loss: 2.3367 - acc: 0.2077 - val_loss: 2.3381 - val_acc: 0.2017\n",
      "Epoch 66/100\n",
      "41092/41092 [==============================] - 80s 2ms/sample - loss: 2.3366 - acc: 0.2073 - val_loss: 2.3380 - val_acc: 0.2016\n",
      "Epoch 67/100\n",
      "41092/41092 [==============================] - 78s 2ms/sample - loss: 2.3361 - acc: 0.2075 - val_loss: 2.3373 - val_acc: 0.2014\n",
      "Epoch 68/100\n",
      "41092/41092 [==============================] - 80s 2ms/sample - loss: 2.3362 - acc: 0.2073 - val_loss: 2.3374 - val_acc: 0.2011\n",
      "Epoch 69/100\n",
      "41092/41092 [==============================] - 81s 2ms/sample - loss: 2.3361 - acc: 0.2077 - val_loss: 2.3372 - val_acc: 0.2023\n",
      "Epoch 70/100\n",
      "41092/41092 [==============================] - 81s 2ms/sample - loss: 2.3357 - acc: 0.2075 - val_loss: 2.3365 - val_acc: 0.2013\n",
      "Epoch 71/100\n",
      "41092/41092 [==============================] - 80s 2ms/sample - loss: 2.3354 - acc: 0.2073 - val_loss: 2.3376 - val_acc: 0.2011\n",
      "Epoch 72/100\n",
      "41092/41092 [==============================] - 81s 2ms/sample - loss: 2.3353 - acc: 0.2084 - val_loss: 2.3369 - val_acc: 0.2010\n",
      "Epoch 73/100\n",
      "41092/41092 [==============================] - 82s 2ms/sample - loss: 2.3352 - acc: 0.2081 - val_loss: 2.3366 - val_acc: 0.2010\n",
      "Epoch 74/100\n",
      "41092/41092 [==============================] - 83s 2ms/sample - loss: 2.3354 - acc: 0.2081 - val_loss: 2.3372 - val_acc: 0.2017\n",
      "Epoch 75/100\n",
      "41092/41092 [==============================] - 82s 2ms/sample - loss: 2.3353 - acc: 0.2079 - val_loss: 2.3369 - val_acc: 0.2016\n",
      "Epoch 76/100\n",
      "41092/41092 [==============================] - 81s 2ms/sample - loss: 2.3349 - acc: 0.2074 - val_loss: 2.3365 - val_acc: 0.2011\n",
      "Epoch 77/100\n",
      "41092/41092 [==============================] - 78s 2ms/sample - loss: 2.3349 - acc: 0.2083 - val_loss: 2.3367 - val_acc: 0.2012\n",
      "Epoch 78/100\n",
      "41092/41092 [==============================] - 81s 2ms/sample - loss: 2.3348 - acc: 0.2082 - val_loss: 2.3367 - val_acc: 0.2035\n",
      "Epoch 79/100\n",
      "41092/41092 [==============================] - 80s 2ms/sample - loss: 2.3345 - acc: 0.2079 - val_loss: 2.3357 - val_acc: 0.2018\n",
      "Epoch 80/100\n",
      "41092/41092 [==============================] - 79s 2ms/sample - loss: 2.3344 - acc: 0.2080 - val_loss: 2.3356 - val_acc: 0.2010\n",
      "Epoch 81/100\n",
      "41092/41092 [==============================] - 83s 2ms/sample - loss: 2.3344 - acc: 0.2072 - val_loss: 2.3354 - val_acc: 0.2012\n",
      "Epoch 82/100\n",
      "41092/41092 [==============================] - 83s 2ms/sample - loss: 2.3342 - acc: 0.2078 - val_loss: 2.3345 - val_acc: 0.2014\n",
      "Epoch 83/100\n",
      "41092/41092 [==============================] - 81s 2ms/sample - loss: 2.3339 - acc: 0.2082 - val_loss: 2.3351 - val_acc: 0.2014\n",
      "Epoch 84/100\n",
      "41092/41092 [==============================] - 81s 2ms/sample - loss: 2.3341 - acc: 0.2077 - val_loss: 2.3346 - val_acc: 0.2013\n",
      "Epoch 85/100\n",
      "41092/41092 [==============================] - 81s 2ms/sample - loss: 2.3340 - acc: 0.2075 - val_loss: 2.3338 - val_acc: 0.2010\n",
      "Epoch 86/100\n",
      "41092/41092 [==============================] - 80s 2ms/sample - loss: 2.3340 - acc: 0.2082 - val_loss: 2.3343 - val_acc: 0.2018\n",
      "Epoch 87/100\n",
      "41092/41092 [==============================] - 82s 2ms/sample - loss: 2.3338 - acc: 0.2077 - val_loss: 2.3354 - val_acc: 0.2022\n",
      "Epoch 88/100\n",
      "41092/41092 [==============================] - 82s 2ms/sample - loss: 2.3338 - acc: 0.2078 - val_loss: 2.3349 - val_acc: 0.2017\n",
      "Epoch 89/100\n",
      "41092/41092 [==============================] - 79s 2ms/sample - loss: 2.3335 - acc: 0.2085 - val_loss: 2.3352 - val_acc: 0.2017\n",
      "Epoch 90/100\n",
      "41092/41092 [==============================] - 82s 2ms/sample - loss: 2.3335 - acc: 0.2083 - val_loss: 2.3356 - val_acc: 0.2015\n",
      "Epoch 91/100\n",
      "41092/41092 [==============================] - 82s 2ms/sample - loss: 2.3334 - acc: 0.2079 - val_loss: 2.3345 - val_acc: 0.2031\n",
      "Epoch 92/100\n",
      "41092/41092 [==============================] - 80s 2ms/sample - loss: 2.3337 - acc: 0.2076 - val_loss: 2.3340 - val_acc: 0.2008\n",
      "Epoch 93/100\n",
      "41092/41092 [==============================] - 81s 2ms/sample - loss: 2.3331 - acc: 0.2087 - val_loss: 2.3327 - val_acc: 0.2016\n",
      "Epoch 94/100\n",
      "41092/41092 [==============================] - 81s 2ms/sample - loss: 2.3316 - acc: 0.2081 - val_loss: 2.3303 - val_acc: 0.2078\n",
      "Epoch 95/100\n",
      "41092/41092 [==============================] - 83s 2ms/sample - loss: 2.3268 - acc: 0.2075 - val_loss: 2.3342 - val_acc: 0.2013\n",
      "Epoch 96/100\n",
      "41092/41092 [==============================] - 82s 2ms/sample - loss: 2.3271 - acc: 0.2081 - val_loss: 2.3336 - val_acc: 0.1989\n",
      "Epoch 97/100\n",
      "41092/41092 [==============================] - 83s 2ms/sample - loss: 2.3222 - acc: 0.2084 - val_loss: 2.3288 - val_acc: 0.2088\n",
      "Epoch 98/100\n",
      "41092/41092 [==============================] - 79s 2ms/sample - loss: 2.3230 - acc: 0.2080 - val_loss: 2.3197 - val_acc: 0.2022\n",
      "Epoch 99/100\n",
      "41092/41092 [==============================] - 79s 2ms/sample - loss: 2.3197 - acc: 0.2080 - val_loss: 2.3196 - val_acc: 0.2013\n",
      "Epoch 100/100\n",
      "41092/41092 [==============================] - 78s 2ms/sample - loss: 2.3184 - acc: 0.2080 - val_loss: 2.3179 - val_acc: 0.2015\n"
     ]
    },
    {
     "data": {
      "text/plain": [
       "<tensorflow.python.keras.callbacks.History at 0x2429b70bb38>"
      ]
     },
     "execution_count": 16,
     "metadata": {},
     "output_type": "execute_result"
    }
   ],
   "source": [
    "model.fit(train_x, train_labels,\n",
    "          epochs = 100, \n",
    "          shuffle = True,\n",
    "          validation_data = (val_x, val_labels),\n",
    "          batch_size = 1024,\n",
    "         class_weight = class_weights,\n",
    "         callbacks=[tensorboard_callback])"
   ]
  },
  {
   "cell_type": "code",
   "execution_count": 17,
   "metadata": {},
   "outputs": [
    {
     "name": "stdout",
     "output_type": "stream",
     "text": [
      "41092/41092 [==============================] - 10s 237us/sample\n",
      "[1605.2605 3342.3716 1870.072  2929.991  2956.8484 3397.54   1722.8541\n",
      " 1522.1451 6051.142  3470.4062 3480.356  8742.326 ]\n",
      "[1776. 3425. 1883. 3107. 2975. 3252. 1780. 1366. 6307. 3086. 3722. 8413.]\n"
     ]
    },
    {
     "data": {
      "text/plain": [
       "<matplotlib.image.AxesImage at 0x242aeaf6ac8>"
      ]
     },
     "execution_count": 17,
     "metadata": {},
     "output_type": "execute_result"
    },
    {
     "data": {
      "image/png": "[encoded data removed]",
      "text/plain": [
       "<Figure size 432x288 with 1 Axes>"
      ]
     },
     "metadata": {
      "needs_background": "light"
     },
     "output_type": "display_data"
    }
   ],
   "source": [
    "preds = model.predict(train_x, batch_size = 256, verbose = 1)\n",
    "print(np.sum(preds, axis = 0))\n",
    "print(np.sum(train_labels, axis = 0))\n",
    "plt.imshow(\n",
    "    confusion_matrix(\n",
    "        enc.inverse_transform(preds), \n",
    "        enc.inverse_transform(train_labels), \n",
    "        normalize = \"true\"\n",
    "    )\n",
    ")"
   ]
  },
  {
   "cell_type": "code",
   "execution_count": 18,
   "metadata": {
    "scrolled": false
   },
   "outputs": [
    {
     "name": "stdout",
     "output_type": "stream",
     "text": [
      "10495/10495 [==============================] - 3s 243us/sample\n",
      "[ 412.40805  857.6437   476.03394  747.60516  753.32104  866.34796\n",
      "  442.5767   388.88046 1541.1246   882.3426   889.4471  2237.0215 ]\n",
      "[ 436.  781.  469.  833.  671.  862.  454.  316. 1849.  785.  936. 2103.]\n"
     ]
    },
    {
     "data": {
      "text/plain": [
       "<matplotlib.image.AxesImage at 0x242aebaf128>"
      ]
     },
     "execution_count": 18,
     "metadata": {},
     "output_type": "execute_result"
    },
    {
     "data": {
      "image/png": "[encoded data removed]",
      "text/plain": [
       "<Figure size 432x288 with 1 Axes>"
      ]
     },
     "metadata": {
      "needs_background": "light"
     },
     "output_type": "display_data"
    }
   ],
   "source": [
    "preds = model.predict(val_x, batch_size = 256, verbose = 1)\n",
    "print(np.sum(preds, axis = 0))\n",
    "print(np.sum(val_labels, axis = 0))\n",
    "plt.imshow(\n",
    "    confusion_matrix(\n",
    "        enc.inverse_transform(preds), \n",
    "        enc.inverse_transform(val_labels), \n",
    "        normalize = \"all\"\n",
    "    )\n",
    ")"
   ]
  },
  {
   "cell_type": "code",
   "execution_count": null,
   "metadata": {},
   "outputs": [],
   "source": []
  },
  {
   "cell_type": "code",
   "execution_count": 19,
   "metadata": {},
   "outputs": [
    {
     "name": "stdout",
     "output_type": "stream",
     "text": [
      "Model: \"sequential\"\n",
      "_________________________________________________________________\n",
      "Layer (type)                 Output Shape              Param #   \n",
      "=================================================================\n",
      "lstm (LSTM)                  (None, 200, 16)           2816      \n",
      "_________________________________________________________________\n",
      "batch_normalization (BatchNo (None, 200, 16)           64        \n",
      "_________________________________________________________________\n",
      "lstm_2 (LSTM)                (None, 200, 32)           6272      \n",
      "_________________________________________________________________\n",
      "batch_normalization_2 (Batch (None, 200, 32)           128       \n",
      "_________________________________________________________________\n",
      "lstm_3 (LSTM)                (None, 64)                24832     \n",
      "_________________________________________________________________\n",
      "batch_normalization_3 (Batch (None, 64)                256       \n",
      "_________________________________________________________________\n",
      "dense_1 (Dense)              (None, 12)                780       \n",
      "=================================================================\n",
      "Total params: 35,148\n",
      "Trainable params: 32,076\n",
      "Non-trainable params: 3,072\n",
      "_________________________________________________________________\n",
      "None\n"
     ]
    }
   ],
   "source": [
    "model.pop()\n",
    "model.pop()\n",
    "model.pop()\n",
    "\n",
    "for layer in model.layers:\n",
    "    layer.trainable = False\n",
    "\n",
    "model.add(LSTM(32, \n",
    "               input_shape=(train_x.shape[1], train_x.shape[2]), \n",
    "               return_sequences = True,\n",
    "              dropout = .25))\n",
    "model.add(BatchNormalization())\n",
    "model.add(LSTM(64, \n",
    "               input_shape=(train_x.shape[1], train_x.shape[2]), \n",
    "               return_sequences = False,\n",
    "              dropout = .25))\n",
    "model.add(BatchNormalization())\n",
    "model.add(Dense(len(enc.categories_[0]), activation= \"softmax\"))\n",
    "\n",
    "adam = keras.optimizers.Adam(lr=0.0001)\n",
    "model.compile(loss = \"categorical_crossentropy\", optimizer= adam, metrics=[\"acc\"])\n",
    "print(model.summary())"
   ]
  },
  {
   "cell_type": "code",
   "execution_count": 20,
   "metadata": {},
   "outputs": [],
   "source": [
    "log_dir = os.path.join(\n",
    "    \"logs\",\n",
    "    \"fit\",\n",
    "    datetime.datetime.now().strftime(\"%Y%m%d-%H%M%S\"),\n",
    ")\n",
    "tensorboard_callback = tf.keras.callbacks.TensorBoard(log_dir=log_dir, histogram_freq=1)"
   ]
  },
  {
   "cell_type": "code",
   "execution_count": 21,
   "metadata": {
    "scrolled": true
   },
   "outputs": [
    {
     "name": "stdout",
     "output_type": "stream",
     "text": [
      "Train on 41092 samples, validate on 10495 samples\n",
      "Epoch 1/100\n",
      "41092/41092 [==============================] - 140s 3ms/sample - loss: 2.7514 - acc: 0.0848 - val_loss: 2.4763 - val_acc: 0.1535\n",
      "Epoch 2/100\n",
      "41092/41092 [==============================] - 137s 3ms/sample - loss: 2.5862 - acc: 0.0997 - val_loss: 2.4748 - val_acc: 0.1626\n",
      "Epoch 3/100\n",
      "41092/41092 [==============================] - 141s 3ms/sample - loss: 2.5341 - acc: 0.1050 - val_loss: 2.4724 - val_acc: 0.1641\n",
      "Epoch 4/100\n",
      "41092/41092 [==============================] - 145s 4ms/sample - loss: 2.5027 - acc: 0.1113 - val_loss: 2.4666 - val_acc: 0.1647\n",
      "Epoch 5/100\n",
      "41092/41092 [==============================] - 146s 4ms/sample - loss: 2.4845 - acc: 0.1152 - val_loss: 2.4564 - val_acc: 0.1650\n",
      "Epoch 6/100\n",
      "41092/41092 [==============================] - 148s 4ms/sample - loss: 2.4690 - acc: 0.1252 - val_loss: 2.4425 - val_acc: 0.1646\n",
      "Epoch 7/100\n",
      "41092/41092 [==============================] - 150s 4ms/sample - loss: 2.4572 - acc: 0.1292 - val_loss: 2.4318 - val_acc: 0.1589\n",
      "Epoch 8/100\n",
      "41092/41092 [==============================] - 155s 4ms/sample - loss: 2.4471 - acc: 0.1341 - val_loss: 2.4211 - val_acc: 0.1951\n",
      "Epoch 9/100\n",
      "41092/41092 [==============================] - 157s 4ms/sample - loss: 2.4394 - acc: 0.1429 - val_loss: 2.4106 - val_acc: 0.1968\n",
      "Epoch 10/100\n",
      "41092/41092 [==============================] - 161s 4ms/sample - loss: 2.4323 - acc: 0.1466 - val_loss: 2.4073 - val_acc: 0.1975\n",
      "Epoch 11/100\n",
      "41092/41092 [==============================] - 164s 4ms/sample - loss: 2.4264 - acc: 0.1527 - val_loss: 2.4078 - val_acc: 0.1990\n",
      "Epoch 12/100\n",
      "41092/41092 [==============================] - 168s 4ms/sample - loss: 2.4190 - acc: 0.1606 - val_loss: 2.4063 - val_acc: 0.1989\n",
      "Epoch 13/100\n",
      "41092/41092 [==============================] - 168s 4ms/sample - loss: 2.4126 - acc: 0.1662 - val_loss: 2.4006 - val_acc: 0.2001\n",
      "Epoch 14/100\n",
      "41092/41092 [==============================] - 169s 4ms/sample - loss: 2.4071 - acc: 0.1750 - val_loss: 2.3935 - val_acc: 0.1994\n",
      "Epoch 15/100\n",
      "41092/41092 [==============================] - 174s 4ms/sample - loss: 2.4023 - acc: 0.1794 - val_loss: 2.3894 - val_acc: 0.2000\n",
      "Epoch 16/100\n",
      "41092/41092 [==============================] - 178s 4ms/sample - loss: 2.3957 - acc: 0.1868 - val_loss: 2.3854 - val_acc: 0.1994\n",
      "Epoch 17/100\n",
      "41092/41092 [==============================] - 179s 4ms/sample - loss: 2.3909 - acc: 0.1923 - val_loss: 2.3804 - val_acc: 0.1995\n",
      "Epoch 18/100\n",
      "41092/41092 [==============================] - 182s 4ms/sample - loss: 2.3854 - acc: 0.1964 - val_loss: 2.3744 - val_acc: 0.1996\n",
      "Epoch 19/100\n",
      "41092/41092 [==============================] - 186s 5ms/sample - loss: 2.3813 - acc: 0.1983 - val_loss: 2.3711 - val_acc: 0.1996\n",
      "Epoch 20/100\n",
      "41092/41092 [==============================] - 185s 4ms/sample - loss: 2.3764 - acc: 0.1991 - val_loss: 2.3660 - val_acc: 0.2000\n",
      "Epoch 21/100\n",
      "41092/41092 [==============================] - 183s 4ms/sample - loss: 2.3721 - acc: 0.2024 - val_loss: 2.3629 - val_acc: 0.1996\n",
      "Epoch 22/100\n",
      "41092/41092 [==============================] - 187s 5ms/sample - loss: 2.3677 - acc: 0.2028 - val_loss: 2.3602 - val_acc: 0.1996\n",
      "Epoch 23/100\n",
      "41092/41092 [==============================] - 188s 5ms/sample - loss: 2.3649 - acc: 0.2032 - val_loss: 2.3541 - val_acc: 0.1999\n",
      "Epoch 24/100\n",
      "41092/41092 [==============================] - 187s 5ms/sample - loss: 2.3605 - acc: 0.2039 - val_loss: 2.3494 - val_acc: 0.1999\n",
      "Epoch 25/100\n",
      "41092/41092 [==============================] - 190s 5ms/sample - loss: 2.3582 - acc: 0.2041 - val_loss: 2.3475 - val_acc: 0.1999\n",
      "Epoch 26/100\n",
      "41092/41092 [==============================] - 208s 5ms/sample - loss: 2.3549 - acc: 0.2052 - val_loss: 2.3441 - val_acc: 0.2004\n",
      "Epoch 27/100\n",
      "41092/41092 [==============================] - 214s 5ms/sample - loss: 2.3501 - acc: 0.2046 - val_loss: 2.3405 - val_acc: 0.2007\n",
      "Epoch 28/100\n",
      "41092/41092 [==============================] - 199s 5ms/sample - loss: 2.3485 - acc: 0.2052 - val_loss: 2.3374 - val_acc: 0.2005\n",
      "Epoch 29/100\n",
      "41092/41092 [==============================] - 216s 5ms/sample - loss: 2.3463 - acc: 0.2052 - val_loss: 2.3357 - val_acc: 0.2005\n",
      "Epoch 30/100\n",
      "41092/41092 [==============================] - 215s 5ms/sample - loss: 2.3443 - acc: 0.2063 - val_loss: 2.3329 - val_acc: 0.2008\n",
      "Epoch 31/100\n",
      "41092/41092 [==============================] - 220s 5ms/sample - loss: 2.3417 - acc: 0.2055 - val_loss: 2.3309 - val_acc: 0.2005\n",
      "Epoch 32/100\n",
      "41092/41092 [==============================] - 207s 5ms/sample - loss: 2.3389 - acc: 0.2054 - val_loss: 2.3289 - val_acc: 0.2008\n",
      "Epoch 33/100\n",
      "41092/41092 [==============================] - 218s 5ms/sample - loss: 2.3389 - acc: 0.2057 - val_loss: 2.3274 - val_acc: 0.2005\n",
      "Epoch 34/100\n",
      "41092/41092 [==============================] - 222s 5ms/sample - loss: 2.3362 - acc: 0.2060 - val_loss: 2.3256 - val_acc: 0.2008\n",
      "Epoch 35/100\n",
      "41092/41092 [==============================] - 200s 5ms/sample - loss: 2.3353 - acc: 0.2055 - val_loss: 2.3242 - val_acc: 0.2007\n",
      "Epoch 36/100\n",
      "41092/41092 [==============================] - 205s 5ms/sample - loss: 2.3335 - acc: 0.2066 - val_loss: 2.3221 - val_acc: 0.2015\n",
      "Epoch 37/100\n",
      "41092/41092 [==============================] - 224s 5ms/sample - loss: 2.3325 - acc: 0.2057 - val_loss: 2.3211 - val_acc: 0.2013\n",
      "Epoch 38/100\n",
      "41092/41092 [==============================] - 209s 5ms/sample - loss: 2.3311 - acc: 0.2062 - val_loss: 2.3196 - val_acc: 0.2011\n",
      "Epoch 39/100\n",
      "41092/41092 [==============================] - 211s 5ms/sample - loss: 2.3303 - acc: 0.2060 - val_loss: 2.3187 - val_acc: 0.2012\n",
      "Epoch 40/100\n",
      "41092/41092 [==============================] - 212s 5ms/sample - loss: 2.3289 - acc: 0.2061 - val_loss: 2.3172 - val_acc: 0.2011\n",
      "Epoch 41/100\n",
      "41092/41092 [==============================] - 211s 5ms/sample - loss: 2.3284 - acc: 0.2061 - val_loss: 2.3163 - val_acc: 0.2011\n",
      "Epoch 42/100\n",
      "41092/41092 [==============================] - 221s 5ms/sample - loss: 2.3291 - acc: 0.2060 - val_loss: 2.3161 - val_acc: 0.2012\n",
      "Epoch 43/100\n",
      "41092/41092 [==============================] - 222s 5ms/sample - loss: 2.3276 - acc: 0.2063 - val_loss: 2.3153 - val_acc: 0.2010\n",
      "Epoch 44/100\n",
      "41092/41092 [==============================] - 223s 5ms/sample - loss: 2.3270 - acc: 0.2062 - val_loss: 2.3149 - val_acc: 0.2010\n",
      "Epoch 45/100\n",
      "41092/41092 [==============================] - 210s 5ms/sample - loss: 2.3267 - acc: 0.2065 - val_loss: 2.3143 - val_acc: 0.2009\n",
      "Epoch 46/100\n",
      "41092/41092 [==============================] - 222s 5ms/sample - loss: 2.3263 - acc: 0.2069 - val_loss: 2.3136 - val_acc: 0.2010\n",
      "Epoch 47/100\n",
      "41092/41092 [==============================] - 221s 5ms/sample - loss: 2.3249 - acc: 0.2062 - val_loss: 2.3120 - val_acc: 0.2011\n",
      "Epoch 48/100\n",
      "41092/41092 [==============================] - 218s 5ms/sample - loss: 2.3250 - acc: 0.2067 - val_loss: 2.3119 - val_acc: 0.2010\n",
      "Epoch 49/100\n",
      "41092/41092 [==============================] - 200s 5ms/sample - loss: 2.3253 - acc: 0.2067 - val_loss: 2.3120 - val_acc: 0.2012\n",
      "Epoch 50/100\n",
      "41092/41092 [==============================] - 220s 5ms/sample - loss: 2.3250 - acc: 0.2067 - val_loss: 2.3119 - val_acc: 0.2011\n",
      "Epoch 51/100\n",
      "41092/41092 [==============================] - 218s 5ms/sample - loss: 2.3245 - acc: 0.2072 - val_loss: 2.3115 - val_acc: 0.2013\n",
      "Epoch 52/100\n",
      "41092/41092 [==============================] - 218s 5ms/sample - loss: 2.3238 - acc: 0.2069 - val_loss: 2.3114 - val_acc: 0.2016\n",
      "Epoch 53/100\n",
      "41092/41092 [==============================] - 225s 5ms/sample - loss: 2.3246 - acc: 0.2068 - val_loss: 2.3107 - val_acc: 0.2015\n",
      "Epoch 54/100\n",
      "41092/41092 [==============================] - 218s 5ms/sample - loss: 2.3236 - acc: 0.2066 - val_loss: 2.3104 - val_acc: 0.2014\n",
      "Epoch 55/100\n",
      "41092/41092 [==============================] - 217s 5ms/sample - loss: 2.3234 - acc: 0.2070 - val_loss: 2.3106 - val_acc: 0.2015\n",
      "Epoch 56/100\n",
      "41092/41092 [==============================] - 223s 5ms/sample - loss: 2.3240 - acc: 0.2064 - val_loss: 2.3100 - val_acc: 0.2012\n",
      "Epoch 57/100\n",
      "41092/41092 [==============================] - 224s 5ms/sample - loss: 2.3224 - acc: 0.2069 - val_loss: 2.3103 - val_acc: 0.2012\n",
      "Epoch 58/100\n"
     ]
    },
    {
     "name": "stdout",
     "output_type": "stream",
     "text": [
      "41092/41092 [==============================] - 223s 5ms/sample - loss: 2.3232 - acc: 0.2070 - val_loss: 2.3102 - val_acc: 0.2013\n",
      "Epoch 59/100\n",
      "41092/41092 [==============================] - 216s 5ms/sample - loss: 2.3226 - acc: 0.2071 - val_loss: 2.3103 - val_acc: 0.2014\n",
      "Epoch 60/100\n",
      "41092/41092 [==============================] - 220s 5ms/sample - loss: 2.3235 - acc: 0.2069 - val_loss: 2.3107 - val_acc: 0.2012\n",
      "Epoch 61/100\n",
      "41092/41092 [==============================] - 223s 5ms/sample - loss: 2.3230 - acc: 0.2069 - val_loss: 2.3104 - val_acc: 0.2015\n",
      "Epoch 62/100\n",
      "41092/41092 [==============================] - 216s 5ms/sample - loss: 2.3225 - acc: 0.2069 - val_loss: 2.3103 - val_acc: 0.2013\n",
      "Epoch 63/100\n",
      "41092/41092 [==============================] - 220s 5ms/sample - loss: 2.3230 - acc: 0.2071 - val_loss: 2.3100 - val_acc: 0.2015\n",
      "Epoch 64/100\n",
      "41092/41092 [==============================] - 223s 5ms/sample - loss: 2.3222 - acc: 0.2071 - val_loss: 2.3101 - val_acc: 0.2016\n",
      "Epoch 65/100\n",
      "41092/41092 [==============================] - 218s 5ms/sample - loss: 2.3222 - acc: 0.2069 - val_loss: 2.3103 - val_acc: 0.2013\n",
      "Epoch 66/100\n",
      "41092/41092 [==============================] - 223s 5ms/sample - loss: 2.3221 - acc: 0.2069 - val_loss: 2.3104 - val_acc: 0.2013\n",
      "Epoch 67/100\n",
      "41092/41092 [==============================] - 220s 5ms/sample - loss: 2.3224 - acc: 0.2066 - val_loss: 2.3098 - val_acc: 0.2016\n",
      "Epoch 68/100\n",
      "41092/41092 [==============================] - 210s 5ms/sample - loss: 2.3225 - acc: 0.2072 - val_loss: 2.3098 - val_acc: 0.2015\n",
      "Epoch 69/100\n",
      "41092/41092 [==============================] - 216s 5ms/sample - loss: 2.3214 - acc: 0.2069 - val_loss: 2.3097 - val_acc: 0.2015\n",
      "Epoch 70/100\n",
      "41092/41092 [==============================] - 205s 5ms/sample - loss: 2.3217 - acc: 0.2070 - val_loss: 2.3096 - val_acc: 0.2016\n",
      "Epoch 71/100\n",
      "41092/41092 [==============================] - 222s 5ms/sample - loss: 2.3221 - acc: 0.2070 - val_loss: 2.3097 - val_acc: 0.2013\n",
      "Epoch 72/100\n",
      "41092/41092 [==============================] - 226s 6ms/sample - loss: 2.3218 - acc: 0.2071 - val_loss: 2.3098 - val_acc: 0.2013\n",
      "Epoch 73/100\n",
      "41092/41092 [==============================] - 208s 5ms/sample - loss: 2.3215 - acc: 0.2076 - val_loss: 2.3097 - val_acc: 0.2014\n",
      "Epoch 74/100\n",
      "41092/41092 [==============================] - 217s 5ms/sample - loss: 2.3216 - acc: 0.2071 - val_loss: 2.3096 - val_acc: 0.2013\n",
      "Epoch 75/100\n",
      "41092/41092 [==============================] - 229s 6ms/sample - loss: 2.3212 - acc: 0.2070 - val_loss: 2.3098 - val_acc: 0.2012\n",
      "Epoch 76/100\n",
      "41092/41092 [==============================] - 234s 6ms/sample - loss: 2.3209 - acc: 0.2073 - val_loss: 2.3101 - val_acc: 0.2013\n",
      "Epoch 77/100\n",
      "41092/41092 [==============================] - 229s 6ms/sample - loss: 2.3216 - acc: 0.2069 - val_loss: 2.3099 - val_acc: 0.2011\n",
      "Epoch 78/100\n",
      "41092/41092 [==============================] - 230s 6ms/sample - loss: 2.3212 - acc: 0.2069 - val_loss: 2.3105 - val_acc: 0.2010\n",
      "Epoch 79/100\n",
      "41092/41092 [==============================] - 228s 6ms/sample - loss: 2.3208 - acc: 0.2076 - val_loss: 2.3102 - val_acc: 0.2009\n",
      "Epoch 80/100\n",
      "41092/41092 [==============================] - 228s 6ms/sample - loss: 2.3212 - acc: 0.2069 - val_loss: 2.3104 - val_acc: 0.2010\n",
      "Epoch 81/100\n",
      "41092/41092 [==============================] - 224s 5ms/sample - loss: 2.3205 - acc: 0.2072 - val_loss: 2.3102 - val_acc: 0.2010\n",
      "Epoch 82/100\n",
      "41092/41092 [==============================] - 222s 5ms/sample - loss: 2.3215 - acc: 0.2070 - val_loss: 2.3099 - val_acc: 0.2009\n",
      "Epoch 83/100\n",
      "41092/41092 [==============================] - 226s 6ms/sample - loss: 2.3212 - acc: 0.2072 - val_loss: 2.3102 - val_acc: 0.2008\n",
      "Epoch 84/100\n",
      "41092/41092 [==============================] - 229s 6ms/sample - loss: 2.3213 - acc: 0.2070 - val_loss: 2.3096 - val_acc: 0.2010\n",
      "Epoch 85/100\n",
      "41092/41092 [==============================] - 227s 6ms/sample - loss: 2.3212 - acc: 0.2072 - val_loss: 2.3096 - val_acc: 0.2011\n",
      "Epoch 86/100\n",
      "41092/41092 [==============================] - 221s 5ms/sample - loss: 2.3210 - acc: 0.2072 - val_loss: 2.3098 - val_acc: 0.2010\n",
      "Epoch 87/100\n",
      "41092/41092 [==============================] - 227s 6ms/sample - loss: 2.3208 - acc: 0.2074 - val_loss: 2.3098 - val_acc: 0.2010\n",
      "Epoch 88/100\n",
      "41092/41092 [==============================] - 226s 5ms/sample - loss: 2.3209 - acc: 0.2073 - val_loss: 2.3096 - val_acc: 0.2010\n",
      "Epoch 89/100\n",
      "41092/41092 [==============================] - 229s 6ms/sample - loss: 2.3207 - acc: 0.2071 - val_loss: 2.3098 - val_acc: 0.2011\n",
      "Epoch 90/100\n",
      "41092/41092 [==============================] - 230s 6ms/sample - loss: 2.3204 - acc: 0.2073 - val_loss: 2.3100 - val_acc: 0.2009\n",
      "Epoch 91/100\n",
      "41092/41092 [==============================] - 233s 6ms/sample - loss: 2.3211 - acc: 0.2077 - val_loss: 2.3099 - val_acc: 0.2010\n",
      "Epoch 92/100\n",
      "41092/41092 [==============================] - 234s 6ms/sample - loss: 2.3207 - acc: 0.2072 - val_loss: 2.3097 - val_acc: 0.2009\n",
      "Epoch 93/100\n",
      "41092/41092 [==============================] - 228s 6ms/sample - loss: 2.3197 - acc: 0.2072 - val_loss: 2.3099 - val_acc: 0.2009\n",
      "Epoch 94/100\n",
      "41092/41092 [==============================] - 226s 5ms/sample - loss: 2.3208 - acc: 0.2075 - val_loss: 2.3100 - val_acc: 0.2010\n",
      "Epoch 95/100\n",
      "41092/41092 [==============================] - 219s 5ms/sample - loss: 2.3200 - acc: 0.2072 - val_loss: 2.3106 - val_acc: 0.2009\n",
      "Epoch 96/100\n",
      "41092/41092 [==============================] - 223s 5ms/sample - loss: 2.3204 - acc: 0.2069 - val_loss: 2.3105 - val_acc: 0.2010\n",
      "Epoch 97/100\n",
      "41092/41092 [==============================] - 225s 5ms/sample - loss: 2.3203 - acc: 0.2075 - val_loss: 2.3103 - val_acc: 0.2010\n",
      "Epoch 98/100\n",
      "41092/41092 [==============================] - 223s 5ms/sample - loss: 2.3196 - acc: 0.2077 - val_loss: 2.3111 - val_acc: 0.2009\n",
      "Epoch 99/100\n",
      "41092/41092 [==============================] - 221s 5ms/sample - loss: 2.3202 - acc: 0.2069 - val_loss: 2.3099 - val_acc: 0.2009\n",
      "Epoch 100/100\n",
      "41092/41092 [==============================] - 223s 5ms/sample - loss: 2.3199 - acc: 0.2080 - val_loss: 2.3103 - val_acc: 0.2010\n"
     ]
    },
    {
     "data": {
      "text/plain": [
       "<tensorflow.python.keras.callbacks.History at 0x242a36f3a90>"
      ]
     },
     "execution_count": 21,
     "metadata": {},
     "output_type": "execute_result"
    }
   ],
   "source": [
    "model.fit(train_x, train_labels,\n",
    "          epochs = 100, \n",
    "          shuffle = True,\n",
    "          validation_data = (val_x, val_labels),\n",
    "          batch_size = 1024,\n",
    "         class_weight = class_weights,\n",
    "         callbacks=[tensorboard_callback])"
   ]
  },
  {
   "cell_type": "code",
   "execution_count": 23,
   "metadata": {},
   "outputs": [
    {
     "name": "stdout",
     "output_type": "stream",
     "text": [
      "41092/41092 [==============================] - 29s 703us/sample\n",
      "[1779.7416 3361.408  1899.6012 3170.8997 2991.3484 3316.3118 1790.7776\n",
      " 1390.4574 6283.0386 3094.5225 3690.8193 8318.799 ]\n",
      "[1776. 3425. 1883. 3107. 2975. 3252. 1780. 1366. 6307. 3086. 3722. 8413.]\n"
     ]
    },
    {
     "data": {
      "text/plain": [
       "<matplotlib.image.AxesImage at 0x242af80a780>"
      ]
     },
     "execution_count": 23,
     "metadata": {},
     "output_type": "execute_result"
    },
    {
     "data": {
      "image/png": "[encoded data removed]",
      "text/plain": [
       "<Figure size 432x288 with 1 Axes>"
      ]
     },
     "metadata": {
      "needs_background": "light"
     },
     "output_type": "display_data"
    }
   ],
   "source": [
    "preds = model.predict(train_x, batch_size = 256, verbose = 1)\n",
    "print(np.sum(preds, axis = 0))\n",
    "print(np.sum(train_labels, axis = 0))\n",
    "plt.imshow(\n",
    "    confusion_matrix(\n",
    "        enc.inverse_transform(preds), \n",
    "        enc.inverse_transform(train_labels), \n",
    "        normalize = \"true\"\n",
    "    )\n",
    ")"
   ]
  },
  {
   "cell_type": "code",
   "execution_count": 24,
   "metadata": {
    "scrolled": false
   },
   "outputs": [
    {
     "name": "stdout",
     "output_type": "stream",
     "text": [
      "10495/10495 [==============================] - 7s 693us/sample\n",
      "[ 455.97357  860.18317  482.35217  811.49365  761.19635  846.054\n",
      "  458.1075   354.98557 1598.8673   786.79626  947.5248  2131.4912 ]\n",
      "[ 436.  781.  469.  833.  671.  862.  454.  316. 1849.  785.  936. 2103.]\n"
     ]
    },
    {
     "data": {
      "text/plain": [
       "<matplotlib.image.AxesImage at 0x242af86a748>"
      ]
     },
     "execution_count": 24,
     "metadata": {},
     "output_type": "execute_result"
    },
    {
     "data": {
      "image/png": "[encoded data removed]",
      "text/plain": [
       "<Figure size 432x288 with 1 Axes>"
      ]
     },
     "metadata": {
      "needs_background": "light"
     },
     "output_type": "display_data"
    }
   ],
   "source": [
    "preds = model.predict(val_x, batch_size = 256, verbose = 1)\n",
    "print(np.sum(preds, axis = 0))\n",
    "print(np.sum(val_labels, axis = 0))\n",
    "plt.imshow(\n",
    "    confusion_matrix(\n",
    "        enc.inverse_transform(preds), \n",
    "        enc.inverse_transform(val_labels), \n",
    "        normalize = \"true\"\n",
    "    )\n",
    ")"
   ]
  },
  {
   "cell_type": "code",
   "execution_count": 25,
   "metadata": {},
   "outputs": [
    {
     "name": "stdout",
     "output_type": "stream",
     "text": [
      "Model: \"sequential\"\n",
      "_________________________________________________________________\n",
      "Layer (type)                 Output Shape              Param #   \n",
      "=================================================================\n",
      "lstm (LSTM)                  (None, 200, 16)           2816      \n",
      "_________________________________________________________________\n",
      "batch_normalization (BatchNo (None, 200, 16)           64        \n",
      "_________________________________________________________________\n",
      "lstm_2 (LSTM)                (None, 200, 32)           6272      \n",
      "_________________________________________________________________\n",
      "batch_normalization_2 (Batch (None, 200, 32)           128       \n",
      "_________________________________________________________________\n",
      "lstm_3 (LSTM)                (None, 64)                24832     \n",
      "_________________________________________________________________\n",
      "batch_normalization_3 (Batch (None, 64)                256       \n",
      "_________________________________________________________________\n",
      "dense_2 (Dense)              (None, 200)               13000     \n",
      "_________________________________________________________________\n",
      "batch_normalization_4 (Batch (None, 200)               800       \n",
      "_________________________________________________________________\n",
      "dropout (Dropout)            (None, 200)               0         \n",
      "_________________________________________________________________\n",
      "dense_3 (Dense)              (None, 12)                2412      \n",
      "=================================================================\n",
      "Total params: 50,580\n",
      "Trainable params: 40,772\n",
      "Non-trainable params: 9,808\n",
      "_________________________________________________________________\n",
      "None\n"
     ]
    }
   ],
   "source": [
    "model.pop()\n",
    "for layer in model.layers:\n",
    "    layer.trainable = False\n",
    "model.layers[4].trainable = True\n",
    "model.layers[5].trainable = True\n",
    "model.add(Dense(200, activation = 'relu'))\n",
    "model.add(BatchNormalization())\n",
    "model.add(Dropout(.5))\n",
    "model.add(Dense(len(enc.categories_[0]), activation= \"softmax\"))\n",
    "model.compile(loss = \"categorical_crossentropy\", optimizer= adam, metrics=[\"acc\"])\n",
    "print(model.summary())"
   ]
  },
  {
   "cell_type": "code",
   "execution_count": 26,
   "metadata": {},
   "outputs": [],
   "source": [
    "log_dir = os.path.join(\n",
    "    \"logs\",\n",
    "    \"fit\",\n",
    "    datetime.datetime.now().strftime(\"%Y%m%d-%H%M%S\"),\n",
    ")\n",
    "tensorboard_callback = tf.keras.callbacks.TensorBoard(log_dir=log_dir, histogram_freq=1)"
   ]
  },
  {
   "cell_type": "code",
   "execution_count": 27,
   "metadata": {},
   "outputs": [
    {
     "name": "stdout",
     "output_type": "stream",
     "text": [
      "Train on 41092 samples, validate on 10495 samples\n",
      "Epoch 1/100\n",
      "41092/41092 [==============================] - 239s 6ms/sample - loss: 3.1610 - acc: 0.0917 - val_loss: 2.5924 - val_acc: 0.0993\n",
      "Epoch 2/100\n",
      "41092/41092 [==============================] - 232s 6ms/sample - loss: 2.9468 - acc: 0.1055 - val_loss: 2.5222 - val_acc: 0.1021\n",
      "Epoch 3/100\n",
      "41092/41092 [==============================] - 245s 6ms/sample - loss: 2.8730 - acc: 0.1109 - val_loss: 2.4593 - val_acc: 0.1646\n",
      "Epoch 4/100\n",
      "41092/41092 [==============================] - 247s 6ms/sample - loss: 2.8023 - acc: 0.1172 - val_loss: 2.4226 - val_acc: 0.1681\n",
      "Epoch 5/100\n",
      "41092/41092 [==============================] - 250s 6ms/sample - loss: 2.7680 - acc: 0.1225 - val_loss: 2.3979 - val_acc: 0.1999\n",
      "Epoch 6/100\n",
      "41092/41092 [==============================] - 238s 6ms/sample - loss: 2.7180 - acc: 0.1326 - val_loss: 2.3812 - val_acc: 0.2000\n",
      "Epoch 7/100\n",
      "41092/41092 [==============================] - 238s 6ms/sample - loss: 2.6912 - acc: 0.1342 - val_loss: 2.3667 - val_acc: 0.2010\n",
      "Epoch 8/100\n",
      "41092/41092 [==============================] - 239s 6ms/sample - loss: 2.6624 - acc: 0.1404 - val_loss: 2.3575 - val_acc: 0.2004\n",
      "Epoch 9/100\n",
      "41092/41092 [==============================] - 238s 6ms/sample - loss: 2.6299 - acc: 0.1423 - val_loss: 2.3529 - val_acc: 0.2017\n",
      "Epoch 10/100\n",
      "41092/41092 [==============================] - 238s 6ms/sample - loss: 2.6152 - acc: 0.1486 - val_loss: 2.3484 - val_acc: 0.2022\n",
      "Epoch 11/100\n",
      "41092/41092 [==============================] - 238s 6ms/sample - loss: 2.5970 - acc: 0.1499 - val_loss: 2.3419 - val_acc: 0.2017\n",
      "Epoch 12/100\n",
      "41092/41092 [==============================] - 242s 6ms/sample - loss: 2.5844 - acc: 0.1543 - val_loss: 2.3423 - val_acc: 0.2023\n",
      "Epoch 13/100\n",
      "41092/41092 [==============================] - 241s 6ms/sample - loss: 2.5651 - acc: 0.1549 - val_loss: 2.3294 - val_acc: 0.2022\n",
      "Epoch 14/100\n",
      "41092/41092 [==============================] - 241s 6ms/sample - loss: 2.5525 - acc: 0.1544 - val_loss: 2.3268 - val_acc: 0.2018\n",
      "Epoch 15/100\n",
      "41092/41092 [==============================] - 241s 6ms/sample - loss: 2.5333 - acc: 0.1589 - val_loss: 2.3318 - val_acc: 0.2017\n",
      "Epoch 16/100\n",
      "41092/41092 [==============================] - 241s 6ms/sample - loss: 2.5279 - acc: 0.1616 - val_loss: 2.3252 - val_acc: 0.2014\n",
      "Epoch 17/100\n",
      "41092/41092 [==============================] - 242s 6ms/sample - loss: 2.5126 - acc: 0.1614 - val_loss: 2.3270 - val_acc: 0.2019\n",
      "Epoch 18/100\n",
      "41092/41092 [==============================] - 241s 6ms/sample - loss: 2.5064 - acc: 0.1644 - val_loss: 2.3257 - val_acc: 0.2022\n",
      "Epoch 19/100\n",
      "41092/41092 [==============================] - 240s 6ms/sample - loss: 2.4990 - acc: 0.1667 - val_loss: 2.3260 - val_acc: 0.2007\n",
      "Epoch 20/100\n",
      "41092/41092 [==============================] - 241s 6ms/sample - loss: 2.4821 - acc: 0.1707 - val_loss: 2.3277 - val_acc: 0.2025\n",
      "Epoch 21/100\n",
      "41092/41092 [==============================] - 242s 6ms/sample - loss: 2.4797 - acc: 0.1696 - val_loss: 2.3241 - val_acc: 0.2021\n",
      "Epoch 22/100\n",
      "41092/41092 [==============================] - 243s 6ms/sample - loss: 2.4707 - acc: 0.1753 - val_loss: 2.3224 - val_acc: 0.2018\n",
      "Epoch 23/100\n",
      "41092/41092 [==============================] - 242s 6ms/sample - loss: 2.4666 - acc: 0.1737 - val_loss: 2.3266 - val_acc: 0.2025\n",
      "Epoch 24/100\n",
      "41092/41092 [==============================] - 246s 6ms/sample - loss: 2.4538 - acc: 0.1768 - val_loss: 2.3300 - val_acc: 0.2026\n",
      "Epoch 25/100\n",
      "41092/41092 [==============================] - 244s 6ms/sample - loss: 2.4436 - acc: 0.1788 - val_loss: 2.3223 - val_acc: 0.2025\n",
      "Epoch 26/100\n",
      "41092/41092 [==============================] - 242s 6ms/sample - loss: 2.4459 - acc: 0.1782 - val_loss: 2.3214 - val_acc: 0.2027\n",
      "Epoch 27/100\n",
      "41092/41092 [==============================] - 245s 6ms/sample - loss: 2.4348 - acc: 0.1781 - val_loss: 2.3232 - val_acc: 0.2027\n",
      "Epoch 28/100\n",
      "41092/41092 [==============================] - 244s 6ms/sample - loss: 2.4328 - acc: 0.1800 - val_loss: 2.3202 - val_acc: 0.2027\n",
      "Epoch 29/100\n",
      "41092/41092 [==============================] - 243s 6ms/sample - loss: 2.4309 - acc: 0.1819 - val_loss: 2.3198 - val_acc: 0.2019\n",
      "Epoch 30/100\n",
      "41092/41092 [==============================] - 244s 6ms/sample - loss: 2.4258 - acc: 0.1841 - val_loss: 2.3192 - val_acc: 0.2020\n",
      "Epoch 31/100\n",
      "41092/41092 [==============================] - 243s 6ms/sample - loss: 2.4214 - acc: 0.1850 - val_loss: 2.3163 - val_acc: 0.2024\n",
      "Epoch 32/100\n",
      "41092/41092 [==============================] - 243s 6ms/sample - loss: 2.4143 - acc: 0.1845 - val_loss: 2.3162 - val_acc: 0.2027\n",
      "Epoch 33/100\n",
      "41092/41092 [==============================] - 243s 6ms/sample - loss: 2.4109 - acc: 0.1864 - val_loss: 2.3183 - val_acc: 0.2025\n",
      "Epoch 34/100\n",
      "41092/41092 [==============================] - 243s 6ms/sample - loss: 2.4079 - acc: 0.1877 - val_loss: 2.3186 - val_acc: 0.2023\n",
      "Epoch 35/100\n",
      "41092/41092 [==============================] - 244s 6ms/sample - loss: 2.4032 - acc: 0.1885 - val_loss: 2.3152 - val_acc: 0.2017\n",
      "Epoch 36/100\n",
      "41092/41092 [==============================] - 243s 6ms/sample - loss: 2.4009 - acc: 0.1886 - val_loss: 2.3165 - val_acc: 0.2023\n",
      "Epoch 37/100\n",
      "41092/41092 [==============================] - 243s 6ms/sample - loss: 2.3990 - acc: 0.1908 - val_loss: 2.3153 - val_acc: 0.2023\n",
      "Epoch 38/100\n",
      "41092/41092 [==============================] - 244s 6ms/sample - loss: 2.3958 - acc: 0.1928 - val_loss: 2.3173 - val_acc: 0.2026\n",
      "Epoch 39/100\n",
      "41092/41092 [==============================] - 242s 6ms/sample - loss: 2.3926 - acc: 0.1953 - val_loss: 2.3168 - val_acc: 0.2025\n",
      "Epoch 40/100\n",
      "41092/41092 [==============================] - 242s 6ms/sample - loss: 2.3890 - acc: 0.1950 - val_loss: 2.3172 - val_acc: 0.2025\n",
      "Epoch 41/100\n",
      "41092/41092 [==============================] - 242s 6ms/sample - loss: 2.3860 - acc: 0.1952 - val_loss: 2.3173 - val_acc: 0.2029\n",
      "Epoch 42/100\n",
      "41092/41092 [==============================] - 242s 6ms/sample - loss: 2.3832 - acc: 0.1949 - val_loss: 2.3186 - val_acc: 0.2031\n",
      "Epoch 43/100\n",
      "41092/41092 [==============================] - 244s 6ms/sample - loss: 2.3849 - acc: 0.1961 - val_loss: 2.3187 - val_acc: 0.2030\n",
      "Epoch 44/100\n",
      "41092/41092 [==============================] - 243s 6ms/sample - loss: 2.3795 - acc: 0.1960 - val_loss: 2.3184 - val_acc: 0.2030\n",
      "Epoch 45/100\n",
      "41092/41092 [==============================] - 243s 6ms/sample - loss: 2.3810 - acc: 0.1990 - val_loss: 2.3155 - val_acc: 0.2026\n",
      "Epoch 46/100\n",
      "41092/41092 [==============================] - 243s 6ms/sample - loss: 2.3782 - acc: 0.1959 - val_loss: 2.3155 - val_acc: 0.2029\n",
      "Epoch 47/100\n",
      "41092/41092 [==============================] - 241s 6ms/sample - loss: 2.3744 - acc: 0.1978 - val_loss: 2.3172 - val_acc: 0.2027\n",
      "Epoch 48/100\n",
      "41092/41092 [==============================] - 243s 6ms/sample - loss: 2.3711 - acc: 0.1997 - val_loss: 2.3150 - val_acc: 0.2026\n",
      "Epoch 49/100\n",
      "41092/41092 [==============================] - 245s 6ms/sample - loss: 2.3727 - acc: 0.1992 - val_loss: 2.3147 - val_acc: 0.2025\n",
      "Epoch 50/100\n",
      "41092/41092 [==============================] - 243s 6ms/sample - loss: 2.3684 - acc: 0.1983 - val_loss: 2.3151 - val_acc: 0.2024\n",
      "Epoch 51/100\n",
      "41092/41092 [==============================] - 243s 6ms/sample - loss: 2.3689 - acc: 0.2010 - val_loss: 2.3165 - val_acc: 0.2017\n",
      "Epoch 52/100\n",
      "41092/41092 [==============================] - 241s 6ms/sample - loss: 2.3640 - acc: 0.2011 - val_loss: 2.3153 - val_acc: 0.2025\n",
      "Epoch 53/100\n",
      "41092/41092 [==============================] - 242s 6ms/sample - loss: 2.3642 - acc: 0.1998 - val_loss: 2.3162 - val_acc: 0.2024\n",
      "Epoch 54/100\n",
      "41092/41092 [==============================] - 245s 6ms/sample - loss: 2.3623 - acc: 0.2015 - val_loss: 2.3150 - val_acc: 0.2028\n",
      "Epoch 55/100\n",
      "41092/41092 [==============================] - 243s 6ms/sample - loss: 2.3617 - acc: 0.2008 - val_loss: 2.3150 - val_acc: 0.2027\n",
      "Epoch 56/100\n",
      "41092/41092 [==============================] - 242s 6ms/sample - loss: 2.3623 - acc: 0.2022 - val_loss: 2.3159 - val_acc: 0.2024\n",
      "Epoch 57/100\n",
      "41092/41092 [==============================] - 243s 6ms/sample - loss: 2.3593 - acc: 0.2033 - val_loss: 2.3144 - val_acc: 0.2025\n",
      "Epoch 58/100\n"
     ]
    },
    {
     "name": "stdout",
     "output_type": "stream",
     "text": [
      "41092/41092 [==============================] - 244s 6ms/sample - loss: 2.3579 - acc: 0.2024 - val_loss: 2.3134 - val_acc: 0.2024\n",
      "Epoch 59/100\n",
      "41092/41092 [==============================] - 242s 6ms/sample - loss: 2.3584 - acc: 0.2019 - val_loss: 2.3128 - val_acc: 0.2021\n",
      "Epoch 60/100\n",
      "41092/41092 [==============================] - 243s 6ms/sample - loss: 2.3551 - acc: 0.2034 - val_loss: 2.3140 - val_acc: 0.2022\n",
      "Epoch 61/100\n",
      "41092/41092 [==============================] - 243s 6ms/sample - loss: 2.3544 - acc: 0.2029 - val_loss: 2.3140 - val_acc: 0.2023\n",
      "Epoch 62/100\n",
      "41092/41092 [==============================] - 242s 6ms/sample - loss: 2.3535 - acc: 0.2042 - val_loss: 2.3133 - val_acc: 0.2024\n",
      "Epoch 63/100\n",
      "41092/41092 [==============================] - 243s 6ms/sample - loss: 2.3502 - acc: 0.2039 - val_loss: 2.3134 - val_acc: 0.2025\n",
      "Epoch 64/100\n",
      "41092/41092 [==============================] - 243s 6ms/sample - loss: 2.3489 - acc: 0.2037 - val_loss: 2.3145 - val_acc: 0.2025\n",
      "Epoch 65/100\n",
      "41092/41092 [==============================] - 244s 6ms/sample - loss: 2.3491 - acc: 0.2051 - val_loss: 2.3132 - val_acc: 0.2022\n",
      "Epoch 66/100\n",
      "41092/41092 [==============================] - 242s 6ms/sample - loss: 2.3479 - acc: 0.2034 - val_loss: 2.3137 - val_acc: 0.2026\n",
      "Epoch 67/100\n",
      "41092/41092 [==============================] - 244s 6ms/sample - loss: 2.3479 - acc: 0.2032 - val_loss: 2.3146 - val_acc: 0.2027\n",
      "Epoch 68/100\n",
      "41092/41092 [==============================] - 245s 6ms/sample - loss: 2.3486 - acc: 0.2021 - val_loss: 2.3145 - val_acc: 0.2026\n",
      "Epoch 69/100\n",
      "41092/41092 [==============================] - 244s 6ms/sample - loss: 2.3469 - acc: 0.2029 - val_loss: 2.3127 - val_acc: 0.2024\n",
      "Epoch 70/100\n",
      "41092/41092 [==============================] - 241s 6ms/sample - loss: 2.3435 - acc: 0.2041 - val_loss: 2.3131 - val_acc: 0.2026\n",
      "Epoch 71/100\n",
      "41092/41092 [==============================] - 242s 6ms/sample - loss: 2.3452 - acc: 0.2029 - val_loss: 2.3132 - val_acc: 0.2026\n",
      "Epoch 72/100\n",
      "41092/41092 [==============================] - 243s 6ms/sample - loss: 2.3443 - acc: 0.2042 - val_loss: 2.3135 - val_acc: 0.2027\n",
      "Epoch 73/100\n",
      "41092/41092 [==============================] - 244s 6ms/sample - loss: 2.3437 - acc: 0.2040 - val_loss: 2.3128 - val_acc: 0.2027\n",
      "Epoch 74/100\n",
      "41092/41092 [==============================] - 245s 6ms/sample - loss: 2.3415 - acc: 0.2050 - val_loss: 2.3130 - val_acc: 0.2028\n",
      "Epoch 75/100\n",
      "41092/41092 [==============================] - 246s 6ms/sample - loss: 2.3425 - acc: 0.2041 - val_loss: 2.3130 - val_acc: 0.2023\n",
      "Epoch 76/100\n",
      "41092/41092 [==============================] - 244s 6ms/sample - loss: 2.3428 - acc: 0.2050 - val_loss: 2.3130 - val_acc: 0.2023\n",
      "Epoch 77/100\n",
      "41092/41092 [==============================] - 243s 6ms/sample - loss: 2.3430 - acc: 0.2041 - val_loss: 2.3126 - val_acc: 0.2025\n",
      "Epoch 78/100\n",
      "41092/41092 [==============================] - 242s 6ms/sample - loss: 2.3400 - acc: 0.2039 - val_loss: 2.3119 - val_acc: 0.2027\n",
      "Epoch 79/100\n",
      "41092/41092 [==============================] - 243s 6ms/sample - loss: 2.3383 - acc: 0.2049 - val_loss: 2.3132 - val_acc: 0.2027\n",
      "Epoch 80/100\n",
      "41092/41092 [==============================] - 243s 6ms/sample - loss: 2.3396 - acc: 0.2037 - val_loss: 2.3127 - val_acc: 0.2024\n",
      "Epoch 81/100\n",
      "41092/41092 [==============================] - 241s 6ms/sample - loss: 2.3371 - acc: 0.2052 - val_loss: 2.3125 - val_acc: 0.2023\n",
      "Epoch 82/100\n",
      "41092/41092 [==============================] - 242s 6ms/sample - loss: 2.3377 - acc: 0.2052 - val_loss: 2.3120 - val_acc: 0.2023\n",
      "Epoch 83/100\n",
      "41092/41092 [==============================] - 242s 6ms/sample - loss: 2.3371 - acc: 0.2050 - val_loss: 2.3123 - val_acc: 0.2026\n",
      "Epoch 84/100\n",
      "41092/41092 [==============================] - 243s 6ms/sample - loss: 2.3357 - acc: 0.2046 - val_loss: 2.3112 - val_acc: 0.2024\n",
      "Epoch 85/100\n",
      "41092/41092 [==============================] - 242s 6ms/sample - loss: 2.3361 - acc: 0.2050 - val_loss: 2.3119 - val_acc: 0.2025\n",
      "Epoch 86/100\n",
      "41092/41092 [==============================] - 242s 6ms/sample - loss: 2.3337 - acc: 0.2054 - val_loss: 2.3121 - val_acc: 0.2027\n",
      "Epoch 87/100\n",
      "41092/41092 [==============================] - 241s 6ms/sample - loss: 2.3366 - acc: 0.2048 - val_loss: 2.3119 - val_acc: 0.2024\n",
      "Epoch 88/100\n",
      "41092/41092 [==============================] - 243s 6ms/sample - loss: 2.3364 - acc: 0.2051 - val_loss: 2.3129 - val_acc: 0.2024\n",
      "Epoch 89/100\n",
      "41092/41092 [==============================] - 242s 6ms/sample - loss: 2.3358 - acc: 0.2058 - val_loss: 2.3123 - val_acc: 0.2021\n",
      "Epoch 90/100\n",
      "41092/41092 [==============================] - 242s 6ms/sample - loss: 2.3361 - acc: 0.2050 - val_loss: 2.3123 - val_acc: 0.2024\n",
      "Epoch 91/100\n",
      "41092/41092 [==============================] - 243s 6ms/sample - loss: 2.3335 - acc: 0.2049 - val_loss: 2.3123 - val_acc: 0.2024\n",
      "Epoch 92/100\n",
      "41092/41092 [==============================] - 243s 6ms/sample - loss: 2.3339 - acc: 0.2047 - val_loss: 2.3123 - val_acc: 0.2022\n",
      "Epoch 93/100\n",
      "41092/41092 [==============================] - 243s 6ms/sample - loss: 2.3337 - acc: 0.2056 - val_loss: 2.3118 - val_acc: 0.2024\n",
      "Epoch 94/100\n",
      "41092/41092 [==============================] - 242s 6ms/sample - loss: 2.3323 - acc: 0.2055 - val_loss: 2.3120 - val_acc: 0.2023\n",
      "Epoch 95/100\n",
      "41092/41092 [==============================] - 242s 6ms/sample - loss: 2.3328 - acc: 0.2053 - val_loss: 2.3113 - val_acc: 0.2021\n",
      "Epoch 96/100\n",
      "41092/41092 [==============================] - 242s 6ms/sample - loss: 2.3322 - acc: 0.2060 - val_loss: 2.3142 - val_acc: 0.2023\n",
      "Epoch 97/100\n",
      "41092/41092 [==============================] - 245s 6ms/sample - loss: 2.3329 - acc: 0.2049 - val_loss: 2.3115 - val_acc: 0.2021\n",
      "Epoch 98/100\n",
      "41092/41092 [==============================] - 245s 6ms/sample - loss: 2.3310 - acc: 0.2053 - val_loss: 2.3108 - val_acc: 0.2020\n",
      "Epoch 99/100\n",
      "41092/41092 [==============================] - 244s 6ms/sample - loss: 2.3323 - acc: 0.2057 - val_loss: 2.3118 - val_acc: 0.2021\n",
      "Epoch 100/100\n",
      "41092/41092 [==============================] - 243s 6ms/sample - loss: 2.3304 - acc: 0.2058 - val_loss: 2.3117 - val_acc: 0.2019\n"
     ]
    },
    {
     "data": {
      "text/plain": [
       "<tensorflow.python.keras.callbacks.History at 0x242a358f278>"
      ]
     },
     "execution_count": 27,
     "metadata": {},
     "output_type": "execute_result"
    }
   ],
   "source": [
    "model.fit(train_x, train_labels,\n",
    "          epochs = 100, \n",
    "          shuffle = True,\n",
    "          validation_data = (val_x, val_labels),\n",
    "          batch_size = 1024,\n",
    "         class_weight = class_weights,\n",
    "         callbacks=[tensorboard_callback])"
   ]
  },
  {
   "cell_type": "code",
   "execution_count": 28,
   "metadata": {},
   "outputs": [
    {
     "name": "stdout",
     "output_type": "stream",
     "text": [
      "41092/41092 [==============================] - 34s 833us/sample\n",
      "[1780.1079 3459.8347 1854.2997 3169.9446 3022.2246 3272.3555 1837.0573\n",
      " 1351.1122 6214.4194 3070.714  3743.0315 8318.708 ]\n",
      "[1776. 3425. 1883. 3107. 2975. 3252. 1780. 1366. 6307. 3086. 3722. 8413.]\n"
     ]
    },
    {
     "data": {
      "text/plain": [
       "<matplotlib.image.AxesImage at 0x242aee25e48>"
      ]
     },
     "execution_count": 28,
     "metadata": {},
     "output_type": "execute_result"
    },
    {
     "data": {
      "image/png": "[encoded data removed]",
      "text/plain": [
       "<Figure size 432x288 with 1 Axes>"
      ]
     },
     "metadata": {
      "needs_background": "light"
     },
     "output_type": "display_data"
    }
   ],
   "source": [
    "preds = model.predict(train_x, batch_size = 256, verbose = 1)\n",
    "print(np.sum(preds, axis = 0))\n",
    "print(np.sum(train_labels, axis = 0))\n",
    "plt.imshow(\n",
    "    confusion_matrix(\n",
    "        enc.inverse_transform(preds), \n",
    "        enc.inverse_transform(train_labels), \n",
    "        normalize = \"true\"\n",
    "    )\n",
    ")"
   ]
  },
  {
   "cell_type": "code",
   "execution_count": 29,
   "metadata": {},
   "outputs": [
    {
     "name": "stdout",
     "output_type": "stream",
     "text": [
      "10495/10495 [==============================] - 8s 779us/sample\n",
      "[ 455.87842  885.6502   470.71295  810.90845  769.4802   833.90295\n",
      "  470.78192  344.679   1580.1887   781.0578   959.73785 2131.7124 ]\n",
      "[ 436.  781.  469.  833.  671.  862.  454.  316. 1849.  785.  936. 2103.]\n"
     ]
    },
    {
     "data": {
      "text/plain": [
       "<matplotlib.image.AxesImage at 0x242aeea0c50>"
      ]
     },
     "execution_count": 29,
     "metadata": {},
     "output_type": "execute_result"
    },
    {
     "data": {
      "image/png": "[encoded data removed]",
      "text/plain": [
       "<Figure size 432x288 with 1 Axes>"
      ]
     },
     "metadata": {
      "needs_background": "light"
     },
     "output_type": "display_data"
    }
   ],
   "source": [
    "preds = model.predict(val_x, batch_size = 256, verbose = 1)\n",
    "print(np.sum(preds, axis = 0))\n",
    "print(np.sum(val_labels, axis = 0))\n",
    "plt.imshow(\n",
    "    confusion_matrix(\n",
    "        enc.inverse_transform(preds), \n",
    "        enc.inverse_transform(val_labels), \n",
    "        normalize = \"true\"\n",
    "    )\n",
    ")"
   ]
  },
  {
   "cell_type": "code",
   "execution_count": 30,
   "metadata": {},
   "outputs": [],
   "source": [
    "log_dir = os.path.join(\n",
    "    \"logs\",\n",
    "    \"fit\",\n",
    "    datetime.datetime.now().strftime(\"%Y%m%d-%H%M%S\"),\n",
    ")\n",
    "tensorboard_callback = tf.keras.callbacks.TensorBoard(log_dir=log_dir, histogram_freq=1)"
   ]
  },
  {
   "cell_type": "code",
   "execution_count": 31,
   "metadata": {},
   "outputs": [
    {
     "name": "stdout",
     "output_type": "stream",
     "text": [
      "Model: \"sequential\"\n",
      "_________________________________________________________________\n",
      "Layer (type)                 Output Shape              Param #   \n",
      "=================================================================\n",
      "lstm (LSTM)                  (None, 200, 16)           2816      \n",
      "_________________________________________________________________\n",
      "batch_normalization (BatchNo (None, 200, 16)           64        \n",
      "_________________________________________________________________\n",
      "lstm_2 (LSTM)                (None, 200, 32)           6272      \n",
      "_________________________________________________________________\n",
      "batch_normalization_2 (Batch (None, 200, 32)           128       \n",
      "_________________________________________________________________\n",
      "lstm_3 (LSTM)                (None, 64)                24832     \n",
      "_________________________________________________________________\n",
      "batch_normalization_3 (Batch (None, 64)                256       \n",
      "_________________________________________________________________\n",
      "dense_2 (Dense)              (None, 200)               13000     \n",
      "_________________________________________________________________\n",
      "batch_normalization_4 (Batch (None, 200)               800       \n",
      "_________________________________________________________________\n",
      "dropout (Dropout)            (None, 200)               0         \n",
      "_________________________________________________________________\n",
      "dense_4 (Dense)              (None, 200)               40200     \n",
      "_________________________________________________________________\n",
      "batch_normalization_5 (Batch (None, 200)               800       \n",
      "_________________________________________________________________\n",
      "dropout_1 (Dropout)          (None, 200)               0         \n",
      "_________________________________________________________________\n",
      "dense_5 (Dense)              (None, 12)                2412      \n",
      "=================================================================\n",
      "Total params: 91,580\n",
      "Trainable params: 90,556\n",
      "Non-trainable params: 1,024\n",
      "_________________________________________________________________\n",
      "None\n"
     ]
    }
   ],
   "source": [
    "model.pop()\n",
    "for layer in model.layers:\n",
    "    layer.trainable = True\n",
    "model.add(Dense(200, activation = 'relu'))\n",
    "model.add(BatchNormalization())\n",
    "model.add(Dropout(.5))\n",
    "model.add(Dense(len(enc.categories_[0]), activation= \"softmax\"))\n",
    "model.compile(loss = \"categorical_crossentropy\", optimizer= adam, metrics=[\"acc\"])\n",
    "print(model.summary())"
   ]
  },
  {
   "cell_type": "code",
   "execution_count": null,
   "metadata": {
    "scrolled": true
   },
   "outputs": [
    {
     "name": "stdout",
     "output_type": "stream",
     "text": [
      "Train on 41092 samples, validate on 10495 samples\n",
      "Epoch 1/200\n",
      "41092/41092 [==============================] - 250s 6ms/sample - loss: 3.2436 - acc: 0.0927 - val_loss: 2.5660 - val_acc: 0.0899\n",
      "Epoch 2/200\n",
      "41092/41092 [==============================] - 244s 6ms/sample - loss: 2.8819 - acc: 0.1071 - val_loss: 2.4711 - val_acc: 0.1801\n",
      "Epoch 3/200\n",
      "41092/41092 [==============================] - 243s 6ms/sample - loss: 2.7482 - acc: 0.1245 - val_loss: 2.4263 - val_acc: 0.1830\n",
      "Epoch 4/200\n",
      "41092/41092 [==============================] - 245s 6ms/sample - loss: 2.6803 - acc: 0.1411 - val_loss: 2.4096 - val_acc: 0.2100\n",
      "Epoch 5/200\n",
      "41092/41092 [==============================] - 246s 6ms/sample - loss: 2.6346 - acc: 0.1490 - val_loss: 2.3896 - val_acc: 0.2015\n",
      "Epoch 6/200\n",
      "41092/41092 [==============================] - 245s 6ms/sample - loss: 2.6007 - acc: 0.1611 - val_loss: 2.3800 - val_acc: 0.2013\n",
      "Epoch 7/200\n",
      "41092/41092 [==============================] - 246s 6ms/sample - loss: 2.5790 - acc: 0.1663 - val_loss: 2.3676 - val_acc: 0.2079\n",
      "Epoch 8/200\n",
      "41092/41092 [==============================] - 245s 6ms/sample - loss: 2.5682 - acc: 0.1763 - val_loss: 2.3763 - val_acc: 0.2015\n",
      "Epoch 9/200\n",
      "41092/41092 [==============================] - 248s 6ms/sample - loss: 2.5434 - acc: 0.1836 - val_loss: 2.3711 - val_acc: 0.2017\n",
      "Epoch 10/200\n",
      "41092/41092 [==============================] - 246s 6ms/sample - loss: 2.5375 - acc: 0.1869 - val_loss: 2.3685 - val_acc: 0.2019\n",
      "Epoch 11/200\n",
      "41092/41092 [==============================] - 247s 6ms/sample - loss: 2.5246 - acc: 0.1887 - val_loss: 2.3682 - val_acc: 0.2019\n",
      "Epoch 12/200\n",
      "41092/41092 [==============================] - 247s 6ms/sample - loss: 2.5183 - acc: 0.1907 - val_loss: 2.3668 - val_acc: 0.2018\n",
      "Epoch 13/200\n",
      "41092/41092 [==============================] - 247s 6ms/sample - loss: 2.4983 - acc: 0.1921 - val_loss: 2.3630 - val_acc: 0.2018\n",
      "Epoch 14/200\n",
      "41092/41092 [==============================] - 247s 6ms/sample - loss: 2.4980 - acc: 0.1932 - val_loss: 2.3642 - val_acc: 0.2011\n",
      "Epoch 15/200\n",
      "41092/41092 [==============================] - 248s 6ms/sample - loss: 2.4911 - acc: 0.1941 - val_loss: 2.3606 - val_acc: 0.2019\n",
      "Epoch 16/200\n",
      "41092/41092 [==============================] - 248s 6ms/sample - loss: 2.4792 - acc: 0.1945 - val_loss: 2.3615 - val_acc: 0.2010\n",
      "Epoch 17/200\n",
      "41092/41092 [==============================] - 248s 6ms/sample - loss: 2.4743 - acc: 0.1940 - val_loss: 2.3562 - val_acc: 0.2015\n",
      "Epoch 18/200\n",
      "41092/41092 [==============================] - 249s 6ms/sample - loss: 2.5097 - acc: 0.1946 - val_loss: 2.3641 - val_acc: 0.1804\n",
      "Epoch 19/200\n",
      "41092/41092 [==============================] - 249s 6ms/sample - loss: 2.5024 - acc: 0.1963 - val_loss: 2.3560 - val_acc: 0.2017\n",
      "Epoch 20/200\n",
      "41092/41092 [==============================] - 249s 6ms/sample - loss: 2.4925 - acc: 0.1991 - val_loss: 2.3439 - val_acc: 0.2023\n",
      "Epoch 21/200\n",
      "41092/41092 [==============================] - 248s 6ms/sample - loss: 2.4845 - acc: 0.2002 - val_loss: 2.3470 - val_acc: 0.2021\n",
      "Epoch 22/200\n",
      "41092/41092 [==============================] - 248s 6ms/sample - loss: 2.4850 - acc: 0.2009 - val_loss: 2.3481 - val_acc: 0.2020\n",
      "Epoch 23/200\n",
      "41092/41092 [==============================] - 248s 6ms/sample - loss: 2.4826 - acc: 0.2012 - val_loss: 2.3482 - val_acc: 0.2015\n",
      "Epoch 24/200\n",
      "41092/41092 [==============================] - 249s 6ms/sample - loss: 2.4736 - acc: 0.2004 - val_loss: 2.3544 - val_acc: 0.2013\n",
      "Epoch 25/200\n",
      "41092/41092 [==============================] - 249s 6ms/sample - loss: 2.4676 - acc: 0.2011 - val_loss: 2.3544 - val_acc: 0.2011\n",
      "Epoch 26/200\n",
      "41092/41092 [==============================] - 249s 6ms/sample - loss: 2.4657 - acc: 0.2020 - val_loss: 2.3552 - val_acc: 0.2012\n",
      "Epoch 27/200\n",
      "41092/41092 [==============================] - 248s 6ms/sample - loss: 2.4598 - acc: 0.2021 - val_loss: 2.3548 - val_acc: 0.2010\n",
      "Epoch 28/200\n",
      "41092/41092 [==============================] - 248s 6ms/sample - loss: 2.4655 - acc: 0.2023 - val_loss: 2.3550 - val_acc: 0.2018\n",
      "Epoch 29/200\n",
      "41092/41092 [==============================] - 248s 6ms/sample - loss: 2.4573 - acc: 0.2022 - val_loss: 2.3556 - val_acc: 0.2016\n",
      "Epoch 30/200\n",
      "41092/41092 [==============================] - 248s 6ms/sample - loss: 2.4536 - acc: 0.2020 - val_loss: 2.3542 - val_acc: 0.2013\n",
      "Epoch 31/200\n",
      "41092/41092 [==============================] - 249s 6ms/sample - loss: 2.4541 - acc: 0.2014 - val_loss: 2.3537 - val_acc: 0.2014\n",
      "Epoch 32/200\n",
      "41092/41092 [==============================] - 248s 6ms/sample - loss: 2.4465 - acc: 0.2024 - val_loss: 2.3531 - val_acc: 0.2010\n",
      "Epoch 33/200\n",
      "41092/41092 [==============================] - 249s 6ms/sample - loss: 2.4519 - acc: 0.2024 - val_loss: 2.3531 - val_acc: 0.2013\n",
      "Epoch 34/200\n",
      "41092/41092 [==============================] - 248s 6ms/sample - loss: 2.4411 - acc: 0.2032 - val_loss: 2.3540 - val_acc: 0.2012\n",
      "Epoch 35/200\n",
      "41092/41092 [==============================] - 250s 6ms/sample - loss: 2.4396 - acc: 0.2025 - val_loss: 2.3542 - val_acc: 0.2009\n",
      "Epoch 36/200\n",
      "41092/41092 [==============================] - 249s 6ms/sample - loss: 2.4310 - acc: 0.2023 - val_loss: 2.3526 - val_acc: 0.2011\n",
      "Epoch 37/200\n",
      "41092/41092 [==============================] - 249s 6ms/sample - loss: 2.4381 - acc: 0.2023 - val_loss: 2.3542 - val_acc: 0.2009\n",
      "Epoch 38/200\n",
      "41092/41092 [==============================] - 249s 6ms/sample - loss: 2.4365 - acc: 0.2027 - val_loss: 2.3525 - val_acc: 0.2010\n",
      "Epoch 39/200\n",
      "41092/41092 [==============================] - 248s 6ms/sample - loss: 2.4248 - acc: 0.2024 - val_loss: 2.3530 - val_acc: 0.2008\n",
      "Epoch 40/200\n",
      "41092/41092 [==============================] - 247s 6ms/sample - loss: 2.4234 - acc: 0.2019 - val_loss: 2.3550 - val_acc: 0.2008\n",
      "Epoch 41/200\n",
      "41092/41092 [==============================] - 247s 6ms/sample - loss: 2.4313 - acc: 0.2034 - val_loss: 2.3505 - val_acc: 0.2010\n",
      "Epoch 42/200\n",
      "41092/41092 [==============================] - 247s 6ms/sample - loss: 2.4205 - acc: 0.2030 - val_loss: 2.3503 - val_acc: 0.2010\n",
      "Epoch 43/200\n",
      "41092/41092 [==============================] - 247s 6ms/sample - loss: 2.4279 - acc: 0.2028 - val_loss: 2.3519 - val_acc: 0.2007\n",
      "Epoch 44/200\n",
      "41092/41092 [==============================] - 250s 6ms/sample - loss: 2.4249 - acc: 0.2029 - val_loss: 2.3565 - val_acc: 0.2006\n",
      "Epoch 45/200\n",
      "41092/41092 [==============================] - 248s 6ms/sample - loss: 2.4194 - acc: 0.2036 - val_loss: 2.3517 - val_acc: 0.2006\n",
      "Epoch 46/200\n",
      "41092/41092 [==============================] - 248s 6ms/sample - loss: 2.4202 - acc: 0.2032 - val_loss: 2.3505 - val_acc: 0.2004\n",
      "Epoch 47/200\n",
      "41092/41092 [==============================] - 249s 6ms/sample - loss: 2.4219 - acc: 0.2033 - val_loss: 2.3503 - val_acc: 0.2008\n",
      "Epoch 48/200\n",
      "41092/41092 [==============================] - 248s 6ms/sample - loss: 2.4163 - acc: 0.2030 - val_loss: 2.3505 - val_acc: 0.2006\n",
      "Epoch 49/200\n",
      "41092/41092 [==============================] - 249s 6ms/sample - loss: 2.4122 - acc: 0.2028 - val_loss: 2.3508 - val_acc: 0.2006\n",
      "Epoch 50/200\n",
      "41092/41092 [==============================] - 249s 6ms/sample - loss: 2.4111 - acc: 0.2041 - val_loss: 2.3509 - val_acc: 0.2001\n",
      "Epoch 51/200\n",
      "41092/41092 [==============================] - 249s 6ms/sample - loss: 2.4114 - acc: 0.2036 - val_loss: 2.3478 - val_acc: 0.2000\n",
      "Epoch 52/200\n",
      "41092/41092 [==============================] - 248s 6ms/sample - loss: 2.4044 - acc: 0.2037 - val_loss: 2.3494 - val_acc: 0.2002\n",
      "Epoch 53/200\n",
      "41092/41092 [==============================] - 248s 6ms/sample - loss: 2.4061 - acc: 0.2036 - val_loss: 2.3483 - val_acc: 0.1998\n",
      "Epoch 54/200\n",
      "41092/41092 [==============================] - 248s 6ms/sample - loss: 2.4092 - acc: 0.2037 - val_loss: 2.3483 - val_acc: 0.2003\n",
      "Epoch 55/200\n",
      "41092/41092 [==============================] - 248s 6ms/sample - loss: 2.4082 - acc: 0.2030 - val_loss: 2.3454 - val_acc: 0.2001\n",
      "Epoch 56/200\n",
      "41092/41092 [==============================] - 249s 6ms/sample - loss: 2.4009 - acc: 0.2037 - val_loss: 2.3494 - val_acc: 0.2000\n",
      "Epoch 57/200\n",
      "41092/41092 [==============================] - 248s 6ms/sample - loss: 2.4060 - acc: 0.2039 - val_loss: 2.3474 - val_acc: 0.2005\n",
      "Epoch 58/200\n"
     ]
    },
    {
     "name": "stdout",
     "output_type": "stream",
     "text": [
      "41092/41092 [==============================] - 248s 6ms/sample - loss: 2.4117 - acc: 0.2040 - val_loss: 2.3571 - val_acc: 0.2003\n",
      "Epoch 59/200\n",
      "41092/41092 [==============================] - 248s 6ms/sample - loss: 2.4052 - acc: 0.2037 - val_loss: 2.3455 - val_acc: 0.2003\n",
      "Epoch 60/200\n",
      "41092/41092 [==============================] - 255s 6ms/sample - loss: 2.4007 - acc: 0.2042 - val_loss: 2.3434 - val_acc: 0.2000\n",
      "Epoch 61/200\n",
      "41092/41092 [==============================] - 253s 6ms/sample - loss: 2.3995 - acc: 0.2044 - val_loss: 2.3425 - val_acc: 0.2002\n",
      "Epoch 62/200\n",
      "41092/41092 [==============================] - 262s 6ms/sample - loss: 2.4065 - acc: 0.2036 - val_loss: 2.3427 - val_acc: 0.2008\n",
      "Epoch 63/200\n",
      "24576/41092 [================>.............] - ETA: 1:44 - loss: 2.3992 - acc: 0.2041"
     ]
    }
   ],
   "source": [
    "model.fit(train_x, train_labels,\n",
    "          epochs = 200, \n",
    "          shuffle = True,\n",
    "          validation_data = (val_x, val_labels),\n",
    "          batch_size = 1024,\n",
    "         class_weight = class_weights,\n",
    "         callbacks=[tensorboard_callback])"
   ]
  },
  {
   "cell_type": "code",
   "execution_count": null,
   "metadata": {},
   "outputs": [],
   "source": []
  },
  {
   "cell_type": "code",
   "execution_count": null,
   "metadata": {},
   "outputs": [],
   "source": []
  },
  {
   "cell_type": "code",
   "execution_count": null,
   "metadata": {},
   "outputs": [],
   "source": []
  },
  {
   "cell_type": "code",
   "execution_count": null,
   "metadata": {},
   "outputs": [],
   "source": []
  },
  {
   "cell_type": "code",
   "execution_count": null,
   "metadata": {},
   "outputs": [],
   "source": []
  },
  {
   "cell_type": "code",
   "execution_count": null,
   "metadata": {},
   "outputs": [],
   "source": []
  }
 ],
 "metadata": {
  "kernelspec": {
   "display_name": "Python 3",
   "language": "python",
   "name": "python3"
  },
  "language_info": {
   "codemirror_mode": {
    "name": "ipython",
    "version": 3
   },
   "file_extension": ".py",
   "mimetype": "text/x-python",
   "name": "python",
   "nbconvert_exporter": "python",
   "pygments_lexer": "ipython3",
   "version": "3.7.3"
  }
 },
 "nbformat": 4,
 "nbformat_minor": 2
}
