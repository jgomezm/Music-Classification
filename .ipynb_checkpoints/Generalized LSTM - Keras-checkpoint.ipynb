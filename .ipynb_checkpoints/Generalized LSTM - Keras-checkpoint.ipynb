{
 "cells": [
  {
   "cell_type": "code",
   "execution_count": 1,
   "metadata": {},
   "outputs": [],
   "source": [
    "import pandas as pd\n",
    "import numpy as np\n",
    "import glob\n",
    "import os\n"
   ]
  },
  {
   "cell_type": "code",
   "execution_count": 2,
   "metadata": {},
   "outputs": [
    {
     "name": "stderr",
     "output_type": "stream",
     "text": [
      "Using plaidml.keras.backend backend.\n"
     ]
    }
   ],
   "source": [
    "os.environ[\"KERAS_BACKEND\"] = \"plaidml.keras.backend\"\n",
    "import keras as keras\n",
    "from keras import Sequential\n",
    "from keras.layers import LSTM, Dense\n",
    "from keras.utils import to_categorical\n",
    "\n",
    "os.environ[\"KERAS_BACKEND\"] = \"plaidml.keras.backend\""
   ]
  },
  {
   "cell_type": "code",
   "execution_count": 3,
   "metadata": {},
   "outputs": [
    {
     "data": {
      "text/plain": [
       "'plaidml.keras.backend'"
      ]
     },
     "execution_count": 3,
     "metadata": {},
     "output_type": "execute_result"
    }
   ],
   "source": [
    "os.environ[\"KERAS_BACKEND\"]"
   ]
  },
  {
   "cell_type": "code",
   "execution_count": 4,
   "metadata": {},
   "outputs": [],
   "source": [
    "np.random.seed(1234) ### DOES NOT WORK???\n",
    "w_length = 200\n",
    "n_countries = 2"
   ]
  },
  {
   "cell_type": "code",
   "execution_count": 5,
   "metadata": {},
   "outputs": [
    {
     "data": {
      "text/plain": [
       "1726"
      ]
     },
     "execution_count": 5,
     "metadata": {},
     "output_type": "execute_result"
    }
   ],
   "source": [
    "len(glob.glob(\"Raw Track Data\\\\*.csv\"))"
   ]
  },
  {
   "cell_type": "markdown",
   "metadata": {},
   "source": [
    "### Import Data"
   ]
  },
  {
   "cell_type": "code",
   "execution_count": null,
   "metadata": {},
   "outputs": [],
   "source": []
  },
  {
   "cell_type": "code",
   "execution_count": 6,
   "metadata": {},
   "outputs": [
    {
     "name": "stdout",
     "output_type": "stream",
     "text": [
      "Unique tracks:\t 9306\n"
     ]
    }
   ],
   "source": [
    "import random\n",
    "allTracks = pd.DataFrame()\n",
    "for country in [\"HK\", \"JP\", 'ZA', 'TN', 'TR', 'GB', 'MX', 'US', 'CO', 'EC', 'AU', 'NZ']:\n",
    "    for file in glob.glob(\"Raw Track Data\\\\*\" + country + \"*.csv\"):\n",
    "        if random.random() < .75:\n",
    "            new = pd.read_csv(file)\n",
    "            new[\"Country\"] = file[15:17]\n",
    "            new[\"Year\"] = file[18:22]\n",
    "            new[\"Playlist\"] = file[23:-4]\n",
    "            allTracks = allTracks.append(new)\n",
    "allTracks = allTracks.drop([\"confidence\", \"loudness_start\", \"loudness_max_time\"], axis = 1)\n",
    "print(\"Unique tracks:\\t\", len(pd.unique(allTracks.track_id)))"
   ]
  },
  {
   "cell_type": "markdown",
   "metadata": {},
   "source": [
    "### Define category"
   ]
  },
  {
   "cell_type": "code",
   "execution_count": 7,
   "metadata": {},
   "outputs": [],
   "source": [
    "Category = \"Country\""
   ]
  },
  {
   "cell_type": "code",
   "execution_count": 8,
   "metadata": {},
   "outputs": [
    {
     "name": "stdout",
     "output_type": "stream",
     "text": [
      "['AT' 'AU' 'CY' 'CZ' 'EE' 'GR' 'HK' 'HU' 'IN' 'LT' 'LU' 'LV' 'MT' 'NO'\n",
      " 'EC' 'FI' 'JP' 'MY' 'PH' 'SG' 'TW' 'AE' 'JO' 'MX' 'PL' 'PS' 'SA' 'AD'\n",
      " 'CO' 'IT' 'LI' 'PE' 'VN' 'DK' 'ID' 'NZ' 'TR' 'GB' 'QA' 'AR' 'CL' 'NI'\n",
      " 'PA' 'CA' 'FR' 'IE' 'IS' 'MC' 'NL' 'OM' 'RO' 'SK' 'US' 'BH' 'DZ' 'KW'\n",
      " 'LB' 'MA' 'CH' 'CR' 'ES' 'GT' 'HN' 'IL' 'PT' 'SV' 'SE' 'BR' 'DE']\n"
     ]
    }
   ],
   "source": [
    "cats = pd.unique(allTracks[Category])\n",
    "print(cats)"
   ]
  },
  {
   "cell_type": "markdown",
   "metadata": {},
   "source": [
    "### Drop within category duplicates"
   ]
  },
  {
   "cell_type": "code",
   "execution_count": 9,
   "metadata": {},
   "outputs": [
    {
     "name": "stdout",
     "output_type": "stream",
     "text": [
      "(17350890, 31)\n",
      "(14052462, 31)\n"
     ]
    }
   ],
   "source": [
    "print(allTracks.shape)\n",
    "allTracks = allTracks.drop_duplicates([\"track_id\", \"start\", Category])\n",
    "print(allTracks.shape)"
   ]
  },
  {
   "cell_type": "markdown",
   "metadata": {},
   "source": [
    "### Create train (60%), test (20%), and validation (20%) datasets at track level"
   ]
  },
  {
   "cell_type": "code",
   "execution_count": 10,
   "metadata": {},
   "outputs": [],
   "source": [
    "UniqueTracks = pd.unique(allTracks.track_id)\n",
    "testTracks = np.random.choice(UniqueTracks, int(len(UniqueTracks) * .1), replace = False)\n",
    "test = allTracks.loc[allTracks.track_id.isin(testTracks)]\n",
    "allTracks = allTracks.loc[~allTracks.track_id.isin(testTracks)]\n",
    "UniqueTracks = pd.unique(allTracks.track_id)\n",
    "testTracks = np.random.choice(UniqueTracks, int(len(UniqueTracks) * .2), replace = False)\n",
    "val = allTracks.loc[allTracks.track_id.isin(testTracks)]\n",
    "train = allTracks = allTracks.loc[~allTracks.track_id.isin(testTracks)]\n"
   ]
  },
  {
   "cell_type": "code",
   "execution_count": 11,
   "metadata": {},
   "outputs": [
    {
     "data": {
      "text/plain": [
       "0        AT\n",
       "1        AT\n",
       "2        AT\n",
       "3        AT\n",
       "4        AT\n",
       "         ..\n",
       "23992    SG\n",
       "23993    SG\n",
       "23994    SG\n",
       "23995    SG\n",
       "23996    SG\n",
       "Name: Country, Length: 10100920, dtype: object"
      ]
     },
     "execution_count": 11,
     "metadata": {},
     "output_type": "execute_result"
    }
   ],
   "source": [
    "train[Category]"
   ]
  },
  {
   "cell_type": "code",
   "execution_count": 12,
   "metadata": {},
   "outputs": [],
   "source": [
    "\n",
    "#del(UniqueTracks, testTracks, allTracks)"
   ]
  },
  {
   "cell_type": "code",
   "execution_count": 13,
   "metadata": {},
   "outputs": [
    {
     "name": "stdout",
     "output_type": "stream",
     "text": [
      "(1402222, 31)\n",
      "(2549320, 31)\n",
      "(10100920, 31)\n"
     ]
    }
   ],
   "source": [
    "print(test.shape)\n",
    "print(val.shape)\n",
    "print(train.shape)"
   ]
  },
  {
   "cell_type": "markdown",
   "metadata": {},
   "source": [
    "### Split tracks into subsegments"
   ]
  },
  {
   "cell_type": "code",
   "execution_count": 14,
   "metadata": {},
   "outputs": [],
   "source": [
    "def split(X, cat):\n",
    "    X = X.reset_index()\n",
    "    new_pos = list(X.track_id.index[X.track_id.shift(1) != X.track_id]) # indices where the song changes\n",
    "    new_pos.append(max(X.track_id.index) + 1) # add a new index to know where the last song ends\n",
    "    split_pos = []\n",
    "    for i in range(len(new_pos)-1):\n",
    "        split_pos = split_pos + list(range(new_pos[i], new_pos[i+1], w_length))\n",
    "    split_pos = split_pos[1:]\n",
    "    us_train = np.split(X.iloc[:,:27].to_numpy(), split_pos)\n",
    "    labs = np.split(X[Category].to_numpy(), split_pos)\n",
    "    # drop the short sequences\n",
    "    short_seqs = []\n",
    "    temp = [] \n",
    "    labels = []\n",
    "    for i, value in enumerate(us_train):\n",
    "        if value.shape[0] == w_length:\n",
    "            temp.append(value)\n",
    "            labels.append(labs[i][0])\n",
    "    us_train = temp\n",
    "    return np.stack(us_train), labels"
   ]
  },
  {
   "cell_type": "code",
   "execution_count": null,
   "metadata": {},
   "outputs": [],
   "source": []
  },
  {
   "cell_type": "code",
   "execution_count": 15,
   "metadata": {},
   "outputs": [],
   "source": [
    "test_x, test_labels= split(test, Category)\n",
    "#del(test)\n",
    "val_x, val_labels = split(val, Category)\n",
    "#del val\n",
    "train_x, train_labels = split(train, Category)\n",
    "#del train"
   ]
  },
  {
   "cell_type": "code",
   "execution_count": 16,
   "metadata": {},
   "outputs": [
    {
     "name": "stdout",
     "output_type": "stream",
     "text": [
      "(6190, 200, 27)\n",
      "6190\n"
     ]
    }
   ],
   "source": [
    "print(test_x.shape)\n",
    "print(len(test_labels))"
   ]
  },
  {
   "cell_type": "markdown",
   "metadata": {},
   "source": [
    "### One-hot encode labels"
   ]
  },
  {
   "cell_type": "code",
   "execution_count": 17,
   "metadata": {},
   "outputs": [
    {
     "data": {
      "text/plain": [
       "OneHotEncoder(categorical_features=None, categories=None, drop=None,\n",
       "              dtype=<class 'numpy.float64'>, handle_unknown='error',\n",
       "              n_values=None, sparse=True)"
      ]
     },
     "execution_count": 17,
     "metadata": {},
     "output_type": "execute_result"
    }
   ],
   "source": [
    "from sklearn.preprocessing import OneHotEncoder\n",
    "enc = OneHotEncoder()\n",
    "enc.fit(cats.reshape(-1, 1))"
   ]
  },
  {
   "cell_type": "code",
   "execution_count": 18,
   "metadata": {},
   "outputs": [
    {
     "data": {
      "text/plain": [
       "array(['AT', 'AU', 'CY', 'CZ', 'EE', 'GR', 'HK', 'HU', 'IN', 'LT', 'LU',\n",
       "       'LV', 'MT', 'NO', 'EC', 'FI', 'JP', 'MY', 'PH', 'SG', 'TW', 'AE',\n",
       "       'JO', 'MX', 'PL', 'PS', 'SA', 'AD', 'CO', 'IT', 'LI', 'PE', 'VN',\n",
       "       'DK', 'ID', 'NZ', 'TR', 'GB', 'QA', 'AR', 'CL', 'NI', 'PA', 'CA',\n",
       "       'FR', 'IE', 'IS', 'MC', 'NL', 'OM', 'RO', 'SK', 'US', 'BH', 'DZ',\n",
       "       'KW', 'LB', 'MA', 'CH', 'CR', 'ES', 'GT', 'HN', 'IL', 'PT', 'SV',\n",
       "       'SE', 'BR', 'DE'], dtype=object)"
      ]
     },
     "execution_count": 18,
     "metadata": {},
     "output_type": "execute_result"
    }
   ],
   "source": [
    "cats"
   ]
  },
  {
   "cell_type": "code",
   "execution_count": 19,
   "metadata": {},
   "outputs": [
    {
     "data": {
      "text/plain": [
       "array(['AD', 'AE', 'AR', 'AT', 'AU', 'BH', 'BR', 'CA', 'CH', 'CL', 'CO',\n",
       "       'CR', 'CY', 'CZ', 'DE', 'DK', 'DZ', 'EC', 'EE', 'ES', 'FI', 'FR',\n",
       "       'GB', 'GR', 'GT', 'HK', 'HN', 'HU', 'ID', 'IE', 'IL', 'IN', 'IS',\n",
       "       'IT', 'JO', 'JP', 'KW', 'LB', 'LI', 'LT', 'LU', 'LV', 'MA', 'MC',\n",
       "       'MT', 'MX', 'MY', 'NI', 'NL', 'NO', 'NZ', 'OM', 'PA', 'PE', 'PH',\n",
       "       'PL', 'PS', 'PT', 'QA', 'RO', 'SA', 'SE', 'SG', 'SK', 'SV', 'TR',\n",
       "       'TW', 'US', 'VN'], dtype='<U2')"
      ]
     },
     "execution_count": 19,
     "metadata": {},
     "output_type": "execute_result"
    }
   ],
   "source": [
    "np.unique(train_labels)"
   ]
  },
  {
   "cell_type": "code",
   "execution_count": 20,
   "metadata": {},
   "outputs": [
    {
     "data": {
      "text/plain": [
       "array([1.11387882, 0.47808808, 2.36750628, 1.7200917 , 0.19820643,\n",
       "       0.78530502, 3.7964154 , 4.36458641, 2.31622456, 2.36750628,\n",
       "       0.27810759, 4.33509597, 3.20797101, 0.86351844, 9.16563147,\n",
       "       2.27515675, 3.27343981, 0.49890685, 0.86351844, 3.04073082,\n",
       "       2.2996208 , 9.16563147, 0.45730164, 0.87649481, 4.33509597,\n",
       "       0.20024788, 4.08658728, 2.13864734, 2.2123938 , 2.82640618,\n",
       "       3.0994889 , 1.00249094, 1.90384036, 2.82640618, 1.65359331,\n",
       "       0.23605379, 2.47719769, 2.47719769, 1.90950656, 0.86701919,\n",
       "       0.93254971, 0.87054844, 3.27343981, 4.93534002, 1.59204517,\n",
       "       0.70894387, 1.10429295, 2.36750628, 1.08194638, 1.15394641,\n",
       "       0.23112183, 1.35930975, 1.30140812, 1.56105645, 1.54601013,\n",
       "       0.92050818, 1.65359331, 3.05521049, 0.76929761, 4.93534002,\n",
       "       0.47915923, 3.14506962, 0.60074364, 4.93534002, 4.33509597,\n",
       "       0.42574267, 1.54974445, 0.87769385, 2.50622736])"
      ]
     },
     "execution_count": 20,
     "metadata": {},
     "output_type": "execute_result"
    }
   ],
   "source": [
    "from sklearn.utils import class_weight\n",
    "class_weights = class_weight.compute_class_weight('balanced',\n",
    "                                                 np.unique(train_labels),\n",
    "                                                 list(train_labels))\n",
    "class_weights"
   ]
  },
  {
   "cell_type": "code",
   "execution_count": 21,
   "metadata": {},
   "outputs": [],
   "source": [
    "test_labels = enc.transform(np.array(test_labels).reshape(-1, 1)).toarray()\n",
    "val_labels = enc.transform(np.array(val_labels).reshape(-1, 1)).toarray()\n",
    "train_labels = enc.transform(np.array(train_labels).reshape(-1, 1)).toarray()"
   ]
  },
  {
   "cell_type": "markdown",
   "metadata": {},
   "source": [
    "### Define Model"
   ]
  },
  {
   "cell_type": "code",
   "execution_count": 22,
   "metadata": {},
   "outputs": [],
   "source": [
    "from keras.models import Sequential\n",
    "from keras.layers import Dense, Activation, LSTM"
   ]
  },
  {
   "cell_type": "code",
   "execution_count": 23,
   "metadata": {},
   "outputs": [
    {
     "data": {
      "text/plain": [
       "27"
      ]
     },
     "execution_count": 23,
     "metadata": {},
     "output_type": "execute_result"
    }
   ],
   "source": [
    "train_x.shape[2]"
   ]
  },
  {
   "cell_type": "code",
   "execution_count": 24,
   "metadata": {
    "scrolled": true
   },
   "outputs": [
    {
     "name": "stderr",
     "output_type": "stream",
     "text": [
      "INFO:plaidml:Opening device \"opencl_amd_gfx804.0\"\n"
     ]
    },
    {
     "name": "stdout",
     "output_type": "stream",
     "text": [
      "_________________________________________________________________\n",
      "Layer (type)                 Output Shape              Param #   \n",
      "=================================================================\n",
      "lstm_1 (LSTM)                (None, 200, 50)           15600     \n",
      "_________________________________________________________________\n",
      "lstm_2 (LSTM)                (None, 50)                20200     \n",
      "_________________________________________________________________\n",
      "dense_1 (Dense)              (None, 69)                3519      \n",
      "=================================================================\n",
      "Total params: 39,319\n",
      "Trainable params: 39,319\n",
      "Non-trainable params: 0\n",
      "_________________________________________________________________\n",
      "None\n"
     ]
    }
   ],
   "source": [
    "out_index = 2\n",
    "model = keras.Sequential()\n",
    "model.add(LSTM(50, input_shape=(w_length, train_x.shape[2]), return_sequences = True))\n",
    "model.add(LSTM(50, input_shape=(w_length, train_x.shape[2]), dropout=.5))\n",
    "#model.add(Dense(200, activation= \"relu\"))\n",
    "#model.add(keras.layers.Dropout(.25))\n",
    "model.add(Dense(len(enc.categories_[0]), activation= \"softmax\"))\n",
    "model.compile(loss = \"categorical_crossentropy\", optimizer= \"adam\", metrics=[\"acc\"])\n",
    "print(model.summary())"
   ]
  },
  {
   "cell_type": "code",
   "execution_count": 25,
   "metadata": {},
   "outputs": [
    {
     "data": {
      "text/plain": [
       "dtype('float64')"
      ]
     },
     "execution_count": 25,
     "metadata": {},
     "output_type": "execute_result"
    }
   ],
   "source": [
    "type(train_x)\n",
    "train_x.dtype"
   ]
  },
  {
   "cell_type": "code",
   "execution_count": 26,
   "metadata": {},
   "outputs": [
    {
     "data": {
      "text/plain": [
       "(44270, 69)"
      ]
     },
     "execution_count": 26,
     "metadata": {},
     "output_type": "execute_result"
    }
   ],
   "source": [
    "train_labels.shape"
   ]
  },
  {
   "cell_type": "code",
   "execution_count": 27,
   "metadata": {},
   "outputs": [
    {
     "data": {
      "text/plain": [
       "0.07311949401400497"
      ]
     },
     "execution_count": 27,
     "metadata": {},
     "output_type": "execute_result"
    }
   ],
   "source": [
    "max(np.sum(train_labels, axis = 0))/sum(np.sum(train_labels, axis = 0))"
   ]
  },
  {
   "cell_type": "code",
   "execution_count": 28,
   "metadata": {},
   "outputs": [
    {
     "data": {
      "text/plain": [
       "0.0825525040387722"
      ]
     },
     "execution_count": 28,
     "metadata": {},
     "output_type": "execute_result"
    }
   ],
   "source": [
    "max(np.sum(test_labels, axis = 0))/sum(np.sum(test_labels, axis = 0))"
   ]
  },
  {
   "cell_type": "code",
   "execution_count": 29,
   "metadata": {},
   "outputs": [
    {
     "data": {
      "text/plain": [
       "array(['AD', 'AE', 'AR', 'AT', 'AU', 'BH', 'BR', 'CA', 'CH', 'CL', 'CO',\n",
       "       'CR', 'CY', 'CZ', 'DE', 'DK', 'DZ', 'EC', 'EE', 'ES', 'FI', 'FR',\n",
       "       'GB', 'GR', 'GT', 'HK', 'HN', 'HU', 'ID', 'IE', 'IL', 'IN', 'IS',\n",
       "       'IT', 'JO', 'JP', 'KW', 'LB', 'LI', 'LT', 'LU', 'LV', 'MA', 'MC',\n",
       "       'MT', 'MX', 'MY', 'NI', 'NL', 'NO', 'NZ', 'OM', 'PA', 'PE', 'PH',\n",
       "       'PL', 'PS', 'PT', 'QA', 'RO', 'SA', 'SE', 'SG', 'SK', 'SV', 'TR',\n",
       "       'TW', 'US', 'VN'], dtype=object)"
      ]
     },
     "execution_count": 29,
     "metadata": {},
     "output_type": "execute_result"
    }
   ],
   "source": [
    "enc.categories_[0]"
   ]
  },
  {
   "cell_type": "code",
   "execution_count": null,
   "metadata": {
    "scrolled": false
   },
   "outputs": [
    {
     "name": "stdout",
     "output_type": "stream",
     "text": [
      "Train on 44270 samples, validate on 11162 samples\n",
      "Epoch 1/50\n"
     ]
    },
    {
     "name": "stderr",
     "output_type": "stream",
     "text": [
      "INFO:plaidml:Analyzing Ops: 1798 of 40247 operations complete\n",
      "INFO:plaidml:Analyzing Ops: 4321 of 40247 operations complete\n",
      "INFO:plaidml:Analyzing Ops: 8380 of 40247 operations complete\n",
      "INFO:plaidml:Analyzing Ops: 10505 of 40247 operations complete\n",
      "INFO:plaidml:Analyzing Ops: 13592 of 40247 operations complete\n",
      "INFO:plaidml:Analyzing Ops: 17907 of 40247 operations complete\n",
      "INFO:plaidml:Analyzing Ops: 22343 of 40247 operations complete\n",
      "INFO:plaidml:Analyzing Ops: 26926 of 40247 operations complete\n",
      "INFO:plaidml:Analyzing Ops: 32711 of 40247 operations complete\n",
      "INFO:plaidml:Analyzing Ops: 36295 of 40247 operations complete\n",
      "INFO:plaidml:Analyzing Ops: 39168 of 40247 operations complete\n"
     ]
    },
    {
     "name": "stdout",
     "output_type": "stream",
     "text": [
      "44032/44270 [============================>.] - ETA: 4s - loss: 3.9215 - acc: 0.0592 "
     ]
    },
    {
     "name": "stderr",
     "output_type": "stream",
     "text": [
      "INFO:plaidml:Analyzing Ops: 1435 of 40247 operations complete\n",
      "INFO:plaidml:Analyzing Ops: 4294 of 40247 operations complete\n",
      "INFO:plaidml:Analyzing Ops: 8436 of 40247 operations complete\n",
      "INFO:plaidml:Analyzing Ops: 10886 of 40247 operations complete\n",
      "INFO:plaidml:Analyzing Ops: 14749 of 40247 operations complete\n",
      "INFO:plaidml:Analyzing Ops: 20019 of 40247 operations complete\n",
      "INFO:plaidml:Analyzing Ops: 24659 of 40247 operations complete\n",
      "INFO:plaidml:Analyzing Ops: 30946 of 40247 operations complete\n",
      "INFO:plaidml:Analyzing Ops: 34435 of 40247 operations complete\n",
      "INFO:plaidml:Analyzing Ops: 38166 of 40247 operations complete\n",
      "INFO:plaidml:Analyzing Ops: 5147 of 16887 operations complete\n",
      "INFO:plaidml:Analyzing Ops: 9439 of 16887 operations complete\n",
      "INFO:plaidml:Analyzing Ops: 15709 of 16887 operations complete\n",
      "INFO:plaidml:Analyzing Ops: 4391 of 16887 operations complete\n",
      "INFO:plaidml:Analyzing Ops: 8870 of 16887 operations complete\n",
      "INFO:plaidml:Analyzing Ops: 14501 of 16887 operations complete\n"
     ]
    },
    {
     "name": "stdout",
     "output_type": "stream",
     "text": [
      "44270/44270 [==============================] - 1016s 23ms/step - loss: 3.9208 - acc: 0.0591 - val_loss: 3.7776 - val_acc: 0.0777\n",
      "Epoch 2/50\n",
      " 4608/44270 [==>...........................] - ETA: 12:55 - loss: 3.8059 - acc: 0.0762"
     ]
    }
   ],
   "source": [
    "model.fit(train_x, train_labels,\n",
    "          epochs = 50, \n",
    "          shuffle = True,\n",
    "          validation_data = (val_x, val_labels),\n",
    "          batch_size = 512,\n",
    "          class_weight=class_weights)"
   ]
  },
  {
   "cell_type": "code",
   "execution_count": null,
   "metadata": {},
   "outputs": [],
   "source": [
    "model.get_layer(index = 0)"
   ]
  },
  {
   "cell_type": "code",
   "execution_count": null,
   "metadata": {},
   "outputs": [],
   "source": []
  }
 ],
 "metadata": {
  "kernelspec": {
   "display_name": "Python 3",
   "language": "python",
   "name": "python3"
  },
  "language_info": {
   "codemirror_mode": {
    "name": "ipython",
    "version": 3
   },
   "file_extension": ".py",
   "mimetype": "text/x-python",
   "name": "python",
   "nbconvert_exporter": "python",
   "pygments_lexer": "ipython3",
   "version": "3.7.3"
  }
 },
 "nbformat": 4,
 "nbformat_minor": 2
}
