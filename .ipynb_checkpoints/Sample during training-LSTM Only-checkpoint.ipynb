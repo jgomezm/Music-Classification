{
 "cells": [
  {
   "cell_type": "code",
   "execution_count": 1,
   "metadata": {},
   "outputs": [
    {
     "name": "stderr",
     "output_type": "stream",
     "text": [
      "Using TensorFlow backend.\n"
     ]
    }
   ],
   "source": [
    "import pandas as pd\n",
    "import numpy as np\n",
    "import glob\n",
    "import os\n",
    "import random\n",
    "import pickle\n",
    "from sklearn.preprocessing import OneHotEncoder\n",
    "from sklearn.utils import class_weight\n",
    "from sklearn.metrics import confusion_matrix\n",
    "import matplotlib.pyplot as plt\n",
    "import datetime\n",
    "import tensorflow.keras as keras\n",
    "from tensorflow.keras import Sequential\n",
    "from tensorflow.keras.layers import LSTM, Dense, LSTM, Flatten, BatchNormalization, Dropout\n",
    "from keras.utils import to_categorical\n",
    "import tensorflow as tf\n",
    "# Load the TensorBoard notebook extension\n",
    "%load_ext tensorboard"
   ]
  },
  {
   "cell_type": "code",
   "execution_count": 2,
   "metadata": {},
   "outputs": [
    {
     "data": {
      "text/plain": [
       "OneHotEncoder(categories='auto', drop=None, dtype=<class 'numpy.float64'>,\n",
       "              handle_unknown='error', sparse=True)"
      ]
     },
     "execution_count": 2,
     "metadata": {},
     "output_type": "execute_result"
    }
   ],
   "source": [
    "countriesOfInterest = [\"HK\", \"J P\", 'ZA', 'TN', 'TR', 'GB', 'MX', 'US', 'CO', 'EC', 'AU', 'NZ']\n",
    "countriesOfInterest = [\"ZA\", \"EG\", \"TW\", \"JP\", \"DK\", \"FI\", \"US\", \"CA\", \"AU\", \"NZ\", \"BE\", \"CO\"]\n",
    "train_n = 500\n",
    "val_n = 20\n",
    "Category = \"Country\"\n",
    "w_length = 300\n",
    "enc = OneHotEncoder()\n",
    "enc.fit(np.array(countriesOfInterest).reshape(-1, 1))"
   ]
  },
  {
   "cell_type": "code",
   "execution_count": 3,
   "metadata": {},
   "outputs": [],
   "source": [
    "def split(X, cat):\n",
    "    X = X.reset_index()\n",
    "    new_pos = list(X.track_id.index[X.track_id.shift(1) != X.track_id]) # indices where the song changes\n",
    "    new_pos.append(max(X.track_id.index) + 1) # add a new index to know where the last song ends\n",
    "    split_pos = []\n",
    "    for i in range(len(new_pos)-1):\n",
    "        split_pos = split_pos + list(range(new_pos[i], new_pos[i+1], w_length))\n",
    "    split_pos = split_pos[1:]\n",
    "    us_train = np.split(X.iloc[:,:24].to_numpy(), split_pos)\n",
    "    labs = np.split(X[Category].to_numpy(), split_pos)\n",
    "    # drop the short sequences\n",
    "    short_seqs = []\n",
    "    temp = [] \n",
    "    labels = []\n",
    "    for i, value in enumerate(us_train):\n",
    "        if value.shape[0] == w_length:\n",
    "            temp.append(value)\n",
    "            labels.append(labs[i][0])\n",
    "    us_train = temp\n",
    "    return np.stack(us_train), labels"
   ]
  },
  {
   "cell_type": "code",
   "execution_count": 4,
   "metadata": {},
   "outputs": [],
   "source": [
    "def splitSeconds(n, country, t):\n",
    "    data = pickle.load( open( \"Raw Track Data\\\\\" + country + \"_\" + t + \".p\", \"rb\" ) )\n",
    "    tracks = data.track_id.unique()\n",
    "    tracks = np.random.choice(tracks, size=n, replace=True)\n",
    "    samples = []\n",
    "    for track in tracks:\n",
    "        try:\n",
    "            trackFeats = data[data.track_id == track]\n",
    "            FeatsLen =  trackFeats.shape[0]\n",
    "            #ind = np.random.choice(trackFeats.index[:-5], size=1, replace=True)\n",
    "            ind = random.randrange(1, FeatsLen - 15)\n",
    "            example = np.empty((0,24))\n",
    "            while len(example) < w_length:\n",
    "                feats = np.array(trackFeats.iloc[ind].loc[\"p1\":\"t12\"])\n",
    "                reps = int(trackFeats.iloc[ind].loc[\"duration\"] * 10)\n",
    "                if reps > 0:\n",
    "                    hold = np.tile(feats, reps).reshape(reps, -1)\n",
    "                    example = np.append(example, hold, axis = 0)\n",
    "                ind = ind + 1\n",
    "              #  example = np.array(example)\n",
    "                example = example[-w_length:]\n",
    "            samples = samples + [example]\n",
    "        except:\n",
    "            continue\n",
    "    samples = np.array(samples)\n",
    "    return samples, np.repeat(np.array([country]), samples.shape[0])"
   ]
  },
  {
   "cell_type": "code",
   "execution_count": 5,
   "metadata": {},
   "outputs": [],
   "source": [
    "def getSamples(train_n, val_n):\n",
    "    train = pd.DataFrame()\n",
    "    train_labels = pd.DataFrame()\n",
    "    val = pd.DataFrame()\n",
    "    val_labels = pd.DataFrame()\n",
    "    train_x = []\n",
    "    train_labels = []\n",
    "    val_x = []\n",
    "    val_labels = []\n",
    "    for country in countriesOfInterest:\n",
    "        print(\"getting\",country)\n",
    "        x1, y1 = splitSeconds(train_n, country, \"train\")\n",
    "        x2, y2 = splitSeconds(val_n, country, \"val\")\n",
    "        train_x = train_x + x1.tolist()\n",
    "        train_labels = train_labels + y1.tolist()\n",
    "        val_x = val_x + x2.tolist()\n",
    "        val_labels = val_labels + y2.tolist()\n",
    "    train_x = np.array(train_x)\n",
    "    train_labels = np.array(train_labels)\n",
    "    val_x = np.array(val_x)\n",
    "    val_labels = np.array(val_labels)\n",
    "    class_weights = class_weight.compute_class_weight('balanced',\n",
    "                                                     np.unique(train_labels),\n",
    "                                                     list(train_labels))\n",
    "    train_labels = enc.transform(np.array(train_labels).reshape(-1,1)).toarray()\n",
    "    val_labels = enc.transform(np.array(val_labels).reshape(-1,1)).toarray()\n",
    "    return train_x, train_labels, val_x, val_labels, class_weights"
   ]
  },
  {
   "cell_type": "code",
   "execution_count": 6,
   "metadata": {},
   "outputs": [
    {
     "name": "stdout",
     "output_type": "stream",
     "text": [
      "getting ZA\n",
      "getting EG\n",
      "getting TW\n",
      "getting JP\n",
      "getting DK\n",
      "getting FI\n",
      "getting US\n",
      "getting CA\n",
      "getting AU\n",
      "getting NZ\n",
      "getting BE\n",
      "getting CO\n"
     ]
    }
   ],
   "source": [
    "train_x, train_labels, val_x, val_labels, class_weights = getSamples(1, 1)"
   ]
  },
  {
   "cell_type": "markdown",
   "metadata": {},
   "source": [
    "### Fit model"
   ]
  },
  {
   "cell_type": "code",
   "execution_count": 7,
   "metadata": {},
   "outputs": [
    {
     "data": {
      "text/plain": [
       "[array(['AU', 'BE', 'CA', 'CO', 'DK', 'EG', 'FI', 'JP', 'NZ', 'TW', 'US',\n",
       "        'ZA'], dtype='<U2')]"
      ]
     },
     "execution_count": 7,
     "metadata": {},
     "output_type": "execute_result"
    }
   ],
   "source": [
    "enc.categories_"
   ]
  },
  {
   "cell_type": "code",
   "execution_count": 8,
   "metadata": {},
   "outputs": [
    {
     "name": "stdout",
     "output_type": "stream",
     "text": [
      "Model: \"sequential\"\n",
      "_________________________________________________________________\n",
      "Layer (type)                 Output Shape              Param #   \n",
      "=================================================================\n",
      "lstm (LSTM)                  (None, 300, 64)           22784     \n",
      "_________________________________________________________________\n",
      "batch_normalization (BatchNo (None, 300, 64)           256       \n",
      "_________________________________________________________________\n",
      "lstm_1 (LSTM)                (None, 300, 128)          98816     \n",
      "_________________________________________________________________\n",
      "batch_normalization_1 (Batch (None, 300, 128)          512       \n",
      "_________________________________________________________________\n",
      "lstm_2 (LSTM)                (None, 256)               394240    \n",
      "_________________________________________________________________\n",
      "batch_normalization_2 (Batch (None, 256)               1024      \n",
      "_________________________________________________________________\n",
      "dropout (Dropout)            (None, 256)               0         \n",
      "_________________________________________________________________\n",
      "dense (Dense)                (None, 12)                3084      \n",
      "=================================================================\n",
      "Total params: 520,716\n",
      "Trainable params: 519,820\n",
      "Non-trainable params: 896\n",
      "_________________________________________________________________\n",
      "None\n"
     ]
    }
   ],
   "source": [
    "model = keras.Sequential()\n",
    "model.add(LSTM(64, \n",
    "               input_shape=(train_x.shape[1], train_x.shape[2]), \n",
    "               return_sequences = True\n",
    "              ))\n",
    "model.add(BatchNormalization())\n",
    "model.add(LSTM(128, \n",
    "               input_shape=(train_x.shape[1], train_x.shape[2]), \n",
    "               return_sequences = True,\n",
    "               dropout = .5,\n",
    "              go_backwards = True))\n",
    "model.add(BatchNormalization())\n",
    "model.add(LSTM(256, \n",
    "               input_shape=(train_x.shape[1], train_x.shape[2]),\n",
    "               dropout = .5\n",
    "              ))\n",
    "model.add(BatchNormalization())\n",
    "model.add(Dropout(.5))\n",
    "#model.add(Dense(64, activation = \"relu\"))\n",
    "#model.add(BatchNormalization())\n",
    "#model.add(Dropout(.5))\n",
    "model.add(Dense(len(enc.categories_[0]), activation= \"softmax\"))\n",
    "adam = keras.optimizers.Adam(lr=0.001)\n",
    "model.compile(loss = \"categorical_crossentropy\", optimizer= adam, metrics=[\"acc\"])\n",
    "print(model.summary())"
   ]
  },
  {
   "cell_type": "code",
   "execution_count": null,
   "metadata": {
    "scrolled": false
   },
   "outputs": [
    {
     "name": "stdout",
     "output_type": "stream",
     "text": [
      "getting ZA\n",
      "getting EG\n",
      "getting TW\n",
      "getting JP\n",
      "getting DK\n",
      "getting FI\n",
      "getting US\n",
      "getting CA\n",
      "getting AU\n",
      "getting NZ\n",
      "getting BE\n",
      "getting CO\n",
      "[4331. 4353. 4288. 4290. 4268. 4311. 4325. 4373. 4326. 4404. 4308. 4406.]\n",
      "Train on 51983 samples, validate on 10432 samples\n",
      "Epoch 1/25\n",
      "51983/51983 [==============================] - 913s 18ms/sample - loss: 3.2065 - acc: 0.1014 - val_loss: 2.4632 - val_acc: 0.1293\n",
      "Epoch 2/25\n",
      "51983/51983 [==============================] - 740s 14ms/sample - loss: 2.7979 - acc: 0.1139 - val_loss: 2.4470 - val_acc: 0.1393\n",
      "Epoch 3/25\n",
      "51983/51983 [==============================] - 700s 13ms/sample - loss: 2.6158 - acc: 0.1233 - val_loss: 2.4284 - val_acc: 0.1427\n",
      "Epoch 4/25\n",
      "51983/51983 [==============================] - 711s 14ms/sample - loss: 2.5118 - acc: 0.1389 - val_loss: 2.4190 - val_acc: 0.1442\n",
      "Epoch 5/25\n",
      "51983/51983 [==============================] - 709s 14ms/sample - loss: 2.4417 - acc: 0.1579 - val_loss: 2.4075 - val_acc: 0.1595\n",
      "Epoch 6/25\n",
      "51983/51983 [==============================] - 719s 14ms/sample - loss: 2.3940 - acc: 0.1720 - val_loss: 2.4242 - val_acc: 0.1681\n",
      "Epoch 7/25\n",
      "51983/51983 [==============================] - 730s 14ms/sample - loss: 2.3639 - acc: 0.1850 - val_loss: 2.4059 - val_acc: 0.1658\n",
      "Epoch 8/25\n",
      "51983/51983 [==============================] - 748s 14ms/sample - loss: 2.3491 - acc: 0.1907 - val_loss: 2.4265 - val_acc: 0.1732\n",
      "Epoch 9/25\n",
      "51983/51983 [==============================] - 761s 15ms/sample - loss: 2.3311 - acc: 0.1995 - val_loss: 2.3669 - val_acc: 0.1844\n",
      "Epoch 10/25\n",
      "51983/51983 [==============================] - 763s 15ms/sample - loss: 2.3344 - acc: 0.1996 - val_loss: 2.3701 - val_acc: 0.1846\n",
      "Epoch 11/25\n",
      "51983/51983 [==============================] - 765s 15ms/sample - loss: 2.3130 - acc: 0.2058 - val_loss: 2.3723 - val_acc: 0.1820\n",
      "Epoch 12/25\n",
      "51983/51983 [==============================] - 778s 15ms/sample - loss: 2.3064 - acc: 0.2094 - val_loss: 2.4468 - val_acc: 0.1696\n",
      "Epoch 13/25\n",
      "51983/51983 [==============================] - 795s 15ms/sample - loss: 2.3208 - acc: 0.2045 - val_loss: 2.3628 - val_acc: 0.1888\n",
      "Epoch 14/25\n",
      "51983/51983 [==============================] - 791s 15ms/sample - loss: 2.2906 - acc: 0.2150 - val_loss: 2.3571 - val_acc: 0.1918\n",
      "Epoch 15/25\n",
      "51983/51983 [==============================] - 809s 16ms/sample - loss: 2.2803 - acc: 0.2191 - val_loss: 2.3629 - val_acc: 0.1896\n",
      "Epoch 16/25\n",
      "51983/51983 [==============================] - 792s 15ms/sample - loss: 2.2789 - acc: 0.2225 - val_loss: 2.3612 - val_acc: 0.1922\n",
      "Epoch 17/25\n",
      "51983/51983 [==============================] - 790s 15ms/sample - loss: 2.2617 - acc: 0.2253 - val_loss: 2.3525 - val_acc: 0.1962\n",
      "Epoch 18/25\n",
      "51983/51983 [==============================] - 796s 15ms/sample - loss: 2.2514 - acc: 0.2307 - val_loss: 2.3084 - val_acc: 0.2053\n",
      "Epoch 19/25\n",
      "51983/51983 [==============================] - 786s 15ms/sample - loss: 2.2259 - acc: 0.2404 - val_loss: 2.2981 - val_acc: 0.2161\n",
      "Epoch 20/25\n",
      "51983/51983 [==============================] - 807s 16ms/sample - loss: 2.2212 - acc: 0.2423 - val_loss: 2.3276 - val_acc: 0.2040\n",
      "Epoch 21/25\n",
      "51983/51983 [==============================] - 801s 15ms/sample - loss: 2.2387 - acc: 0.2339 - val_loss: 2.2921 - val_acc: 0.2079\n",
      "Epoch 22/25\n",
      "51983/51983 [==============================] - 819s 16ms/sample - loss: 2.2155 - acc: 0.2453 - val_loss: 2.3094 - val_acc: 0.2188\n",
      "Epoch 23/25\n",
      "51983/51983 [==============================] - 789s 15ms/sample - loss: 2.2097 - acc: 0.2455 - val_loss: 2.2672 - val_acc: 0.2243\n",
      "Epoch 24/25\n",
      "51983/51983 [==============================] - 785s 15ms/sample - loss: 2.1879 - acc: 0.2527 - val_loss: 2.2978 - val_acc: 0.2181\n",
      "Epoch 25/25\n",
      "51983/51983 [==============================] - 796s 15ms/sample - loss: 2.1679 - acc: 0.2623 - val_loss: 2.3153 - val_acc: 0.2229\n",
      "10432/10432 [==============================] - 33s 3ms/sample\n"
     ]
    },
    {
     "data": {
      "image/png": "[encoded data removed]",
      "text/plain": [
       "<Figure size 432x288 with 1 Axes>"
      ]
     },
     "metadata": {
      "needs_background": "light"
     },
     "output_type": "display_data"
    },
    {
     "name": "stdout",
     "output_type": "stream",
     "text": [
      "51983/51983 [==============================] - 157s 3ms/sample\n"
     ]
    },
    {
     "data": {
      "image/png": "[encoded data removed]",
      "text/plain": [
       "<Figure size 432x288 with 1 Axes>"
      ]
     },
     "metadata": {
      "needs_background": "light"
     },
     "output_type": "display_data"
    },
    {
     "name": "stdout",
     "output_type": "stream",
     "text": [
      "getting ZA\n",
      "getting EG\n",
      "getting TW\n",
      "getting JP\n",
      "getting DK\n",
      "getting FI\n",
      "getting US\n",
      "getting CA\n",
      "getting AU\n",
      "getting NZ\n",
      "getting BE\n",
      "getting CO\n",
      "[4306. 4355. 4289. 4280. 4287. 4308. 4306. 4401. 4287. 4427. 4275. 4389.]\n",
      "Train on 51910 samples, validate on 10389 samples\n",
      "Epoch 26/50\n",
      "51910/51910 [==============================] - 849s 16ms/sample - loss: 2.2064 - acc: 0.2507 - val_loss: 2.3234 - val_acc: 0.2171\n",
      "Epoch 27/50\n",
      "51910/51910 [==============================] - 970s 19ms/sample - loss: 2.1783 - acc: 0.2588 - val_loss: 2.2999 - val_acc: 0.2269\n",
      "Epoch 28/50\n",
      "51910/51910 [==============================] - 937s 18ms/sample - loss: 2.1560 - acc: 0.2662 - val_loss: 2.3028 - val_acc: 0.2279\n",
      "Epoch 29/50\n",
      "51910/51910 [==============================] - 920s 18ms/sample - loss: 2.1446 - acc: 0.2715 - val_loss: 2.2843 - val_acc: 0.2343\n",
      "Epoch 30/50\n",
      "51910/51910 [==============================] - 902s 17ms/sample - loss: 2.1304 - acc: 0.2764 - val_loss: 2.2905 - val_acc: 0.2312\n",
      "Epoch 31/50\n",
      "51910/51910 [==============================] - 898s 17ms/sample - loss: 2.1164 - acc: 0.2832 - val_loss: 2.2913 - val_acc: 0.2329\n",
      "Epoch 32/50\n",
      "51910/51910 [==============================] - 899s 17ms/sample - loss: 2.1015 - acc: 0.2886 - val_loss: 2.2755 - val_acc: 0.2345\n",
      "Epoch 33/50\n",
      "51910/51910 [==============================] - 910s 18ms/sample - loss: 2.0901 - acc: 0.2918 - val_loss: 2.2863 - val_acc: 0.2386\n",
      "Epoch 34/50\n",
      "51910/51910 [==============================] - 918s 18ms/sample - loss: 2.0815 - acc: 0.2971 - val_loss: 2.2999 - val_acc: 0.2386\n",
      "Epoch 35/50\n",
      "51910/51910 [==============================] - 899s 17ms/sample - loss: 2.0682 - acc: 0.2999 - val_loss: 2.3170 - val_acc: 0.2378\n",
      "Epoch 36/50\n",
      "51910/51910 [==============================] - 910s 18ms/sample - loss: 2.0562 - acc: 0.3070 - val_loss: 2.3019 - val_acc: 0.2374\n",
      "Epoch 37/50\n",
      "51910/51910 [==============================] - 903s 17ms/sample - loss: 2.0412 - acc: 0.3114 - val_loss: 2.3060 - val_acc: 0.2404\n",
      "Epoch 38/50\n",
      "51910/51910 [==============================] - 897s 17ms/sample - loss: 2.0316 - acc: 0.3148 - val_loss: 2.3273 - val_acc: 0.2425\n",
      "Epoch 39/50\n",
      "51910/51910 [==============================] - 927s 18ms/sample - loss: 2.0191 - acc: 0.3202 - val_loss: 2.3369 - val_acc: 0.2443\n",
      "Epoch 40/50\n",
      "51910/51910 [==============================] - 935s 18ms/sample - loss: 2.0025 - acc: 0.3247 - val_loss: 2.3354 - val_acc: 0.2415\n",
      "Epoch 41/50\n",
      "51910/51910 [==============================] - 953s 18ms/sample - loss: 1.9889 - acc: 0.3314 - val_loss: 2.3314 - val_acc: 0.2395\n",
      "Epoch 42/50\n",
      "51910/51910 [==============================] - 931s 18ms/sample - loss: 1.9745 - acc: 0.3365 - val_loss: 2.3561 - val_acc: 0.2387\n",
      "Epoch 43/50\n",
      "51910/51910 [==============================] - 926s 18ms/sample - loss: 1.9595 - acc: 0.3400 - val_loss: 2.3814 - val_acc: 0.2351\n",
      "Epoch 44/50\n",
      "51910/51910 [==============================] - 936s 18ms/sample - loss: 1.9430 - acc: 0.3470 - val_loss: 2.4176 - val_acc: 0.2368\n",
      "Epoch 45/50\n",
      "51910/51910 [==============================] - 940s 18ms/sample - loss: 1.9311 - acc: 0.3524 - val_loss: 2.4183 - val_acc: 0.2434\n",
      "Epoch 46/50\n",
      "46080/51910 [=========================>....] - ETA: 1:45 - loss: 1.9134 - acc: 0.3609"
     ]
    }
   ],
   "source": [
    "log_dir = os.path.join(\n",
    "    \"logs\",\n",
    "    \"fit\",\n",
    "    \"64_128_256_Dropout_5000sample\"\n",
    ")\n",
    "train_n = 5000\n",
    "val_n = 1000\n",
    "tensorboard_callback = tf.keras.callbacks.TensorBoard(log_dir=log_dir, histogram_freq=1)\n",
    "epochs = 25\n",
    "iterations = 10\n",
    "learn_rate = 0.001\n",
    "for i in range(iterations):\n",
    "    adam = keras.optimizers.Adam(lr=learn_rate)\n",
    "    model.compile(loss = \"categorical_crossentropy\", optimizer= adam, metrics=[\"acc\"])\n",
    "    train_x, train_labels, val_x, val_labels, class_weights = getSamples(train_n, val_n)\n",
    "    print(np.sum(train_labels, axis = 0))\n",
    "    model.fit(train_x, train_labels,\n",
    "              epochs = i * epochs + epochs, \n",
    "              initial_epoch = i * epochs,\n",
    "              shuffle = True,\n",
    "              validation_data = (val_x, val_labels),\n",
    "              batch_size = 1024,\n",
    "              class_weight = class_weights,\n",
    "             callbacks=[tensorboard_callback],\n",
    "             verbose = 1)\n",
    "    learn_rate = learn_rate/2\n",
    "    if i % 1 == 0:\n",
    "        preds = model.predict(val_x, batch_size = 1024, verbose = 1)\n",
    "     #   print(np.sum(train_labels, axis = 0))\n",
    "        plt.imshow(\n",
    "            confusion_matrix(\n",
    "                enc.inverse_transform(preds), \n",
    "                enc.inverse_transform(val_labels), \n",
    "               # normalize = \"all\"\n",
    "            )\n",
    "        )\n",
    "        plt.pause(.5)\n",
    "        plt.show()\n",
    "        preds = model.predict(train_x, batch_size = 1024, verbose = 1)\n",
    "        plt.imshow(\n",
    "            confusion_matrix(\n",
    "                enc.inverse_transform(preds), \n",
    "                enc.inverse_transform(train_labels), \n",
    "            #    normalize = \"all\"\n",
    "            )\n",
    "        )\n",
    "        plt.pause(.5)\n",
    "        plt.show()"
   ]
  },
  {
   "cell_type": "code",
   "execution_count": null,
   "metadata": {},
   "outputs": [],
   "source": []
  },
  {
   "cell_type": "code",
   "execution_count": null,
   "metadata": {},
   "outputs": [],
   "source": []
  },
  {
   "cell_type": "code",
   "execution_count": null,
   "metadata": {},
   "outputs": [],
   "source": []
  },
  {
   "cell_type": "code",
   "execution_count": null,
   "metadata": {},
   "outputs": [],
   "source": []
  },
  {
   "cell_type": "code",
   "execution_count": null,
   "metadata": {},
   "outputs": [],
   "source": []
  },
  {
   "cell_type": "code",
   "execution_count": null,
   "metadata": {},
   "outputs": [],
   "source": []
  },
  {
   "cell_type": "code",
   "execution_count": null,
   "metadata": {},
   "outputs": [],
   "source": []
  },
  {
   "cell_type": "code",
   "execution_count": null,
   "metadata": {},
   "outputs": [],
   "source": []
  },
  {
   "cell_type": "code",
   "execution_count": null,
   "metadata": {},
   "outputs": [],
   "source": []
  },
  {
   "cell_type": "code",
   "execution_count": null,
   "metadata": {},
   "outputs": [],
   "source": []
  },
  {
   "cell_type": "code",
   "execution_count": null,
   "metadata": {},
   "outputs": [],
   "source": []
  },
  {
   "cell_type": "code",
   "execution_count": null,
   "metadata": {},
   "outputs": [],
   "source": []
  }
 ],
 "metadata": {
  "kernelspec": {
   "display_name": "Python 3",
   "language": "python",
   "name": "python3"
  },
  "language_info": {
   "codemirror_mode": {
    "name": "ipython",
    "version": 3
   },
   "file_extension": ".py",
   "mimetype": "text/x-python",
   "name": "python",
   "nbconvert_exporter": "python",
   "pygments_lexer": "ipython3",
   "version": "3.7.3"
  }
 },
 "nbformat": 4,
 "nbformat_minor": 2
}
